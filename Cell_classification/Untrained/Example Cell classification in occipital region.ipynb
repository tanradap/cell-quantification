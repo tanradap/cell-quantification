{
 "cells": [
  {
   "attachments": {},
   "cell_type": "markdown",
   "metadata": {},
   "source": [
    "## Example script: training tau classifier for occipital regions"
   ]
  },
  {
   "attachments": {},
   "cell_type": "markdown",
   "metadata": {},
   "source": [
    "**Read in relevant files**"
   ]
  },
  {
   "cell_type": "code",
   "execution_count": 1,
   "metadata": {},
   "outputs": [],
   "source": [
    "import sys\n",
    "sys.path.insert(0,\n",
    "                '/Users/mokur/OneDrive - University of Cambridge/Attachments/Jan2023/Cell_pipeline/Cell_classification/')\n",
    "\n",
    "from base import *\n",
    "from constants import *\n",
    "from cell_classification import * \n",
    "import joblib"
   ]
  },
  {
   "attachments": {},
   "cell_type": "markdown",
   "metadata": {},
   "source": [
    "### Data preparation"
   ]
  },
  {
   "attachments": {},
   "cell_type": "markdown",
   "metadata": {},
   "source": [
    "**Cell classifier for cortical regions**"
   ]
  },
  {
   "cell_type": "code",
   "execution_count": 2,
   "metadata": {
    "scrolled": true
   },
   "outputs": [],
   "source": [
    "path = \"/Users/mokur/OneDrive - University of Cambridge/Attachments/Jan2023/Cell_pipeline/Cell_classification/clean_training_data/\"\n",
    "filename = \"occipital_training_data.txt\"\n",
    "data = pd.read_csv(path + filename,sep=\"\\t\")\n"
   ]
  },
  {
   "cell_type": "code",
   "execution_count": 3,
   "metadata": {},
   "outputs": [
    {
     "data": {
      "text/plain": [
       "Others    532\n",
       "Neuron    476\n",
       "Oligo     445\n",
       "Astro     220\n",
       "Name: Class, dtype: int64"
      ]
     },
     "execution_count": 3,
     "metadata": {},
     "output_type": "execute_result"
    }
   ],
   "source": [
    "data['Class'].value_counts()"
   ]
  },
  {
   "cell_type": "code",
   "execution_count": 4,
   "metadata": {},
   "outputs": [
    {
     "name": "stdout",
     "output_type": "stream",
     "text": [
      "(1673, 44)\n"
     ]
    }
   ],
   "source": [
    "X_train = data[training_features]\n",
    "y_train = data['Class']\n",
    "print(X_train.shape)"
   ]
  },
  {
   "cell_type": "code",
   "execution_count": 5,
   "metadata": {},
   "outputs": [
    {
     "data": {
      "text/plain": [
       "Index(['Detection probability', 'Nucleus: Area µm^2', 'Nucleus: Length µm',\n",
       "       'Nucleus: Circularity', 'Nucleus: Solidity', 'Nucleus: Max diameter µm',\n",
       "       'Nucleus: Min diameter µm', 'Cell: Area µm^2', 'Cell: Length µm',\n",
       "       'Cell: Circularity', 'Cell: Solidity', 'Cell: Max diameter µm',\n",
       "       'Cell: Min diameter µm', 'Nucleus/Cell area ratio',\n",
       "       'Hematoxylin: Nucleus: Mean', 'Hematoxylin: Nucleus: Median',\n",
       "       'Hematoxylin: Nucleus: Min', 'Hematoxylin: Nucleus: Max',\n",
       "       'Hematoxylin: Nucleus: Std.Dev.', 'Hematoxylin: Cytoplasm: Mean',\n",
       "       'Hematoxylin: Cytoplasm: Median', 'Hematoxylin: Cytoplasm: Min',\n",
       "       'Hematoxylin: Cytoplasm: Max', 'Hematoxylin: Cytoplasm: Std.Dev.',\n",
       "       'Hematoxylin: Membrane: Mean', 'Hematoxylin: Membrane: Median',\n",
       "       'Hematoxylin: Membrane: Min', 'Hematoxylin: Membrane: Max',\n",
       "       'Hematoxylin: Membrane: Std.Dev.', 'Hematoxylin: Cell: Mean',\n",
       "       'Hematoxylin: Cell: Median', 'Hematoxylin: Cell: Min',\n",
       "       'Hematoxylin: Cell: Max', 'Hematoxylin: Cell: Std.Dev.', 'NN_10_um',\n",
       "       'NN_20_um', 'NN_30_um', 'NN_40_um', 'NN_50_um', 'NN_60_um', 'NN_70_um',\n",
       "       'NN_80_um', 'NN_90_um', 'NN_100_um'],\n",
       "      dtype='object')"
      ]
     },
     "execution_count": 5,
     "metadata": {},
     "output_type": "execute_result"
    }
   ],
   "source": [
    "X_train.columns"
   ]
  },
  {
   "attachments": {},
   "cell_type": "markdown",
   "metadata": {},
   "source": [
    "### Initialising & training the classifiers"
   ]
  },
  {
   "attachments": {},
   "cell_type": "markdown",
   "metadata": {},
   "source": [
    "**Tau classifier for cortical regions**"
   ]
  },
  {
   "cell_type": "code",
   "execution_count": 6,
   "metadata": {},
   "outputs": [
    {
     "data": {
      "text/plain": [
       "Pipeline(steps=[('normalizer', MinMaxScaler()),\n",
       "                ('selector',\n",
       "                 RFE(estimator=RandomForestClassifier(random_state=42),\n",
       "                     n_features_to_select=28)),\n",
       "                ('clf',\n",
       "                 BalancedRandomForestClassifier(class_weight='balanced',\n",
       "                                                max_depth=15, max_features=0.4,\n",
       "                                                max_samples=0.25,\n",
       "                                                min_samples_leaf=4,\n",
       "                                                min_samples_split=10,\n",
       "                                                n_estimators=200,\n",
       "                                                random_state=42))])"
      ]
     },
     "execution_count": 6,
     "metadata": {},
     "output_type": "execute_result"
    }
   ],
   "source": [
    "occipital_model = CellClassifier(hyperparameters=occipital_classifier_hyperparams)\n",
    "occipital_model.pipeline"
   ]
  },
  {
   "cell_type": "code",
   "execution_count": 7,
   "metadata": {},
   "outputs": [],
   "source": [
    "# Training \n",
    "occipital_model.train(X=X_train,\n",
    "                     Y=y_train)"
   ]
  },
  {
   "cell_type": "code",
   "execution_count": 8,
   "metadata": {},
   "outputs": [
    {
     "data": {
      "text/plain": [
       "{0: (0.46755140108518506,\n",
       "  0.64622061572346,\n",
       "  0.5524263118410125,\n",
       "  0.809090909090909),\n",
       " 1: (0.35800301310120014,\n",
       "  0.8404223852097499,\n",
       "  0.8257465256800274,\n",
       "  0.8658687943262411),\n",
       " 2: (0.38978088189514104,\n",
       "  0.8427582788906303,\n",
       "  0.8476453077212108,\n",
       "  0.848989898989899),\n",
       " 3: (0.3327053512581415,\n",
       "  0.833597139312819,\n",
       "  0.8379277250873924,\n",
       "  0.8324248777078965)}"
      ]
     },
     "execution_count": 8,
     "metadata": {},
     "output_type": "execute_result"
    }
   ],
   "source": [
    "occipital_model.best_parameters"
   ]
  },
  {
   "cell_type": "code",
   "execution_count": 9,
   "metadata": {},
   "outputs": [
    {
     "data": {
      "text/html": [
       "<div>\n",
       "<style scoped>\n",
       "    .dataframe tbody tr th:only-of-type {\n",
       "        vertical-align: middle;\n",
       "    }\n",
       "\n",
       "    .dataframe tbody tr th {\n",
       "        vertical-align: top;\n",
       "    }\n",
       "\n",
       "    .dataframe thead th {\n",
       "        text-align: right;\n",
       "    }\n",
       "</style>\n",
       "<table border=\"1\" class=\"dataframe\">\n",
       "  <thead>\n",
       "    <tr style=\"text-align: right;\">\n",
       "      <th></th>\n",
       "      <th>features</th>\n",
       "      <th>importance</th>\n",
       "    </tr>\n",
       "  </thead>\n",
       "  <tbody>\n",
       "    <tr>\n",
       "      <th>1</th>\n",
       "      <td>Nucleus: Area µm^2</td>\n",
       "      <td>0.132467</td>\n",
       "    </tr>\n",
       "    <tr>\n",
       "      <th>4</th>\n",
       "      <td>Nucleus: Max diameter µm</td>\n",
       "      <td>0.124573</td>\n",
       "    </tr>\n",
       "    <tr>\n",
       "      <th>0</th>\n",
       "      <td>Detection probability</td>\n",
       "      <td>0.117742</td>\n",
       "    </tr>\n",
       "    <tr>\n",
       "      <th>2</th>\n",
       "      <td>Nucleus: Length µm</td>\n",
       "      <td>0.117511</td>\n",
       "    </tr>\n",
       "    <tr>\n",
       "      <th>5</th>\n",
       "      <td>Nucleus: Min diameter µm</td>\n",
       "      <td>0.079836</td>\n",
       "    </tr>\n",
       "  </tbody>\n",
       "</table>\n",
       "</div>"
      ],
      "text/plain": [
       "                   features  importance\n",
       "1        Nucleus: Area µm^2    0.132467\n",
       "4  Nucleus: Max diameter µm    0.124573\n",
       "0     Detection probability    0.117742\n",
       "2        Nucleus: Length µm    0.117511\n",
       "5  Nucleus: Min diameter µm    0.079836"
      ]
     },
     "execution_count": 9,
     "metadata": {},
     "output_type": "execute_result"
    }
   ],
   "source": [
    "occipital_model.f_importance.head()"
   ]
  },
  {
   "cell_type": "code",
   "execution_count": 10,
   "metadata": {},
   "outputs": [
    {
     "data": {
      "text/plain": [
       "['occipital_cell_classifier.sav']"
      ]
     },
     "execution_count": 10,
     "metadata": {},
     "output_type": "execute_result"
    }
   ],
   "source": [
    "# save the model\n",
    "joblib.dump(occipital_model, 'occipital_cell_classifier.sav')"
   ]
  }
 ],
 "metadata": {
  "kernelspec": {
   "display_name": "Python 3.9.13 ('base')",
   "language": "python",
   "name": "python3"
  },
  "language_info": {
   "codemirror_mode": {
    "name": "ipython",
    "version": 3
   },
   "file_extension": ".py",
   "mimetype": "text/x-python",
   "name": "python",
   "nbconvert_exporter": "python",
   "pygments_lexer": "ipython3",
   "version": "3.8.16"
  },
  "vscode": {
   "interpreter": {
    "hash": "f49f039f1826f29992caaab1300810c8c9e5d31d3955aed133543fc6668591e2"
   }
  }
 },
 "nbformat": 4,
 "nbformat_minor": 2
}
