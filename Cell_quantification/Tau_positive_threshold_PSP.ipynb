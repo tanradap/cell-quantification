{
 "cells": [
  {
   "attachments": {},
   "cell_type": "markdown",
   "metadata": {},
   "source": [
    "### Let's look at PSP hema staining"
   ]
  },
  {
   "cell_type": "code",
   "execution_count": 1,
   "metadata": {},
   "outputs": [],
   "source": [
    "# load important libraries\n",
    "import sys\n",
    "sys.path.insert(0,\n",
    "                '/Users/mokur/OneDrive - University of Cambridge/Attachments/Jan2023/Cell_pipeline/Cell_classification/')\n",
    "from base import *\n",
    "from constants import *\n",
    "import joblib "
   ]
  },
  {
   "cell_type": "code",
   "execution_count": 2,
   "metadata": {},
   "outputs": [],
   "source": [
    "import pandas as pd\n",
    "import numpy as np"
   ]
  },
  {
   "cell_type": "code",
   "execution_count": 1,
   "metadata": {},
   "outputs": [],
   "source": [
    "# functions\n",
    "\n",
    "# to extract top 10% of predicted cells & check DAB value\n",
    "def check_hema_dab(file_list,\n",
    "                   file_path,\n",
    "                   percentile):\n",
    "    describe_list = []\n",
    "    mean_hema = []\n",
    "    to_exclude = ['Ambiguous','Excluded','Unlabelled']\n",
    "    for i in file_list[0]:\n",
    "        dat_orig = pd.read_csv(file_path + i,sep=\"\\t\")\n",
    "        \n",
    "        dat = dat_orig[['Centroid_X','Centroid_Y','Hematoxylin: Nucleus: Mean','DAB: Nucleus: Mean','Class']]\n",
    "\n",
    "        # select only predicted class \n",
    "        dat_selected = dat[~dat['Class'].isin(to_exclude)]\n",
    "\n",
    "        # select only top 10% of predicted cells with high hematoxylin staining intensity \n",
    "        val = np.percentile(dat_selected['Hematoxylin: Nucleus: Mean'],percentile)\n",
    "        dat_selected2 = dat_selected[dat_selected['Hematoxylin: Nucleus: Mean']>=val]\n",
    "        mean_hema.append(np.mean(dat_selected2['Hematoxylin: Nucleus: Mean']))\n",
    "        description = dat_selected2['DAB: Nucleus: Mean'].describe()\n",
    "        describe_list.append(description)\n",
    "    return describe_list, mean_hema\n",
    "\n",
    "# To summarise info from check_hema_dab\n",
    "def dab_hema_summary(describe_list, mean_hema,file_list): \n",
    "    print('---------Mean DAB across slides-----') # abit too conservative - will miss out quite a lot of tau negative cells\n",
    "    print('max of mean: ',np.max([i['mean'] for i in describe_list]))\n",
    "    print('min of mean: ',np.min([i['mean'] for i in describe_list]))\n",
    "    print('mean of mean: ',np.mean([i['mean'] for i in describe_list]))\n",
    "    print('---------75% DAB across slides---------')  # probably a good compromise\n",
    "    print('max of 75%: ',np.max([i['75%'] for i in describe_list]))\n",
    "    print('min of 75%: ',np.min([i['75%'] for i in describe_list]))\n",
    "    print('mean of 75%: ',np.mean([i['75%'] for i in describe_list]))\n",
    "    print('---------Max DAB across slides---------') # these are likely artefacts or some cells have tau ?  \n",
    "    print('max of max: ',np.max([i['max'] for i in describe_list]))\n",
    "    print('min of max: ',np.min([i['max'] for i in describe_list]))\n",
    "    print('mean of max: ',np.mean([i['max'] for i in describe_list]))\n",
    "    \n",
    "    # Now we will find a slide with max pigmentation (from top 10% highly pigmented cells in the slide)\n",
    "    i_max = mean_hema.index(np.max(mean_hema))\n",
    "    #  & a slide with min pigmentation\n",
    "    i_min = mean_hema.index(np.min(mean_hema))\n",
    "    # print slide number \n",
    "    print(file_list[0][i_max],np.max(mean_hema))\n",
    "    print('DAB of highly pigmented slide:', describe_list[i_max])\n",
    "    print(file_list[0][i_min],np.min(mean_hema))\n",
    "    print('DAB of least pigmented slide:', describe_list[i_min])\n"
   ]
  },
  {
   "attachments": {},
   "cell_type": "markdown",
   "metadata": {},
   "source": [
    "## PSP stage 2"
   ]
  },
  {
   "attachments": {},
   "cell_type": "markdown",
   "metadata": {},
   "source": [
    "**Cortical slides** These slides are unlikely to have tau"
   ]
  },
  {
   "cell_type": "code",
   "execution_count": 34,
   "metadata": {},
   "outputs": [],
   "source": [
    "cortical_list = pd.read_csv('C:/Users/mokur/OneDrive/Desktop/Digital_path/Cell_pipeline/Predictions/Cortical/psp_2_cortical.txt',sep='\\t',header=None)\n",
    "file_path = 'C:/Users/mokur/OneDrive/Desktop/Digital_path/Cell_pipeline/Predictions/Cortical/'"
   ]
  },
  {
   "cell_type": "code",
   "execution_count": 44,
   "metadata": {},
   "outputs": [],
   "source": [
    "# Select top 10% of highly pigmented hema cells, check value of DAB: mean, max, 75% percentile \n",
    "describe_cortical, cortical_mean_hema = check_hema_dab(file_list = cortical_list,\n",
    "                                   file_path = file_path,\n",
    "                                   percentile=90)"
   ]
  },
  {
   "cell_type": "code",
   "execution_count": 2,
   "metadata": {},
   "outputs": [
    {
     "ename": "NameError",
     "evalue": "name 'describe_cortical' is not defined",
     "output_type": "error",
     "traceback": [
      "\u001b[1;31m---------------------------------------------------------------------------\u001b[0m",
      "\u001b[1;31mNameError\u001b[0m                                 Traceback (most recent call last)",
      "Cell \u001b[1;32mIn[2], line 5\u001b[0m\n\u001b[0;32m      1\u001b[0m \u001b[39m# Of the top 10% of highly pigmented hema cells, let's inspect DAB values\u001b[39;00m\n\u001b[0;32m      2\u001b[0m \u001b[39m# mean = mean value from each slide \u001b[39;00m\n\u001b[0;32m      3\u001b[0m \u001b[39m# 75% = 75% percentile value from each slide\u001b[39;00m\n\u001b[0;32m      4\u001b[0m \u001b[39m# max = max value from each slide\u001b[39;00m\n\u001b[1;32m----> 5\u001b[0m dab_hema_summary(describe_list \u001b[39m=\u001b[39m describe_cortical,\n\u001b[0;32m      6\u001b[0m                   mean_hema \u001b[39m=\u001b[39m cortical_mean_hema,\n\u001b[0;32m      7\u001b[0m                   file_list \u001b[39m=\u001b[39m cortical_list)\n",
      "\u001b[1;31mNameError\u001b[0m: name 'describe_cortical' is not defined"
     ]
    }
   ],
   "source": [
    "# Of the top 10% of highly pigmented hema cells, let's inspect DAB values\n",
    "# mean = mean value from each slide \n",
    "# 75% = 75% percentile value from each slide\n",
    "# max = max value from each slide\n",
    "dab_hema_summary(describe_list = describe_cortical,\n",
    "                  mean_hema = cortical_mean_hema,\n",
    "                  file_list = cortical_list)"
   ]
  },
  {
   "attachments": {},
   "cell_type": "markdown",
   "metadata": {},
   "source": [
    "## PSP stage 5"
   ]
  },
  {
   "attachments": {},
   "cell_type": "markdown",
   "metadata": {},
   "source": [
    "**Cortical slides** These slides are likely to have quite heavy tau"
   ]
  },
  {
   "cell_type": "code",
   "execution_count": 51,
   "metadata": {},
   "outputs": [],
   "source": [
    "cortical_list = pd.read_csv('C:/Users/mokur/OneDrive/Desktop/Digital_path/Cell_pipeline/Predictions/Cortical/psp_5_cortical.txt',sep='\\t',header=None)\n",
    "file_path = 'C:/Users/mokur/OneDrive/Desktop/Digital_path/Cell_pipeline/Predictions/Cortical/'"
   ]
  },
  {
   "cell_type": "code",
   "execution_count": 52,
   "metadata": {},
   "outputs": [],
   "source": [
    "# Select top 10% of highly pigmented hema cells, check value of DAB: mean, max, 75% percentile \n",
    "describe_cortical, cortical_mean_hema = check_hema_dab(file_list = cortical_list,\n",
    "                                   file_path = file_path,\n",
    "                                   percentile=90)"
   ]
  },
  {
   "cell_type": "code",
   "execution_count": 54,
   "metadata": {},
   "outputs": [
    {
     "name": "stdout",
     "output_type": "stream",
     "text": [
      "---------Mean DAB across slides-----\n",
      "max of mean:  0.3961681922196796\n",
      "min of mean:  0.10415124595610736\n",
      "mean of mean:  0.15987785389863027\n",
      "---------75% DAB across slides---------\n",
      "max of 75%:  0.643575\n",
      "min of 75%:  0.1147\n",
      "mean of 75%:  0.16992534722222222\n",
      "---------Max DAB across slides---------\n",
      "max of max:  1.1371\n",
      "min of max:  0.6714\n",
      "mean of max:  0.9523222222222222\n",
      "755557.svs_predictions.txt 0.7619519522681407\n",
      "771861.svs_predictions.txt 0.3874764013283687\n"
     ]
    }
   ],
   "source": [
    "dab_hema_summary(describe_list = describe_cortical,\n",
    "                  mean_hema = cortical_mean_hema,\n",
    "                  file_list = cortical_list)"
   ]
  },
  {
   "attachments": {},
   "cell_type": "markdown",
   "metadata": {},
   "source": [
    "**Let's look at BG slides**"
   ]
  },
  {
   "cell_type": "code",
   "execution_count": 56,
   "metadata": {},
   "outputs": [],
   "source": [
    "bg_list = pd.read_csv('C:/Users/mokur/OneDrive/Desktop/Digital_path/Cell_pipeline/Predictions/BG/psp_5_bg.txt',sep='\\t',header=None)\n",
    "bg_path = 'C:/Users/mokur/OneDrive/Desktop/Digital_path/Cell_pipeline/Predictions/BG/'"
   ]
  },
  {
   "cell_type": "code",
   "execution_count": 57,
   "metadata": {},
   "outputs": [],
   "source": [
    "# Select top 10% of highly pigmented hema cells, check value of DAB: mean, max, 75% percentile \n",
    "describe_bg, bg_mean_hema = check_hema_dab(file_list = bg_list,\n",
    "                                   file_path = bg_path,\n",
    "                                   percentile=90)"
   ]
  },
  {
   "cell_type": "code",
   "execution_count": 58,
   "metadata": {},
   "outputs": [
    {
     "name": "stdout",
     "output_type": "stream",
     "text": [
      "---------Mean DAB across slides-----\n",
      "max of mean:  0.20130028059701494\n",
      "min of mean:  0.10667785664749319\n",
      "mean of mean:  0.15912049518622481\n",
      "---------75% DAB across slides---------\n",
      "max of 75%:  0.2095\n",
      "min of 75%:  0.105\n",
      "mean of 75%:  0.17057499999999998\n",
      "---------Max DAB across slides---------\n",
      "max of max:  1.1578\n",
      "min of max:  0.709\n",
      "mean of max:  1.0299846153846155\n",
      "747870.svs_predictions.txt 0.7961706178160919\n",
      "771914.svs_predictions.txt 0.5462703431176518\n"
     ]
    }
   ],
   "source": [
    "dab_hema_summary(describe_list = describe_bg,\n",
    "                  mean_hema = bg_mean_hema,\n",
    "                  file_list = bg_list)"
   ]
  }
 ],
 "metadata": {
  "kernelspec": {
   "display_name": "tau-pl-old",
   "language": "python",
   "name": "python3"
  },
  "language_info": {
   "codemirror_mode": {
    "name": "ipython",
    "version": 3
   },
   "file_extension": ".py",
   "mimetype": "text/x-python",
   "name": "python",
   "nbconvert_exporter": "python",
   "pygments_lexer": "ipython3",
   "version": "3.8.16"
  },
  "orig_nbformat": 4
 },
 "nbformat": 4,
 "nbformat_minor": 2
}
