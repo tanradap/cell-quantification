{
 "cells": [
  {
   "attachments": {},
   "cell_type": "markdown",
   "metadata": {},
   "source": [
    "**Inspect values for DAB thresholding setting**"
   ]
  },
  {
   "cell_type": "code",
   "execution_count": 1,
   "metadata": {},
   "outputs": [],
   "source": [
    "# load important libraries\n",
    "import sys\n",
    "sys.path.insert(0,\n",
    "                '/Users/mokur/OneDrive - University of Cambridge/Attachments/Jan2023/Cell_pipeline/Cell_classification/')\n",
    "from base import *\n",
    "from constants import *\n",
    "import joblib "
   ]
  },
  {
   "cell_type": "code",
   "execution_count": 2,
   "metadata": {},
   "outputs": [],
   "source": [
    "import pandas as pd\n",
    "import numpy as np"
   ]
  },
  {
   "attachments": {},
   "cell_type": "markdown",
   "metadata": {},
   "source": [
    "Idea: \n",
    "1. There can be bleeding between Hematoxylin <-> DAB \n",
    "2. In cases where there is no tau, highly pigmented hema can bleed to have false positive tau. \n",
    "3. We want to study tau negative cells, and need to find a suitable threshold\n",
    "4. Hema can be highly pigmented because of heavy tau -> so we need to look at healthy cells = just use controls**\n",
    "5. Using control, we check highly pigmented Hema & see value of DAB, and try to threshold that way.\n",
    "    - We pick up top 1% hema cells, then look at DAB value. => Not good because they will be mainly artefacts (ink stains)\n",
    "    - So, we will use predicted cells (cells not discarded) & check 75% percentile of highly pigmented cells -> DAB value\n",
    "    \n"
   ]
  },
  {
   "cell_type": "code",
   "execution_count": 14,
   "metadata": {},
   "outputs": [],
   "source": [
    "# functions\n",
    "\n",
    "# to extract top 10% of predicted cells & check DAB value\n",
    "def check_hema_dab(file_list,\n",
    "                   file_path,\n",
    "                   percentile):\n",
    "    describe_list = []\n",
    "    mean_hema = []\n",
    "    to_exclude = ['Ambiguous','Excluded','Unlabelled']\n",
    "    for i in file_list[0]:\n",
    "        dat_orig = pd.read_csv(file_path + i,sep=\"\\t\")\n",
    "        \n",
    "        dat = dat_orig[['Centroid_X','Centroid_Y','Hematoxylin: Nucleus: Mean','DAB: Nucleus: Mean','Class']]\n",
    "\n",
    "        # select only predicted class \n",
    "        dat_selected = dat[~dat['Class'].isin(to_exclude)]\n",
    "\n",
    "        # select only top 10% of predicted cells with high hematoxylin staining intensity \n",
    "        val = np.percentile(dat_selected['Hematoxylin: Nucleus: Mean'],percentile)\n",
    "        dat_selected2 = dat_selected[dat_selected['Hematoxylin: Nucleus: Mean']>=val]\n",
    "        mean_hema.append(np.mean(dat_selected2['Hematoxylin: Nucleus: Mean']))\n",
    "        description = dat_selected2['DAB: Nucleus: Mean'].describe()\n",
    "        describe_list.append(description)\n",
    "    return describe_list, mean_hema\n",
    "\n",
    "# To summarise info from check_hema_dab\n",
    "def dab_hema_summary(describe_list, mean_hema,file_list): \n",
    "    print('---------Mean DAB across slides-----') # abit too conservative - will miss out quite a lot of tau negative cells\n",
    "    print('max of mean: ',np.max([i['mean'] for i in describe_list]))\n",
    "    print('min of mean: ',np.min([i['mean'] for i in describe_list]))\n",
    "    print('mean of mean: ',np.mean([i['mean'] for i in describe_list]))\n",
    "    print('---------75% DAB across slides---------')  # probably a good compromise\n",
    "    print('max of 75%: ',np.max([i['75%'] for i in describe_list])) # print max 75th percentile value (most pigmented slide)\n",
    "    print('min of 75%: ',np.min([i['75%'] for i in describe_list])) # print min 75th percentile value (least pigmented slide)\n",
    "    print('mean of 75%: ',np.mean([i['75%'] for i in describe_list]))\n",
    "    print('---------Max DAB across slides---------') # these are likely artefacts or some cells have tau ?  \n",
    "    print('max of max: ',np.max([i['max'] for i in describe_list]))\n",
    "    print('min of max: ',np.min([i['max'] for i in describe_list]))\n",
    "    print('mean of max: ',np.mean([i['max'] for i in describe_list]))\n",
    "    \n",
    "    # Now we will find a slide with max pigmentation (from top 10% highly pigmented cells in the slide)\n",
    "    i_max = mean_hema.index(np.max(mean_hema))\n",
    "    #  & a slide with min pigmentation\n",
    "    i_min = mean_hema.index(np.min(mean_hema))\n",
    "    # print slide number \n",
    "    print(file_list[0][i_max],np.max(mean_hema))\n",
    "    # print('DAB of highly pigmented slide:', describe_list[i_max])\n",
    "    print(file_list[0][i_min],np.min(mean_hema))\n",
    "    # print('DAB of least pigmented slide:', describe_list[i_min])"
   ]
  },
  {
   "attachments": {},
   "cell_type": "markdown",
   "metadata": {},
   "source": [
    "**Cortical slides**"
   ]
  },
  {
   "cell_type": "code",
   "execution_count": 12,
   "metadata": {},
   "outputs": [],
   "source": [
    "cortical_list = pd.read_csv('C:/Users/mokur/OneDrive/Desktop/Digital_path/Cell_pipeline/Predictions/Cortical/controls.txt',sep='\\t',header=None)\n",
    "file_path = 'C:/Users/mokur/OneDrive/Desktop/Digital_path/Cell_pipeline/Predictions/Cortical/'"
   ]
  },
  {
   "cell_type": "code",
   "execution_count": 15,
   "metadata": {},
   "outputs": [
    {
     "name": "stdout",
     "output_type": "stream",
     "text": [
      "---------Mean DAB across slides-----\n",
      "max of mean:  0.23087401687509415\n",
      "min of mean:  0.1082975157629256\n",
      "mean of mean:  0.1519149730015387\n",
      "---------75% DAB across slides---------\n",
      "max of 75%:  0.2521\n",
      "min of 75%:  0.1218\n",
      "mean of 75%:  0.16913571428571433\n",
      "---------Max DAB across slides---------\n",
      "max of max:  1.063\n",
      "min of max:  0.5204\n",
      "mean of max:  0.7298047619047617\n",
      "755883.svs_predictions.txt 0.7452118879011602\n",
      "755524.svs_predictions.txt 0.540801866330391\n"
     ]
    }
   ],
   "source": [
    "# Select top 10% of highly pigmented hema cells, check value of DAB: mean, max, 75% percentile \n",
    "describe_cortical, cortical_mean_hema = check_hema_dab(file_list = cortical_list,\n",
    "                                   file_path = file_path,\n",
    "                                   percentile=90)\n",
    "\n",
    "# Of the top 10% of highly pigmented hema cells for all slides we have, let's inspect DAB values\n",
    "# mean = mean value from each slide \n",
    "# 75% = 75% percentile value from each slide\n",
    "# max = max value from each slide\n",
    "dab_hema_summary(describe_list = describe_cortical,\n",
    "                  mean_hema = cortical_mean_hema,\n",
    "                  file_list = cortical_list)"
   ]
  },
  {
   "attachments": {},
   "cell_type": "markdown",
   "metadata": {},
   "source": [
    "**Let's look at occipital slides**"
   ]
  },
  {
   "cell_type": "code",
   "execution_count": 6,
   "metadata": {},
   "outputs": [],
   "source": [
    "occipital_list = pd.read_csv('C:/Users/mokur/OneDrive/Desktop/Digital_path/Cell_pipeline/Predictions/Occipital/controls.txt',sep='\\t',header=None)\n",
    "file_path = 'C:/Users/mokur/OneDrive/Desktop/Digital_path/Cell_pipeline/Predictions/Occipital/'"
   ]
  },
  {
   "cell_type": "code",
   "execution_count": 7,
   "metadata": {},
   "outputs": [
    {
     "name": "stdout",
     "output_type": "stream",
     "text": [
      "---------Mean DAB across slides-----\n",
      "max of mean:  0.24771807826086956\n",
      "min of mean:  0.1378020860077022\n",
      "mean of mean:  0.17335235187948933\n",
      "---------75% DAB across slides---------\n",
      "max of 75%:  0.2665\n",
      "min of 75%:  0.1538\n",
      "mean of 75%:  0.1902\n",
      "---------Max DAB across slides---------\n",
      "max of max:  0.7461\n",
      "min of max:  0.5962\n",
      "mean of max:  0.674475\n",
      "755576.svs_predictions.txt 0.7312075999999998\n",
      "755508.svs_predictions.txt 0.6671609962591061\n"
     ]
    }
   ],
   "source": [
    "# Select top 10% of highly pigmented hema cells, check value of DAB: mean, max, 75% percentile \n",
    "describe_occipital, occipital_mean_hema = check_hema_dab(file_list = occipital_list,\n",
    "                                   file_path = file_path,\n",
    "                                   percentile=90)\n",
    "\n",
    "# Of the top 10% of highly pigmented hema cells, let's inspect DAB values\n",
    "# mean = mean value from each slide \n",
    "# 75% = 75% percentile value from each slide\n",
    "# max = max value from each slide\n",
    "dab_hema_summary(describe_list = describe_occipital,\n",
    "                  mean_hema = occipital_mean_hema,\n",
    "                  file_list = occipital_list)"
   ]
  },
  {
   "attachments": {},
   "cell_type": "markdown",
   "metadata": {},
   "source": [
    "**Let's look at BG slides**"
   ]
  },
  {
   "cell_type": "code",
   "execution_count": 8,
   "metadata": {},
   "outputs": [],
   "source": [
    "bg_list = pd.read_csv('C:/Users/mokur/OneDrive/Desktop/Digital_path/Cell_pipeline/Predictions/BG/controls.txt',sep='\\t',header=None)\n",
    "file_path = 'C:/Users/mokur/OneDrive/Desktop/Digital_path/Cell_pipeline/Predictions/BG/'"
   ]
  },
  {
   "cell_type": "code",
   "execution_count": 9,
   "metadata": {},
   "outputs": [
    {
     "name": "stdout",
     "output_type": "stream",
     "text": [
      "---------Mean DAB across slides-----\n",
      "max of mean:  0.16214867534096253\n",
      "min of mean:  0.1430056157439618\n",
      "mean of mean:  0.1506628395827621\n",
      "---------75% DAB across slides---------\n",
      "max of 75%:  0.1761\n",
      "min of 75%:  0.1547\n",
      "mean of 75%:  0.16326000000000002\n",
      "---------Max DAB across slides---------\n",
      "max of max:  0.9329\n",
      "min of max:  0.6732\n",
      "mean of max:  0.8290200000000001\n",
      "755497.svs_predictions.txt 0.7190593196425772\n",
      "755511.svs_predictions.txt 0.643299681940165\n"
     ]
    }
   ],
   "source": [
    "# Select top 10% of highly pigmented hema cells, check value of DAB: mean, max, 75% percentile \n",
    "describe_bg, bg_mean_hema = check_hema_dab(file_list = bg_list,\n",
    "                                   file_path = file_path,\n",
    "                                   percentile=90)\n",
    "\n",
    "# Of the top 10% of highly pigmented hema cells, let's inspect DAB values\n",
    "# mean = mean value from each slide \n",
    "# 75% = 75% percentile value from each slide\n",
    "# max = max value from each slide\n",
    "dab_hema_summary(describe_list = describe_bg,\n",
    "                  mean_hema = bg_mean_hema,\n",
    "                  file_list = bg_list)"
   ]
  }
 ],
 "metadata": {
  "kernelspec": {
   "display_name": "tau-pl-old",
   "language": "python",
   "name": "python3"
  },
  "language_info": {
   "codemirror_mode": {
    "name": "ipython",
    "version": 3
   },
   "file_extension": ".py",
   "mimetype": "text/x-python",
   "name": "python",
   "nbconvert_exporter": "python",
   "pygments_lexer": "ipython3",
   "version": "3.8.16"
  },
  "orig_nbformat": 4
 },
 "nbformat": 4,
 "nbformat_minor": 2
}
