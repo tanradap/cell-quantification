{
 "cells": [
  {
   "attachments": {},
   "cell_type": "markdown",
   "metadata": {},
   "source": [
    "### Tuning hyper-paremter of cortical cell classifier"
   ]
  },
  {
   "cell_type": "code",
   "execution_count": 1,
   "metadata": {},
   "outputs": [],
   "source": [
    "# Importing libraries\n",
    "import sys\n",
    "sys.path.insert(0,\n",
    "                '/Users/mokur/OneDrive - University of Cambridge/Attachments/Jan2023/Cell_pipeline/Tuning_parameters/')\n",
    "\n",
    "from constants import * \n",
    "from base import *\n",
    "from custom_metrics import *\n",
    "from tuning_cv import *"
   ]
  },
  {
   "cell_type": "code",
   "execution_count": 2,
   "metadata": {},
   "outputs": [],
   "source": [
    "## Importing libraries \n",
    "import pandas as pd\n",
    "import numpy as np \n",
    "import random \n",
    "\n",
    "from sklearn import preprocessing \n",
    "\n",
    "from sklearn.pipeline import Pipeline\n",
    "from sklearn.preprocessing import MinMaxScaler\n",
    "from sklearn.ensemble import RandomForestClassifier\n",
    "from imblearn.ensemble import BalancedRandomForestClassifier\n",
    "from sklearn.model_selection import RandomizedSearchCV\n",
    "from sklearn.metrics import ConfusionMatrixDisplay\n",
    "import matplotlib.pyplot as plt\n",
    "import joblib\n",
    "import scipy.stats as st "
   ]
  },
  {
   "attachments": {},
   "cell_type": "markdown",
   "metadata": {},
   "source": [
    "### Importing data "
   ]
  },
  {
   "cell_type": "code",
   "execution_count": 3,
   "metadata": {},
   "outputs": [],
   "source": [
    "# Annotated cells \n",
    "cell_path = \"/Users/mokur/OneDrive - University of Cambridge/Attachments/Jan2023/Cell_pipeline/Training_data/BG/cells/\"\n",
    "cell_training = \"training.txt\"\n",
    "\n",
    "# NNB information of all cells on slide\n",
    "nnb_path = \"/Users/mokur/OneDrive - University of Cambridge/Attachments/Jan2023/Cell_pipeline/Training_data/BG/NNB/\"\n",
    "nnb_training = \"training_NNB.txt\"\n",
    "\n",
    "# hema nucleus of all cells on slide\n",
    "hema_path = \"/Users/mokur/OneDrive - University of Cambridge/Attachments/Jan2023/Cell_pipeline/Training_data/BG/hema/\"\n",
    "hema_training = \"training_hema.txt\""
   ]
  },
  {
   "attachments": {},
   "cell_type": "markdown",
   "metadata": {},
   "source": [
    "Require: \n",
    "1. input_files.txt - to contian filenames I want to use. ** currently .csv files"
   ]
  },
  {
   "cell_type": "code",
   "execution_count": 4,
   "metadata": {},
   "outputs": [
    {
     "name": "stdout",
     "output_type": "stream",
     "text": [
      "Read in:  20 files\n",
      "Extracted: 20 files\n"
     ]
    }
   ],
   "source": [
    "# Importing annotated cells \n",
    "\n",
    "# obtaining list of files \n",
    "with open(cell_path + cell_training) as f: \n",
    "    mylist= f.read().splitlines()\n",
    "    \n",
    "print(\"Read in: \",len(mylist),\"files\")\n",
    "\n",
    "# reading in all those files \n",
    "inputs = [] \n",
    "for i in mylist: \n",
    "    dat_ = pd.read_csv(cell_path + i,sep=\",\")\n",
    "    dat_.columns.values[5] = 'Centroid_X'\n",
    "    dat_.columns.values[6] = 'Centroid_Y'\n",
    "    dat = dat_[cell_extracted_features] # fixed extracted feature order\n",
    "    inputs.append(dat)\n",
    "print(\"Extracted:\", len(inputs),\"files\")\n"
   ]
  },
  {
   "cell_type": "code",
   "execution_count": 5,
   "metadata": {},
   "outputs": [
    {
     "name": "stdout",
     "output_type": "stream",
     "text": [
      "Read in: 20  NUMBER OF neighbouring cells files\n",
      "Extracted: 20 files\n",
      "no. of columns / NB file: [18, 18, 18, 18, 18, 18, 18, 18, 18, 18, 18, 18, 18, 18, 18, 18, 18, 18, 13, 13]\n"
     ]
    }
   ],
   "source": [
    "# Importing in neghbouring cells info (numbers)\n",
    "\n",
    "# with open(nnb_path + nnb_training) as f: \n",
    "#     nb_mylist= f.read().splitlines()\n",
    "    \n",
    "# print(\"Read in:\",len(nb_mylist),\" NUMBER OF neighbouring cells files\")\n",
    "nb_mylist = [i[0:6]+'_all_neighbours.csv' for i in mylist]\n",
    "print(\"Read in:\",len(nb_mylist),\" NUMBER OF neighbouring cells files\")\n",
    "\n",
    "# reading in all those files \n",
    "nb_inputs = []\n",
    "nb_columns = [] \n",
    "for i in nb_mylist: \n",
    "    dat = pd.read_csv(nnb_path +i,sep=\",\")\n",
    "    dat.columns.values[0] = 'X'\n",
    "    dat.columns.values[1] = 'Y'\n",
    "    nb_inputs.append(dat)\n",
    "    nb_columns.append(dat.shape[1])\n",
    "    \n",
    "print(\"Extracted:\", len(nb_inputs),\"files\")\n",
    "print('no. of columns / NB file:', nb_columns)"
   ]
  },
  {
   "cell_type": "code",
   "execution_count": 6,
   "metadata": {},
   "outputs": [
    {
     "name": "stdout",
     "output_type": "stream",
     "text": [
      "Read in: 20 hema files\n",
      "Extracted: 20 hema files\n"
     ]
    }
   ],
   "source": [
    "#  Importing hema nucleus mean of all detected cells & location coordinates \n",
    "# Variables: hema_mylist, hema_inputs \n",
    "\n",
    "## obtaining list of files \n",
    "# with open(hema_path + hema_training) as f: \n",
    "#     hema_mylist= f.read().splitlines()\n",
    "    \n",
    "# print(\"Read in:\",len(hema_mylist),\"hema files\")\n",
    "hema_mylist = [i[0:6]+'_hema.csv' for i in mylist]    \n",
    "print(\"Read in:\",len(hema_mylist),\"hema files\")   \n",
    "\n",
    "\n",
    "## 4) reading in all those files \n",
    "hema_inputs = [] \n",
    "for i in hema_mylist: \n",
    "    dat = pd.read_csv(hema_path + i,sep=\",\")\n",
    "    dat.columns.values[0] = 'Centroid_X' # To fix naming inconsistency problem \n",
    "    dat.columns.values[1] = 'Centroid_Y'\n",
    "    hema_inputs.append(dat)\n",
    "\n",
    "print(\"Extracted:\",len(hema_inputs),\"hema files\")  \n"
   ]
  },
  {
   "cell_type": "code",
   "execution_count": 7,
   "metadata": {},
   "outputs": [
    {
     "name": "stdout",
     "output_type": "stream",
     "text": [
      "mylist & nb_list matched?: True\n",
      "mylist & hema_list matched?: True\n"
     ]
    }
   ],
   "source": [
    "# Checking if filenames & order of them from mylist, nb_mylist & hema_mylist match\n",
    "x_nb = [i[0:6] for i in nb_mylist]\n",
    "x = [i[0:6] for i in mylist]\n",
    "x_h = [i[0:6] for i in hema_mylist]\n",
    "print(\"mylist & nb_list matched?:\", x==x_nb)\n",
    "print(\"mylist & hema_list matched?:\",x==x_h)"
   ]
  },
  {
   "cell_type": "code",
   "execution_count": 8,
   "metadata": {},
   "outputs": [
    {
     "name": "stdout",
     "output_type": "stream",
     "text": [
      "[True, True, True, True, True, True, True, True, True, True, True, True, True, True, True, True, True, True, True, True]\n"
     ]
    }
   ],
   "source": [
    "# combine cells with NNB information\n",
    "inputs_with_nbb, output_log = combine_annotated_to_NNB2(annotated_list = inputs,\n",
    "                                                        NNB_list = nb_inputs)\n",
    "print(output_log)"
   ]
  },
  {
   "cell_type": "code",
   "execution_count": 9,
   "metadata": {},
   "outputs": [
    {
     "data": {
      "text/plain": [
       "Index(['X', 'Y', 'NN_10_um', 'NN_20_um', 'NN_30_um', 'NN_40_um', 'NN_50_um',\n",
       "       'NN_60_um', 'NN_70_um', 'NN_80_um', 'NN_90_um', 'NN_100_um',\n",
       "       'NN_110_um', 'NN_120_um', 'NN_130_um', 'NN_140_um', 'NN_150_um',\n",
       "       'slice_id'],\n",
       "      dtype='object')"
      ]
     },
     "execution_count": 9,
     "metadata": {},
     "output_type": "execute_result"
    }
   ],
   "source": [
    "nb_inputs[0].columns"
   ]
  },
  {
   "cell_type": "code",
   "execution_count": 10,
   "metadata": {},
   "outputs": [],
   "source": [
    "# Find cells to remove based on hematoxylin staining (from normalisation, remove top 1%)\n",
    "hema_to_remove = find_hema_to_remove(hema_inputs)\n",
    "\n",
    "# for i in range(0,len(hema_to_remove)): \n",
    "#     print(i, \" No. of cells with normalised Hema >1:\",len(hema_to_remove[i]), \"from\", len(hema_inputs[i]),\"detected cells\")"
   ]
  },
  {
   "cell_type": "code",
   "execution_count": 11,
   "metadata": {},
   "outputs": [
    {
     "name": "stdout",
     "output_type": "stream",
     "text": [
      "[True, True, True, True, True, True, True, True, True, True, True, True, True, True, True, True, True, True, True, True]\n",
      "(89, 56)\n"
     ]
    }
   ],
   "source": [
    "# remove cells that have hema above criteria\n",
    "cleaned_inputs, remove_log = remove_cell_hema(inputs_with_nbb,\n",
    "                                              hema_to_remove)\n",
    "print(remove_log)\n",
    "print(cleaned_inputs[0].shape)"
   ]
  },
  {
   "attachments": {},
   "cell_type": "markdown",
   "metadata": {},
   "source": [
    "### Putting the slides together "
   ]
  },
  {
   "cell_type": "code",
   "execution_count": 12,
   "metadata": {},
   "outputs": [
    {
     "name": "stdout",
     "output_type": "stream",
     "text": [
      "(1694, 56)\n"
     ]
    },
    {
     "data": {
      "text/html": [
       "<div>\n",
       "<style scoped>\n",
       "    .dataframe tbody tr th:only-of-type {\n",
       "        vertical-align: middle;\n",
       "    }\n",
       "\n",
       "    .dataframe tbody tr th {\n",
       "        vertical-align: top;\n",
       "    }\n",
       "\n",
       "    .dataframe thead th {\n",
       "        text-align: right;\n",
       "    }\n",
       "</style>\n",
       "<table border=\"1\" class=\"dataframe\">\n",
       "  <thead>\n",
       "    <tr style=\"text-align: right;\">\n",
       "      <th></th>\n",
       "      <th>Image</th>\n",
       "      <th>Class</th>\n",
       "      <th>Centroid_X</th>\n",
       "      <th>Centroid_Y</th>\n",
       "      <th>Detection probability</th>\n",
       "      <th>Nucleus: Area µm^2</th>\n",
       "      <th>Nucleus: Length µm</th>\n",
       "      <th>Nucleus: Circularity</th>\n",
       "      <th>Nucleus: Solidity</th>\n",
       "      <th>Nucleus: Max diameter µm</th>\n",
       "      <th>...</th>\n",
       "      <th>NN_10_um</th>\n",
       "      <th>NN_20_um</th>\n",
       "      <th>NN_30_um</th>\n",
       "      <th>NN_40_um</th>\n",
       "      <th>NN_50_um</th>\n",
       "      <th>NN_60_um</th>\n",
       "      <th>NN_70_um</th>\n",
       "      <th>NN_80_um</th>\n",
       "      <th>NN_90_um</th>\n",
       "      <th>NN_100_um</th>\n",
       "    </tr>\n",
       "  </thead>\n",
       "  <tbody>\n",
       "    <tr>\n",
       "      <th>0</th>\n",
       "      <td>721708.svs</td>\n",
       "      <td>Oligo</td>\n",
       "      <td>12022.2</td>\n",
       "      <td>8715.8</td>\n",
       "      <td>0.8575</td>\n",
       "      <td>13.1628</td>\n",
       "      <td>13.2907</td>\n",
       "      <td>0.9364</td>\n",
       "      <td>1.0</td>\n",
       "      <td>4.9150</td>\n",
       "      <td>...</td>\n",
       "      <td>1</td>\n",
       "      <td>1</td>\n",
       "      <td>2</td>\n",
       "      <td>7</td>\n",
       "      <td>10</td>\n",
       "      <td>15</td>\n",
       "      <td>22</td>\n",
       "      <td>30</td>\n",
       "      <td>37</td>\n",
       "      <td>50</td>\n",
       "    </tr>\n",
       "    <tr>\n",
       "      <th>1</th>\n",
       "      <td>721708.svs</td>\n",
       "      <td>Oligo</td>\n",
       "      <td>12029.8</td>\n",
       "      <td>8722.0</td>\n",
       "      <td>0.8796</td>\n",
       "      <td>15.2611</td>\n",
       "      <td>14.0081</td>\n",
       "      <td>0.9773</td>\n",
       "      <td>1.0</td>\n",
       "      <td>4.7992</td>\n",
       "      <td>...</td>\n",
       "      <td>1</td>\n",
       "      <td>1</td>\n",
       "      <td>1</td>\n",
       "      <td>4</td>\n",
       "      <td>10</td>\n",
       "      <td>17</td>\n",
       "      <td>24</td>\n",
       "      <td>34</td>\n",
       "      <td>38</td>\n",
       "      <td>49</td>\n",
       "    </tr>\n",
       "    <tr>\n",
       "      <th>2</th>\n",
       "      <td>721708.svs</td>\n",
       "      <td>Oligo</td>\n",
       "      <td>10048.5</td>\n",
       "      <td>9974.4</td>\n",
       "      <td>0.8670</td>\n",
       "      <td>16.7321</td>\n",
       "      <td>14.7662</td>\n",
       "      <td>0.9643</td>\n",
       "      <td>1.0</td>\n",
       "      <td>5.0758</td>\n",
       "      <td>...</td>\n",
       "      <td>1</td>\n",
       "      <td>3</td>\n",
       "      <td>5</td>\n",
       "      <td>7</td>\n",
       "      <td>11</td>\n",
       "      <td>14</td>\n",
       "      <td>25</td>\n",
       "      <td>35</td>\n",
       "      <td>52</td>\n",
       "      <td>65</td>\n",
       "    </tr>\n",
       "    <tr>\n",
       "      <th>3</th>\n",
       "      <td>721708.svs</td>\n",
       "      <td>Oligo</td>\n",
       "      <td>10029.8</td>\n",
       "      <td>9984.5</td>\n",
       "      <td>0.8827</td>\n",
       "      <td>18.6383</td>\n",
       "      <td>15.5263</td>\n",
       "      <td>0.9716</td>\n",
       "      <td>1.0</td>\n",
       "      <td>5.3159</td>\n",
       "      <td>...</td>\n",
       "      <td>1</td>\n",
       "      <td>1</td>\n",
       "      <td>4</td>\n",
       "      <td>6</td>\n",
       "      <td>9</td>\n",
       "      <td>17</td>\n",
       "      <td>26</td>\n",
       "      <td>36</td>\n",
       "      <td>47</td>\n",
       "      <td>63</td>\n",
       "    </tr>\n",
       "    <tr>\n",
       "      <th>4</th>\n",
       "      <td>721708.svs</td>\n",
       "      <td>Oligo</td>\n",
       "      <td>10031.0</td>\n",
       "      <td>9993.5</td>\n",
       "      <td>0.8682</td>\n",
       "      <td>21.4955</td>\n",
       "      <td>16.7517</td>\n",
       "      <td>0.9626</td>\n",
       "      <td>1.0</td>\n",
       "      <td>5.7030</td>\n",
       "      <td>...</td>\n",
       "      <td>1</td>\n",
       "      <td>1</td>\n",
       "      <td>4</td>\n",
       "      <td>6</td>\n",
       "      <td>11</td>\n",
       "      <td>18</td>\n",
       "      <td>24</td>\n",
       "      <td>35</td>\n",
       "      <td>49</td>\n",
       "      <td>64</td>\n",
       "    </tr>\n",
       "  </tbody>\n",
       "</table>\n",
       "<p>5 rows × 48 columns</p>\n",
       "</div>"
      ],
      "text/plain": [
       "        Image  Class  Centroid_X  Centroid_Y  Detection probability  \\\n",
       "0  721708.svs  Oligo     12022.2      8715.8                 0.8575   \n",
       "1  721708.svs  Oligo     12029.8      8722.0                 0.8796   \n",
       "2  721708.svs  Oligo     10048.5      9974.4                 0.8670   \n",
       "3  721708.svs  Oligo     10029.8      9984.5                 0.8827   \n",
       "4  721708.svs  Oligo     10031.0      9993.5                 0.8682   \n",
       "\n",
       "   Nucleus: Area µm^2  Nucleus: Length µm  Nucleus: Circularity  \\\n",
       "0             13.1628             13.2907                0.9364   \n",
       "1             15.2611             14.0081                0.9773   \n",
       "2             16.7321             14.7662                0.9643   \n",
       "3             18.6383             15.5263                0.9716   \n",
       "4             21.4955             16.7517                0.9626   \n",
       "\n",
       "   Nucleus: Solidity  Nucleus: Max diameter µm  ...  NN_10_um  NN_20_um  \\\n",
       "0                1.0                    4.9150  ...         1         1   \n",
       "1                1.0                    4.7992  ...         1         1   \n",
       "2                1.0                    5.0758  ...         1         3   \n",
       "3                1.0                    5.3159  ...         1         1   \n",
       "4                1.0                    5.7030  ...         1         1   \n",
       "\n",
       "   NN_30_um  NN_40_um  NN_50_um  NN_60_um  NN_70_um  NN_80_um  NN_90_um  \\\n",
       "0         2         7        10        15        22        30        37   \n",
       "1         1         4        10        17        24        34        38   \n",
       "2         5         7        11        14        25        35        52   \n",
       "3         4         6         9        17        26        36        47   \n",
       "4         4         6        11        18        24        35        49   \n",
       "\n",
       "   NN_100_um  \n",
       "0         50  \n",
       "1         49  \n",
       "2         65  \n",
       "3         63  \n",
       "4         64  \n",
       "\n",
       "[5 rows x 48 columns]"
      ]
     },
     "execution_count": 12,
     "metadata": {},
     "output_type": "execute_result"
    }
   ],
   "source": [
    "##Variables: labelled_orig, labelled_data \n",
    "#1) Put the slides together\n",
    "\n",
    "labelled_orig = pd.concat(cleaned_inputs)\n",
    "print(labelled_orig.shape)\n",
    "\n",
    "# 2) Extract relevant columns \n",
    "dat = labelled_orig.drop(columns=['Name','Parent','ROI', 'NN_110_um', 'NN_120_um', 'NN_130_um', 'NN_140_um', 'NN_150_um']) \n",
    "dat.head()\n"
   ]
  },
  {
   "attachments": {},
   "cell_type": "markdown",
   "metadata": {},
   "source": [
    "### Extracting relevant cell classes"
   ]
  },
  {
   "cell_type": "code",
   "execution_count": 13,
   "metadata": {},
   "outputs": [
    {
     "data": {
      "text/plain": [
       "oligo              783\n",
       "endo               289\n",
       "neuron             200\n",
       "astro              187\n",
       "ignore             142\n",
       "epi                 28\n",
       "fragmented          27\n",
       "ambiguous           22\n",
       "tuftedastrocyte     13\n",
       "tumor                2\n",
       "neuronaltau          1\n",
       "Name: Class, dtype: int64"
      ]
     },
     "execution_count": 13,
     "metadata": {},
     "output_type": "execute_result"
    }
   ],
   "source": [
    "# Make all class names lower case - easier for later selection\n",
    "\n",
    "dat_lower_class = [i.lower() for i in dat['Class']]\n",
    "dat2 = dat.copy()\n",
    "dat2.loc[:,'Class'] = dat_lower_class \n",
    "dat2['Class'].value_counts()"
   ]
  },
  {
   "cell_type": "code",
   "execution_count": 14,
   "metadata": {},
   "outputs": [
    {
     "data": {
      "text/plain": [
       "oligo         783\n",
       "endo          289\n",
       "neuron        200\n",
       "astro         187\n",
       "ignore        142\n",
       "fragmented     27\n",
       "Name: Class, dtype: int64"
      ]
     },
     "execution_count": 14,
     "metadata": {},
     "output_type": "execute_result"
    }
   ],
   "source": [
    "# Select only relevant cell classes (Using stardist_error instead of ignore_new)\n",
    "dat3 = dat2[(dat2['Class'] == 'oligo') | (dat2['Class'] == 'neuron')\n",
    "          | (dat2['Class'] == 'astro')| (dat2['Class'] == 'epithelial')\n",
    "          | (dat2['Class'] == 'ignore')| (dat2['Class'] == 'fragmented')| (dat2['Class'] == 'endo')]\n",
    "dat3=dat3.reset_index(drop=True)\n",
    "\n",
    "# Checking results\n",
    "dat3['Class'].value_counts()"
   ]
  },
  {
   "cell_type": "code",
   "execution_count": 15,
   "metadata": {},
   "outputs": [],
   "source": [
    "cell_code = {'neuron':'Neuron',\n",
    "             'oligo': 'Oligo',\n",
    "             'ignore': 'Others',\n",
    "             'astro':'Astro',\n",
    "             'epithelial':'Others',\n",
    "             'endo':'Others',\n",
    "             'fragmented':'Others'}"
   ]
  },
  {
   "cell_type": "code",
   "execution_count": 16,
   "metadata": {},
   "outputs": [],
   "source": [
    "# 3) Changing Epithelial to Endothelial\n",
    "classes = dat3['Class']\n",
    "formatted_classes = [cell_code[i]  for i in classes]\n",
    "data = dat3.copy()\n",
    "data.loc[:,'Class']=formatted_classes"
   ]
  },
  {
   "cell_type": "code",
   "execution_count": 17,
   "metadata": {},
   "outputs": [
    {
     "data": {
      "text/plain": [
       "Oligo     783\n",
       "Others    458\n",
       "Neuron    200\n",
       "Astro     187\n",
       "Name: Class, dtype: int64"
      ]
     },
     "execution_count": 17,
     "metadata": {},
     "output_type": "execute_result"
    }
   ],
   "source": [
    "\n",
    "data['Class'].value_counts()"
   ]
  },
  {
   "attachments": {},
   "cell_type": "markdown",
   "metadata": {},
   "source": [
    "# Training the model"
   ]
  },
  {
   "attachments": {},
   "cell_type": "markdown",
   "metadata": {},
   "source": [
    "### Checking for any NA in the data"
   ]
  },
  {
   "cell_type": "code",
   "execution_count": 18,
   "metadata": {},
   "outputs": [
    {
     "name": "stdout",
     "output_type": "stream",
     "text": [
      "Any NA in the data?:  False\n"
     ]
    }
   ],
   "source": [
    "#checking for NAN \n",
    "## NEW \n",
    "print(\"Any NA in the data?: \",data.isnull().sum().sum()==1)\n",
    "\n",
    "# dat = dat.dropna()\n",
    "# dat.isnull().sum().sum()"
   ]
  },
  {
   "cell_type": "code",
   "execution_count": 19,
   "metadata": {},
   "outputs": [
    {
     "name": "stdout",
     "output_type": "stream",
     "text": [
      "sampling:  20 %\n",
      "Fitting 10 folds for each of 100 candidates, totalling 1000 fits\n",
      "sampling:  40 %\n",
      "Fitting 10 folds for each of 100 candidates, totalling 1000 fits\n",
      "sampling:  60 %\n",
      "Fitting 10 folds for each of 100 candidates, totalling 1000 fits\n",
      "sampling:  80 %\n",
      "Fitting 10 folds for each of 100 candidates, totalling 1000 fits\n",
      "sampling:  100 %\n",
      "Fitting 10 folds for each of 100 candidates, totalling 1000 fits\n"
     ]
    }
   ],
   "source": [
    "total_ = [] \n",
    "mean_total = []\n",
    "all_ = [] \n",
    "\n",
    "\n",
    "sampling = list(range(20,120,20)) # 10% each time \n",
    "for i in sampling: \n",
    "    \n",
    "    # Randomly picking out cells at 10% increment each time\n",
    "    to_sample_from = data.copy() \n",
    "    dat_sampled= to_sample_from.groupby('Class',group_keys=False).apply(lambda x: x.sample(frac=(i/100),random_state=42))\n",
    "    print('sampling: ', i, '%')\n",
    "    X_train = dat_sampled.drop(columns=['Class','Image','Centroid_X','Centroid_Y'])\n",
    "    y_train = dat_sampled['Class']\n",
    "\n",
    "\n",
    "    # 3) Specify parameters for grid search \n",
    "    rf_random = RandomizedSearchCV(pipeline_cell,\n",
    "                             param_distributions=random_grid, \n",
    "                             n_iter=100,\n",
    "                             cv=10,\n",
    "                             verbose=2,\n",
    "                            random_state=42,\n",
    "                            n_jobs=-1,\n",
    "                            refit='PR_AUC', # use this metric to evaluate performance of parameters \n",
    "                            scoring={'PR_AUC':precision_recall_auc,\n",
    "                            'roc_auc_ovr_weighted':'roc_auc_ovr_weighted',\n",
    "                            'roc_auc_ovo':'roc_auc_ovo',\n",
    "                            'balanced_accuracy':'balanced_accuracy',\n",
    "                            'f1_weighted':'f1_weighted',\n",
    "                            'Astro_accuracy': astro_acc,\n",
    "                            'Neuron_accuracy':neuron_acc,\n",
    "                            'Oligo_accuracy':oligo_acc,\n",
    "                            'Others_accuracy':others_acc\n",
    "                            },\n",
    "                                  return_train_score=True)\n",
    "\n",
    "    # 4) Run grid search \n",
    "    rf_random.fit(X_train,y_train)\n",
    "\n",
    "    ## Appending data together \n",
    "    accuracies_10_fold = [] \n",
    "    for i in range(0,10): \n",
    "        x = rf_random.cv_results_['split'+str(i)+'_test_PR_AUC'][rf_random.best_index_]\n",
    "        accuracies_10_fold.append(x)\n",
    "\n",
    "    total_.append(accuracies_10_fold)\n",
    "    mean_total.append(mean(accuracies_10_fold))\n",
    "    all_.append(rf_random) "
   ]
  },
  {
   "attachments": {},
   "cell_type": "markdown",
   "metadata": {},
   "source": [
    "### Saving outputs"
   ]
  },
  {
   "cell_type": "code",
   "execution_count": 20,
   "metadata": {},
   "outputs": [
    {
     "data": {
      "text/plain": [
       "['bg_all.sav']"
      ]
     },
     "execution_count": 20,
     "metadata": {},
     "output_type": "execute_result"
    }
   ],
   "source": [
    "joblib.dump(total_,\"bg_total_.sav\")\n",
    "joblib.dump(mean_total,\"bg_mean_total.sav\")\n",
    "joblib.dump(all_,\"bg_all.sav\")"
   ]
  },
  {
   "attachments": {},
   "cell_type": "markdown",
   "metadata": {},
   "source": [
    "### Inspecting outputs"
   ]
  },
  {
   "cell_type": "code",
   "execution_count": 21,
   "metadata": {},
   "outputs": [
    {
     "name": "stdout",
     "output_type": "stream",
     "text": [
      "[0.870478240940758, 0.8412233377366123, 0.8435411460176162, 0.8433666672819229, 0.8441296407082192]\n"
     ]
    }
   ],
   "source": [
    "#Extract best params per sampling point (from 20% to 100%, 20% step)\n",
    "best_params = []\n",
    "best_scores = []\n",
    "for i in range(0,5):\n",
    "    best_params.append(all_[i].best_params_)\n",
    "    best_scores.append(all_[i].best_score_)\n",
    "print(best_scores)"
   ]
  },
  {
   "cell_type": "code",
   "execution_count": 22,
   "metadata": {},
   "outputs": [],
   "source": [
    "folder_path = \"C:/Users/mokur/OneDrive - University of Cambridge/Attachments/Jan2023/Cell_pipeline/Sample_size_check/BG/\""
   ]
  },
  {
   "attachments": {},
   "cell_type": "markdown",
   "metadata": {},
   "source": [
    "Fit times"
   ]
  },
  {
   "cell_type": "code",
   "execution_count": 23,
   "metadata": {},
   "outputs": [],
   "source": [
    "## get fit times (mean & sd)\n",
    "m_fit_times = []\n",
    "std_fit_times= [] \n",
    "for i in range(0,5):\n",
    "    m_fit_times.append(all_[i].cv_results_['mean_fit_time'])\n",
    "    std_fit_times.append(all_[i].cv_results_['std_fit_time'])"
   ]
  },
  {
   "cell_type": "code",
   "execution_count": 24,
   "metadata": {},
   "outputs": [],
   "source": [
    "## Calculate confidence interval: fit times \n",
    "\n",
    "mean_m_fit_times = [np.mean(i) for i in m_fit_times]\n",
    "\n",
    "fit_total_CI = [st.t.interval(confidence=0.95, df=len(i)-1,\n",
    "                                      loc=np.mean(i), scale=st.sem(i)) for i in m_fit_times]\n",
    "fit_lower_ci = [i[0] for i in fit_total_CI]\n",
    "fit_upper_ci = [i[1] for i in fit_total_CI]\n",
    "cells = [int(i/100*data.shape[0]) for i in sampling]\n",
    "fit_times_rbf = pd.DataFrame({'mean':mean_m_fit_times,\n",
    "                           'lower_ci':fit_lower_ci,\n",
    "                            'upper_ci':fit_upper_ci,\n",
    "                           'cells':cells})"
   ]
  },
  {
   "cell_type": "code",
   "execution_count": 25,
   "metadata": {},
   "outputs": [
    {
     "data": {
      "text/html": [
       "<div>\n",
       "<style scoped>\n",
       "    .dataframe tbody tr th:only-of-type {\n",
       "        vertical-align: middle;\n",
       "    }\n",
       "\n",
       "    .dataframe tbody tr th {\n",
       "        vertical-align: top;\n",
       "    }\n",
       "\n",
       "    .dataframe thead th {\n",
       "        text-align: right;\n",
       "    }\n",
       "</style>\n",
       "<table border=\"1\" class=\"dataframe\">\n",
       "  <thead>\n",
       "    <tr style=\"text-align: right;\">\n",
       "      <th></th>\n",
       "      <th>mean</th>\n",
       "      <th>lower_ci</th>\n",
       "      <th>upper_ci</th>\n",
       "      <th>cells</th>\n",
       "    </tr>\n",
       "  </thead>\n",
       "  <tbody>\n",
       "    <tr>\n",
       "      <th>0</th>\n",
       "      <td>6.744967</td>\n",
       "      <td>6.195039</td>\n",
       "      <td>7.294894</td>\n",
       "      <td>325</td>\n",
       "    </tr>\n",
       "    <tr>\n",
       "      <th>1</th>\n",
       "      <td>8.473101</td>\n",
       "      <td>7.757295</td>\n",
       "      <td>9.188908</td>\n",
       "      <td>651</td>\n",
       "    </tr>\n",
       "    <tr>\n",
       "      <th>2</th>\n",
       "      <td>10.616647</td>\n",
       "      <td>9.674794</td>\n",
       "      <td>11.558500</td>\n",
       "      <td>976</td>\n",
       "    </tr>\n",
       "    <tr>\n",
       "      <th>3</th>\n",
       "      <td>12.895666</td>\n",
       "      <td>11.719815</td>\n",
       "      <td>14.071517</td>\n",
       "      <td>1302</td>\n",
       "    </tr>\n",
       "    <tr>\n",
       "      <th>4</th>\n",
       "      <td>15.505150</td>\n",
       "      <td>14.055939</td>\n",
       "      <td>16.954361</td>\n",
       "      <td>1628</td>\n",
       "    </tr>\n",
       "  </tbody>\n",
       "</table>\n",
       "</div>"
      ],
      "text/plain": [
       "        mean   lower_ci   upper_ci  cells\n",
       "0   6.744967   6.195039   7.294894    325\n",
       "1   8.473101   7.757295   9.188908    651\n",
       "2  10.616647   9.674794  11.558500    976\n",
       "3  12.895666  11.719815  14.071517   1302\n",
       "4  15.505150  14.055939  16.954361   1628"
      ]
     },
     "execution_count": 25,
     "metadata": {},
     "output_type": "execute_result"
    }
   ],
   "source": [
    "fit_times_rbf"
   ]
  },
  {
   "cell_type": "code",
   "execution_count": 26,
   "metadata": {},
   "outputs": [
    {
     "data": {
      "image/png": "[encoded data removed]",
      "text/plain": [
       "<Figure size 640x480 with 1 Axes>"
      ]
     },
     "metadata": {},
     "output_type": "display_data"
    }
   ],
   "source": [
    "fig, ax=plt.subplots()\n",
    "\n",
    "ax.plot(fit_times_rbf['cells'],fit_times_rbf['mean'],marker='o',markerfacecolor='purple',linestyle='dashed',color='red')\n",
    "ax.fill_between(fit_times_rbf['cells'],fit_times_rbf['lower_ci'],fit_times_rbf['upper_ci'],color='red',alpha=.1)\n",
    "\n",
    "\n",
    "plt.xlabel('Number of training examples')\n",
    "plt.ylabel('Mean fit times')\n",
    "plt.title('Scalability of the model')\n",
    "\n",
    "path = folder_path+\"fittimes_curve.jpg\"\n",
    "plt.savefig(path)"
   ]
  },
  {
   "attachments": {},
   "cell_type": "markdown",
   "metadata": {},
   "source": [
    "Balanced accuracy"
   ]
  },
  {
   "cell_type": "code",
   "execution_count": 27,
   "metadata": {},
   "outputs": [],
   "source": [
    "samp_test_acc = [] \n",
    "samp_train_acc = []\n",
    "for i in range(0,5):  \n",
    "    test_acc=[]\n",
    "    train_acc=[]\n",
    "    for r in range(0,5):\n",
    "        test_acc.append(all_[i].cv_results_['split'+str(r)+'_test_balanced_accuracy'][all_[i].best_index_]*100)\n",
    "        train_acc.append(all_[i].cv_results_['split'+str(r)+'_train_balanced_accuracy'][all_[i].best_index_]*100)\n",
    "    samp_test_acc.append(test_acc)\n",
    "    samp_train_acc.append(train_acc)\n",
    "    "
   ]
  },
  {
   "cell_type": "code",
   "execution_count": 28,
   "metadata": {},
   "outputs": [],
   "source": [
    "# Rbf-SVM: Validation - calculate confidence interval (training balanced accuracy)\n",
    "\n",
    "v_scaled_mean = [np.mean(i) for i in samp_train_acc]\n",
    "\n",
    "v_total_CI = [st.t.interval(confidence=0.95,\n",
    "                            df=len(i)-1,\n",
    "                            loc=np.mean(i),\n",
    "                            scale=st.sem(i)) for i in samp_train_acc]\n",
    "v_lower_ci = [i[0] for i in v_total_CI]\n",
    "v_upper_ci = [i[1] for i in v_total_CI]\n",
    "cells = [int(i/100*data.shape[0]) for i in sampling]\n",
    "train_rbf = pd.DataFrame({'mean':v_scaled_mean,\n",
    "                           'lower_ci':v_lower_ci,\n",
    "                            'upper_ci':v_upper_ci,\n",
    "                           'cells':cells})"
   ]
  },
  {
   "cell_type": "code",
   "execution_count": 29,
   "metadata": {},
   "outputs": [
    {
     "data": {
      "text/html": [
       "<div>\n",
       "<style scoped>\n",
       "    .dataframe tbody tr th:only-of-type {\n",
       "        vertical-align: middle;\n",
       "    }\n",
       "\n",
       "    .dataframe tbody tr th {\n",
       "        vertical-align: top;\n",
       "    }\n",
       "\n",
       "    .dataframe thead th {\n",
       "        text-align: right;\n",
       "    }\n",
       "</style>\n",
       "<table border=\"1\" class=\"dataframe\">\n",
       "  <thead>\n",
       "    <tr style=\"text-align: right;\">\n",
       "      <th></th>\n",
       "      <th>mean</th>\n",
       "      <th>lower_ci</th>\n",
       "      <th>upper_ci</th>\n",
       "      <th>cells</th>\n",
       "    </tr>\n",
       "  </thead>\n",
       "  <tbody>\n",
       "    <tr>\n",
       "      <th>0</th>\n",
       "      <td>92.811130</td>\n",
       "      <td>92.384392</td>\n",
       "      <td>93.237869</td>\n",
       "      <td>325</td>\n",
       "    </tr>\n",
       "    <tr>\n",
       "      <th>1</th>\n",
       "      <td>85.812861</td>\n",
       "      <td>84.981026</td>\n",
       "      <td>86.644697</td>\n",
       "      <td>651</td>\n",
       "    </tr>\n",
       "    <tr>\n",
       "      <th>2</th>\n",
       "      <td>94.694883</td>\n",
       "      <td>94.067338</td>\n",
       "      <td>95.322427</td>\n",
       "      <td>976</td>\n",
       "    </tr>\n",
       "    <tr>\n",
       "      <th>3</th>\n",
       "      <td>94.848928</td>\n",
       "      <td>94.380871</td>\n",
       "      <td>95.316986</td>\n",
       "      <td>1302</td>\n",
       "    </tr>\n",
       "    <tr>\n",
       "      <th>4</th>\n",
       "      <td>94.254952</td>\n",
       "      <td>94.095928</td>\n",
       "      <td>94.413975</td>\n",
       "      <td>1628</td>\n",
       "    </tr>\n",
       "  </tbody>\n",
       "</table>\n",
       "</div>"
      ],
      "text/plain": [
       "        mean   lower_ci   upper_ci  cells\n",
       "0  92.811130  92.384392  93.237869    325\n",
       "1  85.812861  84.981026  86.644697    651\n",
       "2  94.694883  94.067338  95.322427    976\n",
       "3  94.848928  94.380871  95.316986   1302\n",
       "4  94.254952  94.095928  94.413975   1628"
      ]
     },
     "execution_count": 29,
     "metadata": {},
     "output_type": "execute_result"
    }
   ],
   "source": [
    "train_rbf"
   ]
  },
  {
   "cell_type": "code",
   "execution_count": 30,
   "metadata": {},
   "outputs": [],
   "source": [
    "# Rbf-SVM: Validation - calculate confidence interval \n",
    "\n",
    "v_scaled_mean = [np.mean(i) for i in samp_test_acc]\n",
    "\n",
    "v_total_CI = [st.t.interval(confidence=0.95,\n",
    "                            df=len(i)-1,\n",
    "                            loc=np.mean(i),\n",
    "                            scale=st.sem(i)) for i in samp_test_acc]\n",
    "v_lower_ci = [i[0] for i in v_total_CI]\n",
    "v_upper_ci = [i[1] for i in v_total_CI]\n",
    "cells = [int(i/100*data.shape[0]) for i in sampling]\n",
    "validation_rbf = pd.DataFrame({'mean':v_scaled_mean,\n",
    "                           'lower_ci':v_lower_ci,\n",
    "                            'upper_ci':v_upper_ci,\n",
    "                           'cells':cells})"
   ]
  },
  {
   "cell_type": "code",
   "execution_count": 31,
   "metadata": {},
   "outputs": [
    {
     "data": {
      "text/html": [
       "<div>\n",
       "<style scoped>\n",
       "    .dataframe tbody tr th:only-of-type {\n",
       "        vertical-align: middle;\n",
       "    }\n",
       "\n",
       "    .dataframe tbody tr th {\n",
       "        vertical-align: top;\n",
       "    }\n",
       "\n",
       "    .dataframe thead th {\n",
       "        text-align: right;\n",
       "    }\n",
       "</style>\n",
       "<table border=\"1\" class=\"dataframe\">\n",
       "  <thead>\n",
       "    <tr style=\"text-align: right;\">\n",
       "      <th></th>\n",
       "      <th>mean</th>\n",
       "      <th>lower_ci</th>\n",
       "      <th>upper_ci</th>\n",
       "      <th>cells</th>\n",
       "    </tr>\n",
       "  </thead>\n",
       "  <tbody>\n",
       "    <tr>\n",
       "      <th>0</th>\n",
       "      <td>79.368056</td>\n",
       "      <td>68.622045</td>\n",
       "      <td>90.114066</td>\n",
       "      <td>325</td>\n",
       "    </tr>\n",
       "    <tr>\n",
       "      <th>1</th>\n",
       "      <td>77.604461</td>\n",
       "      <td>72.992079</td>\n",
       "      <td>82.216844</td>\n",
       "      <td>651</td>\n",
       "    </tr>\n",
       "    <tr>\n",
       "      <th>2</th>\n",
       "      <td>78.006189</td>\n",
       "      <td>71.739206</td>\n",
       "      <td>84.273172</td>\n",
       "      <td>976</td>\n",
       "    </tr>\n",
       "    <tr>\n",
       "      <th>3</th>\n",
       "      <td>79.174496</td>\n",
       "      <td>72.908068</td>\n",
       "      <td>85.440924</td>\n",
       "      <td>1302</td>\n",
       "    </tr>\n",
       "    <tr>\n",
       "      <th>4</th>\n",
       "      <td>78.081016</td>\n",
       "      <td>74.134999</td>\n",
       "      <td>82.027032</td>\n",
       "      <td>1628</td>\n",
       "    </tr>\n",
       "  </tbody>\n",
       "</table>\n",
       "</div>"
      ],
      "text/plain": [
       "        mean   lower_ci   upper_ci  cells\n",
       "0  79.368056  68.622045  90.114066    325\n",
       "1  77.604461  72.992079  82.216844    651\n",
       "2  78.006189  71.739206  84.273172    976\n",
       "3  79.174496  72.908068  85.440924   1302\n",
       "4  78.081016  74.134999  82.027032   1628"
      ]
     },
     "execution_count": 31,
     "metadata": {},
     "output_type": "execute_result"
    }
   ],
   "source": [
    "validation_rbf"
   ]
  },
  {
   "cell_type": "code",
   "execution_count": 32,
   "metadata": {},
   "outputs": [
    {
     "data": {
      "image/png": "[encoded data removed]",
      "text/plain": [
       "<Figure size 640x480 with 1 Axes>"
      ]
     },
     "metadata": {},
     "output_type": "display_data"
    }
   ],
   "source": [
    "fig, ax=plt.subplots()\n",
    "ax.plot(validation_rbf['cells'],validation_rbf['mean'],marker='o',markerfacecolor='blue',linestyle='dashed',color='green')\n",
    "ax.fill_between(validation_rbf['cells'],validation_rbf['lower_ci'],validation_rbf['upper_ci'],color='b',alpha=.1)\n",
    "\n",
    "plt.xlabel('Number of training examples')\n",
    "plt.ylabel('Balanced accuracy %')\n",
    "plt.title('Validation curve')\n",
    "plt.ylim([50,100])\n",
    "\n",
    "path = folder_path+\"validation_curve_BA.jpg\"\n",
    "plt.savefig(path)"
   ]
  },
  {
   "cell_type": "code",
   "execution_count": 33,
   "metadata": {},
   "outputs": [
    {
     "data": {
      "image/png": "[encoded data removed]",
      "text/plain": [
       "<Figure size 640x480 with 1 Axes>"
      ]
     },
     "metadata": {},
     "output_type": "display_data"
    }
   ],
   "source": [
    "fig, ax=plt.subplots()\n",
    "\n",
    "ax.plot(train_rbf['cells'],train_rbf['mean'],marker='o',markerfacecolor='purple',linestyle='dashed',color='red')\n",
    "ax.fill_between(train_rbf['cells'],train_rbf['lower_ci'],train_rbf['upper_ci'],color='red',alpha=.1)\n",
    "\n",
    "ax.plot(validation_rbf['cells'],validation_rbf['mean'],marker='o',markerfacecolor='blue',linestyle='dashed',color='green')\n",
    "ax.fill_between(validation_rbf['cells'],validation_rbf['lower_ci'],validation_rbf['upper_ci'],color='b',alpha=.1)\n",
    "\n",
    "plt.xlabel('Number of training examples')\n",
    "plt.ylabel('Balanced accuracy (%)')\n",
    "plt.title('Learning curves')\n",
    "plt.legend([\"Training score\",\"95% CI\",\"Validation score\",\"95% CI\"],bbox_to_anchor=(1.5,0.4))\n",
    "plt.ylim([50,100])\n",
    "\n",
    "path = folder_path + \"learning_curves_BA.jpg\"\n",
    "plt.savefig(path)"
   ]
  },
  {
   "attachments": {},
   "cell_type": "markdown",
   "metadata": {},
   "source": [
    "PR AUC"
   ]
  },
  {
   "cell_type": "code",
   "execution_count": 34,
   "metadata": {},
   "outputs": [],
   "source": [
    "## Get train accuracies \n",
    "total_train =[] \n",
    "for s in range(0,5): # looping through sampling points \n",
    "    samp = all_[s]\n",
    "    train_accuracies = [] \n",
    "    for i in range(0,10): # looping through 10 folds\n",
    "        t = samp.cv_results_['split'+str(i)+'_train_PR_AUC'][samp.best_index_]*100\n",
    "        train_accuracies.append(t)\n",
    "    total_train.append(train_accuracies)\n",
    "        "
   ]
  },
  {
   "cell_type": "code",
   "execution_count": 35,
   "metadata": {},
   "outputs": [],
   "source": [
    "## Training - calculate confidence interval \n",
    "t_scaled_mean = [np.mean(i) for i in total_train]\n",
    "\n",
    "t_total_CI = [st.t.interval(confidence=0.95, df=len(i)-1, loc=np.mean(i), scale=st.sem(i)) for i in total_train]\n",
    "\n",
    "t_lower_ci = [i[0] for i in t_total_CI]\n",
    "t_upper_ci = [i[1] for i in t_total_CI]\n",
    "cells = [int(i/100*data.shape[0]) for i in sampling]\n",
    "train_rbf_PR = pd.DataFrame({'mean':t_scaled_mean,\n",
    "                           'lower_ci':t_lower_ci,\n",
    "                            'upper_ci':t_upper_ci,\n",
    "                           'cells':cells})"
   ]
  },
  {
   "cell_type": "code",
   "execution_count": 36,
   "metadata": {},
   "outputs": [
    {
     "data": {
      "text/html": [
       "<div>\n",
       "<style scoped>\n",
       "    .dataframe tbody tr th:only-of-type {\n",
       "        vertical-align: middle;\n",
       "    }\n",
       "\n",
       "    .dataframe tbody tr th {\n",
       "        vertical-align: top;\n",
       "    }\n",
       "\n",
       "    .dataframe thead th {\n",
       "        text-align: right;\n",
       "    }\n",
       "</style>\n",
       "<table border=\"1\" class=\"dataframe\">\n",
       "  <thead>\n",
       "    <tr style=\"text-align: right;\">\n",
       "      <th></th>\n",
       "      <th>mean</th>\n",
       "      <th>lower_ci</th>\n",
       "      <th>upper_ci</th>\n",
       "      <th>cells</th>\n",
       "    </tr>\n",
       "  </thead>\n",
       "  <tbody>\n",
       "    <tr>\n",
       "      <th>0</th>\n",
       "      <td>99.426172</td>\n",
       "      <td>99.382317</td>\n",
       "      <td>99.470027</td>\n",
       "      <td>325</td>\n",
       "    </tr>\n",
       "    <tr>\n",
       "      <th>1</th>\n",
       "      <td>94.808053</td>\n",
       "      <td>94.563216</td>\n",
       "      <td>95.052890</td>\n",
       "      <td>651</td>\n",
       "    </tr>\n",
       "    <tr>\n",
       "      <th>2</th>\n",
       "      <td>99.608757</td>\n",
       "      <td>99.557629</td>\n",
       "      <td>99.659885</td>\n",
       "      <td>976</td>\n",
       "    </tr>\n",
       "    <tr>\n",
       "      <th>3</th>\n",
       "      <td>99.675493</td>\n",
       "      <td>99.645964</td>\n",
       "      <td>99.705022</td>\n",
       "      <td>1302</td>\n",
       "    </tr>\n",
       "    <tr>\n",
       "      <th>4</th>\n",
       "      <td>99.450372</td>\n",
       "      <td>99.415269</td>\n",
       "      <td>99.485476</td>\n",
       "      <td>1628</td>\n",
       "    </tr>\n",
       "  </tbody>\n",
       "</table>\n",
       "</div>"
      ],
      "text/plain": [
       "        mean   lower_ci   upper_ci  cells\n",
       "0  99.426172  99.382317  99.470027    325\n",
       "1  94.808053  94.563216  95.052890    651\n",
       "2  99.608757  99.557629  99.659885    976\n",
       "3  99.675493  99.645964  99.705022   1302\n",
       "4  99.450372  99.415269  99.485476   1628"
      ]
     },
     "execution_count": 36,
     "metadata": {},
     "output_type": "execute_result"
    }
   ],
   "source": [
    "train_rbf_PR"
   ]
  },
  {
   "cell_type": "code",
   "execution_count": 37,
   "metadata": {},
   "outputs": [],
   "source": [
    "# Rbf-SVM: Validation - calculate confidence interval \n",
    "\n",
    "v_scaled_total = [] \n",
    "for t in total_: \n",
    "    s=[]\n",
    "    for i in t: \n",
    "        i_=i *100\n",
    "        s.append(i_)\n",
    "    v_scaled_total.append(s) \n",
    "    \n",
    "v_scaled_mean = [np.mean(i) for i in v_scaled_total]\n",
    "\n",
    "v_total_CI = [st.t.interval(confidence=0.95,\n",
    "                            df=len(i)-1,\n",
    "                            loc=np.mean(i),\n",
    "                            scale=st.sem(i)) for i in v_scaled_total]\n",
    "v_lower_ci = [i[0] for i in v_total_CI]\n",
    "v_upper_ci = [i[1] for i in v_total_CI]\n",
    "cells = [int(i/100*data.shape[0]) for i in sampling]\n",
    "validation_rbf_PR = pd.DataFrame({'mean':v_scaled_mean,\n",
    "                           'lower_ci':v_lower_ci,\n",
    "                            'upper_ci':v_upper_ci,\n",
    "                           'cells':cells})"
   ]
  },
  {
   "cell_type": "code",
   "execution_count": 38,
   "metadata": {},
   "outputs": [
    {
     "data": {
      "text/html": [
       "<div>\n",
       "<style scoped>\n",
       "    .dataframe tbody tr th:only-of-type {\n",
       "        vertical-align: middle;\n",
       "    }\n",
       "\n",
       "    .dataframe tbody tr th {\n",
       "        vertical-align: top;\n",
       "    }\n",
       "\n",
       "    .dataframe thead th {\n",
       "        text-align: right;\n",
       "    }\n",
       "</style>\n",
       "<table border=\"1\" class=\"dataframe\">\n",
       "  <thead>\n",
       "    <tr style=\"text-align: right;\">\n",
       "      <th></th>\n",
       "      <th>mean</th>\n",
       "      <th>lower_ci</th>\n",
       "      <th>upper_ci</th>\n",
       "      <th>cells</th>\n",
       "    </tr>\n",
       "  </thead>\n",
       "  <tbody>\n",
       "    <tr>\n",
       "      <th>0</th>\n",
       "      <td>87.047824</td>\n",
       "      <td>82.746079</td>\n",
       "      <td>91.349570</td>\n",
       "      <td>325</td>\n",
       "    </tr>\n",
       "    <tr>\n",
       "      <th>1</th>\n",
       "      <td>84.122334</td>\n",
       "      <td>78.716936</td>\n",
       "      <td>89.527732</td>\n",
       "      <td>651</td>\n",
       "    </tr>\n",
       "    <tr>\n",
       "      <th>2</th>\n",
       "      <td>84.354115</td>\n",
       "      <td>80.914359</td>\n",
       "      <td>87.793871</td>\n",
       "      <td>976</td>\n",
       "    </tr>\n",
       "    <tr>\n",
       "      <th>3</th>\n",
       "      <td>84.336667</td>\n",
       "      <td>81.513787</td>\n",
       "      <td>87.159547</td>\n",
       "      <td>1302</td>\n",
       "    </tr>\n",
       "    <tr>\n",
       "      <th>4</th>\n",
       "      <td>84.412964</td>\n",
       "      <td>81.438358</td>\n",
       "      <td>87.387570</td>\n",
       "      <td>1628</td>\n",
       "    </tr>\n",
       "  </tbody>\n",
       "</table>\n",
       "</div>"
      ],
      "text/plain": [
       "        mean   lower_ci   upper_ci  cells\n",
       "0  87.047824  82.746079  91.349570    325\n",
       "1  84.122334  78.716936  89.527732    651\n",
       "2  84.354115  80.914359  87.793871    976\n",
       "3  84.336667  81.513787  87.159547   1302\n",
       "4  84.412964  81.438358  87.387570   1628"
      ]
     },
     "execution_count": 38,
     "metadata": {},
     "output_type": "execute_result"
    }
   ],
   "source": [
    "validation_rbf_PR"
   ]
  },
  {
   "cell_type": "code",
   "execution_count": 39,
   "metadata": {},
   "outputs": [
    {
     "data": {
      "image/png": "[encoded data removed]",
      "text/plain": [
       "<Figure size 640x480 with 1 Axes>"
      ]
     },
     "metadata": {},
     "output_type": "display_data"
    }
   ],
   "source": [
    "fig, ax=plt.subplots()\n",
    "ax.plot(validation_rbf_PR['cells'],\n",
    "        validation_rbf_PR['mean'],\n",
    "        marker='o',markerfacecolor='blue',linestyle='dashed',color='green')\n",
    "ax.fill_between(validation_rbf_PR['cells'],\n",
    "                validation_rbf_PR['lower_ci'],\n",
    "                validation_rbf_PR['upper_ci'],\n",
    "                color='b',alpha=.1)\n",
    "\n",
    "plt.xlabel('Number of training examples')\n",
    "plt.ylabel('PR AUC')\n",
    "plt.title('Validation curve')\n",
    "plt.ylim([50,100])\n",
    "path = folder_path + \"validation_curve_PRAUC.jpg\"\n",
    "plt.savefig(path)"
   ]
  },
  {
   "cell_type": "code",
   "execution_count": 40,
   "metadata": {},
   "outputs": [
    {
     "data": {
      "image/png": "[encoded data removed]",
      "text/plain": [
       "<Figure size 640x480 with 1 Axes>"
      ]
     },
     "metadata": {},
     "output_type": "display_data"
    }
   ],
   "source": [
    "fig, ax=plt.subplots()\n",
    "\n",
    "ax.plot(train_rbf_PR['cells'],\n",
    "        train_rbf_PR['mean'],\n",
    "        marker='o',markerfacecolor='purple',linestyle='dashed',color='red')\n",
    "ax.fill_between(train_rbf_PR['cells'],\n",
    "                train_rbf_PR['lower_ci'],\n",
    "                train_rbf_PR['upper_ci'],\n",
    "                color='red',alpha=.1)\n",
    "\n",
    "ax.plot(validation_rbf_PR['cells'],\n",
    "        validation_rbf_PR['mean'],\n",
    "        marker='o',markerfacecolor='blue',linestyle='dashed',color='green')\n",
    "ax.fill_between(validation_rbf_PR['cells'],\n",
    "                validation_rbf_PR['lower_ci'],\n",
    "                validation_rbf_PR['upper_ci'],\n",
    "                color='b',alpha=.1)\n",
    "\n",
    "plt.xlabel('Number of training samples')\n",
    "plt.ylabel('PR AUC')\n",
    "plt.title('Learning curves')\n",
    "plt.legend([\"Training score\",\"95% CI\",\"Validation score\",\"95% CI\"],bbox_to_anchor=(1.5,0.4))\n",
    "plt.ylim([50,100])\n",
    "\n",
    "path = folder_path + \"learning_curves_PRAUC.jpg\"\n",
    "plt.savefig(path)"
   ]
  }
 ],
 "metadata": {
  "kernelspec": {
   "display_name": "Python 3",
   "language": "python",
   "name": "python3"
  },
  "language_info": {
   "codemirror_mode": {
    "name": "ipython",
    "version": 3
   },
   "file_extension": ".py",
   "mimetype": "text/x-python",
   "name": "python",
   "nbconvert_exporter": "python",
   "pygments_lexer": "ipython3",
   "version": "3.8.16"
  },
  "vscode": {
   "interpreter": {
    "hash": "f6d2454d879cd4646d4a63709cef4295c623bc84b10d08f17db96bd3d790e764"
   }
  }
 },
 "nbformat": 4,
 "nbformat_minor": 2
}
