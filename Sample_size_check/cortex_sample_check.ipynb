{
 "cells": [
  {
   "attachments": {},
   "cell_type": "markdown",
   "metadata": {},
   "source": [
    "### Tuning hyper-paremter of cortical cell classifier"
   ]
  },
  {
   "cell_type": "code",
   "execution_count": 1,
   "metadata": {},
   "outputs": [],
   "source": [
    "# Importing libraries\n",
    "import sys\n",
    "sys.path.insert(0,\n",
    "                '/Users/mokur/OneDrive - University of Cambridge/Attachments/Jan2023/Cell_pipeline/Tuning_parameters/')\n",
    "\n",
    "from constants import * \n",
    "from base import *\n",
    "from custom_metrics import *\n",
    "from tuning_cv import *"
   ]
  },
  {
   "cell_type": "code",
   "execution_count": 24,
   "metadata": {},
   "outputs": [],
   "source": [
    "## Importing libraries \n",
    "import pandas as pd\n",
    "import numpy as np \n",
    "import random \n",
    "\n",
    "from sklearn import preprocessing \n",
    "\n",
    "from sklearn.pipeline import Pipeline\n",
    "from sklearn.preprocessing import MinMaxScaler\n",
    "from sklearn.ensemble import RandomForestClassifier\n",
    "from imblearn.ensemble import BalancedRandomForestClassifier\n",
    "from sklearn.model_selection import RandomizedSearchCV\n",
    "from sklearn.metrics import ConfusionMatrixDisplay\n",
    "import matplotlib.pyplot as plt\n",
    "import joblib\n",
    "import scipy.stats as st "
   ]
  },
  {
   "attachments": {},
   "cell_type": "markdown",
   "metadata": {},
   "source": [
    "### Importing data "
   ]
  },
  {
   "cell_type": "code",
   "execution_count": 3,
   "metadata": {},
   "outputs": [],
   "source": [
    "# Annotated cells \n",
    "cell_path = \"/Users/mokur/OneDrive - University of Cambridge/Attachments/Jan2023/Cell_pipeline/Training_data/Cortex/cells/\"\n",
    "cell_training = \"training.txt\"\n",
    "\n",
    "# NNB information of all cells on slide\n",
    "nnb_path = \"/Users/mokur/OneDrive - University of Cambridge/Attachments/Jan2023/Cell_pipeline/Training_data/Cortex/NNB/\"\n",
    "nnb_training = \"training_NNB.txt\"\n",
    "\n",
    "# hema nucleus of all cells on slide\n",
    "hema_path = \"/Users/mokur/OneDrive - University of Cambridge/Attachments/Jan2023/Cell_pipeline/Training_data/Cortex/hema/\"\n",
    "hema_training = \"training_hema.txt\""
   ]
  },
  {
   "attachments": {},
   "cell_type": "markdown",
   "metadata": {},
   "source": [
    "Require: \n",
    "1. input_files.txt - to contian filenames I want to use. ** currently .csv files"
   ]
  },
  {
   "cell_type": "code",
   "execution_count": 4,
   "metadata": {},
   "outputs": [
    {
     "name": "stdout",
     "output_type": "stream",
     "text": [
      "Read in:  12 files\n",
      "Extracted: 12 files\n"
     ]
    }
   ],
   "source": [
    "# Importing annotated cells \n",
    "\n",
    "# obtaining list of files \n",
    "with open(cell_path + cell_training) as f: \n",
    "    mylist= f.read().splitlines()\n",
    "    \n",
    "print(\"Read in: \",len(mylist),\"files\")\n",
    "\n",
    "# reading in all those files \n",
    "inputs = [] \n",
    "for i in mylist: \n",
    "    dat_ = pd.read_csv(cell_path + i,sep=\",\")\n",
    "    dat_.columns.values[5] = 'Centroid_X'\n",
    "    dat_.columns.values[6] = 'Centroid_Y'\n",
    "    dat = dat_[cell_extracted_features] # fixed extracted feature order\n",
    "    inputs.append(dat)\n",
    "print(\"Extracted:\", len(inputs),\"files\")\n"
   ]
  },
  {
   "cell_type": "code",
   "execution_count": 5,
   "metadata": {},
   "outputs": [
    {
     "name": "stdout",
     "output_type": "stream",
     "text": [
      "Read in: 12  NUMBER OF neighbouring cells files\n",
      "Extracted: 12 files\n",
      "no. of columns / NB file: [13, 13, 13, 13, 13, 13, 13, 13, 13, 13, 13, 13]\n"
     ]
    }
   ],
   "source": [
    "# Importing in neghbouring cells info (numbers)\n",
    "\n",
    "with open(nnb_path + nnb_training) as f: \n",
    "    nb_mylist= f.read().splitlines()\n",
    "    \n",
    "print(\"Read in:\",len(nb_mylist),\" NUMBER OF neighbouring cells files\")\n",
    "\n",
    "# reading in all those files \n",
    "nb_inputs = []\n",
    "nb_columns = [] \n",
    "for i in nb_mylist: \n",
    "    dat = pd.read_csv(nnb_path +i,sep=\",\")\n",
    "    dat.columns.values[0] = 'X'\n",
    "    dat.columns.values[1] = 'Y'\n",
    "    nb_inputs.append(dat)\n",
    "    nb_columns.append(dat.shape[1])\n",
    "    \n",
    "print(\"Extracted:\", len(nb_inputs),\"files\")\n",
    "print('no. of columns / NB file:', nb_columns)"
   ]
  },
  {
   "cell_type": "code",
   "execution_count": 6,
   "metadata": {},
   "outputs": [
    {
     "name": "stdout",
     "output_type": "stream",
     "text": [
      "Read in: 12 hema files\n",
      "Extracted: 12 hema files\n"
     ]
    }
   ],
   "source": [
    "#  Importing hema nucleus mean of all detected cells & location coordinates \n",
    "# Variables: hema_mylist, hema_inputs \n",
    "\n",
    "## obtaining list of files \n",
    "with open(hema_path + hema_training) as f: \n",
    "    hema_mylist= f.read().splitlines()\n",
    "    \n",
    "print(\"Read in:\",len(hema_mylist),\"hema files\")    \n",
    "\n",
    "\n",
    "## 4) reading in all those files \n",
    "hema_inputs = [] \n",
    "for i in hema_mylist: \n",
    "    dat = pd.read_csv(hema_path + i,sep=\",\")\n",
    "    dat.columns.values[0] = 'Centroid_X' # To fix naming inconsistency problem \n",
    "    dat.columns.values[1] = 'Centroid_Y'\n",
    "    hema_inputs.append(dat)\n",
    "\n",
    "print(\"Extracted:\",len(hema_inputs),\"hema files\")  \n"
   ]
  },
  {
   "cell_type": "code",
   "execution_count": 7,
   "metadata": {},
   "outputs": [
    {
     "name": "stdout",
     "output_type": "stream",
     "text": [
      "mylist & nb_list matched?: True\n",
      "mylist & hema_list matched?: True\n"
     ]
    }
   ],
   "source": [
    "# Checking if filenames & order of them from mylist, nb_mylist & hema_mylist match\n",
    "x_nb = [i[1:7] for i in nb_mylist]\n",
    "x = [i[0:6] for i in mylist]\n",
    "x_h = [i[0:6] for i in hema_mylist]\n",
    "print(\"mylist & nb_list matched?:\", x==x_nb)\n",
    "print(\"mylist & hema_list matched?:\",x==x_h)"
   ]
  },
  {
   "cell_type": "code",
   "execution_count": 8,
   "metadata": {},
   "outputs": [
    {
     "name": "stdout",
     "output_type": "stream",
     "text": [
      "[True, True, True, True, True, True, True, True, True, True, True, True]\n"
     ]
    }
   ],
   "source": [
    "# combine cells with NNB information\n",
    "inputs_with_nbb, output_log = combine_annotated_to_NNB(annotated_list = inputs,\n",
    "                                                        NNB_list = nb_inputs)\n",
    "print(output_log)"
   ]
  },
  {
   "cell_type": "code",
   "execution_count": 9,
   "metadata": {},
   "outputs": [],
   "source": [
    "# Find cells to remove based on hematoxylin staining (from normalisation, remove top 1%)\n",
    "hema_to_remove = find_hema_to_remove(hema_inputs)\n",
    "\n",
    "# for i in range(0,len(hema_to_remove)): \n",
    "#     print(i, \" No. of cells with normalised Hema >1:\",len(hema_to_remove[i]), \"from\", len(hema_inputs[i]),\"detected cells\")"
   ]
  },
  {
   "cell_type": "code",
   "execution_count": 10,
   "metadata": {},
   "outputs": [
    {
     "name": "stdout",
     "output_type": "stream",
     "text": [
      "[True, True, True, True, True, True, True, True, True, True, True, True]\n",
      "(566, 51)\n"
     ]
    }
   ],
   "source": [
    "# remove cells that have hema above criteria\n",
    "cleaned_inputs, remove_log = remove_cell_hema(inputs_with_nbb,\n",
    "                                              hema_to_remove)\n",
    "print(remove_log)\n",
    "print(cleaned_inputs[0].shape)"
   ]
  },
  {
   "attachments": {},
   "cell_type": "markdown",
   "metadata": {},
   "source": [
    "### Putting the slides together "
   ]
  },
  {
   "cell_type": "code",
   "execution_count": 11,
   "metadata": {},
   "outputs": [
    {
     "name": "stdout",
     "output_type": "stream",
     "text": [
      "(4717, 51)\n"
     ]
    },
    {
     "data": {
      "text/html": [
       "<div>\n",
       "<style scoped>\n",
       "    .dataframe tbody tr th:only-of-type {\n",
       "        vertical-align: middle;\n",
       "    }\n",
       "\n",
       "    .dataframe tbody tr th {\n",
       "        vertical-align: top;\n",
       "    }\n",
       "\n",
       "    .dataframe thead th {\n",
       "        text-align: right;\n",
       "    }\n",
       "</style>\n",
       "<table border=\"1\" class=\"dataframe\">\n",
       "  <thead>\n",
       "    <tr style=\"text-align: right;\">\n",
       "      <th></th>\n",
       "      <th>Image</th>\n",
       "      <th>Class</th>\n",
       "      <th>Centroid_X</th>\n",
       "      <th>Centroid_Y</th>\n",
       "      <th>Detection probability</th>\n",
       "      <th>Nucleus: Area µm^2</th>\n",
       "      <th>Nucleus: Length µm</th>\n",
       "      <th>Nucleus: Circularity</th>\n",
       "      <th>Nucleus: Solidity</th>\n",
       "      <th>Nucleus: Max diameter µm</th>\n",
       "      <th>...</th>\n",
       "      <th>NN_10_um</th>\n",
       "      <th>NN_20_um</th>\n",
       "      <th>NN_30_um</th>\n",
       "      <th>NN_40_um</th>\n",
       "      <th>NN_50_um</th>\n",
       "      <th>NN_60_um</th>\n",
       "      <th>NN_70_um</th>\n",
       "      <th>NN_80_um</th>\n",
       "      <th>NN_90_um</th>\n",
       "      <th>NN_100_um</th>\n",
       "    </tr>\n",
       "  </thead>\n",
       "  <tbody>\n",
       "    <tr>\n",
       "      <th>0</th>\n",
       "      <td>703484.svs</td>\n",
       "      <td>fragmented</td>\n",
       "      <td>2758.4</td>\n",
       "      <td>5064.2</td>\n",
       "      <td>0.7102</td>\n",
       "      <td>10.4438</td>\n",
       "      <td>11.7588</td>\n",
       "      <td>0.9492</td>\n",
       "      <td>1.0000</td>\n",
       "      <td>4.2279</td>\n",
       "      <td>...</td>\n",
       "      <td>1</td>\n",
       "      <td>2</td>\n",
       "      <td>3</td>\n",
       "      <td>5</td>\n",
       "      <td>7</td>\n",
       "      <td>10</td>\n",
       "      <td>16</td>\n",
       "      <td>21</td>\n",
       "      <td>25</td>\n",
       "      <td>36</td>\n",
       "    </tr>\n",
       "    <tr>\n",
       "      <th>1</th>\n",
       "      <td>703484.svs</td>\n",
       "      <td>Epithelial</td>\n",
       "      <td>2865.6</td>\n",
       "      <td>5210.4</td>\n",
       "      <td>0.7737</td>\n",
       "      <td>34.4719</td>\n",
       "      <td>24.9365</td>\n",
       "      <td>0.6966</td>\n",
       "      <td>0.9739</td>\n",
       "      <td>10.6183</td>\n",
       "      <td>...</td>\n",
       "      <td>0</td>\n",
       "      <td>1</td>\n",
       "      <td>3</td>\n",
       "      <td>3</td>\n",
       "      <td>4</td>\n",
       "      <td>7</td>\n",
       "      <td>14</td>\n",
       "      <td>25</td>\n",
       "      <td>32</td>\n",
       "      <td>35</td>\n",
       "    </tr>\n",
       "    <tr>\n",
       "      <th>2</th>\n",
       "      <td>703484.svs</td>\n",
       "      <td>Epithelial</td>\n",
       "      <td>2929.0</td>\n",
       "      <td>5210.6</td>\n",
       "      <td>0.7337</td>\n",
       "      <td>23.0844</td>\n",
       "      <td>20.5225</td>\n",
       "      <td>0.6888</td>\n",
       "      <td>0.9821</td>\n",
       "      <td>8.7795</td>\n",
       "      <td>...</td>\n",
       "      <td>0</td>\n",
       "      <td>0</td>\n",
       "      <td>1</td>\n",
       "      <td>2</td>\n",
       "      <td>5</td>\n",
       "      <td>5</td>\n",
       "      <td>10</td>\n",
       "      <td>15</td>\n",
       "      <td>18</td>\n",
       "      <td>25</td>\n",
       "    </tr>\n",
       "    <tr>\n",
       "      <th>3</th>\n",
       "      <td>703484.svs</td>\n",
       "      <td>Ignore</td>\n",
       "      <td>2736.6</td>\n",
       "      <td>5224.5</td>\n",
       "      <td>0.5949</td>\n",
       "      <td>31.9419</td>\n",
       "      <td>20.3826</td>\n",
       "      <td>0.9662</td>\n",
       "      <td>1.0000</td>\n",
       "      <td>7.1633</td>\n",
       "      <td>...</td>\n",
       "      <td>0</td>\n",
       "      <td>0</td>\n",
       "      <td>0</td>\n",
       "      <td>1</td>\n",
       "      <td>7</td>\n",
       "      <td>13</td>\n",
       "      <td>15</td>\n",
       "      <td>20</td>\n",
       "      <td>28</td>\n",
       "      <td>35</td>\n",
       "    </tr>\n",
       "    <tr>\n",
       "      <th>4</th>\n",
       "      <td>703484.svs</td>\n",
       "      <td>fragmented</td>\n",
       "      <td>5262.3</td>\n",
       "      <td>5460.8</td>\n",
       "      <td>0.7159</td>\n",
       "      <td>9.8636</td>\n",
       "      <td>13.0301</td>\n",
       "      <td>0.7300</td>\n",
       "      <td>0.9790</td>\n",
       "      <td>5.4442</td>\n",
       "      <td>...</td>\n",
       "      <td>1</td>\n",
       "      <td>4</td>\n",
       "      <td>7</td>\n",
       "      <td>8</td>\n",
       "      <td>13</td>\n",
       "      <td>16</td>\n",
       "      <td>17</td>\n",
       "      <td>19</td>\n",
       "      <td>22</td>\n",
       "      <td>30</td>\n",
       "    </tr>\n",
       "  </tbody>\n",
       "</table>\n",
       "<p>5 rows × 48 columns</p>\n",
       "</div>"
      ],
      "text/plain": [
       "        Image       Class  Centroid_X  Centroid_Y  Detection probability  \\\n",
       "0  703484.svs  fragmented      2758.4      5064.2                 0.7102   \n",
       "1  703484.svs  Epithelial      2865.6      5210.4                 0.7737   \n",
       "2  703484.svs  Epithelial      2929.0      5210.6                 0.7337   \n",
       "3  703484.svs      Ignore      2736.6      5224.5                 0.5949   \n",
       "4  703484.svs  fragmented      5262.3      5460.8                 0.7159   \n",
       "\n",
       "   Nucleus: Area µm^2  Nucleus: Length µm  Nucleus: Circularity  \\\n",
       "0             10.4438             11.7588                0.9492   \n",
       "1             34.4719             24.9365                0.6966   \n",
       "2             23.0844             20.5225                0.6888   \n",
       "3             31.9419             20.3826                0.9662   \n",
       "4              9.8636             13.0301                0.7300   \n",
       "\n",
       "   Nucleus: Solidity  Nucleus: Max diameter µm  ...  NN_10_um  NN_20_um  \\\n",
       "0             1.0000                    4.2279  ...         1         2   \n",
       "1             0.9739                   10.6183  ...         0         1   \n",
       "2             0.9821                    8.7795  ...         0         0   \n",
       "3             1.0000                    7.1633  ...         0         0   \n",
       "4             0.9790                    5.4442  ...         1         4   \n",
       "\n",
       "   NN_30_um  NN_40_um  NN_50_um  NN_60_um  NN_70_um  NN_80_um  NN_90_um  \\\n",
       "0         3         5         7        10        16        21        25   \n",
       "1         3         3         4         7        14        25        32   \n",
       "2         1         2         5         5        10        15        18   \n",
       "3         0         1         7        13        15        20        28   \n",
       "4         7         8        13        16        17        19        22   \n",
       "\n",
       "   NN_100_um  \n",
       "0         36  \n",
       "1         35  \n",
       "2         25  \n",
       "3         35  \n",
       "4         30  \n",
       "\n",
       "[5 rows x 48 columns]"
      ]
     },
     "execution_count": 11,
     "metadata": {},
     "output_type": "execute_result"
    }
   ],
   "source": [
    "##Variables: labelled_orig, labelled_data \n",
    "#1) Put the slides together\n",
    "\n",
    "labelled_orig = pd.concat(cleaned_inputs)\n",
    "print(labelled_orig.shape)\n",
    "\n",
    "# 2) Extract relevant columns \n",
    "dat = labelled_orig.drop(columns=['Name','Parent','ROI']) \n",
    "dat.head()\n"
   ]
  },
  {
   "attachments": {},
   "cell_type": "markdown",
   "metadata": {},
   "source": [
    "### Extracting relevant cell classes"
   ]
  },
  {
   "cell_type": "code",
   "execution_count": 12,
   "metadata": {},
   "outputs": [
    {
     "data": {
      "text/plain": [
       "neuron_new        885\n",
       "oligo_new         792\n",
       "epithelial_new    557\n",
       "ignore            356\n",
       "ignore_new        344\n",
       "epithelial        330\n",
       "fragmented        304\n",
       "neuron            302\n",
       "astro             297\n",
       "oligo             295\n",
       "astro_new         179\n",
       "stardist_error     35\n",
       "fragmented_new     25\n",
       "tumor              16\n",
       "Name: Class, dtype: int64"
      ]
     },
     "execution_count": 12,
     "metadata": {},
     "output_type": "execute_result"
    }
   ],
   "source": [
    "# Make all class names lower case - easier for later selection\n",
    "\n",
    "dat_lower_class = [i.lower() for i in dat['Class']]\n",
    "dat2 = dat.copy()\n",
    "dat2.loc[:,'Class'] = dat_lower_class \n",
    "dat2['Class'].value_counts()"
   ]
  },
  {
   "cell_type": "code",
   "execution_count": 13,
   "metadata": {},
   "outputs": [
    {
     "data": {
      "text/plain": [
       "neuron_new        885\n",
       "oligo_new         792\n",
       "epithelial_new    557\n",
       "astro_new         179\n",
       "stardist_error     35\n",
       "fragmented_new     25\n",
       "Name: Class, dtype: int64"
      ]
     },
     "execution_count": 13,
     "metadata": {},
     "output_type": "execute_result"
    }
   ],
   "source": [
    "# Select only relevant cell classes (Using stardist_error instead of ignore_new)\n",
    "dat3 = dat2[(dat2['Class'] == 'oligo_new') | (dat2['Class'] == 'neuron_new')\n",
    "          | (dat2['Class'] == 'astro_new')| (dat2['Class'] == 'epithelial_new')\n",
    "          | (dat2['Class'] == 'stardist_error')| (dat2['Class'] == 'fragmented_new')]\n",
    "dat3=dat3.reset_index(drop=True)\n",
    "\n",
    "# Checking results\n",
    "dat3['Class'].value_counts()"
   ]
  },
  {
   "cell_type": "code",
   "execution_count": 14,
   "metadata": {},
   "outputs": [
    {
     "data": {
      "text/plain": [
       "Neuron        885\n",
       "Oligo         792\n",
       "Epithelial    557\n",
       "Astro         179\n",
       "Stardist_e     35\n",
       "Fragmented     25\n",
       "Name: Class, dtype: int64"
      ]
     },
     "execution_count": 14,
     "metadata": {},
     "output_type": "execute_result"
    }
   ],
   "source": [
    "# Re-name these classes so it has no '_new'\n",
    "class_new = dat3['Class']\n",
    "x = [(i[0:-4].capitalize()) for i in class_new]\n",
    "#dat = dat_ \n",
    "dat3['Class'] = x\n",
    "dat3['Class'].value_counts()"
   ]
  },
  {
   "cell_type": "code",
   "execution_count": 15,
   "metadata": {},
   "outputs": [
    {
     "name": "stdout",
     "output_type": "stream",
     "text": [
      "2473\n"
     ]
    },
    {
     "data": {
      "text/plain": [
       "Neuron    885\n",
       "Oligo     792\n",
       "Others    617\n",
       "Astro     179\n",
       "Name: Class, dtype: int64"
      ]
     },
     "execution_count": 15,
     "metadata": {},
     "output_type": "execute_result"
    }
   ],
   "source": [
    "# Group Ignore, Epithelial & Fragmented cells as a single class called 'ta'\n",
    "class_ = dat3['Class']\n",
    "y = ['Others' if i == 'Epithelial' or i == 'Stardist_e' or i == 'Fragmented' else i for i in class_ ]\n",
    "data = dat3\n",
    "data['Class'] = y \n",
    "print(data['Class'].value_counts().sum())\n",
    "data['Class'].value_counts()\n"
   ]
  },
  {
   "attachments": {},
   "cell_type": "markdown",
   "metadata": {},
   "source": [
    "# Training the model"
   ]
  },
  {
   "attachments": {},
   "cell_type": "markdown",
   "metadata": {},
   "source": [
    "### Checking for any NA in the data"
   ]
  },
  {
   "cell_type": "code",
   "execution_count": 16,
   "metadata": {},
   "outputs": [
    {
     "name": "stdout",
     "output_type": "stream",
     "text": [
      "Any NA in the data?:  False\n"
     ]
    }
   ],
   "source": [
    "#checking for NAN \n",
    "## NEW \n",
    "print(\"Any NA in the data?: \",data.isnull().sum().sum()==1)\n",
    "\n",
    "# dat = dat.dropna()\n",
    "# dat.isnull().sum().sum()"
   ]
  },
  {
   "cell_type": "code",
   "execution_count": 17,
   "metadata": {},
   "outputs": [
    {
     "name": "stdout",
     "output_type": "stream",
     "text": [
      "sampling:  20 %\n",
      "Fitting 10 folds for each of 100 candidates, totalling 1000 fits\n",
      "sampling:  40 %\n",
      "Fitting 10 folds for each of 100 candidates, totalling 1000 fits\n",
      "sampling:  60 %\n",
      "Fitting 10 folds for each of 100 candidates, totalling 1000 fits\n",
      "sampling:  80 %\n",
      "Fitting 10 folds for each of 100 candidates, totalling 1000 fits\n",
      "sampling:  100 %\n",
      "Fitting 10 folds for each of 100 candidates, totalling 1000 fits\n"
     ]
    }
   ],
   "source": [
    "total_ = [] \n",
    "mean_total = []\n",
    "all_ = [] \n",
    "\n",
    "\n",
    "sampling = list(range(20,120,20)) # 10% each time \n",
    "for i in sampling: \n",
    "    \n",
    "    # Randomly picking out cells at 10% increment each time\n",
    "    to_sample_from = data.copy() \n",
    "    dat_sampled= to_sample_from.groupby('Class',group_keys=False).apply(lambda x: x.sample(frac=(i/100),random_state=42))\n",
    "    print('sampling: ', i, '%')\n",
    "    X_train = dat_sampled.drop(columns=['Class','Image','Centroid_X','Centroid_Y'])\n",
    "    y_train = dat_sampled['Class']\n",
    "\n",
    "\n",
    "    # 3) Specify parameters for grid search \n",
    "    rf_random = RandomizedSearchCV(pipeline_cell,\n",
    "                             param_distributions=random_grid, \n",
    "                             n_iter=100,\n",
    "                             cv=10,\n",
    "                             verbose=2,\n",
    "                            random_state=42,\n",
    "                            n_jobs=-1,\n",
    "                            refit='PR_AUC', # use this metric to evaluate performance of parameters \n",
    "                            scoring={'PR_AUC':precision_recall_auc,\n",
    "                            'roc_auc_ovr_weighted':'roc_auc_ovr_weighted',\n",
    "                            'roc_auc_ovo':'roc_auc_ovo',\n",
    "                            'balanced_accuracy':'balanced_accuracy',\n",
    "                            'f1_weighted':'f1_weighted',\n",
    "                            'Astro_accuracy': astro_acc,\n",
    "                            'Neuron_accuracy':neuron_acc,\n",
    "                            'Oligo_accuracy':oligo_acc,\n",
    "                            'Others_accuracy':others_acc\n",
    "                            },\n",
    "                                  return_train_score=True)\n",
    "\n",
    "    # 4) Run grid search \n",
    "    rf_random.fit(X_train,y_train)\n",
    "\n",
    "    ## Appending data together \n",
    "    accuracies_10_fold = [] \n",
    "    for i in range(0,10): \n",
    "        x = rf_random.cv_results_['split'+str(i)+'_test_PR_AUC'][rf_random.best_index_]\n",
    "        accuracies_10_fold.append(x)\n",
    "\n",
    "    total_.append(accuracies_10_fold)\n",
    "    mean_total.append(mean(accuracies_10_fold))\n",
    "    all_.append(rf_random) "
   ]
  },
  {
   "attachments": {},
   "cell_type": "markdown",
   "metadata": {},
   "source": [
    "### Saving outputs"
   ]
  },
  {
   "cell_type": "code",
   "execution_count": 50,
   "metadata": {},
   "outputs": [
    {
     "data": {
      "text/plain": [
       "['cortex_all.sav']"
      ]
     },
     "execution_count": 50,
     "metadata": {},
     "output_type": "execute_result"
    }
   ],
   "source": [
    "joblib.dump(total_,\"cortex_total_.sav\")\n",
    "joblib.dump(mean_total,\"cortex_mean_total.sav\")\n",
    "joblib.dump(all_,\"cortex_all.sav\")"
   ]
  },
  {
   "attachments": {},
   "cell_type": "markdown",
   "metadata": {},
   "source": [
    "### Inspecting outputs"
   ]
  },
  {
   "cell_type": "code",
   "execution_count": 21,
   "metadata": {},
   "outputs": [
    {
     "name": "stdout",
     "output_type": "stream",
     "text": [
      "[0.8475523153928084, 0.8523392735823127, 0.838389647740972, 0.8278841383939735, 0.8221961593126345]\n"
     ]
    }
   ],
   "source": [
    "#Extract best params per sampling point (from 20% to 100%, 20% step)\n",
    "best_params = []\n",
    "best_scores = []\n",
    "for i in range(0,5):\n",
    "    best_params.append(all_[i].best_params_)\n",
    "    best_scores.append(all_[i].best_score_)\n",
    "print(best_scores)"
   ]
  },
  {
   "cell_type": "code",
   "execution_count": 45,
   "metadata": {},
   "outputs": [],
   "source": [
    "folder_path = \"C:/Users/mokur/OneDrive - University of Cambridge/Attachments/Jan2023/Cell_pipeline/Sample_size_check/Cortex/\""
   ]
  },
  {
   "attachments": {},
   "cell_type": "markdown",
   "metadata": {},
   "source": [
    "Fit times"
   ]
  },
  {
   "cell_type": "code",
   "execution_count": 46,
   "metadata": {},
   "outputs": [],
   "source": [
    "## get fit times (mean & sd)\n",
    "m_fit_times = []\n",
    "std_fit_times= [] \n",
    "for i in range(0,5):\n",
    "    m_fit_times.append(all_[i].cv_results_['mean_fit_time'])\n",
    "    std_fit_times.append(all_[i].cv_results_['std_fit_time'])"
   ]
  },
  {
   "cell_type": "code",
   "execution_count": 62,
   "metadata": {},
   "outputs": [],
   "source": [
    "## Calculate confidence interval: fit times \n",
    "\n",
    "mean_m_fit_times = [np.mean(i) for i in m_fit_times]\n",
    "\n",
    "fit_total_CI = [st.t.interval(confidence=0.95, df=len(i)-1,\n",
    "                                      loc=np.mean(i), scale=st.sem(i)) for i in m_fit_times]\n",
    "fit_lower_ci = [i[0] for i in fit_total_CI]\n",
    "fit_upper_ci = [i[1] for i in fit_total_CI]\n",
    "cells = [int(i/100*data.shape[0]) for i in sampling]\n",
    "fit_times_rbf = pd.DataFrame({'mean':mean_m_fit_times,\n",
    "                           'lower_ci':fit_lower_ci,\n",
    "                            'upper_ci':fit_upper_ci,\n",
    "                           'cells':cells})"
   ]
  },
  {
   "cell_type": "code",
   "execution_count": 63,
   "metadata": {},
   "outputs": [
    {
     "data": {
      "text/html": [
       "<div>\n",
       "<style scoped>\n",
       "    .dataframe tbody tr th:only-of-type {\n",
       "        vertical-align: middle;\n",
       "    }\n",
       "\n",
       "    .dataframe tbody tr th {\n",
       "        vertical-align: top;\n",
       "    }\n",
       "\n",
       "    .dataframe thead th {\n",
       "        text-align: right;\n",
       "    }\n",
       "</style>\n",
       "<table border=\"1\" class=\"dataframe\">\n",
       "  <thead>\n",
       "    <tr style=\"text-align: right;\">\n",
       "      <th></th>\n",
       "      <th>mean</th>\n",
       "      <th>lower_ci</th>\n",
       "      <th>upper_ci</th>\n",
       "      <th>cells</th>\n",
       "    </tr>\n",
       "  </thead>\n",
       "  <tbody>\n",
       "    <tr>\n",
       "      <th>0</th>\n",
       "      <td>7.274766</td>\n",
       "      <td>6.662105</td>\n",
       "      <td>7.887428</td>\n",
       "      <td>494</td>\n",
       "    </tr>\n",
       "    <tr>\n",
       "      <th>1</th>\n",
       "      <td>9.934918</td>\n",
       "      <td>9.043857</td>\n",
       "      <td>10.825978</td>\n",
       "      <td>989</td>\n",
       "    </tr>\n",
       "    <tr>\n",
       "      <th>2</th>\n",
       "      <td>13.576052</td>\n",
       "      <td>12.283588</td>\n",
       "      <td>14.868515</td>\n",
       "      <td>1483</td>\n",
       "    </tr>\n",
       "    <tr>\n",
       "      <th>3</th>\n",
       "      <td>17.062590</td>\n",
       "      <td>15.319717</td>\n",
       "      <td>18.805463</td>\n",
       "      <td>1978</td>\n",
       "    </tr>\n",
       "    <tr>\n",
       "      <th>4</th>\n",
       "      <td>20.736139</td>\n",
       "      <td>18.594697</td>\n",
       "      <td>22.877581</td>\n",
       "      <td>2473</td>\n",
       "    </tr>\n",
       "  </tbody>\n",
       "</table>\n",
       "</div>"
      ],
      "text/plain": [
       "        mean   lower_ci   upper_ci  cells\n",
       "0   7.274766   6.662105   7.887428    494\n",
       "1   9.934918   9.043857  10.825978    989\n",
       "2  13.576052  12.283588  14.868515   1483\n",
       "3  17.062590  15.319717  18.805463   1978\n",
       "4  20.736139  18.594697  22.877581   2473"
      ]
     },
     "execution_count": 63,
     "metadata": {},
     "output_type": "execute_result"
    }
   ],
   "source": [
    "fit_times_rbf"
   ]
  },
  {
   "cell_type": "code",
   "execution_count": 64,
   "metadata": {},
   "outputs": [
    {
     "data": {
      "image/png": "[encoded data removed]",
      "text/plain": [
       "<Figure size 640x480 with 1 Axes>"
      ]
     },
     "metadata": {},
     "output_type": "display_data"
    }
   ],
   "source": [
    "fig, ax=plt.subplots()\n",
    "\n",
    "ax.plot(fit_times_rbf['cells'],fit_times_rbf['mean'],marker='o',markerfacecolor='purple',linestyle='dashed',color='red')\n",
    "ax.fill_between(fit_times_rbf['cells'],fit_times_rbf['lower_ci'],fit_times_rbf['upper_ci'],color='red',alpha=.1)\n",
    "\n",
    "\n",
    "plt.xlabel('Number of training examples')\n",
    "plt.ylabel('Mean fit times')\n",
    "plt.title('Scalability of the model')\n",
    "\n",
    "path = folder_path+\"fittimes_curve.jpg\"\n",
    "plt.savefig(path)"
   ]
  },
  {
   "attachments": {},
   "cell_type": "markdown",
   "metadata": {},
   "source": [
    "Balanced accuracy"
   ]
  },
  {
   "cell_type": "code",
   "execution_count": 65,
   "metadata": {},
   "outputs": [],
   "source": [
    "samp_test_acc = [] \n",
    "samp_train_acc = []\n",
    "for i in range(0,5):  \n",
    "    test_acc=[]\n",
    "    train_acc=[]\n",
    "    for r in range(0,5):\n",
    "        test_acc.append(all_[i].cv_results_['split'+str(r)+'_test_balanced_accuracy'][all_[i].best_index_]*100)\n",
    "        train_acc.append(all_[i].cv_results_['split'+str(r)+'_train_balanced_accuracy'][all_[i].best_index_]*100)\n",
    "    samp_test_acc.append(test_acc)\n",
    "    samp_train_acc.append(train_acc)\n",
    "    "
   ]
  },
  {
   "cell_type": "code",
   "execution_count": 66,
   "metadata": {},
   "outputs": [],
   "source": [
    "# Rbf-SVM: Validation - calculate confidence interval (training balanced accuracy)\n",
    "\n",
    "v_scaled_mean = [np.mean(i) for i in samp_train_acc]\n",
    "\n",
    "v_total_CI = [st.t.interval(confidence=0.95,\n",
    "                            df=len(i)-1,\n",
    "                            loc=np.mean(i),\n",
    "                            scale=st.sem(i)) for i in samp_train_acc]\n",
    "v_lower_ci = [i[0] for i in v_total_CI]\n",
    "v_upper_ci = [i[1] for i in v_total_CI]\n",
    "cells = [int(i/100*data.shape[0]) for i in sampling]\n",
    "train_rbf = pd.DataFrame({'mean':v_scaled_mean,\n",
    "                           'lower_ci':v_lower_ci,\n",
    "                            'upper_ci':v_upper_ci,\n",
    "                           'cells':cells})"
   ]
  },
  {
   "cell_type": "code",
   "execution_count": 67,
   "metadata": {},
   "outputs": [
    {
     "data": {
      "text/html": [
       "<div>\n",
       "<style scoped>\n",
       "    .dataframe tbody tr th:only-of-type {\n",
       "        vertical-align: middle;\n",
       "    }\n",
       "\n",
       "    .dataframe tbody tr th {\n",
       "        vertical-align: top;\n",
       "    }\n",
       "\n",
       "    .dataframe thead th {\n",
       "        text-align: right;\n",
       "    }\n",
       "</style>\n",
       "<table border=\"1\" class=\"dataframe\">\n",
       "  <thead>\n",
       "    <tr style=\"text-align: right;\">\n",
       "      <th></th>\n",
       "      <th>mean</th>\n",
       "      <th>lower_ci</th>\n",
       "      <th>upper_ci</th>\n",
       "      <th>cells</th>\n",
       "    </tr>\n",
       "  </thead>\n",
       "  <tbody>\n",
       "    <tr>\n",
       "      <th>0</th>\n",
       "      <td>88.035486</td>\n",
       "      <td>86.926656</td>\n",
       "      <td>89.144316</td>\n",
       "      <td>494</td>\n",
       "    </tr>\n",
       "    <tr>\n",
       "      <th>1</th>\n",
       "      <td>90.232551</td>\n",
       "      <td>89.622660</td>\n",
       "      <td>90.842443</td>\n",
       "      <td>989</td>\n",
       "    </tr>\n",
       "    <tr>\n",
       "      <th>2</th>\n",
       "      <td>87.594295</td>\n",
       "      <td>87.063967</td>\n",
       "      <td>88.124623</td>\n",
       "      <td>1483</td>\n",
       "    </tr>\n",
       "    <tr>\n",
       "      <th>3</th>\n",
       "      <td>89.965458</td>\n",
       "      <td>89.667487</td>\n",
       "      <td>90.263430</td>\n",
       "      <td>1978</td>\n",
       "    </tr>\n",
       "    <tr>\n",
       "      <th>4</th>\n",
       "      <td>89.542085</td>\n",
       "      <td>89.237038</td>\n",
       "      <td>89.847132</td>\n",
       "      <td>2473</td>\n",
       "    </tr>\n",
       "  </tbody>\n",
       "</table>\n",
       "</div>"
      ],
      "text/plain": [
       "        mean   lower_ci   upper_ci  cells\n",
       "0  88.035486  86.926656  89.144316    494\n",
       "1  90.232551  89.622660  90.842443    989\n",
       "2  87.594295  87.063967  88.124623   1483\n",
       "3  89.965458  89.667487  90.263430   1978\n",
       "4  89.542085  89.237038  89.847132   2473"
      ]
     },
     "execution_count": 67,
     "metadata": {},
     "output_type": "execute_result"
    }
   ],
   "source": [
    "train_rbf"
   ]
  },
  {
   "cell_type": "code",
   "execution_count": 71,
   "metadata": {},
   "outputs": [],
   "source": [
    "# Rbf-SVM: Validation - calculate confidence interval \n",
    "\n",
    "v_scaled_mean = [np.mean(i) for i in samp_test_acc]\n",
    "\n",
    "v_total_CI = [st.t.interval(confidence=0.95,\n",
    "                            df=len(i)-1,\n",
    "                            loc=np.mean(i),\n",
    "                            scale=st.sem(i)) for i in samp_test_acc]\n",
    "v_lower_ci = [i[0] for i in v_total_CI]\n",
    "v_upper_ci = [i[1] for i in v_total_CI]\n",
    "cells = [int(i/100*data.shape[0]) for i in sampling]\n",
    "validation_rbf = pd.DataFrame({'mean':v_scaled_mean,\n",
    "                           'lower_ci':v_lower_ci,\n",
    "                            'upper_ci':v_upper_ci,\n",
    "                           'cells':cells})"
   ]
  },
  {
   "cell_type": "code",
   "execution_count": 72,
   "metadata": {},
   "outputs": [
    {
     "data": {
      "text/html": [
       "<div>\n",
       "<style scoped>\n",
       "    .dataframe tbody tr th:only-of-type {\n",
       "        vertical-align: middle;\n",
       "    }\n",
       "\n",
       "    .dataframe tbody tr th {\n",
       "        vertical-align: top;\n",
       "    }\n",
       "\n",
       "    .dataframe thead th {\n",
       "        text-align: right;\n",
       "    }\n",
       "</style>\n",
       "<table border=\"1\" class=\"dataframe\">\n",
       "  <thead>\n",
       "    <tr style=\"text-align: right;\">\n",
       "      <th></th>\n",
       "      <th>mean</th>\n",
       "      <th>lower_ci</th>\n",
       "      <th>upper_ci</th>\n",
       "      <th>cells</th>\n",
       "    </tr>\n",
       "  </thead>\n",
       "  <tbody>\n",
       "    <tr>\n",
       "      <th>0</th>\n",
       "      <td>81.729418</td>\n",
       "      <td>70.186863</td>\n",
       "      <td>93.271973</td>\n",
       "      <td>494</td>\n",
       "    </tr>\n",
       "    <tr>\n",
       "      <th>1</th>\n",
       "      <td>77.619694</td>\n",
       "      <td>69.922930</td>\n",
       "      <td>85.316458</td>\n",
       "      <td>989</td>\n",
       "    </tr>\n",
       "    <tr>\n",
       "      <th>2</th>\n",
       "      <td>82.628021</td>\n",
       "      <td>77.356690</td>\n",
       "      <td>87.899351</td>\n",
       "      <td>1483</td>\n",
       "    </tr>\n",
       "    <tr>\n",
       "      <th>3</th>\n",
       "      <td>78.704163</td>\n",
       "      <td>75.496179</td>\n",
       "      <td>81.912148</td>\n",
       "      <td>1978</td>\n",
       "    </tr>\n",
       "    <tr>\n",
       "      <th>4</th>\n",
       "      <td>82.562752</td>\n",
       "      <td>80.248803</td>\n",
       "      <td>84.876700</td>\n",
       "      <td>2473</td>\n",
       "    </tr>\n",
       "  </tbody>\n",
       "</table>\n",
       "</div>"
      ],
      "text/plain": [
       "        mean   lower_ci   upper_ci  cells\n",
       "0  81.729418  70.186863  93.271973    494\n",
       "1  77.619694  69.922930  85.316458    989\n",
       "2  82.628021  77.356690  87.899351   1483\n",
       "3  78.704163  75.496179  81.912148   1978\n",
       "4  82.562752  80.248803  84.876700   2473"
      ]
     },
     "execution_count": 72,
     "metadata": {},
     "output_type": "execute_result"
    }
   ],
   "source": [
    "validation_rbf"
   ]
  },
  {
   "cell_type": "code",
   "execution_count": 73,
   "metadata": {},
   "outputs": [
    {
     "data": {
      "image/png": "[encoded data removed]",
      "text/plain": [
       "<Figure size 640x480 with 1 Axes>"
      ]
     },
     "metadata": {},
     "output_type": "display_data"
    }
   ],
   "source": [
    "fig, ax=plt.subplots()\n",
    "ax.plot(validation_rbf['cells'],validation_rbf['mean'],marker='o',markerfacecolor='blue',linestyle='dashed',color='green')\n",
    "ax.fill_between(validation_rbf['cells'],validation_rbf['lower_ci'],validation_rbf['upper_ci'],color='b',alpha=.1)\n",
    "\n",
    "plt.xlabel('Number of training examples')\n",
    "plt.ylabel('Balanced accuracy %')\n",
    "plt.title('Validation curve')\n",
    "plt.ylim([50,100])\n",
    "\n",
    "path = folder_path+\"validation_curve_BA.jpg\"\n",
    "plt.savefig(path)"
   ]
  },
  {
   "cell_type": "code",
   "execution_count": 88,
   "metadata": {},
   "outputs": [
    {
     "data": {
      "image/png": "[encoded data removed]",
      "text/plain": [
       "<Figure size 640x480 with 1 Axes>"
      ]
     },
     "metadata": {},
     "output_type": "display_data"
    }
   ],
   "source": [
    "fig, ax=plt.subplots()\n",
    "\n",
    "ax.plot(train_rbf['cells'],train_rbf['mean'],marker='o',markerfacecolor='purple',linestyle='dashed',color='red')\n",
    "ax.fill_between(train_rbf['cells'],train_rbf['lower_ci'],train_rbf['upper_ci'],color='red',alpha=.1)\n",
    "\n",
    "ax.plot(validation_rbf['cells'],validation_rbf['mean'],marker='o',markerfacecolor='blue',linestyle='dashed',color='green')\n",
    "ax.fill_between(validation_rbf['cells'],validation_rbf['lower_ci'],validation_rbf['upper_ci'],color='b',alpha=.1)\n",
    "\n",
    "plt.xlabel('Number of training examples')\n",
    "plt.ylabel('Balanced accuracy (%)')\n",
    "plt.title('Learning curves')\n",
    "plt.legend([\"Training score\",\"95% CI\",\"Validation score\",\"95% CI\"],bbox_to_anchor=(1.5,0.4))\n",
    "plt.ylim([50,100])\n",
    "\n",
    "path = folder_path + \"learning_curves_BA.jpg\"\n",
    "plt.savefig(path)"
   ]
  },
  {
   "attachments": {},
   "cell_type": "markdown",
   "metadata": {},
   "source": [
    "PR AUC"
   ]
  },
  {
   "cell_type": "code",
   "execution_count": 89,
   "metadata": {},
   "outputs": [],
   "source": [
    "## Get train accuracies \n",
    "total_train =[] \n",
    "for s in range(0,5): # looping through sampling points \n",
    "    samp = all_[s]\n",
    "    train_accuracies = [] \n",
    "    for i in range(0,10): # looping through 10 folds\n",
    "        t = samp.cv_results_['split'+str(i)+'_train_PR_AUC'][samp.best_index_]*100\n",
    "        train_accuracies.append(t)\n",
    "    total_train.append(train_accuracies)\n",
    "        "
   ]
  },
  {
   "cell_type": "code",
   "execution_count": 90,
   "metadata": {},
   "outputs": [],
   "source": [
    "## Training - calculate confidence interval \n",
    "t_scaled_mean = [np.mean(i) for i in total_train]\n",
    "\n",
    "t_total_CI = [st.t.interval(confidence=0.95, df=len(i)-1, loc=np.mean(i), scale=st.sem(i)) for i in total_train]\n",
    "\n",
    "t_lower_ci = [i[0] for i in t_total_CI]\n",
    "t_upper_ci = [i[1] for i in t_total_CI]\n",
    "cells = [int(i/100*data.shape[0]) for i in sampling]\n",
    "train_rbf_PR = pd.DataFrame({'mean':t_scaled_mean,\n",
    "                           'lower_ci':t_lower_ci,\n",
    "                            'upper_ci':t_upper_ci,\n",
    "                           'cells':cells})"
   ]
  },
  {
   "cell_type": "code",
   "execution_count": 91,
   "metadata": {},
   "outputs": [
    {
     "data": {
      "text/html": [
       "<div>\n",
       "<style scoped>\n",
       "    .dataframe tbody tr th:only-of-type {\n",
       "        vertical-align: middle;\n",
       "    }\n",
       "\n",
       "    .dataframe tbody tr th {\n",
       "        vertical-align: top;\n",
       "    }\n",
       "\n",
       "    .dataframe thead th {\n",
       "        text-align: right;\n",
       "    }\n",
       "</style>\n",
       "<table border=\"1\" class=\"dataframe\">\n",
       "  <thead>\n",
       "    <tr style=\"text-align: right;\">\n",
       "      <th></th>\n",
       "      <th>mean</th>\n",
       "      <th>lower_ci</th>\n",
       "      <th>upper_ci</th>\n",
       "      <th>cells</th>\n",
       "    </tr>\n",
       "  </thead>\n",
       "  <tbody>\n",
       "    <tr>\n",
       "      <th>0</th>\n",
       "      <td>94.864214</td>\n",
       "      <td>94.660461</td>\n",
       "      <td>95.067966</td>\n",
       "      <td>494</td>\n",
       "    </tr>\n",
       "    <tr>\n",
       "      <th>1</th>\n",
       "      <td>95.841114</td>\n",
       "      <td>95.675202</td>\n",
       "      <td>96.007027</td>\n",
       "      <td>989</td>\n",
       "    </tr>\n",
       "    <tr>\n",
       "      <th>2</th>\n",
       "      <td>93.902566</td>\n",
       "      <td>93.717204</td>\n",
       "      <td>94.087928</td>\n",
       "      <td>1483</td>\n",
       "    </tr>\n",
       "    <tr>\n",
       "      <th>3</th>\n",
       "      <td>96.467893</td>\n",
       "      <td>96.328977</td>\n",
       "      <td>96.606809</td>\n",
       "      <td>1978</td>\n",
       "    </tr>\n",
       "    <tr>\n",
       "      <th>4</th>\n",
       "      <td>92.847419</td>\n",
       "      <td>92.705340</td>\n",
       "      <td>92.989498</td>\n",
       "      <td>2473</td>\n",
       "    </tr>\n",
       "  </tbody>\n",
       "</table>\n",
       "</div>"
      ],
      "text/plain": [
       "        mean   lower_ci   upper_ci  cells\n",
       "0  94.864214  94.660461  95.067966    494\n",
       "1  95.841114  95.675202  96.007027    989\n",
       "2  93.902566  93.717204  94.087928   1483\n",
       "3  96.467893  96.328977  96.606809   1978\n",
       "4  92.847419  92.705340  92.989498   2473"
      ]
     },
     "execution_count": 91,
     "metadata": {},
     "output_type": "execute_result"
    }
   ],
   "source": [
    "train_rbf_PR"
   ]
  },
  {
   "cell_type": "code",
   "execution_count": 92,
   "metadata": {},
   "outputs": [],
   "source": [
    "# Rbf-SVM: Validation - calculate confidence interval \n",
    "\n",
    "v_scaled_total = [] \n",
    "for t in total_: \n",
    "    s=[]\n",
    "    for i in t: \n",
    "        i_=i *100\n",
    "        s.append(i_)\n",
    "    v_scaled_total.append(s) \n",
    "    \n",
    "v_scaled_mean = [np.mean(i) for i in v_scaled_total]\n",
    "\n",
    "v_total_CI = [st.t.interval(confidence=0.95,\n",
    "                            df=len(i)-1,\n",
    "                            loc=np.mean(i),\n",
    "                            scale=st.sem(i)) for i in v_scaled_total]\n",
    "v_lower_ci = [i[0] for i in v_total_CI]\n",
    "v_upper_ci = [i[1] for i in v_total_CI]\n",
    "cells = [int(i/100*data.shape[0]) for i in sampling]\n",
    "validation_rbf_PR = pd.DataFrame({'mean':v_scaled_mean,\n",
    "                           'lower_ci':v_lower_ci,\n",
    "                            'upper_ci':v_upper_ci,\n",
    "                           'cells':cells})"
   ]
  },
  {
   "cell_type": "code",
   "execution_count": 93,
   "metadata": {},
   "outputs": [
    {
     "data": {
      "text/html": [
       "<div>\n",
       "<style scoped>\n",
       "    .dataframe tbody tr th:only-of-type {\n",
       "        vertical-align: middle;\n",
       "    }\n",
       "\n",
       "    .dataframe tbody tr th {\n",
       "        vertical-align: top;\n",
       "    }\n",
       "\n",
       "    .dataframe thead th {\n",
       "        text-align: right;\n",
       "    }\n",
       "</style>\n",
       "<table border=\"1\" class=\"dataframe\">\n",
       "  <thead>\n",
       "    <tr style=\"text-align: right;\">\n",
       "      <th></th>\n",
       "      <th>mean</th>\n",
       "      <th>lower_ci</th>\n",
       "      <th>upper_ci</th>\n",
       "      <th>cells</th>\n",
       "    </tr>\n",
       "  </thead>\n",
       "  <tbody>\n",
       "    <tr>\n",
       "      <th>0</th>\n",
       "      <td>84.755232</td>\n",
       "      <td>80.555989</td>\n",
       "      <td>88.954474</td>\n",
       "      <td>494</td>\n",
       "    </tr>\n",
       "    <tr>\n",
       "      <th>1</th>\n",
       "      <td>85.233927</td>\n",
       "      <td>82.257479</td>\n",
       "      <td>88.210376</td>\n",
       "      <td>989</td>\n",
       "    </tr>\n",
       "    <tr>\n",
       "      <th>2</th>\n",
       "      <td>83.838965</td>\n",
       "      <td>81.418177</td>\n",
       "      <td>86.259752</td>\n",
       "      <td>1483</td>\n",
       "    </tr>\n",
       "    <tr>\n",
       "      <th>3</th>\n",
       "      <td>82.788414</td>\n",
       "      <td>79.442293</td>\n",
       "      <td>86.134534</td>\n",
       "      <td>1978</td>\n",
       "    </tr>\n",
       "    <tr>\n",
       "      <th>4</th>\n",
       "      <td>82.219616</td>\n",
       "      <td>80.285991</td>\n",
       "      <td>84.153241</td>\n",
       "      <td>2473</td>\n",
       "    </tr>\n",
       "  </tbody>\n",
       "</table>\n",
       "</div>"
      ],
      "text/plain": [
       "        mean   lower_ci   upper_ci  cells\n",
       "0  84.755232  80.555989  88.954474    494\n",
       "1  85.233927  82.257479  88.210376    989\n",
       "2  83.838965  81.418177  86.259752   1483\n",
       "3  82.788414  79.442293  86.134534   1978\n",
       "4  82.219616  80.285991  84.153241   2473"
      ]
     },
     "execution_count": 93,
     "metadata": {},
     "output_type": "execute_result"
    }
   ],
   "source": [
    "validation_rbf_PR"
   ]
  },
  {
   "cell_type": "code",
   "execution_count": 97,
   "metadata": {},
   "outputs": [
    {
     "data": {
      "image/png": "[encoded data removed]",
      "text/plain": [
       "<Figure size 640x480 with 1 Axes>"
      ]
     },
     "metadata": {},
     "output_type": "display_data"
    }
   ],
   "source": [
    "fig, ax=plt.subplots()\n",
    "ax.plot(validation_rbf_PR['cells'],\n",
    "        validation_rbf_PR['mean'],\n",
    "        marker='o',markerfacecolor='blue',linestyle='dashed',color='green')\n",
    "ax.fill_between(validation_rbf_PR['cells'],\n",
    "                validation_rbf_PR['lower_ci'],\n",
    "                validation_rbf_PR['upper_ci'],\n",
    "                color='b',alpha=.1)\n",
    "\n",
    "plt.xlabel('Number of training examples')\n",
    "plt.ylabel('PR AUC')\n",
    "plt.title('Validation curve')\n",
    "plt.ylim([50,100])\n",
    "path = folder_path + \"validation_curve_PRAUC.jpg\"\n",
    "plt.savefig(path)"
   ]
  },
  {
   "cell_type": "code",
   "execution_count": 98,
   "metadata": {},
   "outputs": [
    {
     "data": {
      "image/png": "[encoded data removed]",
      "text/plain": [
       "<Figure size 640x480 with 1 Axes>"
      ]
     },
     "metadata": {},
     "output_type": "display_data"
    }
   ],
   "source": [
    "fig, ax=plt.subplots()\n",
    "\n",
    "ax.plot(train_rbf_PR['cells'],\n",
    "        train_rbf_PR['mean'],\n",
    "        marker='o',markerfacecolor='purple',linestyle='dashed',color='red')\n",
    "ax.fill_between(train_rbf_PR['cells'],\n",
    "                train_rbf_PR['lower_ci'],\n",
    "                train_rbf_PR['upper_ci'],\n",
    "                color='red',alpha=.1)\n",
    "\n",
    "ax.plot(validation_rbf_PR['cells'],\n",
    "        validation_rbf_PR['mean'],\n",
    "        marker='o',markerfacecolor='blue',linestyle='dashed',color='green')\n",
    "ax.fill_between(validation_rbf_PR['cells'],\n",
    "                validation_rbf_PR['lower_ci'],\n",
    "                validation_rbf_PR['upper_ci'],\n",
    "                color='b',alpha=.1)\n",
    "\n",
    "plt.xlabel('Number of training samples')\n",
    "plt.ylabel('PR AUC')\n",
    "plt.title('Learning curves')\n",
    "plt.legend([\"Training score\",\"95% CI\",\"Validation score\",\"95% CI\"],bbox_to_anchor=(1.5,0.4))\n",
    "plt.ylim([50,100])\n",
    "\n",
    "path = folder_path + \"learning_curves_PRAUC.jpg\"\n",
    "plt.savefig(path)"
   ]
  }
 ],
 "metadata": {
  "kernelspec": {
   "display_name": "Python 3",
   "language": "python",
   "name": "python3"
  },
  "language_info": {
   "codemirror_mode": {
    "name": "ipython",
    "version": 3
   },
   "file_extension": ".py",
   "mimetype": "text/x-python",
   "name": "python",
   "nbconvert_exporter": "python",
   "pygments_lexer": "ipython3",
   "version": "3.8.16"
  },
  "vscode": {
   "interpreter": {
    "hash": "f6d2454d879cd4646d4a63709cef4295c623bc84b10d08f17db96bd3d790e764"
   }
  }
 },
 "nbformat": 4,
 "nbformat_minor": 2
}
