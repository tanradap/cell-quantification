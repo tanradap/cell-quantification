{
 "cells": [
  {
   "attachments": {},
   "cell_type": "markdown",
   "metadata": {},
   "source": [
    "### Tuning hyper-paremter of cortical cell classifier"
   ]
  },
  {
   "cell_type": "code",
   "execution_count": 1,
   "metadata": {},
   "outputs": [],
   "source": [
    "# Importing libraries\n",
    "import sys\n",
    "sys.path.insert(0,\n",
    "                '/Users/mokur/OneDrive - University of Cambridge/Attachments/Jan2023/Cell_pipeline/Tuning_parameters/')\n",
    "\n",
    "from constants import * \n",
    "from base import *\n",
    "from custom_metrics import *\n",
    "from tuning_cv import *"
   ]
  },
  {
   "cell_type": "code",
   "execution_count": 2,
   "metadata": {},
   "outputs": [],
   "source": [
    "## Importing libraries \n",
    "import pandas as pd\n",
    "import numpy as np \n",
    "import random \n",
    "\n",
    "from sklearn import preprocessing \n",
    "\n",
    "from sklearn.pipeline import Pipeline\n",
    "from sklearn.preprocessing import MinMaxScaler\n",
    "from sklearn.ensemble import RandomForestClassifier\n",
    "from imblearn.ensemble import BalancedRandomForestClassifier\n",
    "from sklearn.model_selection import RandomizedSearchCV\n",
    "from sklearn.metrics import ConfusionMatrixDisplay\n",
    "import matplotlib.pyplot as plt\n",
    "import joblib\n",
    "import scipy.stats as st "
   ]
  },
  {
   "attachments": {},
   "cell_type": "markdown",
   "metadata": {},
   "source": [
    "### Importing data "
   ]
  },
  {
   "cell_type": "code",
   "execution_count": 3,
   "metadata": {},
   "outputs": [],
   "source": [
    "# Annotated cells \n",
    "cell_path = \"/Users/mokur/OneDrive - University of Cambridge/Attachments/Jan2023/Cell_pipeline/Training_data/Occipital/cells/\"\n",
    "cell_training = \"training.txt\"\n",
    "\n",
    "# NNB information of all cells on slide\n",
    "nnb_path = \"/Users/mokur/OneDrive - University of Cambridge/Attachments/Jan2023/Cell_pipeline/Training_data/Occipital/NNB/\"\n",
    "nnb_training = \"training_NNB.txt\"\n",
    "\n",
    "# hema nucleus of all cells on slide\n",
    "hema_path = \"/Users/mokur/OneDrive - University of Cambridge/Attachments/Jan2023/Cell_pipeline/Training_data/Occipital/hema/\"\n",
    "hema_training = \"training_hema.txt\""
   ]
  },
  {
   "attachments": {},
   "cell_type": "markdown",
   "metadata": {},
   "source": [
    "Require: \n",
    "1. input_files.txt - to contian filenames I want to use. ** currently .csv files"
   ]
  },
  {
   "cell_type": "code",
   "execution_count": 4,
   "metadata": {},
   "outputs": [
    {
     "name": "stdout",
     "output_type": "stream",
     "text": [
      "Read in:  8 files\n",
      "Extracted: 8 files\n"
     ]
    }
   ],
   "source": [
    "# Importing annotated cells \n",
    "\n",
    "# obtaining list of files \n",
    "with open(cell_path + cell_training) as f: \n",
    "    mylist= f.read().splitlines()\n",
    "    \n",
    "print(\"Read in: \",len(mylist),\"files\")\n",
    "\n",
    "# reading in all those files \n",
    "inputs = [] \n",
    "for i in mylist: \n",
    "    dat_ = pd.read_csv(cell_path + i,sep=\",\")\n",
    "    dat_.columns.values[5] = 'Centroid_X'\n",
    "    dat_.columns.values[6] = 'Centroid_Y'\n",
    "    dat = dat_[cell_extracted_features] # fixed extracted feature order\n",
    "    inputs.append(dat)\n",
    "print(\"Extracted:\", len(inputs),\"files\")\n"
   ]
  },
  {
   "cell_type": "code",
   "execution_count": 5,
   "metadata": {},
   "outputs": [
    {
     "name": "stdout",
     "output_type": "stream",
     "text": [
      "Read in: 8  NUMBER OF neighbouring cells files\n",
      "Extracted: 8 files\n",
      "no. of columns / NB file: [18, 18, 18, 18, 18, 18, 18, 18]\n"
     ]
    }
   ],
   "source": [
    "# Importing in neghbouring cells info (numbers)\n",
    "\n",
    "with open(nnb_path + nnb_training) as f: \n",
    "    nb_mylist= f.read().splitlines()\n",
    "    \n",
    "print(\"Read in:\",len(nb_mylist),\" NUMBER OF neighbouring cells files\")\n",
    "\n",
    "# reading in all those files \n",
    "nb_inputs = []\n",
    "nb_columns = [] \n",
    "for i in nb_mylist: \n",
    "    dat = pd.read_csv(nnb_path +i,sep=\",\")\n",
    "    dat.columns.values[0] = 'X'\n",
    "    dat.columns.values[1] = 'Y'\n",
    "    nb_inputs.append(dat)\n",
    "    nb_columns.append(dat.shape[1])\n",
    "    \n",
    "print(\"Extracted:\", len(nb_inputs),\"files\")\n",
    "print('no. of columns / NB file:', nb_columns)"
   ]
  },
  {
   "cell_type": "code",
   "execution_count": 6,
   "metadata": {},
   "outputs": [
    {
     "name": "stdout",
     "output_type": "stream",
     "text": [
      "Read in: 8 hema files\n",
      "Extracted: 8 hema files\n"
     ]
    }
   ],
   "source": [
    "#  Importing hema nucleus mean of all detected cells & location coordinates \n",
    "# Variables: hema_mylist, hema_inputs \n",
    "\n",
    "## obtaining list of files \n",
    "with open(hema_path + hema_training) as f: \n",
    "    hema_mylist= f.read().splitlines()\n",
    "    \n",
    "print(\"Read in:\",len(hema_mylist),\"hema files\")    \n",
    "\n",
    "\n",
    "## 4) reading in all those files \n",
    "hema_inputs = [] \n",
    "for i in hema_mylist: \n",
    "    dat = pd.read_csv(hema_path + i,sep=\",\")\n",
    "    dat.columns.values[0] = 'Centroid_X' # To fix naming inconsistency problem \n",
    "    dat.columns.values[1] = 'Centroid_Y'\n",
    "    hema_inputs.append(dat)\n",
    "\n",
    "print(\"Extracted:\",len(hema_inputs),\"hema files\")  \n"
   ]
  },
  {
   "cell_type": "code",
   "execution_count": 7,
   "metadata": {},
   "outputs": [
    {
     "name": "stdout",
     "output_type": "stream",
     "text": [
      "mylist & nb_list matched?: True\n",
      "mylist & hema_list matched?: True\n"
     ]
    }
   ],
   "source": [
    "# Checking if filenames & order of them from mylist, nb_mylist & hema_mylist match\n",
    "x_nb = [i[0:6] for i in nb_mylist]\n",
    "x = [i[0:6] for i in mylist]\n",
    "x_h = [i[0:6] for i in hema_mylist]\n",
    "print(\"mylist & nb_list matched?:\", x==x_nb)\n",
    "print(\"mylist & hema_list matched?:\",x==x_h)"
   ]
  },
  {
   "cell_type": "code",
   "execution_count": 8,
   "metadata": {},
   "outputs": [
    {
     "name": "stdout",
     "output_type": "stream",
     "text": [
      "[True, True, True, True, True, True, True, True]\n"
     ]
    }
   ],
   "source": [
    "# combine cells with NNB information\n",
    "inputs_with_nbb, output_log = combine_annotated_to_NNB2(annotated_list = inputs,\n",
    "                                   NNB_list = nb_inputs)\n",
    "print(output_log)"
   ]
  },
  {
   "cell_type": "code",
   "execution_count": 9,
   "metadata": {},
   "outputs": [],
   "source": [
    "# Find cells to remove based on hematoxylin staining (from normalisation, remove top 1%)\n",
    "hema_to_remove = find_hema_to_remove(hema_inputs)\n",
    "\n",
    "# for i in range(0,len(hema_to_remove)): \n",
    "#     print(i, \" No. of cells with normalised Hema >1:\",len(hema_to_remove[i]), \"from\", len(hema_inputs[i]),\"detected cells\")"
   ]
  },
  {
   "cell_type": "code",
   "execution_count": 10,
   "metadata": {},
   "outputs": [
    {
     "name": "stdout",
     "output_type": "stream",
     "text": [
      "[True, True, True, True, True, True, True, True]\n",
      "(420654, 56)\n"
     ]
    }
   ],
   "source": [
    "# remove cells that have hema above criteria\n",
    "cleaned_inputs, remove_log = remove_cell_hema(inputs_with_nbb,\n",
    "                                              hema_to_remove)\n",
    "print(remove_log)\n",
    "print(cleaned_inputs[0].shape)"
   ]
  },
  {
   "attachments": {},
   "cell_type": "markdown",
   "metadata": {},
   "source": [
    "### Putting the slides together "
   ]
  },
  {
   "cell_type": "code",
   "execution_count": 11,
   "metadata": {},
   "outputs": [
    {
     "name": "stdout",
     "output_type": "stream",
     "text": [
      "(1031543, 56)\n"
     ]
    },
    {
     "data": {
      "text/html": [
       "<div>\n",
       "<style scoped>\n",
       "    .dataframe tbody tr th:only-of-type {\n",
       "        vertical-align: middle;\n",
       "    }\n",
       "\n",
       "    .dataframe tbody tr th {\n",
       "        vertical-align: top;\n",
       "    }\n",
       "\n",
       "    .dataframe thead th {\n",
       "        text-align: right;\n",
       "    }\n",
       "</style>\n",
       "<table border=\"1\" class=\"dataframe\">\n",
       "  <thead>\n",
       "    <tr style=\"text-align: right;\">\n",
       "      <th></th>\n",
       "      <th>Image</th>\n",
       "      <th>Class</th>\n",
       "      <th>Centroid_X</th>\n",
       "      <th>Centroid_Y</th>\n",
       "      <th>Detection probability</th>\n",
       "      <th>Nucleus: Area µm^2</th>\n",
       "      <th>Nucleus: Length µm</th>\n",
       "      <th>Nucleus: Circularity</th>\n",
       "      <th>Nucleus: Solidity</th>\n",
       "      <th>Nucleus: Max diameter µm</th>\n",
       "      <th>...</th>\n",
       "      <th>NN_60_um</th>\n",
       "      <th>NN_70_um</th>\n",
       "      <th>NN_80_um</th>\n",
       "      <th>NN_90_um</th>\n",
       "      <th>NN_100_um</th>\n",
       "      <th>NN_110_um</th>\n",
       "      <th>NN_120_um</th>\n",
       "      <th>NN_130_um</th>\n",
       "      <th>NN_140_um</th>\n",
       "      <th>NN_150_um</th>\n",
       "    </tr>\n",
       "  </thead>\n",
       "  <tbody>\n",
       "    <tr>\n",
       "      <th>0</th>\n",
       "      <td>721703.svs</td>\n",
       "      <td>Unlabelled</td>\n",
       "      <td>23317.2</td>\n",
       "      <td>303.63</td>\n",
       "      <td>0.8626</td>\n",
       "      <td>24.0212</td>\n",
       "      <td>17.8053</td>\n",
       "      <td>0.9522</td>\n",
       "      <td>1.0000</td>\n",
       "      <td>6.4203</td>\n",
       "      <td>...</td>\n",
       "      <td>8</td>\n",
       "      <td>8</td>\n",
       "      <td>9</td>\n",
       "      <td>12</td>\n",
       "      <td>17</td>\n",
       "      <td>18</td>\n",
       "      <td>21</td>\n",
       "      <td>27</td>\n",
       "      <td>31</td>\n",
       "      <td>34</td>\n",
       "    </tr>\n",
       "    <tr>\n",
       "      <th>1</th>\n",
       "      <td>721703.svs</td>\n",
       "      <td>Unlabelled</td>\n",
       "      <td>23117.0</td>\n",
       "      <td>305.14</td>\n",
       "      <td>0.6539</td>\n",
       "      <td>28.8830</td>\n",
       "      <td>22.6611</td>\n",
       "      <td>0.7068</td>\n",
       "      <td>0.9962</td>\n",
       "      <td>8.9267</td>\n",
       "      <td>...</td>\n",
       "      <td>12</td>\n",
       "      <td>15</td>\n",
       "      <td>18</td>\n",
       "      <td>25</td>\n",
       "      <td>30</td>\n",
       "      <td>36</td>\n",
       "      <td>40</td>\n",
       "      <td>42</td>\n",
       "      <td>47</td>\n",
       "      <td>52</td>\n",
       "    </tr>\n",
       "    <tr>\n",
       "      <th>2</th>\n",
       "      <td>721703.svs</td>\n",
       "      <td>Unlabelled</td>\n",
       "      <td>23301.3</td>\n",
       "      <td>310.54</td>\n",
       "      <td>0.8008</td>\n",
       "      <td>57.8022</td>\n",
       "      <td>28.1008</td>\n",
       "      <td>0.9199</td>\n",
       "      <td>1.0000</td>\n",
       "      <td>10.7756</td>\n",
       "      <td>...</td>\n",
       "      <td>9</td>\n",
       "      <td>10</td>\n",
       "      <td>14</td>\n",
       "      <td>17</td>\n",
       "      <td>20</td>\n",
       "      <td>23</td>\n",
       "      <td>27</td>\n",
       "      <td>29</td>\n",
       "      <td>35</td>\n",
       "      <td>39</td>\n",
       "    </tr>\n",
       "    <tr>\n",
       "      <th>3</th>\n",
       "      <td>721703.svs</td>\n",
       "      <td>Unlabelled</td>\n",
       "      <td>23204.2</td>\n",
       "      <td>309.59</td>\n",
       "      <td>0.8541</td>\n",
       "      <td>29.3505</td>\n",
       "      <td>21.2158</td>\n",
       "      <td>0.8194</td>\n",
       "      <td>0.9948</td>\n",
       "      <td>7.9087</td>\n",
       "      <td>...</td>\n",
       "      <td>10</td>\n",
       "      <td>13</td>\n",
       "      <td>21</td>\n",
       "      <td>30</td>\n",
       "      <td>34</td>\n",
       "      <td>37</td>\n",
       "      <td>44</td>\n",
       "      <td>47</td>\n",
       "      <td>56</td>\n",
       "      <td>61</td>\n",
       "    </tr>\n",
       "    <tr>\n",
       "      <th>4</th>\n",
       "      <td>721703.svs</td>\n",
       "      <td>Unlabelled</td>\n",
       "      <td>23098.8</td>\n",
       "      <td>310.98</td>\n",
       "      <td>0.7954</td>\n",
       "      <td>25.5138</td>\n",
       "      <td>19.5136</td>\n",
       "      <td>0.8420</td>\n",
       "      <td>1.0000</td>\n",
       "      <td>7.4015</td>\n",
       "      <td>...</td>\n",
       "      <td>10</td>\n",
       "      <td>14</td>\n",
       "      <td>19</td>\n",
       "      <td>24</td>\n",
       "      <td>31</td>\n",
       "      <td>37</td>\n",
       "      <td>39</td>\n",
       "      <td>45</td>\n",
       "      <td>50</td>\n",
       "      <td>56</td>\n",
       "    </tr>\n",
       "  </tbody>\n",
       "</table>\n",
       "<p>5 rows × 53 columns</p>\n",
       "</div>"
      ],
      "text/plain": [
       "        Image       Class  Centroid_X  Centroid_Y  Detection probability  \\\n",
       "0  721703.svs  Unlabelled     23317.2      303.63                 0.8626   \n",
       "1  721703.svs  Unlabelled     23117.0      305.14                 0.6539   \n",
       "2  721703.svs  Unlabelled     23301.3      310.54                 0.8008   \n",
       "3  721703.svs  Unlabelled     23204.2      309.59                 0.8541   \n",
       "4  721703.svs  Unlabelled     23098.8      310.98                 0.7954   \n",
       "\n",
       "   Nucleus: Area µm^2  Nucleus: Length µm  Nucleus: Circularity  \\\n",
       "0             24.0212             17.8053                0.9522   \n",
       "1             28.8830             22.6611                0.7068   \n",
       "2             57.8022             28.1008                0.9199   \n",
       "3             29.3505             21.2158                0.8194   \n",
       "4             25.5138             19.5136                0.8420   \n",
       "\n",
       "   Nucleus: Solidity  Nucleus: Max diameter µm  ...  NN_60_um  NN_70_um  \\\n",
       "0             1.0000                    6.4203  ...         8         8   \n",
       "1             0.9962                    8.9267  ...        12        15   \n",
       "2             1.0000                   10.7756  ...         9        10   \n",
       "3             0.9948                    7.9087  ...        10        13   \n",
       "4             1.0000                    7.4015  ...        10        14   \n",
       "\n",
       "   NN_80_um  NN_90_um  NN_100_um  NN_110_um  NN_120_um  NN_130_um  NN_140_um  \\\n",
       "0         9        12         17         18         21         27         31   \n",
       "1        18        25         30         36         40         42         47   \n",
       "2        14        17         20         23         27         29         35   \n",
       "3        21        30         34         37         44         47         56   \n",
       "4        19        24         31         37         39         45         50   \n",
       "\n",
       "   NN_150_um  \n",
       "0         34  \n",
       "1         52  \n",
       "2         39  \n",
       "3         61  \n",
       "4         56  \n",
       "\n",
       "[5 rows x 53 columns]"
      ]
     },
     "execution_count": 11,
     "metadata": {},
     "output_type": "execute_result"
    }
   ],
   "source": [
    "##Variables: labelled_orig, labelled_data \n",
    "#1) Put the slides together\n",
    "\n",
    "labelled_orig = pd.concat(cleaned_inputs)\n",
    "print(labelled_orig.shape)\n",
    "\n",
    "# 2) Extract relevant columns \n",
    "dat = labelled_orig.drop(columns=['Name','Parent','ROI']) \n",
    "dat.head()\n"
   ]
  },
  {
   "attachments": {},
   "cell_type": "markdown",
   "metadata": {},
   "source": [
    "### Extracting relevant cell classes"
   ]
  },
  {
   "cell_type": "code",
   "execution_count": 12,
   "metadata": {},
   "outputs": [
    {
     "data": {
      "text/plain": [
       "unlabelled    1029835\n",
       "neuron            476\n",
       "oligo             445\n",
       "ignore            244\n",
       "astro             220\n",
       "epithelial        159\n",
       "endo              123\n",
       "ambiguous          33\n",
       "fragmented          6\n",
       "region              2\n",
       "Name: Class, dtype: int64"
      ]
     },
     "execution_count": 12,
     "metadata": {},
     "output_type": "execute_result"
    }
   ],
   "source": [
    "# Make all class names lower case - easier for later selection\n",
    "\n",
    "dat_lower_class = [i.lower() for i in dat['Class']]\n",
    "dat2 = dat.copy()\n",
    "dat2.loc[:,'Class'] = dat_lower_class \n",
    "dat2['Class'].value_counts()"
   ]
  },
  {
   "cell_type": "code",
   "execution_count": 13,
   "metadata": {},
   "outputs": [
    {
     "data": {
      "text/plain": [
       "neuron        476\n",
       "oligo         445\n",
       "ignore        244\n",
       "astro         220\n",
       "epithelial    159\n",
       "endo          123\n",
       "fragmented      6\n",
       "Name: Class, dtype: int64"
      ]
     },
     "execution_count": 13,
     "metadata": {},
     "output_type": "execute_result"
    }
   ],
   "source": [
    "# Select only relevant cell classes (Using stardist_error instead of ignore_new)\n",
    "dat3 = dat2[(dat2['Class'] == 'oligo') | (dat2['Class'] == 'neuron')\n",
    "          | (dat2['Class'] == 'astro')| (dat2['Class'] == 'epithelial')\n",
    "          | (dat2['Class'] == 'endo')| (dat2['Class'] == 'fragmented')\n",
    "          | (dat2['Class'] == 'ignore')]\n",
    "dat3=dat3.reset_index(drop=True)\n",
    "\n",
    "# Checking results\n",
    "dat3['Class'].value_counts()"
   ]
  },
  {
   "cell_type": "code",
   "execution_count": 14,
   "metadata": {},
   "outputs": [],
   "source": [
    "cell_code = {'neuron':'Neuron',\n",
    "             'oligo': 'Oligo',\n",
    "             'ignore': 'Others',\n",
    "             'astro':'Astro',\n",
    "             'epithelial':'Others',\n",
    "             'endo':'Others',\n",
    "             'fragmented':'Others'}"
   ]
  },
  {
   "cell_type": "code",
   "execution_count": 15,
   "metadata": {},
   "outputs": [],
   "source": [
    "# 3) Changing Epithelial to Endothelial\n",
    "classes = dat3['Class']\n",
    "formatted_classes = [cell_code[i]  for i in classes]\n",
    "data = dat3.copy()\n",
    "data.loc[:,'Class']=formatted_classes"
   ]
  },
  {
   "cell_type": "code",
   "execution_count": 16,
   "metadata": {},
   "outputs": [
    {
     "data": {
      "text/plain": [
       "Others    532\n",
       "Neuron    476\n",
       "Oligo     445\n",
       "Astro     220\n",
       "Name: Class, dtype: int64"
      ]
     },
     "execution_count": 16,
     "metadata": {},
     "output_type": "execute_result"
    }
   ],
   "source": [
    "data['Class'].value_counts()"
   ]
  },
  {
   "attachments": {},
   "cell_type": "markdown",
   "metadata": {},
   "source": [
    "# Training the model"
   ]
  },
  {
   "attachments": {},
   "cell_type": "markdown",
   "metadata": {},
   "source": [
    "### Checking for any NA in the data"
   ]
  },
  {
   "cell_type": "code",
   "execution_count": 17,
   "metadata": {},
   "outputs": [
    {
     "name": "stdout",
     "output_type": "stream",
     "text": [
      "Any NA in the data?:  False\n"
     ]
    }
   ],
   "source": [
    "#checking for NAN \n",
    "## NEW \n",
    "print(\"Any NA in the data?: \",data.isnull().sum().sum()==1)\n",
    "\n",
    "# dat = dat.dropna()\n",
    "# dat.isnull().sum().sum()"
   ]
  },
  {
   "cell_type": "code",
   "execution_count": 18,
   "metadata": {},
   "outputs": [
    {
     "name": "stdout",
     "output_type": "stream",
     "text": [
      "sampling:  20 %\n",
      "Fitting 10 folds for each of 100 candidates, totalling 1000 fits\n",
      "sampling:  40 %\n",
      "Fitting 10 folds for each of 100 candidates, totalling 1000 fits\n",
      "sampling:  60 %\n",
      "Fitting 10 folds for each of 100 candidates, totalling 1000 fits\n",
      "sampling:  80 %\n",
      "Fitting 10 folds for each of 100 candidates, totalling 1000 fits\n",
      "sampling:  100 %\n",
      "Fitting 10 folds for each of 100 candidates, totalling 1000 fits\n"
     ]
    }
   ],
   "source": [
    "total_ = [] \n",
    "mean_total = []\n",
    "all_ = [] \n",
    "\n",
    "\n",
    "sampling = list(range(20,120,20)) # 10% each time \n",
    "for i in sampling: \n",
    "    \n",
    "    # Randomly picking out cells at 10% increment each time\n",
    "    to_sample_from = data.copy() \n",
    "    dat_sampled= to_sample_from.groupby('Class',group_keys=False).apply(lambda x: x.sample(frac=(i/100),random_state=42))\n",
    "    print('sampling: ', i, '%')\n",
    "    X_train = dat_sampled.drop(columns=['Class','Image','Centroid_X','Centroid_Y'])\n",
    "    y_train = dat_sampled['Class']\n",
    "\n",
    "\n",
    "    # 3) Specify parameters for grid search \n",
    "    rf_random = RandomizedSearchCV(pipeline_cell,\n",
    "                             param_distributions=random_grid, \n",
    "                             n_iter=100,\n",
    "                             cv=10,\n",
    "                             verbose=2,\n",
    "                            random_state=42,\n",
    "                            n_jobs=-1,\n",
    "                            refit='PR_AUC', # use this metric to evaluate performance of parameters \n",
    "                            scoring={'PR_AUC':precision_recall_auc,\n",
    "                            'roc_auc_ovr_weighted':'roc_auc_ovr_weighted',\n",
    "                            'roc_auc_ovo':'roc_auc_ovo',\n",
    "                            'balanced_accuracy':'balanced_accuracy',\n",
    "                            'f1_weighted':'f1_weighted',\n",
    "                            'Astro_accuracy': astro_acc,\n",
    "                            'Neuron_accuracy':neuron_acc,\n",
    "                            'Oligo_accuracy':oligo_acc,\n",
    "                            'Others_accuracy':others_acc\n",
    "                            },\n",
    "                                  return_train_score=True)\n",
    "\n",
    "    # 4) Run grid search \n",
    "    rf_random.fit(X_train,y_train)\n",
    "\n",
    "    ## Appending data together \n",
    "    accuracies_10_fold = [] \n",
    "    for i in range(0,10): \n",
    "        x = rf_random.cv_results_['split'+str(i)+'_test_PR_AUC'][rf_random.best_index_]\n",
    "        accuracies_10_fold.append(x)\n",
    "\n",
    "    total_.append(accuracies_10_fold)\n",
    "    mean_total.append(mean(accuracies_10_fold))\n",
    "    all_.append(rf_random) "
   ]
  },
  {
   "attachments": {},
   "cell_type": "markdown",
   "metadata": {},
   "source": [
    "### Saving outputs"
   ]
  },
  {
   "cell_type": "code",
   "execution_count": 19,
   "metadata": {},
   "outputs": [
    {
     "data": {
      "text/plain": [
       "['occipital_all.sav']"
      ]
     },
     "execution_count": 19,
     "metadata": {},
     "output_type": "execute_result"
    }
   ],
   "source": [
    "joblib.dump(total_,\"occipital_total_.sav\")\n",
    "joblib.dump(mean_total,\"occipital_mean_total.sav\")\n",
    "joblib.dump(all_,\"occipital_all.sav\")"
   ]
  },
  {
   "attachments": {},
   "cell_type": "markdown",
   "metadata": {},
   "source": [
    "### Inspecting outputs"
   ]
  },
  {
   "cell_type": "code",
   "execution_count": 20,
   "metadata": {},
   "outputs": [
    {
     "name": "stdout",
     "output_type": "stream",
     "text": [
      "[0.7894701757149944, 0.8174406751684122, 0.817753715085229, 0.8316310375155386, 0.8366027609011869]\n"
     ]
    }
   ],
   "source": [
    "#Extract best params per sampling point (from 20% to 100%, 20% step)\n",
    "best_params = []\n",
    "best_scores = []\n",
    "for i in range(0,5):\n",
    "    best_params.append(all_[i].best_params_)\n",
    "    best_scores.append(all_[i].best_score_)\n",
    "print(best_scores)"
   ]
  },
  {
   "cell_type": "code",
   "execution_count": 21,
   "metadata": {},
   "outputs": [],
   "source": [
    "folder_path = \"C:/Users/mokur/OneDrive - University of Cambridge/Attachments/Jan2023/Cell_pipeline/Sample_size_check/Occipital/\""
   ]
  },
  {
   "attachments": {},
   "cell_type": "markdown",
   "metadata": {},
   "source": [
    "Fit times"
   ]
  },
  {
   "cell_type": "code",
   "execution_count": 22,
   "metadata": {},
   "outputs": [],
   "source": [
    "## get fit times (mean & sd)\n",
    "m_fit_times = []\n",
    "std_fit_times= [] \n",
    "for i in range(0,5):\n",
    "    m_fit_times.append(all_[i].cv_results_['mean_fit_time'])\n",
    "    std_fit_times.append(all_[i].cv_results_['std_fit_time'])"
   ]
  },
  {
   "cell_type": "code",
   "execution_count": 25,
   "metadata": {},
   "outputs": [],
   "source": [
    "## Calculate confidence interval: fit times \n",
    "\n",
    "mean_m_fit_times = [np.mean(i) for i in m_fit_times]\n",
    "\n",
    "fit_total_CI = [st.t.interval(confidence=0.95, df=len(i)-1,\n",
    "                                      loc=np.mean(i), scale=st.sem(i)) for i in m_fit_times]\n",
    "fit_lower_ci = [i[0] for i in fit_total_CI]\n",
    "fit_upper_ci = [i[1] for i in fit_total_CI]\n",
    "cells = [int(i/100*data.shape[0]) for i in sampling]\n",
    "fit_times_rbf = pd.DataFrame({'mean':mean_m_fit_times,\n",
    "                           'lower_ci':fit_lower_ci,\n",
    "                            'upper_ci':fit_upper_ci,\n",
    "                           'cells':cells})"
   ]
  },
  {
   "cell_type": "code",
   "execution_count": 26,
   "metadata": {},
   "outputs": [
    {
     "data": {
      "text/html": [
       "<div>\n",
       "<style scoped>\n",
       "    .dataframe tbody tr th:only-of-type {\n",
       "        vertical-align: middle;\n",
       "    }\n",
       "\n",
       "    .dataframe tbody tr th {\n",
       "        vertical-align: top;\n",
       "    }\n",
       "\n",
       "    .dataframe thead th {\n",
       "        text-align: right;\n",
       "    }\n",
       "</style>\n",
       "<table border=\"1\" class=\"dataframe\">\n",
       "  <thead>\n",
       "    <tr style=\"text-align: right;\">\n",
       "      <th></th>\n",
       "      <th>mean</th>\n",
       "      <th>lower_ci</th>\n",
       "      <th>upper_ci</th>\n",
       "      <th>cells</th>\n",
       "    </tr>\n",
       "  </thead>\n",
       "  <tbody>\n",
       "    <tr>\n",
       "      <th>0</th>\n",
       "      <td>9.083413</td>\n",
       "      <td>8.491383</td>\n",
       "      <td>9.675444</td>\n",
       "      <td>334</td>\n",
       "    </tr>\n",
       "    <tr>\n",
       "      <th>1</th>\n",
       "      <td>12.221319</td>\n",
       "      <td>11.386769</td>\n",
       "      <td>13.055870</td>\n",
       "      <td>669</td>\n",
       "    </tr>\n",
       "    <tr>\n",
       "      <th>2</th>\n",
       "      <td>14.501890</td>\n",
       "      <td>13.509183</td>\n",
       "      <td>15.494597</td>\n",
       "      <td>1003</td>\n",
       "    </tr>\n",
       "    <tr>\n",
       "      <th>3</th>\n",
       "      <td>18.437882</td>\n",
       "      <td>17.130474</td>\n",
       "      <td>19.745290</td>\n",
       "      <td>1338</td>\n",
       "    </tr>\n",
       "    <tr>\n",
       "      <th>4</th>\n",
       "      <td>23.037341</td>\n",
       "      <td>21.334329</td>\n",
       "      <td>24.740354</td>\n",
       "      <td>1673</td>\n",
       "    </tr>\n",
       "  </tbody>\n",
       "</table>\n",
       "</div>"
      ],
      "text/plain": [
       "        mean   lower_ci   upper_ci  cells\n",
       "0   9.083413   8.491383   9.675444    334\n",
       "1  12.221319  11.386769  13.055870    669\n",
       "2  14.501890  13.509183  15.494597   1003\n",
       "3  18.437882  17.130474  19.745290   1338\n",
       "4  23.037341  21.334329  24.740354   1673"
      ]
     },
     "execution_count": 26,
     "metadata": {},
     "output_type": "execute_result"
    }
   ],
   "source": [
    "fit_times_rbf"
   ]
  },
  {
   "cell_type": "code",
   "execution_count": 27,
   "metadata": {},
   "outputs": [
    {
     "data": {
      "image/png": "[encoded data removed]",
      "text/plain": [
       "<Figure size 640x480 with 1 Axes>"
      ]
     },
     "metadata": {},
     "output_type": "display_data"
    }
   ],
   "source": [
    "fig, ax=plt.subplots()\n",
    "\n",
    "ax.plot(fit_times_rbf['cells'],fit_times_rbf['mean'],marker='o',markerfacecolor='purple',linestyle='dashed',color='red')\n",
    "ax.fill_between(fit_times_rbf['cells'],fit_times_rbf['lower_ci'],fit_times_rbf['upper_ci'],color='red',alpha=.1)\n",
    "\n",
    "\n",
    "plt.xlabel('Number of training examples')\n",
    "plt.ylabel('Mean fit times')\n",
    "plt.title('Scalability of the model')\n",
    "\n",
    "path = folder_path+\"fittimes_curve.jpg\"\n",
    "plt.savefig(path)"
   ]
  },
  {
   "attachments": {},
   "cell_type": "markdown",
   "metadata": {},
   "source": [
    "Balanced accuracy"
   ]
  },
  {
   "cell_type": "code",
   "execution_count": 28,
   "metadata": {},
   "outputs": [],
   "source": [
    "samp_test_acc = [] \n",
    "samp_train_acc = []\n",
    "for i in range(0,5):  \n",
    "    test_acc=[]\n",
    "    train_acc=[]\n",
    "    for r in range(0,5):\n",
    "        test_acc.append(all_[i].cv_results_['split'+str(r)+'_test_balanced_accuracy'][all_[i].best_index_]*100)\n",
    "        train_acc.append(all_[i].cv_results_['split'+str(r)+'_train_balanced_accuracy'][all_[i].best_index_]*100)\n",
    "    samp_test_acc.append(test_acc)\n",
    "    samp_train_acc.append(train_acc)\n",
    "    "
   ]
  },
  {
   "cell_type": "code",
   "execution_count": 29,
   "metadata": {},
   "outputs": [],
   "source": [
    "# Rbf-SVM: Validation - calculate confidence interval (training balanced accuracy)\n",
    "\n",
    "v_scaled_mean = [np.mean(i) for i in samp_train_acc]\n",
    "\n",
    "v_total_CI = [st.t.interval(confidence=0.95,\n",
    "                            df=len(i)-1,\n",
    "                            loc=np.mean(i),\n",
    "                            scale=st.sem(i)) for i in samp_train_acc]\n",
    "v_lower_ci = [i[0] for i in v_total_CI]\n",
    "v_upper_ci = [i[1] for i in v_total_CI]\n",
    "cells = [int(i/100*data.shape[0]) for i in sampling]\n",
    "train_rbf = pd.DataFrame({'mean':v_scaled_mean,\n",
    "                           'lower_ci':v_lower_ci,\n",
    "                            'upper_ci':v_upper_ci,\n",
    "                           'cells':cells})"
   ]
  },
  {
   "cell_type": "code",
   "execution_count": 30,
   "metadata": {},
   "outputs": [
    {
     "data": {
      "text/html": [
       "<div>\n",
       "<style scoped>\n",
       "    .dataframe tbody tr th:only-of-type {\n",
       "        vertical-align: middle;\n",
       "    }\n",
       "\n",
       "    .dataframe tbody tr th {\n",
       "        vertical-align: top;\n",
       "    }\n",
       "\n",
       "    .dataframe thead th {\n",
       "        text-align: right;\n",
       "    }\n",
       "</style>\n",
       "<table border=\"1\" class=\"dataframe\">\n",
       "  <thead>\n",
       "    <tr style=\"text-align: right;\">\n",
       "      <th></th>\n",
       "      <th>mean</th>\n",
       "      <th>lower_ci</th>\n",
       "      <th>upper_ci</th>\n",
       "      <th>cells</th>\n",
       "    </tr>\n",
       "  </thead>\n",
       "  <tbody>\n",
       "    <tr>\n",
       "      <th>0</th>\n",
       "      <td>87.605433</td>\n",
       "      <td>86.598147</td>\n",
       "      <td>88.612718</td>\n",
       "      <td>334</td>\n",
       "    </tr>\n",
       "    <tr>\n",
       "      <th>1</th>\n",
       "      <td>91.492742</td>\n",
       "      <td>90.964310</td>\n",
       "      <td>92.021174</td>\n",
       "      <td>669</td>\n",
       "    </tr>\n",
       "    <tr>\n",
       "      <th>2</th>\n",
       "      <td>88.212102</td>\n",
       "      <td>87.954342</td>\n",
       "      <td>88.469862</td>\n",
       "      <td>1003</td>\n",
       "    </tr>\n",
       "    <tr>\n",
       "      <th>3</th>\n",
       "      <td>85.440789</td>\n",
       "      <td>85.035538</td>\n",
       "      <td>85.846041</td>\n",
       "      <td>1338</td>\n",
       "    </tr>\n",
       "    <tr>\n",
       "      <th>4</th>\n",
       "      <td>86.300212</td>\n",
       "      <td>85.980541</td>\n",
       "      <td>86.619883</td>\n",
       "      <td>1673</td>\n",
       "    </tr>\n",
       "  </tbody>\n",
       "</table>\n",
       "</div>"
      ],
      "text/plain": [
       "        mean   lower_ci   upper_ci  cells\n",
       "0  87.605433  86.598147  88.612718    334\n",
       "1  91.492742  90.964310  92.021174    669\n",
       "2  88.212102  87.954342  88.469862   1003\n",
       "3  85.440789  85.035538  85.846041   1338\n",
       "4  86.300212  85.980541  86.619883   1673"
      ]
     },
     "execution_count": 30,
     "metadata": {},
     "output_type": "execute_result"
    }
   ],
   "source": [
    "train_rbf"
   ]
  },
  {
   "cell_type": "code",
   "execution_count": 31,
   "metadata": {},
   "outputs": [],
   "source": [
    "# Rbf-SVM: Validation - calculate confidence interval \n",
    "\n",
    "v_scaled_mean = [np.mean(i) for i in samp_test_acc]\n",
    "\n",
    "v_total_CI = [st.t.interval(confidence=0.95,\n",
    "                            df=len(i)-1,\n",
    "                            loc=np.mean(i),\n",
    "                            scale=st.sem(i)) for i in samp_test_acc]\n",
    "v_lower_ci = [i[0] for i in v_total_CI]\n",
    "v_upper_ci = [i[1] for i in v_total_CI]\n",
    "cells = [int(i/100*data.shape[0]) for i in sampling]\n",
    "validation_rbf = pd.DataFrame({'mean':v_scaled_mean,\n",
    "                           'lower_ci':v_lower_ci,\n",
    "                            'upper_ci':v_upper_ci,\n",
    "                           'cells':cells})"
   ]
  },
  {
   "cell_type": "code",
   "execution_count": 32,
   "metadata": {},
   "outputs": [
    {
     "data": {
      "text/html": [
       "<div>\n",
       "<style scoped>\n",
       "    .dataframe tbody tr th:only-of-type {\n",
       "        vertical-align: middle;\n",
       "    }\n",
       "\n",
       "    .dataframe tbody tr th {\n",
       "        vertical-align: top;\n",
       "    }\n",
       "\n",
       "    .dataframe thead th {\n",
       "        text-align: right;\n",
       "    }\n",
       "</style>\n",
       "<table border=\"1\" class=\"dataframe\">\n",
       "  <thead>\n",
       "    <tr style=\"text-align: right;\">\n",
       "      <th></th>\n",
       "      <th>mean</th>\n",
       "      <th>lower_ci</th>\n",
       "      <th>upper_ci</th>\n",
       "      <th>cells</th>\n",
       "    </tr>\n",
       "  </thead>\n",
       "  <tbody>\n",
       "    <tr>\n",
       "      <th>0</th>\n",
       "      <td>66.949495</td>\n",
       "      <td>58.455130</td>\n",
       "      <td>75.443860</td>\n",
       "      <td>334</td>\n",
       "    </tr>\n",
       "    <tr>\n",
       "      <th>1</th>\n",
       "      <td>69.237678</td>\n",
       "      <td>57.876184</td>\n",
       "      <td>80.599171</td>\n",
       "      <td>669</td>\n",
       "    </tr>\n",
       "    <tr>\n",
       "      <th>2</th>\n",
       "      <td>72.979727</td>\n",
       "      <td>65.438871</td>\n",
       "      <td>80.520582</td>\n",
       "      <td>1003</td>\n",
       "    </tr>\n",
       "    <tr>\n",
       "      <th>3</th>\n",
       "      <td>75.047211</td>\n",
       "      <td>68.463244</td>\n",
       "      <td>81.631178</td>\n",
       "      <td>1338</td>\n",
       "    </tr>\n",
       "    <tr>\n",
       "      <th>4</th>\n",
       "      <td>76.726232</td>\n",
       "      <td>70.877830</td>\n",
       "      <td>82.574635</td>\n",
       "      <td>1673</td>\n",
       "    </tr>\n",
       "  </tbody>\n",
       "</table>\n",
       "</div>"
      ],
      "text/plain": [
       "        mean   lower_ci   upper_ci  cells\n",
       "0  66.949495  58.455130  75.443860    334\n",
       "1  69.237678  57.876184  80.599171    669\n",
       "2  72.979727  65.438871  80.520582   1003\n",
       "3  75.047211  68.463244  81.631178   1338\n",
       "4  76.726232  70.877830  82.574635   1673"
      ]
     },
     "execution_count": 32,
     "metadata": {},
     "output_type": "execute_result"
    }
   ],
   "source": [
    "validation_rbf"
   ]
  },
  {
   "cell_type": "code",
   "execution_count": 33,
   "metadata": {},
   "outputs": [
    {
     "data": {
      "image/png": "[encoded data removed]",
      "text/plain": [
       "<Figure size 640x480 with 1 Axes>"
      ]
     },
     "metadata": {},
     "output_type": "display_data"
    }
   ],
   "source": [
    "fig, ax=plt.subplots()\n",
    "ax.plot(validation_rbf['cells'],validation_rbf['mean'],marker='o',markerfacecolor='blue',linestyle='dashed',color='green')\n",
    "ax.fill_between(validation_rbf['cells'],validation_rbf['lower_ci'],validation_rbf['upper_ci'],color='b',alpha=.1)\n",
    "\n",
    "plt.xlabel('Number of training examples')\n",
    "plt.ylabel('Balanced accuracy %')\n",
    "plt.title('Validation curve')\n",
    "plt.ylim([50,100])\n",
    "\n",
    "path = folder_path+\"validation_curve_BA.jpg\"\n",
    "plt.savefig(path)"
   ]
  },
  {
   "cell_type": "code",
   "execution_count": 35,
   "metadata": {},
   "outputs": [
    {
     "data": {
      "image/png": "[encoded data removed]",
      "text/plain": [
       "<Figure size 640x480 with 1 Axes>"
      ]
     },
     "metadata": {},
     "output_type": "display_data"
    }
   ],
   "source": [
    "fig, ax=plt.subplots()\n",
    "\n",
    "ax.plot(train_rbf['cells'],train_rbf['mean'],marker='o',markerfacecolor='purple',linestyle='dashed',color='red')\n",
    "ax.fill_between(train_rbf['cells'],train_rbf['lower_ci'],train_rbf['upper_ci'],color='red',alpha=.1)\n",
    "\n",
    "ax.plot(validation_rbf['cells'],validation_rbf['mean'],marker='o',markerfacecolor='blue',linestyle='dashed',color='green')\n",
    "ax.fill_between(validation_rbf['cells'],validation_rbf['lower_ci'],validation_rbf['upper_ci'],color='b',alpha=.1)\n",
    "\n",
    "plt.xlabel('Number of training examples')\n",
    "plt.ylabel('Balanced accuracy (%)')\n",
    "plt.title('Learning curves')\n",
    "plt.legend([\"Training score\", \"95% CI\", \"Validation score\", \"95% CI\"],bbox_to_anchor=(1.5,0.4))\n",
    "plt.ylim([50,100])\n",
    "\n",
    "path = folder_path + \"learning_curves_BA.jpg\"\n",
    "plt.savefig(path)"
   ]
  },
  {
   "attachments": {},
   "cell_type": "markdown",
   "metadata": {},
   "source": [
    "PR AUC"
   ]
  },
  {
   "cell_type": "code",
   "execution_count": 36,
   "metadata": {},
   "outputs": [],
   "source": [
    "## Get train accuracies \n",
    "total_train =[] \n",
    "for s in range(0,5): # looping through sampling points \n",
    "    samp = all_[s]\n",
    "    train_accuracies = [] \n",
    "    for i in range(0,10): # looping through 10 folds\n",
    "        t = samp.cv_results_['split'+str(i)+'_train_PR_AUC'][samp.best_index_]*100\n",
    "        train_accuracies.append(t)\n",
    "    total_train.append(train_accuracies)\n",
    "        "
   ]
  },
  {
   "cell_type": "code",
   "execution_count": 37,
   "metadata": {},
   "outputs": [],
   "source": [
    "## Training - calculate confidence interval \n",
    "t_scaled_mean = [np.mean(i) for i in total_train]\n",
    "\n",
    "t_total_CI = [st.t.interval(confidence=0.95, df=len(i)-1, loc=np.mean(i), scale=st.sem(i)) for i in total_train]\n",
    "\n",
    "t_lower_ci = [i[0] for i in t_total_CI]\n",
    "t_upper_ci = [i[1] for i in t_total_CI]\n",
    "cells = [int(i/100*data.shape[0]) for i in sampling]\n",
    "train_rbf_PR = pd.DataFrame({'mean':t_scaled_mean,\n",
    "                           'lower_ci':t_lower_ci,\n",
    "                            'upper_ci':t_upper_ci,\n",
    "                           'cells':cells})"
   ]
  },
  {
   "cell_type": "code",
   "execution_count": 38,
   "metadata": {},
   "outputs": [
    {
     "data": {
      "text/html": [
       "<div>\n",
       "<style scoped>\n",
       "    .dataframe tbody tr th:only-of-type {\n",
       "        vertical-align: middle;\n",
       "    }\n",
       "\n",
       "    .dataframe tbody tr th {\n",
       "        vertical-align: top;\n",
       "    }\n",
       "\n",
       "    .dataframe thead th {\n",
       "        text-align: right;\n",
       "    }\n",
       "</style>\n",
       "<table border=\"1\" class=\"dataframe\">\n",
       "  <thead>\n",
       "    <tr style=\"text-align: right;\">\n",
       "      <th></th>\n",
       "      <th>mean</th>\n",
       "      <th>lower_ci</th>\n",
       "      <th>upper_ci</th>\n",
       "      <th>cells</th>\n",
       "    </tr>\n",
       "  </thead>\n",
       "  <tbody>\n",
       "    <tr>\n",
       "      <th>0</th>\n",
       "      <td>97.431656</td>\n",
       "      <td>97.283366</td>\n",
       "      <td>97.579946</td>\n",
       "      <td>334</td>\n",
       "    </tr>\n",
       "    <tr>\n",
       "      <th>1</th>\n",
       "      <td>98.487160</td>\n",
       "      <td>98.392495</td>\n",
       "      <td>98.581826</td>\n",
       "      <td>669</td>\n",
       "    </tr>\n",
       "    <tr>\n",
       "      <th>2</th>\n",
       "      <td>96.840436</td>\n",
       "      <td>96.748596</td>\n",
       "      <td>96.932275</td>\n",
       "      <td>1003</td>\n",
       "    </tr>\n",
       "    <tr>\n",
       "      <th>3</th>\n",
       "      <td>94.501898</td>\n",
       "      <td>94.404493</td>\n",
       "      <td>94.599302</td>\n",
       "      <td>1338</td>\n",
       "    </tr>\n",
       "    <tr>\n",
       "      <th>4</th>\n",
       "      <td>94.754171</td>\n",
       "      <td>94.665908</td>\n",
       "      <td>94.842433</td>\n",
       "      <td>1673</td>\n",
       "    </tr>\n",
       "  </tbody>\n",
       "</table>\n",
       "</div>"
      ],
      "text/plain": [
       "        mean   lower_ci   upper_ci  cells\n",
       "0  97.431656  97.283366  97.579946    334\n",
       "1  98.487160  98.392495  98.581826    669\n",
       "2  96.840436  96.748596  96.932275   1003\n",
       "3  94.501898  94.404493  94.599302   1338\n",
       "4  94.754171  94.665908  94.842433   1673"
      ]
     },
     "execution_count": 38,
     "metadata": {},
     "output_type": "execute_result"
    }
   ],
   "source": [
    "train_rbf_PR"
   ]
  },
  {
   "cell_type": "code",
   "execution_count": 39,
   "metadata": {},
   "outputs": [],
   "source": [
    "# Rbf-SVM: Validation - calculate confidence interval \n",
    "\n",
    "v_scaled_total = [] \n",
    "for t in total_: \n",
    "    s=[]\n",
    "    for i in t: \n",
    "        i_=i *100\n",
    "        s.append(i_)\n",
    "    v_scaled_total.append(s) \n",
    "    \n",
    "v_scaled_mean = [np.mean(i) for i in v_scaled_total]\n",
    "\n",
    "v_total_CI = [st.t.interval(confidence=0.95,\n",
    "                            df=len(i)-1,\n",
    "                            loc=np.mean(i),\n",
    "                            scale=st.sem(i)) for i in v_scaled_total]\n",
    "v_lower_ci = [i[0] for i in v_total_CI]\n",
    "v_upper_ci = [i[1] for i in v_total_CI]\n",
    "cells = [int(i/100*data.shape[0]) for i in sampling]\n",
    "validation_rbf_PR = pd.DataFrame({'mean':v_scaled_mean,\n",
    "                           'lower_ci':v_lower_ci,\n",
    "                            'upper_ci':v_upper_ci,\n",
    "                           'cells':cells})"
   ]
  },
  {
   "cell_type": "code",
   "execution_count": 40,
   "metadata": {},
   "outputs": [
    {
     "data": {
      "text/html": [
       "<div>\n",
       "<style scoped>\n",
       "    .dataframe tbody tr th:only-of-type {\n",
       "        vertical-align: middle;\n",
       "    }\n",
       "\n",
       "    .dataframe tbody tr th {\n",
       "        vertical-align: top;\n",
       "    }\n",
       "\n",
       "    .dataframe thead th {\n",
       "        text-align: right;\n",
       "    }\n",
       "</style>\n",
       "<table border=\"1\" class=\"dataframe\">\n",
       "  <thead>\n",
       "    <tr style=\"text-align: right;\">\n",
       "      <th></th>\n",
       "      <th>mean</th>\n",
       "      <th>lower_ci</th>\n",
       "      <th>upper_ci</th>\n",
       "      <th>cells</th>\n",
       "    </tr>\n",
       "  </thead>\n",
       "  <tbody>\n",
       "    <tr>\n",
       "      <th>0</th>\n",
       "      <td>78.947018</td>\n",
       "      <td>71.209556</td>\n",
       "      <td>86.684479</td>\n",
       "      <td>334</td>\n",
       "    </tr>\n",
       "    <tr>\n",
       "      <th>1</th>\n",
       "      <td>81.744068</td>\n",
       "      <td>76.896943</td>\n",
       "      <td>86.591192</td>\n",
       "      <td>669</td>\n",
       "    </tr>\n",
       "    <tr>\n",
       "      <th>2</th>\n",
       "      <td>81.775372</td>\n",
       "      <td>78.127771</td>\n",
       "      <td>85.422972</td>\n",
       "      <td>1003</td>\n",
       "    </tr>\n",
       "    <tr>\n",
       "      <th>3</th>\n",
       "      <td>83.163104</td>\n",
       "      <td>79.438521</td>\n",
       "      <td>86.887686</td>\n",
       "      <td>1338</td>\n",
       "    </tr>\n",
       "    <tr>\n",
       "      <th>4</th>\n",
       "      <td>83.660276</td>\n",
       "      <td>80.201906</td>\n",
       "      <td>87.118646</td>\n",
       "      <td>1673</td>\n",
       "    </tr>\n",
       "  </tbody>\n",
       "</table>\n",
       "</div>"
      ],
      "text/plain": [
       "        mean   lower_ci   upper_ci  cells\n",
       "0  78.947018  71.209556  86.684479    334\n",
       "1  81.744068  76.896943  86.591192    669\n",
       "2  81.775372  78.127771  85.422972   1003\n",
       "3  83.163104  79.438521  86.887686   1338\n",
       "4  83.660276  80.201906  87.118646   1673"
      ]
     },
     "execution_count": 40,
     "metadata": {},
     "output_type": "execute_result"
    }
   ],
   "source": [
    "validation_rbf_PR"
   ]
  },
  {
   "cell_type": "code",
   "execution_count": 41,
   "metadata": {},
   "outputs": [
    {
     "data": {
      "image/png": "[encoded data removed]",
      "text/plain": [
       "<Figure size 640x480 with 1 Axes>"
      ]
     },
     "metadata": {},
     "output_type": "display_data"
    }
   ],
   "source": [
    "fig, ax=plt.subplots()\n",
    "ax.plot(validation_rbf_PR['cells'],\n",
    "        validation_rbf_PR['mean'],\n",
    "        marker='o',markerfacecolor='blue',linestyle='dashed',color='green')\n",
    "ax.fill_between(validation_rbf_PR['cells'],\n",
    "                validation_rbf_PR['lower_ci'],\n",
    "                validation_rbf_PR['upper_ci'],\n",
    "                color='b',alpha=.1)\n",
    "\n",
    "plt.xlabel('Number of training examples')\n",
    "plt.ylabel('PR AUC')\n",
    "plt.title('Validation curve')\n",
    "plt.ylim([50,100])\n",
    "path = folder_path+\"validation_curve_PRAUC.jpg\"\n",
    "plt.savefig(path)"
   ]
  },
  {
   "cell_type": "code",
   "execution_count": 42,
   "metadata": {},
   "outputs": [
    {
     "data": {
      "image/png": "[encoded data removed]",
      "text/plain": [
       "<Figure size 640x480 with 1 Axes>"
      ]
     },
     "metadata": {},
     "output_type": "display_data"
    }
   ],
   "source": [
    "fig, ax=plt.subplots()\n",
    "\n",
    "ax.plot(train_rbf_PR['cells'],\n",
    "        train_rbf_PR['mean'],\n",
    "        marker='o',markerfacecolor='purple',linestyle='dashed',color='red')\n",
    "ax.fill_between(train_rbf_PR['cells'],\n",
    "                train_rbf_PR['lower_ci'],\n",
    "                train_rbf_PR['upper_ci'],\n",
    "                color='red',alpha=.1)\n",
    "\n",
    "ax.plot(validation_rbf_PR['cells'],\n",
    "        validation_rbf_PR['mean'],\n",
    "        marker='o',markerfacecolor='blue',linestyle='dashed',color='green')\n",
    "ax.fill_between(validation_rbf_PR['cells'],\n",
    "                validation_rbf_PR['lower_ci'],\n",
    "                validation_rbf_PR['upper_ci'],\n",
    "                color='b',alpha=.1)\n",
    "\n",
    "plt.xlabel('Number of training samples')\n",
    "plt.ylabel('PR AUC')\n",
    "plt.title('Learning curves')\n",
    "plt.legend([\"Training score\", \"95% CI\", \"Validation score\", \"95% CI\"],bbox_to_anchor=(1.5,0.4))\n",
    "plt.ylim([50,100])\n",
    "\n",
    "path = folder_path + \"learning_curves_PRAUC.jpg\"\n",
    "plt.savefig(path)"
   ]
  }
 ],
 "metadata": {
  "kernelspec": {
   "display_name": "Python 3",
   "language": "python",
   "name": "python3"
  },
  "language_info": {
   "codemirror_mode": {
    "name": "ipython",
    "version": 3
   },
   "file_extension": ".py",
   "mimetype": "text/x-python",
   "name": "python",
   "nbconvert_exporter": "python",
   "pygments_lexer": "ipython3",
   "version": "3.8.16"
  },
  "vscode": {
   "interpreter": {
    "hash": "f6d2454d879cd4646d4a63709cef4295c623bc84b10d08f17db96bd3d790e764"
   }
  }
 },
 "nbformat": 4,
 "nbformat_minor": 2
}
