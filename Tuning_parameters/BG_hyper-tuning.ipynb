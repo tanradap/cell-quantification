{
 "cells": [
  {
   "attachments": {},
   "cell_type": "markdown",
   "metadata": {},
   "source": [
    "### Tuning hyper-paremter of BG cell classifier"
   ]
  },
  {
   "cell_type": "code",
   "execution_count": 1,
   "metadata": {},
   "outputs": [],
   "source": [
    "# Importing libraries\n",
    "import sys\n",
    "sys.path.insert(0,\n",
    "                '/Users/mokur/OneDrive - University of Cambridge/Attachments/Jan2023/Cell_pipeline/Tuning_parameters/')\n",
    "\n",
    "from constants import * \n",
    "from base import *\n",
    "from custom_metrics import *\n",
    "from tuning_cv import *"
   ]
  },
  {
   "cell_type": "code",
   "execution_count": 2,
   "metadata": {},
   "outputs": [],
   "source": [
    "## Importing libraries \n",
    "import pandas as pd\n",
    "import numpy as np \n",
    "import random \n",
    "\n",
    "from sklearn import preprocessing \n",
    "\n",
    "from sklearn.pipeline import Pipeline\n",
    "from sklearn.preprocessing import MinMaxScaler\n",
    "from sklearn.ensemble import RandomForestClassifier\n",
    "from imblearn.ensemble import BalancedRandomForestClassifier\n",
    "from sklearn.model_selection import RandomizedSearchCV\n",
    "from sklearn.metrics import ConfusionMatrixDisplay\n",
    "import matplotlib.pyplot as plt\n",
    "import joblib"
   ]
  },
  {
   "attachments": {},
   "cell_type": "markdown",
   "metadata": {},
   "source": [
    "### Importing data "
   ]
  },
  {
   "cell_type": "code",
   "execution_count": 3,
   "metadata": {},
   "outputs": [],
   "source": [
    "# Annotated cells \n",
    "cell_path = \"/Users/mokur/OneDrive - University of Cambridge/Attachments/Jan2023/Cell_pipeline/Training_data/BG/cells/\"\n",
    "cell_training = \"training.txt\"\n",
    "\n",
    "# NNB information of all cells on slide\n",
    "nnb_path = \"/Users/mokur/OneDrive - University of Cambridge/Attachments/Jan2023/Cell_pipeline/Training_data/BG/NNB/\"\n",
    "nnb_training = \"training_NNB.txt\"\n",
    "\n",
    "# hema nucleus of all cells on slide\n",
    "hema_path = \"/Users/mokur/OneDrive - University of Cambridge/Attachments/Jan2023/Cell_pipeline/Training_data/BG/hema/\"\n",
    "hema_training = \"training_hema.txt\""
   ]
  },
  {
   "attachments": {},
   "cell_type": "markdown",
   "metadata": {},
   "source": [
    "Require: \n",
    "1. input_files.txt - to contian filenames I want to use. ** currently .csv files"
   ]
  },
  {
   "cell_type": "code",
   "execution_count": 4,
   "metadata": {},
   "outputs": [
    {
     "name": "stdout",
     "output_type": "stream",
     "text": [
      "Read in:  20 files\n",
      "Extracted: 20 files\n"
     ]
    }
   ],
   "source": [
    "# Importing annotated cells \n",
    "\n",
    "# obtaining list of files \n",
    "with open(cell_path + cell_training) as f: \n",
    "    mylist= f.read().splitlines()\n",
    "    \n",
    "print(\"Read in: \",len(mylist),\"files\")\n",
    "\n",
    "# reading in all those files \n",
    "inputs = [] \n",
    "for i in mylist: \n",
    "    dat_ = pd.read_csv(cell_path + i,sep=\",\")\n",
    "    dat_.columns.values[5] = 'Centroid_X'\n",
    "    dat_.columns.values[6] = 'Centroid_Y'\n",
    "    dat = dat_[cell_extracted_features] # fixed extracted feature order\n",
    "    inputs.append(dat)\n",
    "print(\"Extracted:\", len(inputs),\"files\")\n"
   ]
  },
  {
   "cell_type": "code",
   "execution_count": 5,
   "metadata": {},
   "outputs": [
    {
     "name": "stdout",
     "output_type": "stream",
     "text": [
      "Read in: 20  NUMBER OF neighbouring cells files\n"
     ]
    },
    {
     "name": "stdout",
     "output_type": "stream",
     "text": [
      "Extracted: 20 files\n",
      "no. of columns / NB file: [18, 18, 18, 18, 18, 18, 18, 18, 18, 18, 18, 18, 18, 18, 18, 18, 18, 18, 13, 13]\n"
     ]
    }
   ],
   "source": [
    "# Importing in neghbouring cells info (numbers)\n",
    "\n",
    "# with open(nnb_path + nnb_training) as f: \n",
    "#     nb_mylist= f.read().splitlines()\n",
    "    \n",
    "# print(\"Read in:\",len(nb_mylist),\" NUMBER OF neighbouring cells files\")\n",
    "nb_mylist = [i[0:6]+'_all_neighbours.csv' for i in mylist]\n",
    "print(\"Read in:\",len(nb_mylist),\" NUMBER OF neighbouring cells files\")\n",
    "\n",
    "# reading in all those files \n",
    "nb_inputs = []\n",
    "nb_columns = [] \n",
    "for i in nb_mylist: \n",
    "    dat = pd.read_csv(nnb_path +i,sep=\",\")\n",
    "    dat.columns.values[0] = 'X'\n",
    "    dat.columns.values[1] = 'Y'\n",
    "    nb_inputs.append(dat)\n",
    "    nb_columns.append(dat.shape[1])\n",
    "    \n",
    "print(\"Extracted:\", len(nb_inputs),\"files\")\n",
    "print('no. of columns / NB file:', nb_columns)"
   ]
  },
  {
   "cell_type": "code",
   "execution_count": 6,
   "metadata": {},
   "outputs": [
    {
     "name": "stdout",
     "output_type": "stream",
     "text": [
      "Read in: 20 hema files\n",
      "Extracted: 20 hema files\n"
     ]
    }
   ],
   "source": [
    "#  Importing hema nucleus mean of all detected cells & location coordinates \n",
    "# Variables: hema_mylist, hema_inputs \n",
    "\n",
    "## obtaining list of files \n",
    "# with open(hema_path + hema_training) as f: \n",
    "#     hema_mylist= f.read().splitlines()\n",
    "    \n",
    "# print(\"Read in:\",len(hema_mylist),\"hema files\")\n",
    "hema_mylist = [i[0:6]+'_hema.csv' for i in mylist]    \n",
    "print(\"Read in:\",len(hema_mylist),\"hema files\")   \n",
    "\n",
    "\n",
    "## 4) reading in all those files \n",
    "hema_inputs = [] \n",
    "for i in hema_mylist: \n",
    "    dat = pd.read_csv(hema_path + i,sep=\",\")\n",
    "    dat.columns.values[0] = 'Centroid_X' # To fix naming inconsistency problem \n",
    "    dat.columns.values[1] = 'Centroid_Y'\n",
    "    hema_inputs.append(dat)\n",
    "\n",
    "print(\"Extracted:\",len(hema_inputs),\"hema files\")  \n"
   ]
  },
  {
   "cell_type": "code",
   "execution_count": 7,
   "metadata": {},
   "outputs": [
    {
     "name": "stdout",
     "output_type": "stream",
     "text": [
      "mylist & nb_list matched?: True\n",
      "mylist & hema_list matched?: True\n"
     ]
    }
   ],
   "source": [
    "# Checking if filenames & order of them from mylist, nb_mylist & hema_mylist match\n",
    "x_nb = [i[0:6] for i in nb_mylist]\n",
    "x = [i[0:6] for i in mylist]\n",
    "x_h = [i[0:6] for i in hema_mylist]\n",
    "print(\"mylist & nb_list matched?:\", x==x_nb)\n",
    "print(\"mylist & hema_list matched?:\",x==x_h)"
   ]
  },
  {
   "cell_type": "code",
   "execution_count": 8,
   "metadata": {},
   "outputs": [
    {
     "name": "stdout",
     "output_type": "stream",
     "text": [
      "[True, True, True, True, True, True, True, True, True, True, True, True, True, True, True, True, True, True, True, True]\n"
     ]
    }
   ],
   "source": [
    "# combine cells with NNB information\n",
    "inputs_with_nbb, output_log = combine_annotated_to_NNB2(annotated_list = inputs,\n",
    "                                                        NNB_list = nb_inputs)\n",
    "print(output_log)"
   ]
  },
  {
   "cell_type": "code",
   "execution_count": 9,
   "metadata": {},
   "outputs": [
    {
     "data": {
      "text/plain": [
       "Index(['X', 'Y', 'NN_10_um', 'NN_20_um', 'NN_30_um', 'NN_40_um', 'NN_50_um',\n",
       "       'NN_60_um', 'NN_70_um', 'NN_80_um', 'NN_90_um', 'NN_100_um',\n",
       "       'NN_110_um', 'NN_120_um', 'NN_130_um', 'NN_140_um', 'NN_150_um',\n",
       "       'slice_id'],\n",
       "      dtype='object')"
      ]
     },
     "execution_count": 9,
     "metadata": {},
     "output_type": "execute_result"
    }
   ],
   "source": [
    "nb_inputs[0].columns"
   ]
  },
  {
   "cell_type": "code",
   "execution_count": 10,
   "metadata": {},
   "outputs": [],
   "source": [
    "# Find cells to remove based on hematoxylin staining (from normalisation, remove top 1%)\n",
    "hema_to_remove = find_hema_to_remove(hema_inputs)\n",
    "\n",
    "# for i in range(0,len(hema_to_remove)): \n",
    "#     print(i, \" No. of cells with normalised Hema >1:\",len(hema_to_remove[i]), \"from\", len(hema_inputs[i]),\"detected cells\")"
   ]
  },
  {
   "cell_type": "code",
   "execution_count": 11,
   "metadata": {},
   "outputs": [
    {
     "name": "stdout",
     "output_type": "stream",
     "text": [
      "[True, True, True, True, True, True, True, True, True, True, True, True, True, True, True, True, True, True, True, True]\n",
      "(89, 56)\n"
     ]
    }
   ],
   "source": [
    "# remove cells that have hema above criteria\n",
    "cleaned_inputs, remove_log = remove_cell_hema(inputs_with_nbb,\n",
    "                                              hema_to_remove)\n",
    "print(remove_log)\n",
    "print(cleaned_inputs[0].shape)"
   ]
  },
  {
   "attachments": {},
   "cell_type": "markdown",
   "metadata": {},
   "source": [
    "### Putting the slides together "
   ]
  },
  {
   "cell_type": "code",
   "execution_count": 12,
   "metadata": {},
   "outputs": [
    {
     "name": "stdout",
     "output_type": "stream",
     "text": [
      "(1694, 56)\n"
     ]
    },
    {
     "data": {
      "text/html": [
       "<div>\n",
       "<style scoped>\n",
       "    .dataframe tbody tr th:only-of-type {\n",
       "        vertical-align: middle;\n",
       "    }\n",
       "\n",
       "    .dataframe tbody tr th {\n",
       "        vertical-align: top;\n",
       "    }\n",
       "\n",
       "    .dataframe thead th {\n",
       "        text-align: right;\n",
       "    }\n",
       "</style>\n",
       "<table border=\"1\" class=\"dataframe\">\n",
       "  <thead>\n",
       "    <tr style=\"text-align: right;\">\n",
       "      <th></th>\n",
       "      <th>Image</th>\n",
       "      <th>Class</th>\n",
       "      <th>Centroid_X</th>\n",
       "      <th>Centroid_Y</th>\n",
       "      <th>Detection probability</th>\n",
       "      <th>Nucleus: Area µm^2</th>\n",
       "      <th>Nucleus: Length µm</th>\n",
       "      <th>Nucleus: Circularity</th>\n",
       "      <th>Nucleus: Solidity</th>\n",
       "      <th>Nucleus: Max diameter µm</th>\n",
       "      <th>...</th>\n",
       "      <th>NN_10_um</th>\n",
       "      <th>NN_20_um</th>\n",
       "      <th>NN_30_um</th>\n",
       "      <th>NN_40_um</th>\n",
       "      <th>NN_50_um</th>\n",
       "      <th>NN_60_um</th>\n",
       "      <th>NN_70_um</th>\n",
       "      <th>NN_80_um</th>\n",
       "      <th>NN_90_um</th>\n",
       "      <th>NN_100_um</th>\n",
       "    </tr>\n",
       "  </thead>\n",
       "  <tbody>\n",
       "    <tr>\n",
       "      <th>0</th>\n",
       "      <td>721708.svs</td>\n",
       "      <td>Oligo</td>\n",
       "      <td>12022.2</td>\n",
       "      <td>8715.8</td>\n",
       "      <td>0.8575</td>\n",
       "      <td>13.1628</td>\n",
       "      <td>13.2907</td>\n",
       "      <td>0.9364</td>\n",
       "      <td>1.0</td>\n",
       "      <td>4.9150</td>\n",
       "      <td>...</td>\n",
       "      <td>1</td>\n",
       "      <td>1</td>\n",
       "      <td>2</td>\n",
       "      <td>7</td>\n",
       "      <td>10</td>\n",
       "      <td>15</td>\n",
       "      <td>22</td>\n",
       "      <td>30</td>\n",
       "      <td>37</td>\n",
       "      <td>50</td>\n",
       "    </tr>\n",
       "    <tr>\n",
       "      <th>1</th>\n",
       "      <td>721708.svs</td>\n",
       "      <td>Oligo</td>\n",
       "      <td>12029.8</td>\n",
       "      <td>8722.0</td>\n",
       "      <td>0.8796</td>\n",
       "      <td>15.2611</td>\n",
       "      <td>14.0081</td>\n",
       "      <td>0.9773</td>\n",
       "      <td>1.0</td>\n",
       "      <td>4.7992</td>\n",
       "      <td>...</td>\n",
       "      <td>1</td>\n",
       "      <td>1</td>\n",
       "      <td>1</td>\n",
       "      <td>4</td>\n",
       "      <td>10</td>\n",
       "      <td>17</td>\n",
       "      <td>24</td>\n",
       "      <td>34</td>\n",
       "      <td>38</td>\n",
       "      <td>49</td>\n",
       "    </tr>\n",
       "    <tr>\n",
       "      <th>2</th>\n",
       "      <td>721708.svs</td>\n",
       "      <td>Oligo</td>\n",
       "      <td>10048.5</td>\n",
       "      <td>9974.4</td>\n",
       "      <td>0.8670</td>\n",
       "      <td>16.7321</td>\n",
       "      <td>14.7662</td>\n",
       "      <td>0.9643</td>\n",
       "      <td>1.0</td>\n",
       "      <td>5.0758</td>\n",
       "      <td>...</td>\n",
       "      <td>1</td>\n",
       "      <td>3</td>\n",
       "      <td>5</td>\n",
       "      <td>7</td>\n",
       "      <td>11</td>\n",
       "      <td>14</td>\n",
       "      <td>25</td>\n",
       "      <td>35</td>\n",
       "      <td>52</td>\n",
       "      <td>65</td>\n",
       "    </tr>\n",
       "    <tr>\n",
       "      <th>3</th>\n",
       "      <td>721708.svs</td>\n",
       "      <td>Oligo</td>\n",
       "      <td>10029.8</td>\n",
       "      <td>9984.5</td>\n",
       "      <td>0.8827</td>\n",
       "      <td>18.6383</td>\n",
       "      <td>15.5263</td>\n",
       "      <td>0.9716</td>\n",
       "      <td>1.0</td>\n",
       "      <td>5.3159</td>\n",
       "      <td>...</td>\n",
       "      <td>1</td>\n",
       "      <td>1</td>\n",
       "      <td>4</td>\n",
       "      <td>6</td>\n",
       "      <td>9</td>\n",
       "      <td>17</td>\n",
       "      <td>26</td>\n",
       "      <td>36</td>\n",
       "      <td>47</td>\n",
       "      <td>63</td>\n",
       "    </tr>\n",
       "    <tr>\n",
       "      <th>4</th>\n",
       "      <td>721708.svs</td>\n",
       "      <td>Oligo</td>\n",
       "      <td>10031.0</td>\n",
       "      <td>9993.5</td>\n",
       "      <td>0.8682</td>\n",
       "      <td>21.4955</td>\n",
       "      <td>16.7517</td>\n",
       "      <td>0.9626</td>\n",
       "      <td>1.0</td>\n",
       "      <td>5.7030</td>\n",
       "      <td>...</td>\n",
       "      <td>1</td>\n",
       "      <td>1</td>\n",
       "      <td>4</td>\n",
       "      <td>6</td>\n",
       "      <td>11</td>\n",
       "      <td>18</td>\n",
       "      <td>24</td>\n",
       "      <td>35</td>\n",
       "      <td>49</td>\n",
       "      <td>64</td>\n",
       "    </tr>\n",
       "  </tbody>\n",
       "</table>\n",
       "<p>5 rows × 48 columns</p>\n",
       "</div>"
      ],
      "text/plain": [
       "        Image  Class  Centroid_X  Centroid_Y  Detection probability  \\\n",
       "0  721708.svs  Oligo     12022.2      8715.8                 0.8575   \n",
       "1  721708.svs  Oligo     12029.8      8722.0                 0.8796   \n",
       "2  721708.svs  Oligo     10048.5      9974.4                 0.8670   \n",
       "3  721708.svs  Oligo     10029.8      9984.5                 0.8827   \n",
       "4  721708.svs  Oligo     10031.0      9993.5                 0.8682   \n",
       "\n",
       "   Nucleus: Area µm^2  Nucleus: Length µm  Nucleus: Circularity  \\\n",
       "0             13.1628             13.2907                0.9364   \n",
       "1             15.2611             14.0081                0.9773   \n",
       "2             16.7321             14.7662                0.9643   \n",
       "3             18.6383             15.5263                0.9716   \n",
       "4             21.4955             16.7517                0.9626   \n",
       "\n",
       "   Nucleus: Solidity  Nucleus: Max diameter µm  ...  NN_10_um  NN_20_um  \\\n",
       "0                1.0                    4.9150  ...         1         1   \n",
       "1                1.0                    4.7992  ...         1         1   \n",
       "2                1.0                    5.0758  ...         1         3   \n",
       "3                1.0                    5.3159  ...         1         1   \n",
       "4                1.0                    5.7030  ...         1         1   \n",
       "\n",
       "   NN_30_um  NN_40_um  NN_50_um  NN_60_um  NN_70_um  NN_80_um  NN_90_um  \\\n",
       "0         2         7        10        15        22        30        37   \n",
       "1         1         4        10        17        24        34        38   \n",
       "2         5         7        11        14        25        35        52   \n",
       "3         4         6         9        17        26        36        47   \n",
       "4         4         6        11        18        24        35        49   \n",
       "\n",
       "   NN_100_um  \n",
       "0         50  \n",
       "1         49  \n",
       "2         65  \n",
       "3         63  \n",
       "4         64  \n",
       "\n",
       "[5 rows x 48 columns]"
      ]
     },
     "execution_count": 12,
     "metadata": {},
     "output_type": "execute_result"
    }
   ],
   "source": [
    "##Variables: labelled_orig, labelled_data \n",
    "#1) Put the slides together\n",
    "\n",
    "labelled_orig = pd.concat(cleaned_inputs)\n",
    "print(labelled_orig.shape)\n",
    "\n",
    "# 2) Extract relevant columns \n",
    "dat = labelled_orig.drop(columns=['Name','Parent','ROI', 'NN_110_um', 'NN_120_um', 'NN_130_um', 'NN_140_um', 'NN_150_um']) \n",
    "dat.head()\n"
   ]
  },
  {
   "attachments": {},
   "cell_type": "markdown",
   "metadata": {},
   "source": [
    "### Extracting relevant cell classes"
   ]
  },
  {
   "cell_type": "code",
   "execution_count": 13,
   "metadata": {},
   "outputs": [
    {
     "data": {
      "text/plain": [
       "oligo              783\n",
       "endo               289\n",
       "neuron             200\n",
       "astro              187\n",
       "ignore             142\n",
       "epi                 28\n",
       "fragmented          27\n",
       "ambiguous           22\n",
       "tuftedastrocyte     13\n",
       "tumor                2\n",
       "neuronaltau          1\n",
       "Name: Class, dtype: int64"
      ]
     },
     "execution_count": 13,
     "metadata": {},
     "output_type": "execute_result"
    }
   ],
   "source": [
    "# Make all class names lower case - easier for later selection\n",
    "\n",
    "dat_lower_class = [i.lower() for i in dat['Class']]\n",
    "dat2 = dat.copy()\n",
    "dat2.loc[:,'Class'] = dat_lower_class \n",
    "dat2['Class'].value_counts()"
   ]
  },
  {
   "cell_type": "code",
   "execution_count": 14,
   "metadata": {},
   "outputs": [
    {
     "data": {
      "text/plain": [
       "oligo         783\n",
       "endo          289\n",
       "neuron        200\n",
       "astro         187\n",
       "ignore        142\n",
       "fragmented     27\n",
       "Name: Class, dtype: int64"
      ]
     },
     "execution_count": 14,
     "metadata": {},
     "output_type": "execute_result"
    }
   ],
   "source": [
    "# Select only relevant cell classes (Using stardist_error instead of ignore_new)\n",
    "dat3 = dat2[(dat2['Class'] == 'oligo') | (dat2['Class'] == 'neuron')\n",
    "          | (dat2['Class'] == 'astro')| (dat2['Class'] == 'epithelial')\n",
    "          | (dat2['Class'] == 'ignore')| (dat2['Class'] == 'fragmented')| (dat2['Class'] == 'endo')]\n",
    "dat3=dat3.reset_index(drop=True)\n",
    "\n",
    "# Checking results\n",
    "dat3['Class'].value_counts()"
   ]
  },
  {
   "cell_type": "code",
   "execution_count": 15,
   "metadata": {},
   "outputs": [],
   "source": [
    "cell_code = {'neuron':'Neuron',\n",
    "             'oligo': 'Oligo',\n",
    "             'ignore': 'Others',\n",
    "             'astro':'Astro',\n",
    "             'epithelial':'Others',\n",
    "             'endo':'Others',\n",
    "             'fragmented':'Others'}"
   ]
  },
  {
   "cell_type": "code",
   "execution_count": 16,
   "metadata": {},
   "outputs": [],
   "source": [
    "# 3) Changing Epithelial to Endothelial\n",
    "classes = dat3['Class']\n",
    "formatted_classes = [cell_code[i]  for i in classes]\n",
    "data = dat3.copy()\n",
    "data.loc[:,'Class']=formatted_classes"
   ]
  },
  {
   "cell_type": "code",
   "execution_count": 17,
   "metadata": {},
   "outputs": [
    {
     "data": {
      "text/plain": [
       "Oligo     783\n",
       "Others    458\n",
       "Neuron    200\n",
       "Astro     187\n",
       "Name: Class, dtype: int64"
      ]
     },
     "execution_count": 17,
     "metadata": {},
     "output_type": "execute_result"
    }
   ],
   "source": [
    "\n",
    "data['Class'].value_counts()"
   ]
  },
  {
   "cell_type": "code",
   "execution_count": 18,
   "metadata": {},
   "outputs": [],
   "source": [
    "# Export cleaned data out for easy use: \n",
    "# path = '/Users/mokur/OneDrive - University of Cambridge/Attachments/Jan2023/Cell_pipeline/Cell_classification/bg_training_data.txt'\n",
    "# data.to_csv(path, sep=\"\\t\", index=False)"
   ]
  },
  {
   "attachments": {},
   "cell_type": "markdown",
   "metadata": {},
   "source": [
    "# Training the model"
   ]
  },
  {
   "attachments": {},
   "cell_type": "markdown",
   "metadata": {},
   "source": [
    "### Checking for any NA in the data"
   ]
  },
  {
   "cell_type": "code",
   "execution_count": 19,
   "metadata": {},
   "outputs": [
    {
     "name": "stdout",
     "output_type": "stream",
     "text": [
      "Any NA in the data?:  False\n"
     ]
    }
   ],
   "source": [
    "#checking for NAN \n",
    "## NEW \n",
    "print(\"Any NA in the data?: \",data.isnull().sum().sum()==1)\n",
    "\n",
    "#dat = dat.dropna()\n",
    "#dat.isnull().sum().sum()"
   ]
  },
  {
   "attachments": {},
   "cell_type": "markdown",
   "metadata": {},
   "source": [
    "### Create train, test sets "
   ]
  },
  {
   "cell_type": "code",
   "execution_count": 20,
   "metadata": {
    "scrolled": true
   },
   "outputs": [
    {
     "name": "stdout",
     "output_type": "stream",
     "text": [
      "training data shape: (1628, 44)\n"
     ]
    }
   ],
   "source": [
    "#We are using the entire dataset to train the model, test data will be provided later by Sanne \n",
    "X_train_l = data.drop(columns=['Class'])\n",
    "X_train = X_train_l.drop(columns=['Image','Centroid_X','Centroid_Y'])\n",
    "print('training data shape:',X_train.shape)\n",
    "y_train = data['Class']"
   ]
  },
  {
   "cell_type": "code",
   "execution_count": 21,
   "metadata": {},
   "outputs": [
    {
     "data": {
      "text/html": [
       "<div>\n",
       "<style scoped>\n",
       "    .dataframe tbody tr th:only-of-type {\n",
       "        vertical-align: middle;\n",
       "    }\n",
       "\n",
       "    .dataframe tbody tr th {\n",
       "        vertical-align: top;\n",
       "    }\n",
       "\n",
       "    .dataframe thead th {\n",
       "        text-align: right;\n",
       "    }\n",
       "</style>\n",
       "<table border=\"1\" class=\"dataframe\">\n",
       "  <thead>\n",
       "    <tr style=\"text-align: right;\">\n",
       "      <th></th>\n",
       "      <th>Detection probability</th>\n",
       "      <th>Nucleus: Area µm^2</th>\n",
       "      <th>Nucleus: Length µm</th>\n",
       "      <th>Nucleus: Circularity</th>\n",
       "      <th>Nucleus: Solidity</th>\n",
       "      <th>Nucleus: Max diameter µm</th>\n",
       "      <th>Nucleus: Min diameter µm</th>\n",
       "      <th>Cell: Area µm^2</th>\n",
       "      <th>Cell: Length µm</th>\n",
       "      <th>Cell: Circularity</th>\n",
       "      <th>...</th>\n",
       "      <th>NN_10_um</th>\n",
       "      <th>NN_20_um</th>\n",
       "      <th>NN_30_um</th>\n",
       "      <th>NN_40_um</th>\n",
       "      <th>NN_50_um</th>\n",
       "      <th>NN_60_um</th>\n",
       "      <th>NN_70_um</th>\n",
       "      <th>NN_80_um</th>\n",
       "      <th>NN_90_um</th>\n",
       "      <th>NN_100_um</th>\n",
       "    </tr>\n",
       "  </thead>\n",
       "  <tbody>\n",
       "    <tr>\n",
       "      <th>0</th>\n",
       "      <td>0.8575</td>\n",
       "      <td>13.1628</td>\n",
       "      <td>13.2907</td>\n",
       "      <td>0.9364</td>\n",
       "      <td>1.0</td>\n",
       "      <td>4.9150</td>\n",
       "      <td>3.4944</td>\n",
       "      <td>103.1323</td>\n",
       "      <td>37.8404</td>\n",
       "      <td>0.9051</td>\n",
       "      <td>...</td>\n",
       "      <td>1</td>\n",
       "      <td>1</td>\n",
       "      <td>2</td>\n",
       "      <td>7</td>\n",
       "      <td>10</td>\n",
       "      <td>15</td>\n",
       "      <td>22</td>\n",
       "      <td>30</td>\n",
       "      <td>37</td>\n",
       "      <td>50</td>\n",
       "    </tr>\n",
       "    <tr>\n",
       "      <th>1</th>\n",
       "      <td>0.8796</td>\n",
       "      <td>15.2611</td>\n",
       "      <td>14.0081</td>\n",
       "      <td>0.9773</td>\n",
       "      <td>1.0</td>\n",
       "      <td>4.7992</td>\n",
       "      <td>4.1628</td>\n",
       "      <td>120.9785</td>\n",
       "      <td>40.6755</td>\n",
       "      <td>0.9189</td>\n",
       "      <td>...</td>\n",
       "      <td>1</td>\n",
       "      <td>1</td>\n",
       "      <td>1</td>\n",
       "      <td>4</td>\n",
       "      <td>10</td>\n",
       "      <td>17</td>\n",
       "      <td>24</td>\n",
       "      <td>34</td>\n",
       "      <td>38</td>\n",
       "      <td>49</td>\n",
       "    </tr>\n",
       "    <tr>\n",
       "      <th>2</th>\n",
       "      <td>0.8670</td>\n",
       "      <td>16.7321</td>\n",
       "      <td>14.7662</td>\n",
       "      <td>0.9643</td>\n",
       "      <td>1.0</td>\n",
       "      <td>5.0758</td>\n",
       "      <td>4.3099</td>\n",
       "      <td>100.9326</td>\n",
       "      <td>38.6687</td>\n",
       "      <td>0.8482</td>\n",
       "      <td>...</td>\n",
       "      <td>1</td>\n",
       "      <td>3</td>\n",
       "      <td>5</td>\n",
       "      <td>7</td>\n",
       "      <td>11</td>\n",
       "      <td>14</td>\n",
       "      <td>25</td>\n",
       "      <td>35</td>\n",
       "      <td>52</td>\n",
       "      <td>65</td>\n",
       "    </tr>\n",
       "    <tr>\n",
       "      <th>3</th>\n",
       "      <td>0.8827</td>\n",
       "      <td>18.6383</td>\n",
       "      <td>15.5263</td>\n",
       "      <td>0.9716</td>\n",
       "      <td>1.0</td>\n",
       "      <td>5.3159</td>\n",
       "      <td>4.4388</td>\n",
       "      <td>124.4651</td>\n",
       "      <td>42.9339</td>\n",
       "      <td>0.8485</td>\n",
       "      <td>...</td>\n",
       "      <td>1</td>\n",
       "      <td>1</td>\n",
       "      <td>4</td>\n",
       "      <td>6</td>\n",
       "      <td>9</td>\n",
       "      <td>17</td>\n",
       "      <td>26</td>\n",
       "      <td>36</td>\n",
       "      <td>47</td>\n",
       "      <td>63</td>\n",
       "    </tr>\n",
       "    <tr>\n",
       "      <th>4</th>\n",
       "      <td>0.8682</td>\n",
       "      <td>21.4955</td>\n",
       "      <td>16.7517</td>\n",
       "      <td>0.9626</td>\n",
       "      <td>1.0</td>\n",
       "      <td>5.7030</td>\n",
       "      <td>5.0028</td>\n",
       "      <td>136.2816</td>\n",
       "      <td>44.2523</td>\n",
       "      <td>0.8745</td>\n",
       "      <td>...</td>\n",
       "      <td>1</td>\n",
       "      <td>1</td>\n",
       "      <td>4</td>\n",
       "      <td>6</td>\n",
       "      <td>11</td>\n",
       "      <td>18</td>\n",
       "      <td>24</td>\n",
       "      <td>35</td>\n",
       "      <td>49</td>\n",
       "      <td>64</td>\n",
       "    </tr>\n",
       "  </tbody>\n",
       "</table>\n",
       "<p>5 rows × 44 columns</p>\n",
       "</div>"
      ],
      "text/plain": [
       "   Detection probability  Nucleus: Area µm^2  Nucleus: Length µm  \\\n",
       "0                 0.8575             13.1628             13.2907   \n",
       "1                 0.8796             15.2611             14.0081   \n",
       "2                 0.8670             16.7321             14.7662   \n",
       "3                 0.8827             18.6383             15.5263   \n",
       "4                 0.8682             21.4955             16.7517   \n",
       "\n",
       "   Nucleus: Circularity  Nucleus: Solidity  Nucleus: Max diameter µm  \\\n",
       "0                0.9364                1.0                    4.9150   \n",
       "1                0.9773                1.0                    4.7992   \n",
       "2                0.9643                1.0                    5.0758   \n",
       "3                0.9716                1.0                    5.3159   \n",
       "4                0.9626                1.0                    5.7030   \n",
       "\n",
       "   Nucleus: Min diameter µm  Cell: Area µm^2  Cell: Length µm  \\\n",
       "0                    3.4944         103.1323          37.8404   \n",
       "1                    4.1628         120.9785          40.6755   \n",
       "2                    4.3099         100.9326          38.6687   \n",
       "3                    4.4388         124.4651          42.9339   \n",
       "4                    5.0028         136.2816          44.2523   \n",
       "\n",
       "   Cell: Circularity  ...  NN_10_um  NN_20_um  NN_30_um  NN_40_um  NN_50_um  \\\n",
       "0             0.9051  ...         1         1         2         7        10   \n",
       "1             0.9189  ...         1         1         1         4        10   \n",
       "2             0.8482  ...         1         3         5         7        11   \n",
       "3             0.8485  ...         1         1         4         6         9   \n",
       "4             0.8745  ...         1         1         4         6        11   \n",
       "\n",
       "   NN_60_um  NN_70_um  NN_80_um  NN_90_um  NN_100_um  \n",
       "0        15        22        30        37         50  \n",
       "1        17        24        34        38         49  \n",
       "2        14        25        35        52         65  \n",
       "3        17        26        36        47         63  \n",
       "4        18        24        35        49         64  \n",
       "\n",
       "[5 rows x 44 columns]"
      ]
     },
     "execution_count": 21,
     "metadata": {},
     "output_type": "execute_result"
    }
   ],
   "source": [
    "X_train.head()"
   ]
  },
  {
   "cell_type": "code",
   "execution_count": 69,
   "metadata": {},
   "outputs": [
    {
     "data": {
      "text/plain": [
       "Pipeline(steps=[('normalizer', MinMaxScaler()),\n",
       "                ('selector',\n",
       "                 RFE(estimator=RandomForestClassifier(random_state=42))),\n",
       "                ('clf', BalancedRandomForestClassifier())])"
      ]
     },
     "execution_count": 69,
     "metadata": {},
     "output_type": "execute_result"
    }
   ],
   "source": [
    "pipeline_cell"
   ]
  },
  {
   "attachments": {},
   "cell_type": "markdown",
   "metadata": {},
   "source": [
    "### Hyperparameter tuning - random forest"
   ]
  },
  {
   "cell_type": "code",
   "execution_count": 71,
   "metadata": {},
   "outputs": [
    {
     "name": "stdout",
     "output_type": "stream",
     "text": [
      "Fitting 10 folds for each of 100 candidates, totalling 1000 fits\n",
      "0.8472707312197695\n",
      "{'selector__n_features_to_select': 38, 'clf__sampling_strategy': 'not majority', 'clf__random_state': 42, 'clf__n_estimators': 600, 'clf__min_samples_split': 5, 'clf__min_samples_leaf': 2, 'clf__max_samples': 0.75, 'clf__max_features': 0.2, 'clf__max_depth': 10, 'clf__class_weight': 'balanced'}\n"
     ]
    }
   ],
   "source": [
    "# Create the random grid \n",
    "\n",
    "rf_random = RandomizedSearchCV(pipeline_cell,\n",
    "                             param_distributions=random_grid, \n",
    "                             n_iter=100,\n",
    "                             cv=10,\n",
    "                             verbose=2,\n",
    "                            random_state=42,\n",
    "                            n_jobs=-1,\n",
    "                              refit='PR_AUC', # use this metric to evaluate performance of parameters \n",
    "                      scoring={'PR_AUC':precision_recall_auc,\n",
    "                          'roc_auc_ovr_weighted':'roc_auc_ovr_weighted',\n",
    "                            'roc_auc_ovo':'roc_auc_ovo',\n",
    "                              'balanced_accuracy':'balanced_accuracy',\n",
    "                               'f1_weighted':'f1_weighted',\n",
    "                               'Astro_accuracy': astro_acc,\n",
    "                               'Neuron_accuracy':neuron_acc,\n",
    "                               'Oligo_accuracy':oligo_acc,\n",
    "                               'Others_accuracy':others_acc,\n",
    "                               'A_as_N':A_as_N,\n",
    "                               'A_as_O':A_as_O,\n",
    "                               'A_as_Others':A_as_Others,\n",
    "                               'N_as_A':N_as_A,\n",
    "                               'N_as_O':N_as_O,\n",
    "                               'N_as_Others':N_as_Others,\n",
    "                               'O_as_A':O_as_A,\n",
    "                               'O_as_N':O_as_N,\n",
    "                               'O_as_Others':O_as_Others,\n",
    "                               'Others_as_A':Others_as_A,\n",
    "                               'Others_as_N':Others_as_N,\n",
    "                               'Others_as_O':Others_as_O\n",
    "                              })\n",
    "\n",
    "rf_random.fit(X_train,y_train)\n",
    "\n",
    "print(rf_random.best_score_)\n",
    "print(rf_random.best_params_)\n"
   ]
  },
  {
   "cell_type": "code",
   "execution_count": 72,
   "metadata": {},
   "outputs": [
    {
     "name": "stdout",
     "output_type": "stream",
     "text": [
      "PR-AUC: 84.72707312197694\n",
      "ROC-AUC: 95.42289392156897\n",
      "ROC-AUC: 94.26802402662095\n",
      "Balanced accuracy: 76.89923610321968\n",
      "F1_weighted: 80.25597122911175\n",
      "Astrocyte accuracy: 69.61988304093568\n",
      "Neuron accuracy: 82.5\n",
      "Oligo accuracy: 91.30314832846477\n",
      "Others accuracy: 64.17391304347827\n",
      "Classified A as N: 15.46783625730994\n",
      "Classified A as O: 9.005847953216374\n",
      "Classified A as Others: 5.906432748538011\n",
      "Classified N as A: 14.499999999999998\n",
      "Classified N as O: 0.5\n",
      "Classified N as Others: 2.5\n",
      "Classified O as A: 4.607270366764038\n",
      "Classified O as N: 0.25478740668614086\n",
      "Classified O as Others: 3.834793898085037\n",
      "Classified Others as A: 12.657004830917876\n",
      "Classified Others as N: 6.97584541062802\n",
      "Classified Others as O: 16.193236714975846\n"
     ]
    }
   ],
   "source": [
    "# # Digging into more details \n",
    "print(\"PR-AUC:\",\n",
    "     rf_random.cv_results_['mean_test_PR_AUC'][rf_random.best_index_]*100)\n",
    "print(\"ROC-AUC:\",\n",
    "     rf_random.cv_results_['mean_test_roc_auc_ovr_weighted'][rf_random.best_index_]*100)\n",
    "print(\"ROC-AUC:\",\n",
    "     rf_random.cv_results_['mean_test_roc_auc_ovo'][rf_random.best_index_]*100)\n",
    "\n",
    "print(\"Balanced accuracy:\",\n",
    "      rf_random.cv_results_['mean_test_balanced_accuracy'][rf_random.best_index_]*100)\n",
    "\n",
    "print(\"F1_weighted:\",\n",
    "      rf_random.cv_results_['mean_test_f1_weighted'][rf_random.best_index_]*100)\n",
    "\n",
    "print(\"Astrocyte accuracy:\",\n",
    "      rf_random.cv_results_['mean_test_Astro_accuracy'][rf_random.best_index_]*100)\n",
    "\n",
    "print(\"Neuron accuracy:\",\n",
    "      rf_random.cv_results_['mean_test_Neuron_accuracy'][rf_random.best_index_]*100)\n",
    "\n",
    "print(\"Oligo accuracy:\",\n",
    "      rf_random.cv_results_['mean_test_Oligo_accuracy'][rf_random.best_index_]*100)\n",
    "\n",
    "print(\"Others accuracy:\",\n",
    "      rf_random.cv_results_['mean_test_Others_accuracy'][rf_random.best_index_]*100)\n",
    "\n",
    "\n",
    "print(\"Classified A as N:\",\n",
    "      rf_random.cv_results_['mean_test_A_as_N'][rf_random.best_index_]*100)\n",
    "\n",
    "print(\"Classified A as O:\",\n",
    "      rf_random.cv_results_['mean_test_A_as_O'][rf_random.best_index_]*100)\n",
    "\n",
    "print(\"Classified A as Others:\",\n",
    "      rf_random.cv_results_['mean_test_A_as_Others'][rf_random.best_index_]*100)\n",
    "\n",
    "print(\"Classified N as A:\",\n",
    "      rf_random.cv_results_['mean_test_N_as_A'][rf_random.best_index_]*100)\n",
    "\n",
    "print(\"Classified N as O:\",\n",
    "      rf_random.cv_results_['mean_test_N_as_O'][rf_random.best_index_]*100)\n",
    "\n",
    "print(\"Classified N as Others:\",\n",
    "      rf_random.cv_results_['mean_test_N_as_Others'][rf_random.best_index_]*100)\n",
    "\n",
    "print(\"Classified O as A:\",\n",
    "      rf_random.cv_results_['mean_test_O_as_A'][rf_random.best_index_]*100)\n",
    "\n",
    "print(\"Classified O as N:\",\n",
    "      rf_random.cv_results_['mean_test_O_as_N'][rf_random.best_index_]*100)\n",
    "\n",
    "print(\"Classified O as Others:\",\n",
    "      rf_random.cv_results_['mean_test_O_as_Others'][rf_random.best_index_]*100)\n",
    "\n",
    "\n",
    "print(\"Classified Others as A:\",\n",
    "      rf_random.cv_results_['mean_test_Others_as_A'][rf_random.best_index_]*100)\n",
    "\n",
    "print(\"Classified Others as N:\",\n",
    "      rf_random.cv_results_['mean_test_Others_as_N'][rf_random.best_index_]*100)\n",
    "\n",
    "print(\"Classified Others as O:\",\n",
    "      rf_random.cv_results_['mean_test_Others_as_O'][rf_random.best_index_]*100)\n",
    "                                                       "
   ]
  },
  {
   "attachments": {},
   "cell_type": "markdown",
   "metadata": {},
   "source": [
    "PR-AUC: 84.72707312197694\n",
    "ROC-AUC: 95.42289392156897\n",
    "ROC-AUC: 94.26802402662095\n",
    "Balanced accuracy: 76.89923610321968\n",
    "F1_weighted: 80.25597122911175\n",
    "Astrocyte accuracy: 69.61988304093568\n",
    "Neuron accuracy: 82.5\n",
    "Oligo accuracy: 91.30314832846477\n",
    "Others accuracy: 64.17391304347827\n",
    "Classified A as N: 15.46783625730994\n",
    "Classified A as O: 9.005847953216374\n",
    "Classified A as Others: 5.906432748538011\n",
    "Classified N as A: 14.499999999999998\n",
    "Classified N as O: 0.5\n",
    "Classified N as Others: 2.5\n",
    "Classified O as A: 4.607270366764038\n",
    "Classified O as N: 0.25478740668614086\n",
    "Classified O as Others: 3.834793898085037\n",
    "Classified Others as A: 12.657004830917876\n",
    "Classified Others as N: 6.97584541062802\n",
    "Classified Others as O: 16.193236714975846"
   ]
  },
  {
   "cell_type": "code",
   "execution_count": 73,
   "metadata": {},
   "outputs": [
    {
     "data": {
      "text/plain": [
       "['BG_random_search.sav']"
      ]
     },
     "execution_count": 73,
     "metadata": {},
     "output_type": "execute_result"
    }
   ],
   "source": [
    "# save object using joblib\n",
    "joblib.dump(rf_random, 'BG_random_search.sav')"
   ]
  },
  {
   "attachments": {},
   "cell_type": "markdown",
   "metadata": {},
   "source": [
    "## Manual cross validation, using PR curves"
   ]
  },
  {
   "attachments": {},
   "cell_type": "markdown",
   "metadata": {},
   "source": [
    "{'selector__n_features_to_select': 38, 'clf__sampling_strategy': 'not majority', 'clf__random_state': 42, 'clf__n_estimators': 600, 'clf__min_samples_split': 5, 'clf__min_samples_leaf': 2, 'clf__max_samples': 0.75, 'clf__max_features': 0.2, 'clf__max_depth': 10, 'clf__class_weight': 'balanced'}\n"
   ]
  },
  {
   "cell_type": "code",
   "execution_count": 120,
   "metadata": {},
   "outputs": [],
   "source": [
    "bg_classifier_hyperparams = [\n",
    "    ('normalizer', MinMaxScaler()),\n",
    "    ('selector', RFE(estimator=RandomForestClassifier(random_state=42),\n",
    "        n_features_to_select=38)),\n",
    "    ('clf', BalancedRandomForestClassifier(\n",
    "        random_state=42,\n",
    "        sampling_strategy='not majority',\n",
    "        n_estimators=600,\n",
    "        min_samples_split=5,\n",
    "        min_samples_leaf=2,\n",
    "        max_features=0.2,\n",
    "        max_depth=10,\n",
    "        max_samples=0.75,\n",
    "        class_weight='balanced'))]\n",
    "        \n",
    "# 10-fold cross validation\n",
    "model = ClassifierTuning(hyperparameters=bg_classifier_hyperparams)\n",
    "model.find_bestparameters(X=X_train,\n",
    "                          Y=y_train)"
   ]
  },
  {
   "cell_type": "code",
   "execution_count": 78,
   "metadata": {},
   "outputs": [
    {
     "data": {
      "text/plain": [
       "{0: (0.4592835374462488,\n",
       "  0.6815173626938333,\n",
       "  0.6891846826044234,\n",
       "  0.7271929824561404),\n",
       " 1: (0.48042408021969285, 0.8543324993612236, 0.8301907662241488, 0.89),\n",
       " 2: (0.5122155925759821,\n",
       "  0.917856339157616,\n",
       "  0.9174491900312752,\n",
       "  0.9206913339824732),\n",
       " 3: (0.2164000689682492,\n",
       "  0.8331716197778333,\n",
       "  0.8025224539600778,\n",
       "  0.87512077294686)}"
      ]
     },
     "execution_count": 78,
     "metadata": {},
     "output_type": "execute_result"
    }
   ],
   "source": [
    "model.best_parameters"
   ]
  },
  {
   "cell_type": "code",
   "execution_count": 79,
   "metadata": {},
   "outputs": [],
   "source": [
    "model.cv_withthresholding(best_parameters=model.best_parameters,\n",
    "                          X=X_train,\n",
    "                          Y=y_train,\n",
    "                          X_location = X_train_l)"
   ]
  },
  {
   "cell_type": "code",
   "execution_count": 80,
   "metadata": {},
   "outputs": [
    {
     "name": "stdout",
     "output_type": "stream",
     "text": [
      "with thresholding (non-calibrated) ACC : 80.67389835962358\n",
      "Macro avg F1  80.24022775035937\n",
      "Weighted avg F1  85.11553081544446\n",
      "--------------------------\n",
      "[[119  26   9  21]\n",
      " [ 21 157   1  13]\n",
      " [ 25   0 679  42]\n",
      " [ 24  13  33 336]]\n",
      "[[68.         14.85714286  5.14285714 12.        ]\n",
      " [10.9375     81.77083333  0.52083333  6.77083333]\n",
      " [ 3.35120643  0.         91.01876676  5.63002681]\n",
      " [ 5.91133005  3.20197044  8.12807882 82.75862069]]\n",
      "--------------------------\n",
      "Astro accuracy 68.0\n",
      "Neuron accuracy 81.77083333333334\n",
      "Oligo accuracy 91.01876675603218\n",
      "Oligo accuracy 82.75862068965517\n",
      "------------------------------\n",
      "Astro f1-score  66.46933345143063\n",
      "Astro precision  65.71668268033166\n",
      "Astro recall  67.9327915376677\n",
      "--------------------------\n",
      "Neuron f1-score  80.17320063655148\n",
      "Neuron precision  81.82284664229743\n",
      "Neuron recall  81.27192982456141\n",
      "--------------------------\n",
      "Oligo f1-score  92.38149624941695\n",
      "Oligo precision  94.26507912872677\n",
      "Oligo recall  90.87827585776395\n",
      "--------------------------\n",
      "Oligo f1-score  92.38149624941695\n",
      "Oligo precision  94.26507912872677\n",
      "Oligo recall  90.87827585776395\n",
      "--------------------------\n",
      "Macro avg precision 80.87885155718585\n",
      "Macro avg recall  80.67389835962358\n"
     ]
    }
   ],
   "source": [
    "# Confusion matrix across 10 folds, WITH thresholding \n",
    "print('with thresholding (non-calibrated) ACC :', mean(model.cv_accuraciesT)*100)\n",
    "print('Macro avg F1 ', \n",
    "      mean([i['macro avg']['f1-score'] for i in model.cv_reportsT])*100)\n",
    "print('Weighted avg F1 ',\n",
    "      mean([i['weighted avg']['f1-score'] for i in model.cv_reportsT])*100)\n",
    "print(\"--------------------------\")\n",
    "cf_t = sum(model.cv_confusion_matricesT)\n",
    "final_cm_t =  cf_t.astype('float') / cf_t.sum(axis=1)[:, np.newaxis]*100\n",
    "print(cf_t)\n",
    "print(final_cm_t)\n",
    "print(\"--------------------------\")\n",
    "print(\"Astro accuracy\",final_cm_t[0][0])\n",
    "print(\"Neuron accuracy\",final_cm_t[1][1])\n",
    "print(\"Oligo accuracy\",final_cm_t[2][2])\n",
    "print(\"Oligo accuracy\",final_cm_t[3][3])\n",
    "print('------------------------------')\n",
    "# F1-score per class: \n",
    "print('Astro f1-score ',mean([i['Astro']['f1-score'] for i in model.cv_reportsT])*100)\n",
    "print('Astro precision ',mean([i['Astro']['precision'] for i in model.cv_reportsT])*100)\n",
    "print('Astro recall ',mean([i['Astro']['recall'] for i in model.cv_reportsT])*100)\n",
    "print(\"--------------------------\")\n",
    "print('Neuron f1-score ',mean([i['Neuron']['f1-score'] for i in model.cv_reportsT])*100)\n",
    "print('Neuron precision ',mean([i['Neuron']['precision'] for i in model.cv_reportsT])*100)\n",
    "print('Neuron recall ',mean([i['Neuron']['recall'] for i in model.cv_reportsT])*100)\n",
    "print(\"--------------------------\")\n",
    "print('Oligo f1-score ',mean([i['Oligo']['f1-score'] for i in model.cv_reportsT])*100)\n",
    "print('Oligo precision ',mean([i['Oligo']['precision'] for i in model.cv_reportsT])*100)\n",
    "print('Oligo recall ',mean([i['Oligo']['recall'] for i in model.cv_reportsT])*100)\n",
    "print(\"--------------------------\")\n",
    "print('Oligo f1-score ',mean([i['Oligo']['f1-score'] for i in model.cv_reportsT])*100)\n",
    "print('Oligo precision ',mean([i['Oligo']['precision'] for i in model.cv_reportsT])*100)\n",
    "print('Oligo recall ',mean([i['Oligo']['recall'] for i in model.cv_reportsT])*100)\n",
    "print(\"--------------------------\")\n",
    "print('Macro avg precision',\n",
    "      mean([i['macro avg']['precision'] for i in model.cv_reportsT])*100)\n",
    "print('Macro avg recall ',\n",
    "      mean([i['macro avg']['recall'] for i in model.cv_reportsT])*100)"
   ]
  },
  {
   "cell_type": "code",
   "execution_count": 81,
   "metadata": {},
   "outputs": [],
   "source": [
    "model.cv_nothresholding(X=X_train,\n",
    "                        Y=y_train,\n",
    "                        X_location= X_train_l)"
   ]
  },
  {
   "cell_type": "code",
   "execution_count": 82,
   "metadata": {},
   "outputs": [
    {
     "name": "stdout",
     "output_type": "stream",
     "text": [
      "with no thresholding: 76.89923610321968\n",
      "Macro avg F1  75.12875370023431\n",
      "Weighted avg F1  80.25597122911176\n",
      "--------------------------\n",
      "[[130  29  17  11]\n",
      " [ 29 165   1   5]\n",
      " [ 36   2 715  30]\n",
      " [ 58  32  74 294]]\n",
      "[[69.51871658 15.50802139  9.09090909  5.88235294]\n",
      " [14.5        82.5         0.5         2.5       ]\n",
      " [ 4.59770115  0.25542784 91.31545338  3.83141762]\n",
      " [12.66375546  6.98689956 16.15720524 64.19213974]]\n",
      "--------------------------\n",
      "Astro accuracy 69.5187165775401\n",
      "Neuron accuracy 82.5\n",
      "Oligo accuracy 91.3154533844189\n",
      "Others accuracy 64.19213973799127\n",
      "------------------------------\n",
      "Astro f1-score  60.24792478239205\n",
      "Astro precision  53.60245741318914\n",
      "Astro recall  69.61988304093568\n",
      "--------------------------\n",
      "Neuron f1-score  76.94336824851294\n",
      "Neuron precision  73.93239329108894\n",
      "Neuron recall  82.5\n",
      "--------------------------\n",
      "Oligo f1-score  89.90102332272\n",
      "Oligo precision  88.79785220128038\n",
      "Oligo recall  91.30314832846479\n",
      "--------------------------\n",
      "Others f1-score  73.42269844731231\n",
      "Others precision  86.38654912758213\n",
      "Others recall  64.17391304347827\n",
      "--------------------------\n",
      "Macro avg precision 75.67981300828515\n",
      "Macro avg recall  76.89923610321968\n"
     ]
    }
   ],
   "source": [
    "#Confusion matrix across 10 folds, WITHOUT thresholding \n",
    "print('with no thresholding:',\n",
    "      mean(model.cv_accuracies)*100)\n",
    "print('Macro avg F1 ',\n",
    "      mean([i['macro avg']['f1-score'] for i in model.cv_reports])*100)\n",
    "print('Weighted avg F1 ',\n",
    "      mean([i['weighted avg']['f1-score'] for i in model.cv_reports])*100)\n",
    "print(\"--------------------------\")\n",
    "cf = sum(model.cv_confusion_matrices)\n",
    "final_cm =  cf.astype('float') / cf.sum(axis=1)[:, np.newaxis]*100\n",
    "print(cf)\n",
    "print(final_cm)\n",
    "print(\"--------------------------\")\n",
    "print(\"Astro accuracy\",final_cm[0][0])\n",
    "print(\"Neuron accuracy\",final_cm[1][1])\n",
    "print(\"Oligo accuracy\",final_cm[2][2])\n",
    "print(\"Others accuracy\",final_cm[3][3])\n",
    "print('------------------------------')\n",
    "# F1-score per class: \n",
    "print('Astro f1-score ',mean([i['Astro']['f1-score'] for i in model.cv_reports])*100)\n",
    "print('Astro precision ',mean([i['Astro']['precision'] for i in model.cv_reports])*100)\n",
    "print('Astro recall ',mean([i['Astro']['recall'] for i in model.cv_reports])*100)\n",
    "print(\"--------------------------\")\n",
    "print('Neuron f1-score ',mean([i['Neuron']['f1-score'] for i in model.cv_reports])*100)\n",
    "print('Neuron precision ',mean([i['Neuron']['precision'] for i in model.cv_reports])*100)\n",
    "print('Neuron recall ',mean([i['Neuron']['recall'] for i in model.cv_reports])*100)\n",
    "print(\"--------------------------\")\n",
    "print('Oligo f1-score ',mean([i['Oligo']['f1-score'] for i in model.cv_reports])*100)\n",
    "print('Oligo precision ',mean([i['Oligo']['precision'] for i in model.cv_reports])*100)\n",
    "print('Oligo recall ',mean([i['Oligo']['recall'] for i in model.cv_reports])*100)\n",
    "print(\"--------------------------\")\n",
    "print('Others f1-score ',mean([i['Others']['f1-score'] for i in model.cv_reports])*100)\n",
    "print('Others precision ',mean([i['Others']['precision'] for i in model.cv_reports])*100)\n",
    "print('Others recall ',mean([i['Others']['recall'] for i in model.cv_reports])*100)\n",
    "print(\"--------------------------\")\n",
    "print('Macro avg precision',\n",
    "      mean([i['macro avg']['precision'] for i in model.cv_reports])*100)\n",
    "print('Macro avg recall ',\n",
    "      mean([i['macro avg']['recall'] for i in model.cv_reports])*100)"
   ]
  },
  {
   "cell_type": "code",
   "execution_count": 83,
   "metadata": {},
   "outputs": [
    {
     "data": {
      "text/plain": [
       "['bg_cv_results.sav']"
      ]
     },
     "execution_count": 83,
     "metadata": {},
     "output_type": "execute_result"
    }
   ],
   "source": [
    "# save object using joblib\n",
    "joblib.dump(model, 'bg_cv_results.sav')"
   ]
  },
  {
   "attachments": {},
   "cell_type": "markdown",
   "metadata": {},
   "source": [
    "Train the final model"
   ]
  },
  {
   "cell_type": "code",
   "execution_count": 121,
   "metadata": {},
   "outputs": [
    {
     "data": {
      "text/plain": [
       "[('normalizer', MinMaxScaler()),\n",
       " ('selector',\n",
       "  RFE(estimator=RandomForestClassifier(random_state=42), n_features_to_select=38)),\n",
       " ('clf',\n",
       "  BalancedRandomForestClassifier(class_weight='balanced', max_depth=10,\n",
       "                                 max_features=0.2, max_samples=0.75,\n",
       "                                 min_samples_leaf=2, min_samples_split=5,\n",
       "                                 n_estimators=600, random_state=42,\n",
       "                                 sampling_strategy='not majority'))]"
      ]
     },
     "execution_count": 121,
     "metadata": {},
     "output_type": "execute_result"
    }
   ],
   "source": [
    "bg_classifier_hyperparams"
   ]
  },
  {
   "cell_type": "code",
   "execution_count": 122,
   "metadata": {},
   "outputs": [],
   "source": [
    "# Train final model\n",
    "bg_model = Pipeline(bg_classifier_hyperparams)\n",
    "final_model = bg_model.fit(X_train,y_train)"
   ]
  },
  {
   "cell_type": "code",
   "execution_count": 123,
   "metadata": {},
   "outputs": [
    {
     "data": {
      "text/plain": [
       "['bg_cell_classifier.sav']"
      ]
     },
     "execution_count": 123,
     "metadata": {},
     "output_type": "execute_result"
    }
   ],
   "source": [
    "joblib.dump(final_model, 'bg_cell_classifier.sav')"
   ]
  },
  {
   "attachments": {},
   "cell_type": "markdown",
   "metadata": {},
   "source": [
    "Extracting information"
   ]
  },
  {
   "cell_type": "code",
   "execution_count": 23,
   "metadata": {},
   "outputs": [],
   "source": [
    "# The final model\n",
    "loaded_model = joblib.load('/Users/mokur/OneDrive - University of Cambridge/Attachments/Jan2023/Cell_pipeline/Tuning_parameters/Results/bg_cv_results.sav')\n",
    "cf_t = sum(loaded_model.cv_confusion_matricesT)\n",
    "final_cm_t =  cf_t.astype('float') / cf_t.sum(axis=1)[:, np.newaxis]*100"
   ]
  },
  {
   "cell_type": "code",
   "execution_count": 24,
   "metadata": {},
   "outputs": [
    {
     "name": "stdout",
     "output_type": "stream",
     "text": [
      "total: 1628\n",
      "{'Neuron', 'Astro', 'Others', 'Ambiguous', 'Oligo'}\n",
      "Ambiguous:  109\n",
      "proportion Ambiguous:  0.06695331695331695\n"
     ]
    }
   ],
   "source": [
    "# find out proportion of ambiguous cells \n",
    "predicted = (sum(loaded_model.cv_y_predictsT, []))\n",
    "print('total:',len(predicted))\n",
    "print(set(predicted))\n",
    "amb_n = sum(1 for i in predicted if i =='Ambiguous')\n",
    "print('Ambiguous: ',amb_n)\n",
    "print('proportion Ambiguous: ', amb_n/len(predicted) )"
   ]
  },
  {
   "cell_type": "code",
   "execution_count": 25,
   "metadata": {},
   "outputs": [
    {
     "data": {
      "text/plain": [
       "array([[68.        , 14.85714286,  5.14285714, 12.        ],\n",
       "       [10.9375    , 81.77083333,  0.52083333,  6.77083333],\n",
       "       [ 3.35120643,  0.        , 91.01876676,  5.63002681],\n",
       "       [ 5.91133005,  3.20197044,  8.12807882, 82.75862069]])"
      ]
     },
     "execution_count": 25,
     "metadata": {},
     "output_type": "execute_result"
    }
   ],
   "source": [
    "final_cm_t"
   ]
  },
  {
   "cell_type": "code",
   "execution_count": 26,
   "metadata": {},
   "outputs": [
    {
     "data": {
      "image/png": "[encoded data removed]",
      "text/plain": [
       "<Figure size 640x480 with 2 Axes>"
      ]
     },
     "metadata": {},
     "output_type": "display_data"
    }
   ],
   "source": [
    "plot = ConfusionMatrixDisplay(final_cm_t,\n",
    "                              display_labels=['Astro', 'Neuron', 'Oligo', 'Others'])\n",
    "plot.plot(cmap='cividis', values_format='.2f')         \n",
    "plt.show()"
   ]
  },
  {
   "cell_type": "code",
   "execution_count": 27,
   "metadata": {},
   "outputs": [
    {
     "name": "stdout",
     "output_type": "stream",
     "text": [
      "Macro avg F1  80.24022775035937\n",
      "Macro avg F1 std  5.05567606848565\n",
      "--------------------------\n",
      "Macro avg precision 80.87885155718585\n",
      "Macro avg precision std 5.073427461759179\n",
      "--------------------------\n",
      "Macro avg recall  80.67389835962358\n",
      "Macro avg recall std 5.20286447595862\n"
     ]
    }
   ],
   "source": [
    "model = loaded_model\n",
    "# Confusion matrix across 10 folds, WITH thresholding \n",
    "print('Macro avg F1 ', \n",
    "      mean([i['macro avg']['f1-score'] for i in model.cv_reportsT])*100)\n",
    "print('Macro avg F1 std ', \n",
    "      np.std([i['macro avg']['f1-score'] for i in model.cv_reportsT])*100)\n",
    "\n",
    "print(\"--------------------------\")\n",
    "print('Macro avg precision',\n",
    "      mean([i['macro avg']['precision'] for i in model.cv_reportsT])*100)\n",
    "print('Macro avg precision std',\n",
    "      np.std([i['macro avg']['precision'] for i in model.cv_reportsT])*100)\n",
    "print(\"--------------------------\")\n",
    "print('Macro avg recall ',\n",
    "      mean([i['macro avg']['recall'] for i in model.cv_reportsT])*100)\n",
    "print('Macro avg recall std',\n",
    "      np.std([i['macro avg']['recall'] for i in model.cv_reportsT])*100)"
   ]
  },
  {
   "cell_type": "code",
   "execution_count": 28,
   "metadata": {},
   "outputs": [
    {
     "name": "stdout",
     "output_type": "stream",
     "text": [
      "Macro avg F1  75.12875370023431\n",
      "Macro avg F1 std  5.745827609247249\n",
      "--------------------------\n",
      "Macro avg precision 75.67981300828515\n",
      "Macro avg precision std 5.3612409813143\n",
      "--------------------------\n",
      "Macro avg recall  76.89923610321968\n",
      "Macro avg recall std 5.900731217269755\n"
     ]
    }
   ],
   "source": [
    "model = loaded_model\n",
    "# Confusion matrix across 10 folds, WITH NO thresholding \n",
    "print('Macro avg F1 ', \n",
    "      mean([i['macro avg']['f1-score'] for i in model.cv_reports])*100)\n",
    "print('Macro avg F1 std ', \n",
    "      np.std([i['macro avg']['f1-score'] for i in model.cv_reports])*100)\n",
    "\n",
    "print(\"--------------------------\")\n",
    "print('Macro avg precision',\n",
    "      mean([i['macro avg']['precision'] for i in model.cv_reports])*100)\n",
    "print('Macro avg precision std',\n",
    "      np.std([i['macro avg']['precision'] for i in model.cv_reports])*100)\n",
    "print(\"--------------------------\")\n",
    "print('Macro avg recall ',\n",
    "      mean([i['macro avg']['recall'] for i in model.cv_reports])*100)\n",
    "print('Macro avg recall std',\n",
    "      np.std([i['macro avg']['recall'] for i in model.cv_reports])*100)"
   ]
  },
  {
   "attachments": {},
   "cell_type": "markdown",
   "metadata": {},
   "source": [
    "Plotting feature importance"
   ]
  },
  {
   "cell_type": "code",
   "execution_count": 29,
   "metadata": {},
   "outputs": [],
   "source": [
    "import seaborn as sns"
   ]
  },
  {
   "cell_type": "code",
   "execution_count": 30,
   "metadata": {},
   "outputs": [],
   "source": [
    "model_rf = joblib.load('/Users/mokur/OneDrive - University of Cambridge/Attachments/Jan2023/Cell_pipeline/Tuning_parameters/Results/bg_random_search.sav')"
   ]
  },
  {
   "cell_type": "code",
   "execution_count": 31,
   "metadata": {},
   "outputs": [
    {
     "data": {
      "text/plain": [
       "{'selector__n_features_to_select': 38,\n",
       " 'clf__sampling_strategy': 'not majority',\n",
       " 'clf__random_state': 42,\n",
       " 'clf__n_estimators': 600,\n",
       " 'clf__min_samples_split': 5,\n",
       " 'clf__min_samples_leaf': 2,\n",
       " 'clf__max_samples': 0.75,\n",
       " 'clf__max_features': 0.2,\n",
       " 'clf__max_depth': 10,\n",
       " 'clf__class_weight': 'balanced'}"
      ]
     },
     "execution_count": 31,
     "metadata": {},
     "output_type": "execute_result"
    }
   ],
   "source": [
    "model_rf.best_params_"
   ]
  },
  {
   "cell_type": "code",
   "execution_count": 32,
   "metadata": {},
   "outputs": [],
   "source": [
    "#With feature selection\n",
    "rf_result = model_rf.best_estimator_.named_steps['selector'].get_support(indices=True)\n",
    "rf_result\n",
    "rf_result_f = [X_train.columns[i] for i in rf_result]\n",
    "# (rf_result_f)\n",
    "importance = model_rf.best_estimator_.named_steps['clf'].feature_importances_\n",
    "f_importance = pd.DataFrame(data={'features':rf_result_f,'importance':importance})\n",
    "f_importance = f_importance.sort_values(by=['importance'],ascending=False)"
   ]
  },
  {
   "cell_type": "code",
   "execution_count": 33,
   "metadata": {},
   "outputs": [],
   "source": [
    "f_importance_subset = f_importance[0:11]\n",
    "features = [i.replace('ROI: 0.25 µm per pixel: ','') for i in f_importance_subset['features']]\n",
    "f_importance_subset = f_importance_subset.copy()\n",
    "f_importance_subset.loc[:,'features'] = features\n",
    "f_importance_subset = f_importance_subset.rename(columns={'features':'Feature',\n",
    "                                    'importance':'Importance'})"
   ]
  },
  {
   "cell_type": "code",
   "execution_count": 34,
   "metadata": {},
   "outputs": [
    {
     "data": {
      "text/html": [
       "<div>\n",
       "<style scoped>\n",
       "    .dataframe tbody tr th:only-of-type {\n",
       "        vertical-align: middle;\n",
       "    }\n",
       "\n",
       "    .dataframe tbody tr th {\n",
       "        vertical-align: top;\n",
       "    }\n",
       "\n",
       "    .dataframe thead th {\n",
       "        text-align: right;\n",
       "    }\n",
       "</style>\n",
       "<table border=\"1\" class=\"dataframe\">\n",
       "  <thead>\n",
       "    <tr style=\"text-align: right;\">\n",
       "      <th></th>\n",
       "      <th>Feature</th>\n",
       "      <th>Importance</th>\n",
       "    </tr>\n",
       "  </thead>\n",
       "  <tbody>\n",
       "    <tr>\n",
       "      <th>1</th>\n",
       "      <td>Nucleus: Area µm^2</td>\n",
       "      <td>0.123232</td>\n",
       "    </tr>\n",
       "    <tr>\n",
       "      <th>2</th>\n",
       "      <td>Nucleus: Length µm</td>\n",
       "      <td>0.110194</td>\n",
       "    </tr>\n",
       "    <tr>\n",
       "      <th>5</th>\n",
       "      <td>Nucleus: Max diameter µm</td>\n",
       "      <td>0.100658</td>\n",
       "    </tr>\n",
       "    <tr>\n",
       "      <th>6</th>\n",
       "      <td>Nucleus: Min diameter µm</td>\n",
       "      <td>0.077623</td>\n",
       "    </tr>\n",
       "    <tr>\n",
       "      <th>11</th>\n",
       "      <td>Cell: Max diameter µm</td>\n",
       "      <td>0.072434</td>\n",
       "    </tr>\n",
       "    <tr>\n",
       "      <th>8</th>\n",
       "      <td>Cell: Length µm</td>\n",
       "      <td>0.050932</td>\n",
       "    </tr>\n",
       "    <tr>\n",
       "      <th>0</th>\n",
       "      <td>Detection probability</td>\n",
       "      <td>0.045960</td>\n",
       "    </tr>\n",
       "    <tr>\n",
       "      <th>15</th>\n",
       "      <td>Hematoxylin: Nucleus: Median</td>\n",
       "      <td>0.037469</td>\n",
       "    </tr>\n",
       "    <tr>\n",
       "      <th>3</th>\n",
       "      <td>Nucleus: Circularity</td>\n",
       "      <td>0.036762</td>\n",
       "    </tr>\n",
       "    <tr>\n",
       "      <th>14</th>\n",
       "      <td>Hematoxylin: Nucleus: Mean</td>\n",
       "      <td>0.036711</td>\n",
       "    </tr>\n",
       "    <tr>\n",
       "      <th>13</th>\n",
       "      <td>Nucleus/Cell area ratio</td>\n",
       "      <td>0.029776</td>\n",
       "    </tr>\n",
       "  </tbody>\n",
       "</table>\n",
       "</div>"
      ],
      "text/plain": [
       "                         Feature  Importance\n",
       "1             Nucleus: Area µm^2    0.123232\n",
       "2             Nucleus: Length µm    0.110194\n",
       "5       Nucleus: Max diameter µm    0.100658\n",
       "6       Nucleus: Min diameter µm    0.077623\n",
       "11         Cell: Max diameter µm    0.072434\n",
       "8                Cell: Length µm    0.050932\n",
       "0          Detection probability    0.045960\n",
       "15  Hematoxylin: Nucleus: Median    0.037469\n",
       "3           Nucleus: Circularity    0.036762\n",
       "14    Hematoxylin: Nucleus: Mean    0.036711\n",
       "13       Nucleus/Cell area ratio    0.029776"
      ]
     },
     "execution_count": 34,
     "metadata": {},
     "output_type": "execute_result"
    }
   ],
   "source": [
    "f_importance_subset"
   ]
  },
  {
   "cell_type": "code",
   "execution_count": 35,
   "metadata": {},
   "outputs": [
    {
     "data": {
      "text/plain": [
       "<Axes: xlabel='Importance', ylabel='Feature'>"
      ]
     },
     "execution_count": 35,
     "metadata": {},
     "output_type": "execute_result"
    },
    {
     "data": {
      "image/png": "[encoded data removed]",
      "text/plain": [
       "<Figure size 640x480 with 1 Axes>"
      ]
     },
     "metadata": {},
     "output_type": "display_data"
    }
   ],
   "source": [
    "sns.barplot(data=f_importance_subset,\n",
    "            y=\"Feature\",\n",
    "            x=\"Importance\",\n",
    "            color='midnightblue')"
   ]
  },
  {
   "cell_type": "code",
   "execution_count": 36,
   "metadata": {},
   "outputs": [],
   "source": [
    "keys = ['split0_test_PR_AUC',\n",
    "        'split1_test_PR_AUC',\n",
    "        'split2_test_PR_AUC',\n",
    "        'split3_test_PR_AUC',\n",
    "        'split4_test_PR_AUC',\n",
    "        'split5_test_PR_AUC',\n",
    "        'split6_test_PR_AUC',\n",
    "        'split7_test_PR_AUC',\n",
    "        'split8_test_PR_AUC',\n",
    "        'split9_test_PR_AUC']\n",
    "pr_val = []\n",
    "for i in keys:\n",
    "    pr_val.append(model_rf.cv_results_[i][model_rf.best_index_])"
   ]
  },
  {
   "cell_type": "code",
   "execution_count": 37,
   "metadata": {},
   "outputs": [
    {
     "name": "stdout",
     "output_type": "stream",
     "text": [
      "84.72707312197694\n",
      "mean pr: 84.72707312197696\n",
      "std pr: 6.311638799332325\n"
     ]
    }
   ],
   "source": [
    "print(model_rf.cv_results_['mean_test_PR_AUC'][model_rf.best_index_]*100)\n",
    "print('mean pr:', mean(pr_val)*100)\n",
    "print('std pr:', np.std(pr_val)*100)"
   ]
  }
 ],
 "metadata": {
  "kernelspec": {
   "display_name": "Python 3",
   "language": "python",
   "name": "python3"
  },
  "language_info": {
   "codemirror_mode": {
    "name": "ipython",
    "version": 3
   },
   "file_extension": ".py",
   "mimetype": "text/x-python",
   "name": "python",
   "nbconvert_exporter": "python",
   "pygments_lexer": "ipython3",
   "version": "3.8.16"
  },
  "vscode": {
   "interpreter": {
    "hash": "f6d2454d879cd4646d4a63709cef4295c623bc84b10d08f17db96bd3d790e764"
   }
  }
 },
 "nbformat": 4,
 "nbformat_minor": 2
}
