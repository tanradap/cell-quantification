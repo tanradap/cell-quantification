{
 "cells": [
  {
   "attachments": {},
   "cell_type": "markdown",
   "metadata": {},
   "source": [
    "### Tuning hyper-paremter of BG cell classifier"
   ]
  },
  {
   "cell_type": "code",
   "execution_count": 1,
   "metadata": {},
   "outputs": [],
   "source": [
    "# Importing libraries\n",
    "import sys\n",
    "sys.path.insert(0,\n",
    "                '/Users/mokur/OneDrive - University of Cambridge/Attachments/Jan2023/Cell_pipeline/Tuning_parameters/')\n",
    "\n",
    "from constants import * \n",
    "from base import *\n",
    "from custom_metrics import *\n",
    "from tuning_cv import *"
   ]
  },
  {
   "cell_type": "code",
   "execution_count": 2,
   "metadata": {},
   "outputs": [],
   "source": [
    "## Importing libraries \n",
    "import pandas as pd\n",
    "import numpy as np \n",
    "\n",
    "\n",
    "from sklearn.preprocessing import MinMaxScaler\n",
    "from sklearn.model_selection import GridSearchCV\n",
    "from sklearn.svm import SVC\n",
    "from sklearn.metrics import ConfusionMatrixDisplay\n",
    "import matplotlib.pyplot as plt\n",
    "import joblib"
   ]
  },
  {
   "attachments": {},
   "cell_type": "markdown",
   "metadata": {},
   "source": [
    "### Importing data "
   ]
  },
  {
   "cell_type": "code",
   "execution_count": 3,
   "metadata": {},
   "outputs": [],
   "source": [
    "# Annotated cells \n",
    "cell_path = \"/Users/mokur/OneDrive - University of Cambridge/Attachments/Jan2023/Cell_pipeline/Training_data/BG/cells/\"\n",
    "cell_training = \"training.txt\"\n",
    "\n",
    "# NNB information of all cells on slide\n",
    "nnb_path = \"/Users/mokur/OneDrive - University of Cambridge/Attachments/Jan2023/Cell_pipeline/Training_data/BG/NNB/\"\n",
    "nnb_training = \"training_NNB.txt\"\n",
    "\n",
    "# hema nucleus of all cells on slide\n",
    "hema_path = \"/Users/mokur/OneDrive - University of Cambridge/Attachments/Jan2023/Cell_pipeline/Training_data/BG/hema/\"\n",
    "hema_training = \"training_hema.txt\""
   ]
  },
  {
   "attachments": {},
   "cell_type": "markdown",
   "metadata": {},
   "source": [
    "Require: \n",
    "1. input_files.txt - to contian filenames I want to use. ** currently .csv files"
   ]
  },
  {
   "cell_type": "code",
   "execution_count": 4,
   "metadata": {},
   "outputs": [
    {
     "name": "stdout",
     "output_type": "stream",
     "text": [
      "Read in:  20 files\n",
      "Extracted: 20 files\n"
     ]
    }
   ],
   "source": [
    "# Importing annotated cells \n",
    "\n",
    "# obtaining list of files \n",
    "with open(cell_path + cell_training) as f: \n",
    "    mylist= f.read().splitlines()\n",
    "    \n",
    "print(\"Read in: \",len(mylist),\"files\")\n",
    "\n",
    "# reading in all those files \n",
    "inputs = [] \n",
    "for i in mylist: \n",
    "    dat_ = pd.read_csv(cell_path + i,sep=\",\")\n",
    "    dat_.columns.values[5] = 'Centroid_X'\n",
    "    dat_.columns.values[6] = 'Centroid_Y'\n",
    "    dat = dat_[cell_extracted_features] # fixed extracted feature order\n",
    "    inputs.append(dat)\n",
    "print(\"Extracted:\", len(inputs),\"files\")\n"
   ]
  },
  {
   "cell_type": "code",
   "execution_count": 5,
   "metadata": {},
   "outputs": [
    {
     "name": "stdout",
     "output_type": "stream",
     "text": [
      "Read in: 20  NUMBER OF neighbouring cells files\n",
      "Extracted: 20 files\n",
      "no. of columns / NB file: [18, 18, 18, 18, 18, 18, 18, 18, 18, 18, 18, 18, 18, 18, 18, 18, 18, 18, 13, 13]\n"
     ]
    }
   ],
   "source": [
    "# Importing in neghbouring cells info (numbers)\n",
    "\n",
    "# with open(nnb_path + nnb_training) as f: \n",
    "#     nb_mylist= f.read().splitlines()\n",
    "    \n",
    "# print(\"Read in:\",len(nb_mylist),\" NUMBER OF neighbouring cells files\")\n",
    "nb_mylist = [i[0:6]+'_all_neighbours.csv' for i in mylist]\n",
    "print(\"Read in:\",len(nb_mylist),\" NUMBER OF neighbouring cells files\")\n",
    "\n",
    "# reading in all those files \n",
    "nb_inputs = []\n",
    "nb_columns = [] \n",
    "for i in nb_mylist: \n",
    "    dat = pd.read_csv(nnb_path +i,sep=\",\")\n",
    "    dat.columns.values[0] = 'X'\n",
    "    dat.columns.values[1] = 'Y'\n",
    "    nb_inputs.append(dat)\n",
    "    nb_columns.append(dat.shape[1])\n",
    "    \n",
    "print(\"Extracted:\", len(nb_inputs),\"files\")\n",
    "print('no. of columns / NB file:', nb_columns)"
   ]
  },
  {
   "cell_type": "code",
   "execution_count": 6,
   "metadata": {},
   "outputs": [
    {
     "name": "stdout",
     "output_type": "stream",
     "text": [
      "Read in: 20 hema files\n",
      "Extracted: 20 hema files\n"
     ]
    }
   ],
   "source": [
    "#  Importing hema nucleus mean of all detected cells & location coordinates \n",
    "# Variables: hema_mylist, hema_inputs \n",
    "\n",
    "## obtaining list of files \n",
    "# with open(hema_path + hema_training) as f: \n",
    "#     hema_mylist= f.read().splitlines()\n",
    "    \n",
    "# print(\"Read in:\",len(hema_mylist),\"hema files\")\n",
    "hema_mylist = [i[0:6]+'_hema.csv' for i in mylist]    \n",
    "print(\"Read in:\",len(hema_mylist),\"hema files\")   \n",
    "\n",
    "\n",
    "## 4) reading in all those files \n",
    "hema_inputs = [] \n",
    "for i in hema_mylist: \n",
    "    dat = pd.read_csv(hema_path + i,sep=\",\")\n",
    "    dat.columns.values[0] = 'Centroid_X' # To fix naming inconsistency problem \n",
    "    dat.columns.values[1] = 'Centroid_Y'\n",
    "    hema_inputs.append(dat)\n",
    "\n",
    "print(\"Extracted:\",len(hema_inputs),\"hema files\")  \n"
   ]
  },
  {
   "cell_type": "code",
   "execution_count": 7,
   "metadata": {},
   "outputs": [
    {
     "name": "stdout",
     "output_type": "stream",
     "text": [
      "mylist & nb_list matched?: True\n",
      "mylist & hema_list matched?: True\n"
     ]
    }
   ],
   "source": [
    "# Checking if filenames & order of them from mylist, nb_mylist & hema_mylist match\n",
    "x_nb = [i[0:6] for i in nb_mylist]\n",
    "x = [i[0:6] for i in mylist]\n",
    "x_h = [i[0:6] for i in hema_mylist]\n",
    "print(\"mylist & nb_list matched?:\", x==x_nb)\n",
    "print(\"mylist & hema_list matched?:\",x==x_h)"
   ]
  },
  {
   "cell_type": "code",
   "execution_count": 8,
   "metadata": {},
   "outputs": [
    {
     "name": "stdout",
     "output_type": "stream",
     "text": [
      "[True, True, True, True, True, True, True, True, True, True, True, True, True, True, True, True, True, True, True, True]\n"
     ]
    }
   ],
   "source": [
    "# combine cells with NNB information\n",
    "inputs_with_nbb, output_log = combine_annotated_to_NNB2(annotated_list = inputs,\n",
    "                                                        NNB_list = nb_inputs)\n",
    "print(output_log)"
   ]
  },
  {
   "cell_type": "code",
   "execution_count": 9,
   "metadata": {},
   "outputs": [
    {
     "data": {
      "text/plain": [
       "Index(['X', 'Y', 'NN_10_um', 'NN_20_um', 'NN_30_um', 'NN_40_um', 'NN_50_um',\n",
       "       'NN_60_um', 'NN_70_um', 'NN_80_um', 'NN_90_um', 'NN_100_um',\n",
       "       'NN_110_um', 'NN_120_um', 'NN_130_um', 'NN_140_um', 'NN_150_um',\n",
       "       'slice_id'],\n",
       "      dtype='object')"
      ]
     },
     "execution_count": 9,
     "metadata": {},
     "output_type": "execute_result"
    }
   ],
   "source": [
    "nb_inputs[0].columns"
   ]
  },
  {
   "cell_type": "code",
   "execution_count": 10,
   "metadata": {},
   "outputs": [],
   "source": [
    "# Find cells to remove based on hematoxylin staining (from normalisation, remove top 1%)\n",
    "hema_to_remove = find_hema_to_remove(hema_inputs)\n",
    "\n",
    "# for i in range(0,len(hema_to_remove)): \n",
    "#     print(i, \" No. of cells with normalised Hema >1:\",len(hema_to_remove[i]), \"from\", len(hema_inputs[i]),\"detected cells\")"
   ]
  },
  {
   "cell_type": "code",
   "execution_count": 11,
   "metadata": {},
   "outputs": [
    {
     "name": "stdout",
     "output_type": "stream",
     "text": [
      "[True, True, True, True, True, True, True, True, True, True, True, True, True, True, True, True, True, True, True, True]\n",
      "(89, 56)\n"
     ]
    }
   ],
   "source": [
    "# remove cells that have hema above criteria\n",
    "cleaned_inputs, remove_log = remove_cell_hema(inputs_with_nbb,\n",
    "                                              hema_to_remove)\n",
    "print(remove_log)\n",
    "print(cleaned_inputs[0].shape)"
   ]
  },
  {
   "attachments": {},
   "cell_type": "markdown",
   "metadata": {},
   "source": [
    "### Putting the slides together "
   ]
  },
  {
   "cell_type": "code",
   "execution_count": 12,
   "metadata": {},
   "outputs": [
    {
     "name": "stdout",
     "output_type": "stream",
     "text": [
      "(1694, 56)\n"
     ]
    },
    {
     "data": {
      "text/html": [
       "<div>\n",
       "<style scoped>\n",
       "    .dataframe tbody tr th:only-of-type {\n",
       "        vertical-align: middle;\n",
       "    }\n",
       "\n",
       "    .dataframe tbody tr th {\n",
       "        vertical-align: top;\n",
       "    }\n",
       "\n",
       "    .dataframe thead th {\n",
       "        text-align: right;\n",
       "    }\n",
       "</style>\n",
       "<table border=\"1\" class=\"dataframe\">\n",
       "  <thead>\n",
       "    <tr style=\"text-align: right;\">\n",
       "      <th></th>\n",
       "      <th>Image</th>\n",
       "      <th>Class</th>\n",
       "      <th>Centroid_X</th>\n",
       "      <th>Centroid_Y</th>\n",
       "      <th>Detection probability</th>\n",
       "      <th>Nucleus: Area µm^2</th>\n",
       "      <th>Nucleus: Length µm</th>\n",
       "      <th>Nucleus: Circularity</th>\n",
       "      <th>Nucleus: Solidity</th>\n",
       "      <th>Nucleus: Max diameter µm</th>\n",
       "      <th>...</th>\n",
       "      <th>NN_10_um</th>\n",
       "      <th>NN_20_um</th>\n",
       "      <th>NN_30_um</th>\n",
       "      <th>NN_40_um</th>\n",
       "      <th>NN_50_um</th>\n",
       "      <th>NN_60_um</th>\n",
       "      <th>NN_70_um</th>\n",
       "      <th>NN_80_um</th>\n",
       "      <th>NN_90_um</th>\n",
       "      <th>NN_100_um</th>\n",
       "    </tr>\n",
       "  </thead>\n",
       "  <tbody>\n",
       "    <tr>\n",
       "      <th>0</th>\n",
       "      <td>721708.svs</td>\n",
       "      <td>Oligo</td>\n",
       "      <td>12022.2</td>\n",
       "      <td>8715.8</td>\n",
       "      <td>0.8575</td>\n",
       "      <td>13.1628</td>\n",
       "      <td>13.2907</td>\n",
       "      <td>0.9364</td>\n",
       "      <td>1.0</td>\n",
       "      <td>4.9150</td>\n",
       "      <td>...</td>\n",
       "      <td>1</td>\n",
       "      <td>1</td>\n",
       "      <td>2</td>\n",
       "      <td>7</td>\n",
       "      <td>10</td>\n",
       "      <td>15</td>\n",
       "      <td>22</td>\n",
       "      <td>30</td>\n",
       "      <td>37</td>\n",
       "      <td>50</td>\n",
       "    </tr>\n",
       "    <tr>\n",
       "      <th>1</th>\n",
       "      <td>721708.svs</td>\n",
       "      <td>Oligo</td>\n",
       "      <td>12029.8</td>\n",
       "      <td>8722.0</td>\n",
       "      <td>0.8796</td>\n",
       "      <td>15.2611</td>\n",
       "      <td>14.0081</td>\n",
       "      <td>0.9773</td>\n",
       "      <td>1.0</td>\n",
       "      <td>4.7992</td>\n",
       "      <td>...</td>\n",
       "      <td>1</td>\n",
       "      <td>1</td>\n",
       "      <td>1</td>\n",
       "      <td>4</td>\n",
       "      <td>10</td>\n",
       "      <td>17</td>\n",
       "      <td>24</td>\n",
       "      <td>34</td>\n",
       "      <td>38</td>\n",
       "      <td>49</td>\n",
       "    </tr>\n",
       "    <tr>\n",
       "      <th>2</th>\n",
       "      <td>721708.svs</td>\n",
       "      <td>Oligo</td>\n",
       "      <td>10048.5</td>\n",
       "      <td>9974.4</td>\n",
       "      <td>0.8670</td>\n",
       "      <td>16.7321</td>\n",
       "      <td>14.7662</td>\n",
       "      <td>0.9643</td>\n",
       "      <td>1.0</td>\n",
       "      <td>5.0758</td>\n",
       "      <td>...</td>\n",
       "      <td>1</td>\n",
       "      <td>3</td>\n",
       "      <td>5</td>\n",
       "      <td>7</td>\n",
       "      <td>11</td>\n",
       "      <td>14</td>\n",
       "      <td>25</td>\n",
       "      <td>35</td>\n",
       "      <td>52</td>\n",
       "      <td>65</td>\n",
       "    </tr>\n",
       "    <tr>\n",
       "      <th>3</th>\n",
       "      <td>721708.svs</td>\n",
       "      <td>Oligo</td>\n",
       "      <td>10029.8</td>\n",
       "      <td>9984.5</td>\n",
       "      <td>0.8827</td>\n",
       "      <td>18.6383</td>\n",
       "      <td>15.5263</td>\n",
       "      <td>0.9716</td>\n",
       "      <td>1.0</td>\n",
       "      <td>5.3159</td>\n",
       "      <td>...</td>\n",
       "      <td>1</td>\n",
       "      <td>1</td>\n",
       "      <td>4</td>\n",
       "      <td>6</td>\n",
       "      <td>9</td>\n",
       "      <td>17</td>\n",
       "      <td>26</td>\n",
       "      <td>36</td>\n",
       "      <td>47</td>\n",
       "      <td>63</td>\n",
       "    </tr>\n",
       "    <tr>\n",
       "      <th>4</th>\n",
       "      <td>721708.svs</td>\n",
       "      <td>Oligo</td>\n",
       "      <td>10031.0</td>\n",
       "      <td>9993.5</td>\n",
       "      <td>0.8682</td>\n",
       "      <td>21.4955</td>\n",
       "      <td>16.7517</td>\n",
       "      <td>0.9626</td>\n",
       "      <td>1.0</td>\n",
       "      <td>5.7030</td>\n",
       "      <td>...</td>\n",
       "      <td>1</td>\n",
       "      <td>1</td>\n",
       "      <td>4</td>\n",
       "      <td>6</td>\n",
       "      <td>11</td>\n",
       "      <td>18</td>\n",
       "      <td>24</td>\n",
       "      <td>35</td>\n",
       "      <td>49</td>\n",
       "      <td>64</td>\n",
       "    </tr>\n",
       "  </tbody>\n",
       "</table>\n",
       "<p>5 rows × 48 columns</p>\n",
       "</div>"
      ],
      "text/plain": [
       "        Image  Class  Centroid_X  Centroid_Y  Detection probability  \\\n",
       "0  721708.svs  Oligo     12022.2      8715.8                 0.8575   \n",
       "1  721708.svs  Oligo     12029.8      8722.0                 0.8796   \n",
       "2  721708.svs  Oligo     10048.5      9974.4                 0.8670   \n",
       "3  721708.svs  Oligo     10029.8      9984.5                 0.8827   \n",
       "4  721708.svs  Oligo     10031.0      9993.5                 0.8682   \n",
       "\n",
       "   Nucleus: Area µm^2  Nucleus: Length µm  Nucleus: Circularity  \\\n",
       "0             13.1628             13.2907                0.9364   \n",
       "1             15.2611             14.0081                0.9773   \n",
       "2             16.7321             14.7662                0.9643   \n",
       "3             18.6383             15.5263                0.9716   \n",
       "4             21.4955             16.7517                0.9626   \n",
       "\n",
       "   Nucleus: Solidity  Nucleus: Max diameter µm  ...  NN_10_um  NN_20_um  \\\n",
       "0                1.0                    4.9150  ...         1         1   \n",
       "1                1.0                    4.7992  ...         1         1   \n",
       "2                1.0                    5.0758  ...         1         3   \n",
       "3                1.0                    5.3159  ...         1         1   \n",
       "4                1.0                    5.7030  ...         1         1   \n",
       "\n",
       "   NN_30_um  NN_40_um  NN_50_um  NN_60_um  NN_70_um  NN_80_um  NN_90_um  \\\n",
       "0         2         7        10        15        22        30        37   \n",
       "1         1         4        10        17        24        34        38   \n",
       "2         5         7        11        14        25        35        52   \n",
       "3         4         6         9        17        26        36        47   \n",
       "4         4         6        11        18        24        35        49   \n",
       "\n",
       "   NN_100_um  \n",
       "0         50  \n",
       "1         49  \n",
       "2         65  \n",
       "3         63  \n",
       "4         64  \n",
       "\n",
       "[5 rows x 48 columns]"
      ]
     },
     "execution_count": 12,
     "metadata": {},
     "output_type": "execute_result"
    }
   ],
   "source": [
    "##Variables: labelled_orig, labelled_data \n",
    "#1) Put the slides together\n",
    "\n",
    "labelled_orig = pd.concat(cleaned_inputs)\n",
    "print(labelled_orig.shape)\n",
    "\n",
    "# 2) Extract relevant columns \n",
    "dat = labelled_orig.drop(columns=['Name','Parent','ROI', 'NN_110_um', 'NN_120_um', 'NN_130_um', 'NN_140_um', 'NN_150_um']) \n",
    "dat.head()\n"
   ]
  },
  {
   "attachments": {},
   "cell_type": "markdown",
   "metadata": {},
   "source": [
    "### Extracting relevant cell classes"
   ]
  },
  {
   "cell_type": "code",
   "execution_count": 13,
   "metadata": {},
   "outputs": [
    {
     "data": {
      "text/plain": [
       "oligo              783\n",
       "endo               289\n",
       "neuron             200\n",
       "astro              187\n",
       "ignore             142\n",
       "epi                 28\n",
       "fragmented          27\n",
       "ambiguous           22\n",
       "tuftedastrocyte     13\n",
       "tumor                2\n",
       "neuronaltau          1\n",
       "Name: Class, dtype: int64"
      ]
     },
     "execution_count": 13,
     "metadata": {},
     "output_type": "execute_result"
    }
   ],
   "source": [
    "# Make all class names lower case - easier for later selection\n",
    "\n",
    "dat_lower_class = [i.lower() for i in dat['Class']]\n",
    "dat2 = dat.copy()\n",
    "dat2.loc[:,'Class'] = dat_lower_class \n",
    "dat2['Class'].value_counts()"
   ]
  },
  {
   "cell_type": "code",
   "execution_count": 14,
   "metadata": {},
   "outputs": [
    {
     "data": {
      "text/plain": [
       "oligo         783\n",
       "endo          289\n",
       "neuron        200\n",
       "astro         187\n",
       "ignore        142\n",
       "fragmented     27\n",
       "Name: Class, dtype: int64"
      ]
     },
     "execution_count": 14,
     "metadata": {},
     "output_type": "execute_result"
    }
   ],
   "source": [
    "# Select only relevant cell classes (Using stardist_error instead of ignore_new)\n",
    "dat3 = dat2[(dat2['Class'] == 'oligo') | (dat2['Class'] == 'neuron')\n",
    "          | (dat2['Class'] == 'astro')| (dat2['Class'] == 'epithelial')\n",
    "          | (dat2['Class'] == 'ignore')| (dat2['Class'] == 'fragmented')| (dat2['Class'] == 'endo')]\n",
    "dat3=dat3.reset_index(drop=True)\n",
    "\n",
    "# Checking results\n",
    "dat3['Class'].value_counts()"
   ]
  },
  {
   "cell_type": "code",
   "execution_count": 15,
   "metadata": {},
   "outputs": [],
   "source": [
    "cell_code = {'neuron':'Neuron',\n",
    "             'oligo': 'Oligo',\n",
    "             'ignore': 'Others',\n",
    "             'astro':'Astro',\n",
    "             'epithelial':'Others',\n",
    "             'endo':'Others',\n",
    "             'fragmented':'Others'}"
   ]
  },
  {
   "cell_type": "code",
   "execution_count": 16,
   "metadata": {},
   "outputs": [],
   "source": [
    "# 3) Changing Epithelial to Endothelial\n",
    "classes = dat3['Class']\n",
    "formatted_classes = [cell_code[i]  for i in classes]\n",
    "data = dat3.copy()\n",
    "data.loc[:,'Class']=formatted_classes"
   ]
  },
  {
   "cell_type": "code",
   "execution_count": 17,
   "metadata": {},
   "outputs": [
    {
     "data": {
      "text/plain": [
       "Oligo     783\n",
       "Others    458\n",
       "Neuron    200\n",
       "Astro     187\n",
       "Name: Class, dtype: int64"
      ]
     },
     "execution_count": 17,
     "metadata": {},
     "output_type": "execute_result"
    }
   ],
   "source": [
    "\n",
    "data['Class'].value_counts()"
   ]
  },
  {
   "cell_type": "code",
   "execution_count": 18,
   "metadata": {},
   "outputs": [],
   "source": [
    "# Export cleaned data out for easy use: \n",
    "# path = '/Users/mokur/OneDrive - University of Cambridge/Attachments/Jan2023/Cell_pipeline/Cell_classification/bg_training_data.txt'\n",
    "# data.to_csv(path, sep=\"\\t\", index=False)"
   ]
  },
  {
   "attachments": {},
   "cell_type": "markdown",
   "metadata": {},
   "source": [
    "# Training the model"
   ]
  },
  {
   "attachments": {},
   "cell_type": "markdown",
   "metadata": {},
   "source": [
    "### Checking for any NA in the data"
   ]
  },
  {
   "cell_type": "code",
   "execution_count": 19,
   "metadata": {},
   "outputs": [
    {
     "name": "stdout",
     "output_type": "stream",
     "text": [
      "Any NA in the data?:  False\n"
     ]
    }
   ],
   "source": [
    "#checking for NAN \n",
    "## NEW \n",
    "print(\"Any NA in the data?: \",data.isnull().sum().sum()==1)\n",
    "\n",
    "#dat = dat.dropna()\n",
    "#dat.isnull().sum().sum()"
   ]
  },
  {
   "attachments": {},
   "cell_type": "markdown",
   "metadata": {},
   "source": [
    "### Create train, test sets "
   ]
  },
  {
   "cell_type": "code",
   "execution_count": 20,
   "metadata": {
    "scrolled": true
   },
   "outputs": [
    {
     "name": "stdout",
     "output_type": "stream",
     "text": [
      "training data shape: (1628, 44)\n"
     ]
    }
   ],
   "source": [
    "#We are using the entire dataset to train the model, test data will be provided later by Sanne \n",
    "X_train_l = data.drop(columns=['Class'])\n",
    "X_train = X_train_l.drop(columns=['Image','Centroid_X','Centroid_Y'])\n",
    "print('training data shape:',X_train.shape)\n",
    "y_train = data['Class']"
   ]
  },
  {
   "cell_type": "code",
   "execution_count": 21,
   "metadata": {},
   "outputs": [
    {
     "data": {
      "text/html": [
       "<div>\n",
       "<style scoped>\n",
       "    .dataframe tbody tr th:only-of-type {\n",
       "        vertical-align: middle;\n",
       "    }\n",
       "\n",
       "    .dataframe tbody tr th {\n",
       "        vertical-align: top;\n",
       "    }\n",
       "\n",
       "    .dataframe thead th {\n",
       "        text-align: right;\n",
       "    }\n",
       "</style>\n",
       "<table border=\"1\" class=\"dataframe\">\n",
       "  <thead>\n",
       "    <tr style=\"text-align: right;\">\n",
       "      <th></th>\n",
       "      <th>Detection probability</th>\n",
       "      <th>Nucleus: Area µm^2</th>\n",
       "      <th>Nucleus: Length µm</th>\n",
       "      <th>Nucleus: Circularity</th>\n",
       "      <th>Nucleus: Solidity</th>\n",
       "      <th>Nucleus: Max diameter µm</th>\n",
       "      <th>Nucleus: Min diameter µm</th>\n",
       "      <th>Cell: Area µm^2</th>\n",
       "      <th>Cell: Length µm</th>\n",
       "      <th>Cell: Circularity</th>\n",
       "      <th>...</th>\n",
       "      <th>NN_10_um</th>\n",
       "      <th>NN_20_um</th>\n",
       "      <th>NN_30_um</th>\n",
       "      <th>NN_40_um</th>\n",
       "      <th>NN_50_um</th>\n",
       "      <th>NN_60_um</th>\n",
       "      <th>NN_70_um</th>\n",
       "      <th>NN_80_um</th>\n",
       "      <th>NN_90_um</th>\n",
       "      <th>NN_100_um</th>\n",
       "    </tr>\n",
       "  </thead>\n",
       "  <tbody>\n",
       "    <tr>\n",
       "      <th>0</th>\n",
       "      <td>0.8575</td>\n",
       "      <td>13.1628</td>\n",
       "      <td>13.2907</td>\n",
       "      <td>0.9364</td>\n",
       "      <td>1.0</td>\n",
       "      <td>4.9150</td>\n",
       "      <td>3.4944</td>\n",
       "      <td>103.1323</td>\n",
       "      <td>37.8404</td>\n",
       "      <td>0.9051</td>\n",
       "      <td>...</td>\n",
       "      <td>1</td>\n",
       "      <td>1</td>\n",
       "      <td>2</td>\n",
       "      <td>7</td>\n",
       "      <td>10</td>\n",
       "      <td>15</td>\n",
       "      <td>22</td>\n",
       "      <td>30</td>\n",
       "      <td>37</td>\n",
       "      <td>50</td>\n",
       "    </tr>\n",
       "    <tr>\n",
       "      <th>1</th>\n",
       "      <td>0.8796</td>\n",
       "      <td>15.2611</td>\n",
       "      <td>14.0081</td>\n",
       "      <td>0.9773</td>\n",
       "      <td>1.0</td>\n",
       "      <td>4.7992</td>\n",
       "      <td>4.1628</td>\n",
       "      <td>120.9785</td>\n",
       "      <td>40.6755</td>\n",
       "      <td>0.9189</td>\n",
       "      <td>...</td>\n",
       "      <td>1</td>\n",
       "      <td>1</td>\n",
       "      <td>1</td>\n",
       "      <td>4</td>\n",
       "      <td>10</td>\n",
       "      <td>17</td>\n",
       "      <td>24</td>\n",
       "      <td>34</td>\n",
       "      <td>38</td>\n",
       "      <td>49</td>\n",
       "    </tr>\n",
       "    <tr>\n",
       "      <th>2</th>\n",
       "      <td>0.8670</td>\n",
       "      <td>16.7321</td>\n",
       "      <td>14.7662</td>\n",
       "      <td>0.9643</td>\n",
       "      <td>1.0</td>\n",
       "      <td>5.0758</td>\n",
       "      <td>4.3099</td>\n",
       "      <td>100.9326</td>\n",
       "      <td>38.6687</td>\n",
       "      <td>0.8482</td>\n",
       "      <td>...</td>\n",
       "      <td>1</td>\n",
       "      <td>3</td>\n",
       "      <td>5</td>\n",
       "      <td>7</td>\n",
       "      <td>11</td>\n",
       "      <td>14</td>\n",
       "      <td>25</td>\n",
       "      <td>35</td>\n",
       "      <td>52</td>\n",
       "      <td>65</td>\n",
       "    </tr>\n",
       "    <tr>\n",
       "      <th>3</th>\n",
       "      <td>0.8827</td>\n",
       "      <td>18.6383</td>\n",
       "      <td>15.5263</td>\n",
       "      <td>0.9716</td>\n",
       "      <td>1.0</td>\n",
       "      <td>5.3159</td>\n",
       "      <td>4.4388</td>\n",
       "      <td>124.4651</td>\n",
       "      <td>42.9339</td>\n",
       "      <td>0.8485</td>\n",
       "      <td>...</td>\n",
       "      <td>1</td>\n",
       "      <td>1</td>\n",
       "      <td>4</td>\n",
       "      <td>6</td>\n",
       "      <td>9</td>\n",
       "      <td>17</td>\n",
       "      <td>26</td>\n",
       "      <td>36</td>\n",
       "      <td>47</td>\n",
       "      <td>63</td>\n",
       "    </tr>\n",
       "    <tr>\n",
       "      <th>4</th>\n",
       "      <td>0.8682</td>\n",
       "      <td>21.4955</td>\n",
       "      <td>16.7517</td>\n",
       "      <td>0.9626</td>\n",
       "      <td>1.0</td>\n",
       "      <td>5.7030</td>\n",
       "      <td>5.0028</td>\n",
       "      <td>136.2816</td>\n",
       "      <td>44.2523</td>\n",
       "      <td>0.8745</td>\n",
       "      <td>...</td>\n",
       "      <td>1</td>\n",
       "      <td>1</td>\n",
       "      <td>4</td>\n",
       "      <td>6</td>\n",
       "      <td>11</td>\n",
       "      <td>18</td>\n",
       "      <td>24</td>\n",
       "      <td>35</td>\n",
       "      <td>49</td>\n",
       "      <td>64</td>\n",
       "    </tr>\n",
       "  </tbody>\n",
       "</table>\n",
       "<p>5 rows × 44 columns</p>\n",
       "</div>"
      ],
      "text/plain": [
       "   Detection probability  Nucleus: Area µm^2  Nucleus: Length µm  \\\n",
       "0                 0.8575             13.1628             13.2907   \n",
       "1                 0.8796             15.2611             14.0081   \n",
       "2                 0.8670             16.7321             14.7662   \n",
       "3                 0.8827             18.6383             15.5263   \n",
       "4                 0.8682             21.4955             16.7517   \n",
       "\n",
       "   Nucleus: Circularity  Nucleus: Solidity  Nucleus: Max diameter µm  \\\n",
       "0                0.9364                1.0                    4.9150   \n",
       "1                0.9773                1.0                    4.7992   \n",
       "2                0.9643                1.0                    5.0758   \n",
       "3                0.9716                1.0                    5.3159   \n",
       "4                0.9626                1.0                    5.7030   \n",
       "\n",
       "   Nucleus: Min diameter µm  Cell: Area µm^2  Cell: Length µm  \\\n",
       "0                    3.4944         103.1323          37.8404   \n",
       "1                    4.1628         120.9785          40.6755   \n",
       "2                    4.3099         100.9326          38.6687   \n",
       "3                    4.4388         124.4651          42.9339   \n",
       "4                    5.0028         136.2816          44.2523   \n",
       "\n",
       "   Cell: Circularity  ...  NN_10_um  NN_20_um  NN_30_um  NN_40_um  NN_50_um  \\\n",
       "0             0.9051  ...         1         1         2         7        10   \n",
       "1             0.9189  ...         1         1         1         4        10   \n",
       "2             0.8482  ...         1         3         5         7        11   \n",
       "3             0.8485  ...         1         1         4         6         9   \n",
       "4             0.8745  ...         1         1         4         6        11   \n",
       "\n",
       "   NN_60_um  NN_70_um  NN_80_um  NN_90_um  NN_100_um  \n",
       "0        15        22        30        37         50  \n",
       "1        17        24        34        38         49  \n",
       "2        14        25        35        52         65  \n",
       "3        17        26        36        47         63  \n",
       "4        18        24        35        49         64  \n",
       "\n",
       "[5 rows x 44 columns]"
      ]
     },
     "execution_count": 21,
     "metadata": {},
     "output_type": "execute_result"
    }
   ],
   "source": [
    "X_train.head()"
   ]
  },
  {
   "cell_type": "code",
   "execution_count": 22,
   "metadata": {},
   "outputs": [
    {
     "data": {
      "text/plain": [
       "Pipeline(steps=[('normalizer', MinMaxScaler()),\n",
       "                ('selector',\n",
       "                 RFE(estimator=RandomForestClassifier(random_state=42))),\n",
       "                ('clf', BalancedRandomForestClassifier())])"
      ]
     },
     "execution_count": 22,
     "metadata": {},
     "output_type": "execute_result"
    }
   ],
   "source": [
    "pipeline_cell"
   ]
  },
  {
   "attachments": {},
   "cell_type": "markdown",
   "metadata": {},
   "source": [
    "### Hyperparameter tuning - random forest"
   ]
  },
  {
   "cell_type": "code",
   "execution_count": 23,
   "metadata": {},
   "outputs": [
    {
     "name": "stdout",
     "output_type": "stream",
     "text": [
      "0.7680702017667081\n",
      "{'clf__C': 1, 'clf__class_weight': 'balanced', 'clf__gamma': 1, 'selector__n_features_to_select': 36}\n"
     ]
    }
   ],
   "source": [
    "# # Create the random grid \n",
    "\n",
    "rf_random = GridSearchCV(pipeline_cell_RBF_SVM,\n",
    "                         param_grid=grid_RBF_SVM, \n",
    "                        cv=10,\n",
    "                        refit='f1_macro', # use this metric to evaluate performance of parameters \n",
    "                        scoring={\n",
    "                        'balanced_accuracy':'balanced_accuracy',\n",
    "                        'f1_macro':'f1_macro',\n",
    "                          'f1_weighted':'f1_weighted',\n",
    "                          'Astro_accuracy': astro_acc,\n",
    "                          'Neuron_accuracy':neuron_acc,\n",
    "                          'Oligo_accuracy':oligo_acc,\n",
    "                          'Others_accuracy':others_acc,\n",
    "                          'A_as_N':A_as_N,\n",
    "                          'A_as_O':A_as_O,\n",
    "                          'A_as_Others':A_as_Others,\n",
    "                          'N_as_A':N_as_A,\n",
    "                          'N_as_O':N_as_O,\n",
    "                          'N_as_Others':N_as_Others,\n",
    "                          'O_as_A':O_as_A,\n",
    "                          'O_as_N':O_as_N,\n",
    "                          'O_as_Others':O_as_Others,\n",
    "                          'Others_as_A':Others_as_A,\n",
    "                          'Others_as_N':Others_as_N,\n",
    "                          'Others_as_O':Others_as_O\n",
    "                        })\n",
    "\n",
    "rf_random.fit(X_train,y_train)\n",
    "\n",
    "print(rf_random.best_score_)\n",
    "print(rf_random.best_params_)\n"
   ]
  },
  {
   "cell_type": "code",
   "execution_count": 25,
   "metadata": {},
   "outputs": [
    {
     "name": "stdout",
     "output_type": "stream",
     "text": [
      "Balanced accuracy: 78.15977463061292\n",
      "F1_macro: 76.80702017667082\n",
      "F1_weighted: 81.56017445825428\n",
      "Astrocyte accuracy: 69.0643274853801\n",
      "Neuron accuracy: 79.0\n",
      "Oligo accuracy: 86.44433625446284\n",
      "Others accuracy: 78.13043478260869\n",
      "Classified A as N: 12.280701754385966\n",
      "Classified A as O: 6.9298245614035086\n",
      "Classified A as Others: 11.725146198830409\n",
      "Classified N as A: 13.0\n",
      "Classified N as O: 0.5\n",
      "Classified N as Others: 7.5\n",
      "Classified O as A: 6.520610191496266\n",
      "Classified O as N: 0.1282051282051282\n",
      "Classified O as Others: 6.9068484258357685\n",
      "Classified Others as A: 7.212560386473429\n",
      "Classified Others as N: 4.352657004830917\n",
      "Classified Others as O: 10.304347826086957\n"
     ]
    }
   ],
   "source": [
    "# # Digging into more details \n",
    "\n",
    "print(\"Balanced accuracy:\",\n",
    "      rf_random.cv_results_['mean_test_balanced_accuracy'][rf_random.best_index_]*100)\n",
    "\n",
    "print(\"F1_macro:\",\n",
    "      rf_random.cv_results_['mean_test_f1_macro'][rf_random.best_index_]*100)\n",
    "\n",
    "print(\"F1_weighted:\",\n",
    "      rf_random.cv_results_['mean_test_f1_weighted'][rf_random.best_index_]*100)\n",
    "\n",
    "print(\"Astrocyte accuracy:\",\n",
    "      rf_random.cv_results_['mean_test_Astro_accuracy'][rf_random.best_index_]*100)\n",
    "\n",
    "print(\"Neuron accuracy:\",\n",
    "      rf_random.cv_results_['mean_test_Neuron_accuracy'][rf_random.best_index_]*100)\n",
    "\n",
    "print(\"Oligo accuracy:\",\n",
    "      rf_random.cv_results_['mean_test_Oligo_accuracy'][rf_random.best_index_]*100)\n",
    "\n",
    "print(\"Others accuracy:\",\n",
    "      rf_random.cv_results_['mean_test_Others_accuracy'][rf_random.best_index_]*100)\n",
    "\n",
    "\n",
    "print(\"Classified A as N:\",\n",
    "      rf_random.cv_results_['mean_test_A_as_N'][rf_random.best_index_]*100)\n",
    "\n",
    "print(\"Classified A as O:\",\n",
    "      rf_random.cv_results_['mean_test_A_as_O'][rf_random.best_index_]*100)\n",
    "\n",
    "print(\"Classified A as Others:\",\n",
    "      rf_random.cv_results_['mean_test_A_as_Others'][rf_random.best_index_]*100)\n",
    "\n",
    "print(\"Classified N as A:\",\n",
    "      rf_random.cv_results_['mean_test_N_as_A'][rf_random.best_index_]*100)\n",
    "\n",
    "print(\"Classified N as O:\",\n",
    "      rf_random.cv_results_['mean_test_N_as_O'][rf_random.best_index_]*100)\n",
    "\n",
    "print(\"Classified N as Others:\",\n",
    "      rf_random.cv_results_['mean_test_N_as_Others'][rf_random.best_index_]*100)\n",
    "\n",
    "print(\"Classified O as A:\",\n",
    "      rf_random.cv_results_['mean_test_O_as_A'][rf_random.best_index_]*100)\n",
    "\n",
    "print(\"Classified O as N:\",\n",
    "      rf_random.cv_results_['mean_test_O_as_N'][rf_random.best_index_]*100)\n",
    "\n",
    "print(\"Classified O as Others:\",\n",
    "      rf_random.cv_results_['mean_test_O_as_Others'][rf_random.best_index_]*100)\n",
    "\n",
    "\n",
    "print(\"Classified Others as A:\",\n",
    "      rf_random.cv_results_['mean_test_Others_as_A'][rf_random.best_index_]*100)\n",
    "\n",
    "print(\"Classified Others as N:\",\n",
    "      rf_random.cv_results_['mean_test_Others_as_N'][rf_random.best_index_]*100)\n",
    "\n",
    "print(\"Classified Others as O:\",\n",
    "      rf_random.cv_results_['mean_test_Others_as_O'][rf_random.best_index_]*100)\n",
    "                                                       "
   ]
  },
  {
   "cell_type": "code",
   "execution_count": 26,
   "metadata": {},
   "outputs": [
    {
     "data": {
      "text/plain": [
       "['BG_RBF_SVM_gridSearch.sav']"
      ]
     },
     "execution_count": 26,
     "metadata": {},
     "output_type": "execute_result"
    }
   ],
   "source": [
    "# save object using joblib\n",
    "joblib.dump(rf_random, 'BG_RBF_SVM_gridSearch.sav')"
   ]
  },
  {
   "attachments": {},
   "cell_type": "markdown",
   "metadata": {},
   "source": [
    "## Manual cross validation, using PR curves"
   ]
  },
  {
   "cell_type": "code",
   "execution_count": 30,
   "metadata": {},
   "outputs": [],
   "source": [
    "BG_classifier_hyperparams = [\n",
    "    ('normalizer', MinMaxScaler()),\n",
    "    ('selector', RFE(estimator=SVC(random_state=42,\n",
    "                                   kernel='linear'),\n",
    "        n_features_to_select=36)),\n",
    "    ('clf', SVC(\n",
    "        random_state=42,\n",
    "        C=1,\n",
    "        gamma=1,\n",
    "        kernel='rbf',\n",
    "        class_weight='balanced'))]\n",
    "        \n",
    "# 10-fold cross validation\n",
    "model = ClassifierTuning(hyperparameters=BG_classifier_hyperparams)\n"
   ]
  },
  {
   "cell_type": "code",
   "execution_count": 31,
   "metadata": {},
   "outputs": [],
   "source": [
    "model.cv_nothresholding(X=X_train,\n",
    "                        Y=y_train,\n",
    "                        X_location= X_train_l)"
   ]
  },
  {
   "cell_type": "code",
   "execution_count": 32,
   "metadata": {},
   "outputs": [
    {
     "name": "stdout",
     "output_type": "stream",
     "text": [
      "with no thresholding: 78.15977463061292\n",
      "Macro avg F1  76.80702017667082\n",
      "Weighted avg F1  81.56017445825428\n",
      "--------------------------\n",
      "[[129  23  13  22]\n",
      " [ 26 158   1  15]\n",
      " [ 51   1 677  54]\n",
      " [ 33  20  47 358]]\n",
      "[[68.98395722 12.29946524  6.95187166 11.76470588]\n",
      " [13.         79.          0.5         7.5       ]\n",
      " [ 6.51340996  0.12771392 86.46232439  6.89655172]\n",
      " [ 7.20524017  4.36681223 10.26200873 78.16593886]]\n",
      "--------------------------\n",
      "Astro accuracy 68.98395721925134\n",
      "Neuron accuracy 79.0\n",
      "Oligo accuracy 86.46232439335888\n",
      "Others accuracy 78.16593886462883\n",
      "------------------------------\n",
      "Astro f1-score  61.490401967902685\n",
      "Astro precision  55.802625681366095\n",
      "Astro recall  69.06432748538012\n",
      "--------------------------\n",
      "Neuron f1-score  78.09360911462528\n",
      "Neuron precision  80.2229812055899\n",
      "Neuron recall  79.0\n",
      "--------------------------\n",
      "Oligo f1-score  88.89095236793047\n",
      "Oligo precision  92.02338579877105\n",
      "Oligo recall  86.44433625446284\n",
      "--------------------------\n",
      "Others f1-score  78.75311725622481\n",
      "Others precision  80.18367770725587\n",
      "Others recall  78.13043478260869\n",
      "--------------------------\n",
      "Macro avg precision 77.05816759824573\n",
      "Macro avg recall  78.15977463061292\n"
     ]
    }
   ],
   "source": [
    "#Confusion matrix across 10 folds, WITHOUT thresholding \n",
    "print('with no thresholding:',\n",
    "      mean(model.cv_accuracies)*100)\n",
    "print('Macro avg F1 ',\n",
    "      mean([i['macro avg']['f1-score'] for i in model.cv_reports])*100)\n",
    "print('Weighted avg F1 ',\n",
    "      mean([i['weighted avg']['f1-score'] for i in model.cv_reports])*100)\n",
    "print(\"--------------------------\")\n",
    "cf = sum(model.cv_confusion_matrices)\n",
    "final_cm =  cf.astype('float') / cf.sum(axis=1)[:, np.newaxis]*100\n",
    "print(cf)\n",
    "print(final_cm)\n",
    "print(\"--------------------------\")\n",
    "print(\"Astro accuracy\",final_cm[0][0])\n",
    "print(\"Neuron accuracy\",final_cm[1][1])\n",
    "print(\"Oligo accuracy\",final_cm[2][2])\n",
    "print(\"Others accuracy\",final_cm[3][3])\n",
    "print('------------------------------')\n",
    "# F1-score per class: \n",
    "print('Astro f1-score ',mean([i['Astro']['f1-score'] for i in model.cv_reports])*100)\n",
    "print('Astro precision ',mean([i['Astro']['precision'] for i in model.cv_reports])*100)\n",
    "print('Astro recall ',mean([i['Astro']['recall'] for i in model.cv_reports])*100)\n",
    "print(\"--------------------------\")\n",
    "print('Neuron f1-score ',mean([i['Neuron']['f1-score'] for i in model.cv_reports])*100)\n",
    "print('Neuron precision ',mean([i['Neuron']['precision'] for i in model.cv_reports])*100)\n",
    "print('Neuron recall ',mean([i['Neuron']['recall'] for i in model.cv_reports])*100)\n",
    "print(\"--------------------------\")\n",
    "print('Oligo f1-score ',mean([i['Oligo']['f1-score'] for i in model.cv_reports])*100)\n",
    "print('Oligo precision ',mean([i['Oligo']['precision'] for i in model.cv_reports])*100)\n",
    "print('Oligo recall ',mean([i['Oligo']['recall'] for i in model.cv_reports])*100)\n",
    "print(\"--------------------------\")\n",
    "print('Others f1-score ',mean([i['Others']['f1-score'] for i in model.cv_reports])*100)\n",
    "print('Others precision ',mean([i['Others']['precision'] for i in model.cv_reports])*100)\n",
    "print('Others recall ',mean([i['Others']['recall'] for i in model.cv_reports])*100)\n",
    "print(\"--------------------------\")\n",
    "print('Macro avg precision',\n",
    "      mean([i['macro avg']['precision'] for i in model.cv_reports])*100)\n",
    "print('Macro avg recall ',\n",
    "      mean([i['macro avg']['recall'] for i in model.cv_reports])*100)"
   ]
  },
  {
   "cell_type": "code",
   "execution_count": 33,
   "metadata": {},
   "outputs": [
    {
     "data": {
      "text/plain": [
       "['bg_RBF_SVM_cv_results.sav']"
      ]
     },
     "execution_count": 33,
     "metadata": {},
     "output_type": "execute_result"
    }
   ],
   "source": [
    "# save object using joblib\n",
    "joblib.dump(model, 'bg_RBF_SVM_cv_results.sav')"
   ]
  },
  {
   "attachments": {},
   "cell_type": "markdown",
   "metadata": {},
   "source": [
    "Train the final model"
   ]
  },
  {
   "cell_type": "code",
   "execution_count": 34,
   "metadata": {},
   "outputs": [],
   "source": [
    "# Train final model\n",
    "bg_model = Pipeline(BG_classifier_hyperparams)\n",
    "final_model = bg_model.fit(X_train,y_train)"
   ]
  },
  {
   "cell_type": "code",
   "execution_count": 35,
   "metadata": {},
   "outputs": [
    {
     "data": {
      "text/plain": [
       "['bg_RBF_SVM_classifier.sav']"
      ]
     },
     "execution_count": 35,
     "metadata": {},
     "output_type": "execute_result"
    }
   ],
   "source": [
    "joblib.dump(final_model, 'bg_RBF_SVM_classifier.sav')"
   ]
  },
  {
   "attachments": {},
   "cell_type": "markdown",
   "metadata": {},
   "source": [
    "Extracting information"
   ]
  },
  {
   "cell_type": "code",
   "execution_count": 36,
   "metadata": {},
   "outputs": [],
   "source": [
    "# The final model\n",
    "loaded_model = joblib.load('/Users/mokur/OneDrive - University of Cambridge/Attachments/Jan2023/Cell_pipeline/Tuning_parameters/Comparing_methods/BG/bg_RBF_SVM_cv_results.sav')\n",
    "cf_t = sum(loaded_model.cv_confusion_matrices)\n",
    "final_cm_t =  cf_t.astype('float') / cf_t.sum(axis=1)[:, np.newaxis]*100"
   ]
  },
  {
   "cell_type": "code",
   "execution_count": 37,
   "metadata": {},
   "outputs": [
    {
     "data": {
      "image/png": "[encoded data removed]",
      "text/plain": [
       "<Figure size 640x480 with 2 Axes>"
      ]
     },
     "metadata": {},
     "output_type": "display_data"
    }
   ],
   "source": [
    "plot = ConfusionMatrixDisplay(final_cm_t,\n",
    "                              display_labels=['Astro', 'Neuron', 'Oligo', 'Others'])\n",
    "plot.plot(cmap='cividis', values_format='.2f')         \n",
    "plt.show()"
   ]
  },
  {
   "cell_type": "code",
   "execution_count": 39,
   "metadata": {},
   "outputs": [
    {
     "name": "stdout",
     "output_type": "stream",
     "text": [
      "Macro avg F1  76.80702017667082\n",
      "Macro avg F1 std  6.729189746618338\n",
      "--------------------------\n",
      "Macro avg precision 77.05816759824573\n",
      "Macro avg precision std 6.3835837192604705\n",
      "--------------------------\n",
      "Macro avg recall  78.15977463061292\n",
      "Macro avg recall std 6.738540767757255\n"
     ]
    }
   ],
   "source": [
    "model = loaded_model\n",
    "# Confusion matrix across 10 folds, WITH NO thresholding \n",
    "print('Macro avg F1 ', \n",
    "      mean([i['macro avg']['f1-score'] for i in model.cv_reports])*100)\n",
    "print('Macro avg F1 std ', \n",
    "      np.std([i['macro avg']['f1-score'] for i in model.cv_reports])*100)\n",
    "\n",
    "print(\"--------------------------\")\n",
    "print('Macro avg precision',\n",
    "      mean([i['macro avg']['precision'] for i in model.cv_reports])*100)\n",
    "print('Macro avg precision std',\n",
    "      np.std([i['macro avg']['precision'] for i in model.cv_reports])*100)\n",
    "print(\"--------------------------\")\n",
    "print('Macro avg recall ',\n",
    "      mean([i['macro avg']['recall'] for i in model.cv_reports])*100)\n",
    "print('Macro avg recall std',\n",
    "      np.std([i['macro avg']['recall'] for i in model.cv_reports])*100)"
   ]
  },
  {
   "attachments": {},
   "cell_type": "markdown",
   "metadata": {},
   "source": [
    "Plotting feature importance"
   ]
  },
  {
   "cell_type": "code",
   "execution_count": 40,
   "metadata": {},
   "outputs": [],
   "source": [
    "import seaborn as sns"
   ]
  },
  {
   "cell_type": "code",
   "execution_count": 41,
   "metadata": {},
   "outputs": [],
   "source": [
    "model_rf = joblib.load('/Users/mokur/OneDrive - University of Cambridge/Attachments/Jan2023/Cell_pipeline/Tuning_parameters/Comparing_methods/BG/bg_RBF_SVM_gridSearch.sav')"
   ]
  },
  {
   "cell_type": "code",
   "execution_count": 42,
   "metadata": {},
   "outputs": [
    {
     "data": {
      "text/plain": [
       "{'clf__C': 1,\n",
       " 'clf__class_weight': 'balanced',\n",
       " 'clf__gamma': 1,\n",
       " 'selector__n_features_to_select': 36}"
      ]
     },
     "execution_count": 42,
     "metadata": {},
     "output_type": "execute_result"
    }
   ],
   "source": [
    "model_rf.best_params_"
   ]
  },
  {
   "cell_type": "code",
   "execution_count": 41,
   "metadata": {},
   "outputs": [
    {
     "data": {
      "text/plain": [
       "['Detection probability',\n",
       " 'Nucleus: Area µm^2',\n",
       " 'Nucleus: Length µm',\n",
       " 'Nucleus: Circularity',\n",
       " 'Nucleus: Solidity',\n",
       " 'Nucleus: Max diameter µm',\n",
       " 'Nucleus: Min diameter µm',\n",
       " 'Cell: Area µm^2',\n",
       " 'Cell: Length µm',\n",
       " 'Cell: Circularity',\n",
       " 'Cell: Solidity',\n",
       " 'Cell: Max diameter µm',\n",
       " 'Cell: Min diameter µm',\n",
       " 'Nucleus/Cell area ratio',\n",
       " 'Hematoxylin: Nucleus: Mean',\n",
       " 'Hematoxylin: Nucleus: Median',\n",
       " 'Hematoxylin: Nucleus: Min',\n",
       " 'Hematoxylin: Nucleus: Max',\n",
       " 'Hematoxylin: Nucleus: Std.Dev.',\n",
       " 'Hematoxylin: Cytoplasm: Mean',\n",
       " 'Hematoxylin: Cytoplasm: Min',\n",
       " 'Hematoxylin: Cytoplasm: Max',\n",
       " 'Hematoxylin: Cytoplasm: Std.Dev.',\n",
       " 'Hematoxylin: Membrane: Mean',\n",
       " 'Hematoxylin: Membrane: Min',\n",
       " 'Hematoxylin: Membrane: Std.Dev.',\n",
       " 'Hematoxylin: Cell: Mean',\n",
       " 'Hematoxylin: Cell: Median',\n",
       " 'Hematoxylin: Cell: Min',\n",
       " 'Hematoxylin: Cell: Max',\n",
       " 'Hematoxylin: Cell: Std.Dev.',\n",
       " 'NN_10_um',\n",
       " 'NN_20_um',\n",
       " 'NN_40_um',\n",
       " 'NN_50_um',\n",
       " 'NN_90_um']"
      ]
     },
     "execution_count": 41,
     "metadata": {},
     "output_type": "execute_result"
    }
   ],
   "source": [
    "#With feature selection\n",
    "rf_result = model_rf.best_estimator_.named_steps['selector'].get_support(indices=True)\n",
    "rf_result\n",
    "rf_result_f = [X_train.columns[i] for i in rf_result]\n",
    "(rf_result_f)"
   ]
  }
 ],
 "metadata": {
  "kernelspec": {
   "display_name": "Python 3",
   "language": "python",
   "name": "python3"
  },
  "language_info": {
   "codemirror_mode": {
    "name": "ipython",
    "version": 3
   },
   "file_extension": ".py",
   "mimetype": "text/x-python",
   "name": "python",
   "nbconvert_exporter": "python",
   "pygments_lexer": "ipython3",
   "version": "3.8.16"
  },
  "vscode": {
   "interpreter": {
    "hash": "f6d2454d879cd4646d4a63709cef4295c623bc84b10d08f17db96bd3d790e764"
   }
  }
 },
 "nbformat": 4,
 "nbformat_minor": 2
}
