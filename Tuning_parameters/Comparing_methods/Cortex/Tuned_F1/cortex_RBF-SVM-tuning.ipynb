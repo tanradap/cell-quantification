{
 "cells": [
  {
   "attachments": {},
   "cell_type": "markdown",
   "metadata": {},
   "source": [
    "### Tuning hyper-paremter of cortical cell classifier"
   ]
  },
  {
   "cell_type": "code",
   "execution_count": 1,
   "metadata": {},
   "outputs": [],
   "source": [
    "# Importing libraries\n",
    "import sys\n",
    "sys.path.insert(0,\n",
    "                '/Users/mokur/OneDrive - University of Cambridge/Attachments/Jan2023/Cell_pipeline/Tuning_parameters/')\n",
    "\n",
    "from constants import * \n",
    "from base import *\n",
    "from custom_metrics import *\n",
    "from tuning_cv import *"
   ]
  },
  {
   "cell_type": "code",
   "execution_count": 2,
   "metadata": {},
   "outputs": [],
   "source": [
    "## Importing libraries \n",
    "import pandas as pd\n",
    "import numpy as np \n",
    "import random \n",
    "\n",
    "from sklearn import preprocessing \n",
    "\n",
    "from sklearn.pipeline import Pipeline\n",
    "from sklearn.preprocessing import MinMaxScaler\n",
    "from sklearn.model_selection import GridSearchCV\n",
    "from sklearn.svm import SVC\n",
    "from sklearn.metrics import ConfusionMatrixDisplay\n",
    "import matplotlib.pyplot as plt\n",
    "import joblib"
   ]
  },
  {
   "attachments": {},
   "cell_type": "markdown",
   "metadata": {},
   "source": [
    "### Importing data "
   ]
  },
  {
   "cell_type": "code",
   "execution_count": 3,
   "metadata": {},
   "outputs": [],
   "source": [
    "# Annotated cells \n",
    "cell_path = \"/Users/mokur/OneDrive - University of Cambridge/Attachments/Jan2023/Cell_pipeline/Training_data/Cortex/cells/\"\n",
    "cell_training = \"training.txt\"\n",
    "\n",
    "# NNB information of all cells on slide\n",
    "nnb_path = \"/Users/mokur/OneDrive - University of Cambridge/Attachments/Jan2023/Cell_pipeline/Training_data/Cortex/NNB/\"\n",
    "nnb_training = \"training_NNB.txt\"\n",
    "\n",
    "# hema nucleus of all cells on slide\n",
    "hema_path = \"/Users/mokur/OneDrive - University of Cambridge/Attachments/Jan2023/Cell_pipeline/Training_data/Cortex/hema/\"\n",
    "hema_training = \"training_hema.txt\""
   ]
  },
  {
   "attachments": {},
   "cell_type": "markdown",
   "metadata": {},
   "source": [
    "Require: \n",
    "1. input_files.txt - to contian filenames I want to use. ** currently .csv files"
   ]
  },
  {
   "cell_type": "code",
   "execution_count": 4,
   "metadata": {},
   "outputs": [
    {
     "name": "stdout",
     "output_type": "stream",
     "text": [
      "Read in:  12 files\n",
      "Extracted: 12 files\n"
     ]
    }
   ],
   "source": [
    "# Importing annotated cells \n",
    "\n",
    "# obtaining list of files \n",
    "with open(cell_path + cell_training) as f: \n",
    "    mylist= f.read().splitlines()\n",
    "    \n",
    "print(\"Read in: \",len(mylist),\"files\")\n",
    "\n",
    "# reading in all those files \n",
    "inputs = [] \n",
    "for i in mylist: \n",
    "    dat_ = pd.read_csv(cell_path + i,sep=\",\")\n",
    "    dat_.columns.values[5] = 'Centroid_X'\n",
    "    dat_.columns.values[6] = 'Centroid_Y'\n",
    "    dat = dat_[cell_extracted_features] # fixed extracted feature order\n",
    "    inputs.append(dat)\n",
    "print(\"Extracted:\", len(inputs),\"files\")\n"
   ]
  },
  {
   "cell_type": "code",
   "execution_count": 5,
   "metadata": {},
   "outputs": [
    {
     "name": "stdout",
     "output_type": "stream",
     "text": [
      "Read in: 12  NUMBER OF neighbouring cells files\n",
      "Extracted: 12 files\n",
      "no. of columns / NB file: [13, 13, 13, 13, 13, 13, 13, 13, 13, 13, 13, 13]\n"
     ]
    }
   ],
   "source": [
    "# Importing in neghbouring cells info (numbers)\n",
    "\n",
    "with open(nnb_path + nnb_training) as f: \n",
    "    nb_mylist= f.read().splitlines()\n",
    "    \n",
    "print(\"Read in:\",len(nb_mylist),\" NUMBER OF neighbouring cells files\")\n",
    "\n",
    "# reading in all those files \n",
    "nb_inputs = []\n",
    "nb_columns = [] \n",
    "for i in nb_mylist: \n",
    "    dat = pd.read_csv(nnb_path +i,sep=\",\")\n",
    "    dat.columns.values[0] = 'X'\n",
    "    dat.columns.values[1] = 'Y'\n",
    "    nb_inputs.append(dat)\n",
    "    nb_columns.append(dat.shape[1])\n",
    "    \n",
    "print(\"Extracted:\", len(nb_inputs),\"files\")\n",
    "print('no. of columns / NB file:', nb_columns)"
   ]
  },
  {
   "cell_type": "code",
   "execution_count": 6,
   "metadata": {},
   "outputs": [
    {
     "name": "stdout",
     "output_type": "stream",
     "text": [
      "Read in: 12 hema files\n",
      "Extracted: 12 hema files\n"
     ]
    }
   ],
   "source": [
    "#  Importing hema nucleus mean of all detected cells & location coordinates \n",
    "# Variables: hema_mylist, hema_inputs \n",
    "\n",
    "## obtaining list of files \n",
    "with open(hema_path + hema_training) as f: \n",
    "    hema_mylist= f.read().splitlines()\n",
    "    \n",
    "print(\"Read in:\",len(hema_mylist),\"hema files\")    \n",
    "\n",
    "\n",
    "## 4) reading in all those files \n",
    "hema_inputs = [] \n",
    "for i in hema_mylist: \n",
    "    dat = pd.read_csv(hema_path + i,sep=\",\")\n",
    "    dat.columns.values[0] = 'Centroid_X' # To fix naming inconsistency problem \n",
    "    dat.columns.values[1] = 'Centroid_Y'\n",
    "    hema_inputs.append(dat)\n",
    "\n",
    "print(\"Extracted:\",len(hema_inputs),\"hema files\")  \n"
   ]
  },
  {
   "cell_type": "code",
   "execution_count": 7,
   "metadata": {},
   "outputs": [
    {
     "name": "stdout",
     "output_type": "stream",
     "text": [
      "mylist & nb_list matched?: True\n",
      "mylist & hema_list matched?: True\n"
     ]
    }
   ],
   "source": [
    "# Checking if filenames & order of them from mylist, nb_mylist & hema_mylist match\n",
    "x_nb = [i[1:7] for i in nb_mylist]\n",
    "x = [i[0:6] for i in mylist]\n",
    "x_h = [i[0:6] for i in hema_mylist]\n",
    "print(\"mylist & nb_list matched?:\", x==x_nb)\n",
    "print(\"mylist & hema_list matched?:\",x==x_h)"
   ]
  },
  {
   "cell_type": "code",
   "execution_count": 8,
   "metadata": {},
   "outputs": [
    {
     "name": "stdout",
     "output_type": "stream",
     "text": [
      "[True, True, True, True, True, True, True, True, True, True, True, True]\n"
     ]
    }
   ],
   "source": [
    "# combine cells with NNB information\n",
    "inputs_with_nbb, output_log = combine_annotated_to_NNB(annotated_list = inputs,\n",
    "                                                        NNB_list = nb_inputs)\n",
    "print(output_log)"
   ]
  },
  {
   "cell_type": "code",
   "execution_count": 9,
   "metadata": {},
   "outputs": [],
   "source": [
    "# Find cells to remove based on hematoxylin staining (from normalisation, remove top 1%)\n",
    "hema_to_remove = find_hema_to_remove(hema_inputs)\n",
    "\n",
    "# for i in range(0,len(hema_to_remove)): \n",
    "#     print(i, \" No. of cells with normalised Hema >1:\",len(hema_to_remove[i]), \"from\", len(hema_inputs[i]),\"detected cells\")"
   ]
  },
  {
   "cell_type": "code",
   "execution_count": 10,
   "metadata": {},
   "outputs": [
    {
     "name": "stdout",
     "output_type": "stream",
     "text": [
      "[True, True, True, True, True, True, True, True, True, True, True, True]\n",
      "(566, 51)\n"
     ]
    }
   ],
   "source": [
    "# remove cells that have hema above criteria\n",
    "cleaned_inputs, remove_log = remove_cell_hema(inputs_with_nbb,\n",
    "                                              hema_to_remove)\n",
    "print(remove_log)\n",
    "print(cleaned_inputs[0].shape)"
   ]
  },
  {
   "attachments": {},
   "cell_type": "markdown",
   "metadata": {},
   "source": [
    "### Putting the slides together "
   ]
  },
  {
   "cell_type": "code",
   "execution_count": 11,
   "metadata": {},
   "outputs": [
    {
     "name": "stdout",
     "output_type": "stream",
     "text": [
      "(4717, 51)\n"
     ]
    },
    {
     "data": {
      "text/html": [
       "<div>\n",
       "<style scoped>\n",
       "    .dataframe tbody tr th:only-of-type {\n",
       "        vertical-align: middle;\n",
       "    }\n",
       "\n",
       "    .dataframe tbody tr th {\n",
       "        vertical-align: top;\n",
       "    }\n",
       "\n",
       "    .dataframe thead th {\n",
       "        text-align: right;\n",
       "    }\n",
       "</style>\n",
       "<table border=\"1\" class=\"dataframe\">\n",
       "  <thead>\n",
       "    <tr style=\"text-align: right;\">\n",
       "      <th></th>\n",
       "      <th>Image</th>\n",
       "      <th>Class</th>\n",
       "      <th>Centroid_X</th>\n",
       "      <th>Centroid_Y</th>\n",
       "      <th>Detection probability</th>\n",
       "      <th>Nucleus: Area µm^2</th>\n",
       "      <th>Nucleus: Length µm</th>\n",
       "      <th>Nucleus: Circularity</th>\n",
       "      <th>Nucleus: Solidity</th>\n",
       "      <th>Nucleus: Max diameter µm</th>\n",
       "      <th>...</th>\n",
       "      <th>NN_10_um</th>\n",
       "      <th>NN_20_um</th>\n",
       "      <th>NN_30_um</th>\n",
       "      <th>NN_40_um</th>\n",
       "      <th>NN_50_um</th>\n",
       "      <th>NN_60_um</th>\n",
       "      <th>NN_70_um</th>\n",
       "      <th>NN_80_um</th>\n",
       "      <th>NN_90_um</th>\n",
       "      <th>NN_100_um</th>\n",
       "    </tr>\n",
       "  </thead>\n",
       "  <tbody>\n",
       "    <tr>\n",
       "      <th>0</th>\n",
       "      <td>703484.svs</td>\n",
       "      <td>fragmented</td>\n",
       "      <td>2758.4</td>\n",
       "      <td>5064.2</td>\n",
       "      <td>0.7102</td>\n",
       "      <td>10.4438</td>\n",
       "      <td>11.7588</td>\n",
       "      <td>0.9492</td>\n",
       "      <td>1.0000</td>\n",
       "      <td>4.2279</td>\n",
       "      <td>...</td>\n",
       "      <td>1</td>\n",
       "      <td>2</td>\n",
       "      <td>3</td>\n",
       "      <td>5</td>\n",
       "      <td>7</td>\n",
       "      <td>10</td>\n",
       "      <td>16</td>\n",
       "      <td>21</td>\n",
       "      <td>25</td>\n",
       "      <td>36</td>\n",
       "    </tr>\n",
       "    <tr>\n",
       "      <th>1</th>\n",
       "      <td>703484.svs</td>\n",
       "      <td>Epithelial</td>\n",
       "      <td>2865.6</td>\n",
       "      <td>5210.4</td>\n",
       "      <td>0.7737</td>\n",
       "      <td>34.4719</td>\n",
       "      <td>24.9365</td>\n",
       "      <td>0.6966</td>\n",
       "      <td>0.9739</td>\n",
       "      <td>10.6183</td>\n",
       "      <td>...</td>\n",
       "      <td>0</td>\n",
       "      <td>1</td>\n",
       "      <td>3</td>\n",
       "      <td>3</td>\n",
       "      <td>4</td>\n",
       "      <td>7</td>\n",
       "      <td>14</td>\n",
       "      <td>25</td>\n",
       "      <td>32</td>\n",
       "      <td>35</td>\n",
       "    </tr>\n",
       "    <tr>\n",
       "      <th>2</th>\n",
       "      <td>703484.svs</td>\n",
       "      <td>Epithelial</td>\n",
       "      <td>2929.0</td>\n",
       "      <td>5210.6</td>\n",
       "      <td>0.7337</td>\n",
       "      <td>23.0844</td>\n",
       "      <td>20.5225</td>\n",
       "      <td>0.6888</td>\n",
       "      <td>0.9821</td>\n",
       "      <td>8.7795</td>\n",
       "      <td>...</td>\n",
       "      <td>0</td>\n",
       "      <td>0</td>\n",
       "      <td>1</td>\n",
       "      <td>2</td>\n",
       "      <td>5</td>\n",
       "      <td>5</td>\n",
       "      <td>10</td>\n",
       "      <td>15</td>\n",
       "      <td>18</td>\n",
       "      <td>25</td>\n",
       "    </tr>\n",
       "    <tr>\n",
       "      <th>3</th>\n",
       "      <td>703484.svs</td>\n",
       "      <td>Ignore</td>\n",
       "      <td>2736.6</td>\n",
       "      <td>5224.5</td>\n",
       "      <td>0.5949</td>\n",
       "      <td>31.9419</td>\n",
       "      <td>20.3826</td>\n",
       "      <td>0.9662</td>\n",
       "      <td>1.0000</td>\n",
       "      <td>7.1633</td>\n",
       "      <td>...</td>\n",
       "      <td>0</td>\n",
       "      <td>0</td>\n",
       "      <td>0</td>\n",
       "      <td>1</td>\n",
       "      <td>7</td>\n",
       "      <td>13</td>\n",
       "      <td>15</td>\n",
       "      <td>20</td>\n",
       "      <td>28</td>\n",
       "      <td>35</td>\n",
       "    </tr>\n",
       "    <tr>\n",
       "      <th>4</th>\n",
       "      <td>703484.svs</td>\n",
       "      <td>fragmented</td>\n",
       "      <td>5262.3</td>\n",
       "      <td>5460.8</td>\n",
       "      <td>0.7159</td>\n",
       "      <td>9.8636</td>\n",
       "      <td>13.0301</td>\n",
       "      <td>0.7300</td>\n",
       "      <td>0.9790</td>\n",
       "      <td>5.4442</td>\n",
       "      <td>...</td>\n",
       "      <td>1</td>\n",
       "      <td>4</td>\n",
       "      <td>7</td>\n",
       "      <td>8</td>\n",
       "      <td>13</td>\n",
       "      <td>16</td>\n",
       "      <td>17</td>\n",
       "      <td>19</td>\n",
       "      <td>22</td>\n",
       "      <td>30</td>\n",
       "    </tr>\n",
       "  </tbody>\n",
       "</table>\n",
       "<p>5 rows × 48 columns</p>\n",
       "</div>"
      ],
      "text/plain": [
       "        Image       Class  Centroid_X  Centroid_Y  Detection probability  \\\n",
       "0  703484.svs  fragmented      2758.4      5064.2                 0.7102   \n",
       "1  703484.svs  Epithelial      2865.6      5210.4                 0.7737   \n",
       "2  703484.svs  Epithelial      2929.0      5210.6                 0.7337   \n",
       "3  703484.svs      Ignore      2736.6      5224.5                 0.5949   \n",
       "4  703484.svs  fragmented      5262.3      5460.8                 0.7159   \n",
       "\n",
       "   Nucleus: Area µm^2  Nucleus: Length µm  Nucleus: Circularity  \\\n",
       "0             10.4438             11.7588                0.9492   \n",
       "1             34.4719             24.9365                0.6966   \n",
       "2             23.0844             20.5225                0.6888   \n",
       "3             31.9419             20.3826                0.9662   \n",
       "4              9.8636             13.0301                0.7300   \n",
       "\n",
       "   Nucleus: Solidity  Nucleus: Max diameter µm  ...  NN_10_um  NN_20_um  \\\n",
       "0             1.0000                    4.2279  ...         1         2   \n",
       "1             0.9739                   10.6183  ...         0         1   \n",
       "2             0.9821                    8.7795  ...         0         0   \n",
       "3             1.0000                    7.1633  ...         0         0   \n",
       "4             0.9790                    5.4442  ...         1         4   \n",
       "\n",
       "   NN_30_um  NN_40_um  NN_50_um  NN_60_um  NN_70_um  NN_80_um  NN_90_um  \\\n",
       "0         3         5         7        10        16        21        25   \n",
       "1         3         3         4         7        14        25        32   \n",
       "2         1         2         5         5        10        15        18   \n",
       "3         0         1         7        13        15        20        28   \n",
       "4         7         8        13        16        17        19        22   \n",
       "\n",
       "   NN_100_um  \n",
       "0         36  \n",
       "1         35  \n",
       "2         25  \n",
       "3         35  \n",
       "4         30  \n",
       "\n",
       "[5 rows x 48 columns]"
      ]
     },
     "execution_count": 11,
     "metadata": {},
     "output_type": "execute_result"
    }
   ],
   "source": [
    "##Variables: labelled_orig, labelled_data \n",
    "#1) Put the slides together\n",
    "\n",
    "labelled_orig = pd.concat(cleaned_inputs)\n",
    "print(labelled_orig.shape)\n",
    "\n",
    "# 2) Extract relevant columns \n",
    "dat = labelled_orig.drop(columns=['Name','Parent','ROI']) \n",
    "dat.head()\n"
   ]
  },
  {
   "attachments": {},
   "cell_type": "markdown",
   "metadata": {},
   "source": [
    "### Extracting relevant cell classes"
   ]
  },
  {
   "cell_type": "code",
   "execution_count": 12,
   "metadata": {},
   "outputs": [
    {
     "data": {
      "text/plain": [
       "neuron_new        885\n",
       "oligo_new         792\n",
       "epithelial_new    557\n",
       "ignore            356\n",
       "ignore_new        344\n",
       "epithelial        330\n",
       "fragmented        304\n",
       "neuron            302\n",
       "astro             297\n",
       "oligo             295\n",
       "astro_new         179\n",
       "stardist_error     35\n",
       "fragmented_new     25\n",
       "tumor              16\n",
       "Name: Class, dtype: int64"
      ]
     },
     "execution_count": 12,
     "metadata": {},
     "output_type": "execute_result"
    }
   ],
   "source": [
    "# Make all class names lower case - easier for later selection\n",
    "\n",
    "dat_lower_class = [i.lower() for i in dat['Class']]\n",
    "dat2 = dat.copy()\n",
    "dat2.loc[:,'Class'] = dat_lower_class \n",
    "dat2['Class'].value_counts()"
   ]
  },
  {
   "cell_type": "code",
   "execution_count": 13,
   "metadata": {},
   "outputs": [
    {
     "data": {
      "text/plain": [
       "neuron_new        885\n",
       "oligo_new         792\n",
       "epithelial_new    557\n",
       "astro_new         179\n",
       "stardist_error     35\n",
       "fragmented_new     25\n",
       "Name: Class, dtype: int64"
      ]
     },
     "execution_count": 13,
     "metadata": {},
     "output_type": "execute_result"
    }
   ],
   "source": [
    "# Select only relevant cell classes (Using stardist_error instead of ignore_new)\n",
    "dat3 = dat2[(dat2['Class'] == 'oligo_new') | (dat2['Class'] == 'neuron_new')\n",
    "          | (dat2['Class'] == 'astro_new')| (dat2['Class'] == 'epithelial_new')\n",
    "          | (dat2['Class'] == 'stardist_error')| (dat2['Class'] == 'fragmented_new')]\n",
    "dat3=dat3.reset_index(drop=True)\n",
    "\n",
    "# Checking results\n",
    "dat3['Class'].value_counts()"
   ]
  },
  {
   "cell_type": "code",
   "execution_count": 14,
   "metadata": {},
   "outputs": [
    {
     "data": {
      "text/plain": [
       "Neuron        885\n",
       "Oligo         792\n",
       "Epithelial    557\n",
       "Astro         179\n",
       "Stardist_e     35\n",
       "Fragmented     25\n",
       "Name: Class, dtype: int64"
      ]
     },
     "execution_count": 14,
     "metadata": {},
     "output_type": "execute_result"
    }
   ],
   "source": [
    "# Re-name these classes so it has no '_new'\n",
    "class_new = dat3['Class']\n",
    "x = [(i[0:-4].capitalize()) for i in class_new]\n",
    "#dat = dat_ \n",
    "dat3['Class'] = x\n",
    "dat3['Class'].value_counts()"
   ]
  },
  {
   "cell_type": "code",
   "execution_count": 15,
   "metadata": {},
   "outputs": [
    {
     "name": "stdout",
     "output_type": "stream",
     "text": [
      "2473\n"
     ]
    },
    {
     "data": {
      "text/plain": [
       "Neuron    885\n",
       "Oligo     792\n",
       "Others    617\n",
       "Astro     179\n",
       "Name: Class, dtype: int64"
      ]
     },
     "execution_count": 15,
     "metadata": {},
     "output_type": "execute_result"
    }
   ],
   "source": [
    "# Group Ignore, Epithelial & Fragmented cells as a single class called 'ta'\n",
    "class_ = dat3['Class']\n",
    "y = ['Others' if i == 'Epithelial' or i == 'Stardist_e' or i == 'Fragmented' else i for i in class_ ]\n",
    "data = dat3\n",
    "data['Class'] = y \n",
    "print(data['Class'].value_counts().sum())\n",
    "data['Class'].value_counts()\n"
   ]
  },
  {
   "cell_type": "code",
   "execution_count": 16,
   "metadata": {},
   "outputs": [],
   "source": [
    "# Export cleaned data out for easy use: \n",
    "# path = '/Users/mokur/OneDrive - University of Cambridge/Attachments/Jan2023/Cell_pipeline/Cell_classification/cortical_training_data.txt'\n",
    "# data.to_csv(path, sep=\"\\t\", index=False)"
   ]
  },
  {
   "attachments": {},
   "cell_type": "markdown",
   "metadata": {},
   "source": [
    "# Training the model"
   ]
  },
  {
   "attachments": {},
   "cell_type": "markdown",
   "metadata": {},
   "source": [
    "### Checking for any NA in the data"
   ]
  },
  {
   "cell_type": "code",
   "execution_count": 17,
   "metadata": {},
   "outputs": [
    {
     "name": "stdout",
     "output_type": "stream",
     "text": [
      "Any NA in the data?:  False\n"
     ]
    }
   ],
   "source": [
    "#checking for NAN \n",
    "## NEW \n",
    "print(\"Any NA in the data?: \",data.isnull().sum().sum()==1)\n",
    "\n",
    "#dat = dat.dropna()\n",
    "#dat.isnull().sum().sum()"
   ]
  },
  {
   "attachments": {},
   "cell_type": "markdown",
   "metadata": {},
   "source": [
    "### Create train, test sets "
   ]
  },
  {
   "cell_type": "code",
   "execution_count": 18,
   "metadata": {
    "scrolled": true
   },
   "outputs": [
    {
     "name": "stdout",
     "output_type": "stream",
     "text": [
      "training data shape: (2473, 44)\n"
     ]
    }
   ],
   "source": [
    "#We are using the entire dataset to train the model, test data will be provided later by Sanne \n",
    "X_train_l = data.drop(columns=['Class'])\n",
    "X_train = X_train_l.drop(columns=['Image','Centroid_X','Centroid_Y'])\n",
    "print('training data shape:',X_train.shape)\n",
    "y_train = data['Class']"
   ]
  },
  {
   "cell_type": "code",
   "execution_count": 19,
   "metadata": {},
   "outputs": [
    {
     "data": {
      "text/html": [
       "<div>\n",
       "<style scoped>\n",
       "    .dataframe tbody tr th:only-of-type {\n",
       "        vertical-align: middle;\n",
       "    }\n",
       "\n",
       "    .dataframe tbody tr th {\n",
       "        vertical-align: top;\n",
       "    }\n",
       "\n",
       "    .dataframe thead th {\n",
       "        text-align: right;\n",
       "    }\n",
       "</style>\n",
       "<table border=\"1\" class=\"dataframe\">\n",
       "  <thead>\n",
       "    <tr style=\"text-align: right;\">\n",
       "      <th></th>\n",
       "      <th>Detection probability</th>\n",
       "      <th>Nucleus: Area µm^2</th>\n",
       "      <th>Nucleus: Length µm</th>\n",
       "      <th>Nucleus: Circularity</th>\n",
       "      <th>Nucleus: Solidity</th>\n",
       "      <th>Nucleus: Max diameter µm</th>\n",
       "      <th>Nucleus: Min diameter µm</th>\n",
       "      <th>Cell: Area µm^2</th>\n",
       "      <th>Cell: Length µm</th>\n",
       "      <th>Cell: Circularity</th>\n",
       "      <th>...</th>\n",
       "      <th>NN_10_um</th>\n",
       "      <th>NN_20_um</th>\n",
       "      <th>NN_30_um</th>\n",
       "      <th>NN_40_um</th>\n",
       "      <th>NN_50_um</th>\n",
       "      <th>NN_60_um</th>\n",
       "      <th>NN_70_um</th>\n",
       "      <th>NN_80_um</th>\n",
       "      <th>NN_90_um</th>\n",
       "      <th>NN_100_um</th>\n",
       "    </tr>\n",
       "  </thead>\n",
       "  <tbody>\n",
       "    <tr>\n",
       "      <th>0</th>\n",
       "      <td>0.8929</td>\n",
       "      <td>70.4335</td>\n",
       "      <td>30.1589</td>\n",
       "      <td>0.9731</td>\n",
       "      <td>1.0000</td>\n",
       "      <td>10.5379</td>\n",
       "      <td>8.6989</td>\n",
       "      <td>258.8036</td>\n",
       "      <td>60.0120</td>\n",
       "      <td>0.9030</td>\n",
       "      <td>...</td>\n",
       "      <td>0</td>\n",
       "      <td>2</td>\n",
       "      <td>3</td>\n",
       "      <td>7</td>\n",
       "      <td>9</td>\n",
       "      <td>12</td>\n",
       "      <td>14</td>\n",
       "      <td>18</td>\n",
       "      <td>28</td>\n",
       "      <td>36</td>\n",
       "    </tr>\n",
       "    <tr>\n",
       "      <th>1</th>\n",
       "      <td>0.6650</td>\n",
       "      <td>69.3602</td>\n",
       "      <td>30.0618</td>\n",
       "      <td>0.9645</td>\n",
       "      <td>1.0000</td>\n",
       "      <td>10.3145</td>\n",
       "      <td>8.9289</td>\n",
       "      <td>289.4437</td>\n",
       "      <td>60.9183</td>\n",
       "      <td>0.9801</td>\n",
       "      <td>...</td>\n",
       "      <td>0</td>\n",
       "      <td>3</td>\n",
       "      <td>4</td>\n",
       "      <td>8</td>\n",
       "      <td>8</td>\n",
       "      <td>9</td>\n",
       "      <td>17</td>\n",
       "      <td>22</td>\n",
       "      <td>27</td>\n",
       "      <td>35</td>\n",
       "    </tr>\n",
       "    <tr>\n",
       "      <th>2</th>\n",
       "      <td>0.9025</td>\n",
       "      <td>21.2553</td>\n",
       "      <td>16.7824</td>\n",
       "      <td>0.9483</td>\n",
       "      <td>1.0000</td>\n",
       "      <td>6.1317</td>\n",
       "      <td>4.5305</td>\n",
       "      <td>132.4307</td>\n",
       "      <td>42.3046</td>\n",
       "      <td>0.9299</td>\n",
       "      <td>...</td>\n",
       "      <td>0</td>\n",
       "      <td>2</td>\n",
       "      <td>4</td>\n",
       "      <td>5</td>\n",
       "      <td>10</td>\n",
       "      <td>13</td>\n",
       "      <td>15</td>\n",
       "      <td>18</td>\n",
       "      <td>22</td>\n",
       "      <td>35</td>\n",
       "    </tr>\n",
       "    <tr>\n",
       "      <th>3</th>\n",
       "      <td>0.7240</td>\n",
       "      <td>91.2679</td>\n",
       "      <td>34.9913</td>\n",
       "      <td>0.9367</td>\n",
       "      <td>0.9992</td>\n",
       "      <td>12.8068</td>\n",
       "      <td>8.8117</td>\n",
       "      <td>321.6940</td>\n",
       "      <td>65.4879</td>\n",
       "      <td>0.9426</td>\n",
       "      <td>...</td>\n",
       "      <td>0</td>\n",
       "      <td>2</td>\n",
       "      <td>2</td>\n",
       "      <td>5</td>\n",
       "      <td>8</td>\n",
       "      <td>14</td>\n",
       "      <td>19</td>\n",
       "      <td>26</td>\n",
       "      <td>33</td>\n",
       "      <td>40</td>\n",
       "    </tr>\n",
       "    <tr>\n",
       "      <th>4</th>\n",
       "      <td>0.8682</td>\n",
       "      <td>18.5580</td>\n",
       "      <td>15.5796</td>\n",
       "      <td>0.9608</td>\n",
       "      <td>1.0000</td>\n",
       "      <td>5.4150</td>\n",
       "      <td>4.4888</td>\n",
       "      <td>163.2746</td>\n",
       "      <td>45.8910</td>\n",
       "      <td>0.9743</td>\n",
       "      <td>...</td>\n",
       "      <td>0</td>\n",
       "      <td>0</td>\n",
       "      <td>1</td>\n",
       "      <td>7</td>\n",
       "      <td>12</td>\n",
       "      <td>15</td>\n",
       "      <td>17</td>\n",
       "      <td>22</td>\n",
       "      <td>28</td>\n",
       "      <td>37</td>\n",
       "    </tr>\n",
       "  </tbody>\n",
       "</table>\n",
       "<p>5 rows × 44 columns</p>\n",
       "</div>"
      ],
      "text/plain": [
       "   Detection probability  Nucleus: Area µm^2  Nucleus: Length µm  \\\n",
       "0                 0.8929             70.4335             30.1589   \n",
       "1                 0.6650             69.3602             30.0618   \n",
       "2                 0.9025             21.2553             16.7824   \n",
       "3                 0.7240             91.2679             34.9913   \n",
       "4                 0.8682             18.5580             15.5796   \n",
       "\n",
       "   Nucleus: Circularity  Nucleus: Solidity  Nucleus: Max diameter µm  \\\n",
       "0                0.9731             1.0000                   10.5379   \n",
       "1                0.9645             1.0000                   10.3145   \n",
       "2                0.9483             1.0000                    6.1317   \n",
       "3                0.9367             0.9992                   12.8068   \n",
       "4                0.9608             1.0000                    5.4150   \n",
       "\n",
       "   Nucleus: Min diameter µm  Cell: Area µm^2  Cell: Length µm  \\\n",
       "0                    8.6989         258.8036          60.0120   \n",
       "1                    8.9289         289.4437          60.9183   \n",
       "2                    4.5305         132.4307          42.3046   \n",
       "3                    8.8117         321.6940          65.4879   \n",
       "4                    4.4888         163.2746          45.8910   \n",
       "\n",
       "   Cell: Circularity  ...  NN_10_um  NN_20_um  NN_30_um  NN_40_um  NN_50_um  \\\n",
       "0             0.9030  ...         0         2         3         7         9   \n",
       "1             0.9801  ...         0         3         4         8         8   \n",
       "2             0.9299  ...         0         2         4         5        10   \n",
       "3             0.9426  ...         0         2         2         5         8   \n",
       "4             0.9743  ...         0         0         1         7        12   \n",
       "\n",
       "   NN_60_um  NN_70_um  NN_80_um  NN_90_um  NN_100_um  \n",
       "0        12        14        18        28         36  \n",
       "1         9        17        22        27         35  \n",
       "2        13        15        18        22         35  \n",
       "3        14        19        26        33         40  \n",
       "4        15        17        22        28         37  \n",
       "\n",
       "[5 rows x 44 columns]"
      ]
     },
     "execution_count": 19,
     "metadata": {},
     "output_type": "execute_result"
    }
   ],
   "source": [
    "X_train.head()"
   ]
  },
  {
   "cell_type": "code",
   "execution_count": 20,
   "metadata": {},
   "outputs": [
    {
     "data": {
      "text/plain": [
       "Pipeline(steps=[('normalizer', MinMaxScaler()),\n",
       "                ('selector',\n",
       "                 RFE(estimator=RandomForestClassifier(random_state=42))),\n",
       "                ('clf', BalancedRandomForestClassifier())])"
      ]
     },
     "execution_count": 20,
     "metadata": {},
     "output_type": "execute_result"
    }
   ],
   "source": [
    "pipeline_cell"
   ]
  },
  {
   "attachments": {},
   "cell_type": "markdown",
   "metadata": {},
   "source": [
    "### Hyperparameter tuning - linear SVM"
   ]
  },
  {
   "cell_type": "code",
   "execution_count": 21,
   "metadata": {},
   "outputs": [
    {
     "data": {
      "text/plain": [
       "Pipeline(steps=[('normalizer', MinMaxScaler()),\n",
       "                ('selector',\n",
       "                 RFE(estimator=SVC(kernel='linear', random_state=42))),\n",
       "                ('clf', SVC(random_state=42))])"
      ]
     },
     "execution_count": 21,
     "metadata": {},
     "output_type": "execute_result"
    }
   ],
   "source": [
    "pipeline_cell_RBF_SVM # RFE(SVC), kernel has to be linear ONLY as feature importance can be extracted. Feature importance cannot be extracted for non-linear kernel."
   ]
  },
  {
   "cell_type": "code",
   "execution_count": 22,
   "metadata": {},
   "outputs": [
    {
     "data": {
      "text/plain": [
       "{'selector__n_features_to_select': [28, 30, 34, 36, 38, 40, 42, 44],\n",
       " 'clf__C': [10, 1, 10, 100],\n",
       " 'clf__gamma': [0.0001, 0.001, 0.01, 0.1, 1],\n",
       " 'clf__class_weight': ['balanced']}"
      ]
     },
     "execution_count": 22,
     "metadata": {},
     "output_type": "execute_result"
    }
   ],
   "source": [
    "grid_RBF_SVM"
   ]
  },
  {
   "cell_type": "code",
   "execution_count": 23,
   "metadata": {},
   "outputs": [
    {
     "name": "stdout",
     "output_type": "stream",
     "text": [
      "0.7611371355243534\n",
      "{'clf__C': 10, 'clf__class_weight': 'balanced', 'clf__gamma': 1, 'selector__n_features_to_select': 28}\n"
     ]
    }
   ],
   "source": [
    "# # Create the random grid \n",
    "\n",
    "rf_random = GridSearchCV(pipeline_cell_RBF_SVM,\n",
    "                         param_grid=grid_RBF_SVM, \n",
    "                        cv=10,\n",
    "                        refit='f1_macro', # use this metric to evaluate performance of parameters \n",
    "                        scoring={\n",
    "                        'balanced_accuracy':'balanced_accuracy',\n",
    "                        'f1_macro':'f1_macro',\n",
    "                          'f1_weighted':'f1_weighted',\n",
    "                          'Astro_accuracy': astro_acc,\n",
    "                          'Neuron_accuracy':neuron_acc,\n",
    "                          'Oligo_accuracy':oligo_acc,\n",
    "                          'Others_accuracy':others_acc,\n",
    "                          'A_as_N':A_as_N,\n",
    "                          'A_as_O':A_as_O,\n",
    "                          'A_as_Others':A_as_Others,\n",
    "                          'N_as_A':N_as_A,\n",
    "                          'N_as_O':N_as_O,\n",
    "                          'N_as_Others':N_as_Others,\n",
    "                          'O_as_A':O_as_A,\n",
    "                          'O_as_N':O_as_N,\n",
    "                          'O_as_Others':O_as_Others,\n",
    "                          'Others_as_A':Others_as_A,\n",
    "                          'Others_as_N':Others_as_N,\n",
    "                          'Others_as_O':Others_as_O\n",
    "                        })\n",
    "\n",
    "rf_random.fit(X_train,y_train)\n",
    "\n",
    "print(rf_random.best_score_)\n",
    "print(rf_random.best_params_)\n"
   ]
  },
  {
   "cell_type": "code",
   "execution_count": 24,
   "metadata": {},
   "outputs": [
    {
     "name": "stdout",
     "output_type": "stream",
     "text": [
      "Balanced accuracy: 78.98714129594691\n",
      "F1_macro: 76.11371355243534\n",
      "F1_weighted: 81.68175718154001\n",
      "Astrocyte accuracy: 73.16993464052288\n",
      "Neuron accuracy: 85.63074565883554\n",
      "Oligo accuracy: 83.46993670886077\n",
      "Others accuracy: 73.67794817556847\n",
      "Classified A as N: 14.444444444444443\n",
      "Classified A as O: 6.764705882352942\n",
      "Classified A as Others: 5.620915032679739\n",
      "Classified N as A: 9.502042900919303\n",
      "Classified N as O: 0.9052604698672115\n",
      "Classified N as Others: 3.9619509703779365\n",
      "Classified O as A: 6.818037974683544\n",
      "Classified O as N: 0.25316455696202533\n",
      "Classified O as Others: 9.458860759493671\n",
      "Classified Others as A: 4.867794817556849\n",
      "Classified Others as N: 7.6493918561607614\n",
      "Classified Others as O: 13.804865150713905\n"
     ]
    }
   ],
   "source": [
    "# # Digging into more details \n",
    "\n",
    "print(\"Balanced accuracy:\",\n",
    "      rf_random.cv_results_['mean_test_balanced_accuracy'][rf_random.best_index_]*100)\n",
    "\n",
    "print(\"F1_macro:\",\n",
    "      rf_random.cv_results_['mean_test_f1_macro'][rf_random.best_index_]*100)\n",
    "\n",
    "print(\"F1_weighted:\",\n",
    "      rf_random.cv_results_['mean_test_f1_weighted'][rf_random.best_index_]*100)\n",
    "\n",
    "print(\"Astrocyte accuracy:\",\n",
    "      rf_random.cv_results_['mean_test_Astro_accuracy'][rf_random.best_index_]*100)\n",
    "\n",
    "print(\"Neuron accuracy:\",\n",
    "      rf_random.cv_results_['mean_test_Neuron_accuracy'][rf_random.best_index_]*100)\n",
    "\n",
    "print(\"Oligo accuracy:\",\n",
    "      rf_random.cv_results_['mean_test_Oligo_accuracy'][rf_random.best_index_]*100)\n",
    "\n",
    "print(\"Others accuracy:\",\n",
    "      rf_random.cv_results_['mean_test_Others_accuracy'][rf_random.best_index_]*100)\n",
    "\n",
    "\n",
    "print(\"Classified A as N:\",\n",
    "      rf_random.cv_results_['mean_test_A_as_N'][rf_random.best_index_]*100)\n",
    "\n",
    "print(\"Classified A as O:\",\n",
    "      rf_random.cv_results_['mean_test_A_as_O'][rf_random.best_index_]*100)\n",
    "\n",
    "print(\"Classified A as Others:\",\n",
    "      rf_random.cv_results_['mean_test_A_as_Others'][rf_random.best_index_]*100)\n",
    "\n",
    "print(\"Classified N as A:\",\n",
    "      rf_random.cv_results_['mean_test_N_as_A'][rf_random.best_index_]*100)\n",
    "\n",
    "print(\"Classified N as O:\",\n",
    "      rf_random.cv_results_['mean_test_N_as_O'][rf_random.best_index_]*100)\n",
    "\n",
    "print(\"Classified N as Others:\",\n",
    "      rf_random.cv_results_['mean_test_N_as_Others'][rf_random.best_index_]*100)\n",
    "\n",
    "print(\"Classified O as A:\",\n",
    "      rf_random.cv_results_['mean_test_O_as_A'][rf_random.best_index_]*100)\n",
    "\n",
    "print(\"Classified O as N:\",\n",
    "      rf_random.cv_results_['mean_test_O_as_N'][rf_random.best_index_]*100)\n",
    "\n",
    "print(\"Classified O as Others:\",\n",
    "      rf_random.cv_results_['mean_test_O_as_Others'][rf_random.best_index_]*100)\n",
    "\n",
    "\n",
    "print(\"Classified Others as A:\",\n",
    "      rf_random.cv_results_['mean_test_Others_as_A'][rf_random.best_index_]*100)\n",
    "\n",
    "print(\"Classified Others as N:\",\n",
    "      rf_random.cv_results_['mean_test_Others_as_N'][rf_random.best_index_]*100)\n",
    "\n",
    "print(\"Classified Others as O:\",\n",
    "      rf_random.cv_results_['mean_test_Others_as_O'][rf_random.best_index_]*100)\n",
    "                                                       "
   ]
  },
  {
   "cell_type": "code",
   "execution_count": 25,
   "metadata": {},
   "outputs": [
    {
     "data": {
      "text/plain": [
       "['cortical_RBF_SVM_gridSearch.sav']"
      ]
     },
     "execution_count": 25,
     "metadata": {},
     "output_type": "execute_result"
    }
   ],
   "source": [
    "# save object using joblib\n",
    "joblib.dump(rf_random, 'cortical_RBF_SVM_gridSearch.sav')"
   ]
  },
  {
   "attachments": {},
   "cell_type": "markdown",
   "metadata": {},
   "source": [
    "## Manual cross validation, using PR curves"
   ]
  },
  {
   "cell_type": "code",
   "execution_count": 26,
   "metadata": {},
   "outputs": [],
   "source": [
    "cortical_classifier_hyperparams = [\n",
    "    ('normalizer', MinMaxScaler()),\n",
    "    ('selector', RFE(estimator=SVC(random_state=42,\n",
    "                                   kernel='linear'),\n",
    "        n_features_to_select=42)),\n",
    "    ('clf', SVC(\n",
    "        random_state=42,\n",
    "        kernel='rbf',\n",
    "        C=10,\n",
    "        gamma=1,\n",
    "        class_weight='balanced'))]\n",
    "        \n",
    "# 10-fold cross validation\n",
    "model = ClassifierTuning(hyperparameters=cortical_classifier_hyperparams)\n"
   ]
  },
  {
   "cell_type": "code",
   "execution_count": 27,
   "metadata": {},
   "outputs": [],
   "source": [
    "model.cv_nothresholding(X=X_train,\n",
    "                        Y=y_train,\n",
    "                        X_location= X_train_l)"
   ]
  },
  {
   "cell_type": "code",
   "execution_count": 29,
   "metadata": {},
   "outputs": [
    {
     "name": "stdout",
     "output_type": "stream",
     "text": [
      "with no thresholding: 76.30111761274688\n",
      "Macro avg F1  74.40280510695348\n",
      "Weighted avg F1  80.3254021833589\n",
      "--------------------------\n",
      "[[115  33  18  13]\n",
      " [ 77 754   9  45]\n",
      " [ 38   4 657  93]\n",
      " [ 26  45  96 450]]\n",
      "[[64.24581006 18.43575419 10.05586592  7.26256983]\n",
      " [ 8.70056497 85.19774011  1.01694915  5.08474576]\n",
      " [ 4.7979798   0.50505051 82.95454545 11.74242424]\n",
      " [ 4.21393841  7.29335494 15.55915721 72.93354943]]\n",
      "--------------------------\n",
      "Astro accuracy 64.24581005586593\n",
      "Neuron accuracy 85.19774011299435\n",
      "Oligo accuracy 82.95454545454545\n",
      "Others accuracy 72.93354943273907\n",
      "------------------------------\n",
      "Astro f1-score  52.710792034025346\n",
      "Astro precision  46.63315361109479\n",
      "Astro recall  64.18300653594771\n",
      "--------------------------\n",
      "Neuron f1-score  87.52778163813288\n",
      "Neuron precision  90.50702307016392\n",
      "Neuron recall  85.18003064351379\n",
      "--------------------------\n",
      "Oligo f1-score  83.51725702729475\n",
      "Oligo precision  84.46514426609173\n",
      "Oligo recall  82.96993670886076\n",
      "--------------------------\n",
      "Others f1-score  73.85538972836095\n",
      "Others precision  75.00445489473393\n",
      "Others recall  72.87149656266526\n",
      "--------------------------\n",
      "Macro avg precision 74.15244396052108\n",
      "Macro avg recall  76.30111761274688\n"
     ]
    }
   ],
   "source": [
    "#Confusion matrix across 10 folds, WITHOUT thresholding \n",
    "print('with no thresholding:',\n",
    "      mean(model.cv_accuracies)*100)\n",
    "print('Macro avg F1 ',\n",
    "      mean([i['macro avg']['f1-score'] for i in model.cv_reports])*100)\n",
    "print('Weighted avg F1 ',\n",
    "      mean([i['weighted avg']['f1-score'] for i in model.cv_reports])*100)\n",
    "print(\"--------------------------\")\n",
    "cf = sum(model.cv_confusion_matrices)\n",
    "final_cm =  cf.astype('float') / cf.sum(axis=1)[:, np.newaxis]*100\n",
    "print(cf)\n",
    "print(final_cm)\n",
    "print(\"--------------------------\")\n",
    "print(\"Astro accuracy\",final_cm[0][0])\n",
    "print(\"Neuron accuracy\",final_cm[1][1])\n",
    "print(\"Oligo accuracy\",final_cm[2][2])\n",
    "print(\"Others accuracy\",final_cm[3][3])\n",
    "print('------------------------------')\n",
    "# F1-score per class: \n",
    "print('Astro f1-score ',mean([i['Astro']['f1-score'] for i in model.cv_reports])*100)\n",
    "print('Astro precision ',mean([i['Astro']['precision'] for i in model.cv_reports])*100)\n",
    "print('Astro recall ',mean([i['Astro']['recall'] for i in model.cv_reports])*100)\n",
    "print(\"--------------------------\")\n",
    "print('Neuron f1-score ',mean([i['Neuron']['f1-score'] for i in model.cv_reports])*100)\n",
    "print('Neuron precision ',mean([i['Neuron']['precision'] for i in model.cv_reports])*100)\n",
    "print('Neuron recall ',mean([i['Neuron']['recall'] for i in model.cv_reports])*100)\n",
    "print(\"--------------------------\")\n",
    "print('Oligo f1-score ',mean([i['Oligo']['f1-score'] for i in model.cv_reports])*100)\n",
    "print('Oligo precision ',mean([i['Oligo']['precision'] for i in model.cv_reports])*100)\n",
    "print('Oligo recall ',mean([i['Oligo']['recall'] for i in model.cv_reports])*100)\n",
    "print(\"--------------------------\")\n",
    "print('Others f1-score ',mean([i['Others']['f1-score'] for i in model.cv_reports])*100)\n",
    "print('Others precision ',mean([i['Others']['precision'] for i in model.cv_reports])*100)\n",
    "print('Others recall ',mean([i['Others']['recall'] for i in model.cv_reports])*100)\n",
    "print(\"--------------------------\")\n",
    "print('Macro avg precision',\n",
    "      mean([i['macro avg']['precision'] for i in model.cv_reports])*100)\n",
    "print('Macro avg recall ',\n",
    "      mean([i['macro avg']['recall'] for i in model.cv_reports])*100)"
   ]
  },
  {
   "cell_type": "code",
   "execution_count": 30,
   "metadata": {},
   "outputs": [
    {
     "data": {
      "text/plain": [
       "['cortical_RBF_SVM_cv_results.sav']"
      ]
     },
     "execution_count": 30,
     "metadata": {},
     "output_type": "execute_result"
    }
   ],
   "source": [
    "# save object using joblib\n",
    "joblib.dump(model, 'cortical_RBF_SVM_cv_results.sav')"
   ]
  },
  {
   "cell_type": "code",
   "execution_count": 31,
   "metadata": {},
   "outputs": [
    {
     "data": {
      "text/plain": [
       "[('normalizer', MinMaxScaler()),\n",
       " ('selector',\n",
       "  RFE(estimator=SVC(kernel='linear', random_state=42), n_features_to_select=42)),\n",
       " ('clf', SVC(C=10, class_weight='balanced', gamma=1, random_state=42))]"
      ]
     },
     "execution_count": 31,
     "metadata": {},
     "output_type": "execute_result"
    }
   ],
   "source": [
    "cortical_classifier_hyperparams"
   ]
  },
  {
   "cell_type": "code",
   "execution_count": 32,
   "metadata": {},
   "outputs": [],
   "source": [
    "# Train final model\n",
    "cortical_model = Pipeline(cortical_classifier_hyperparams)\n",
    "final_model = cortical_model.fit(X_train,y_train)"
   ]
  },
  {
   "cell_type": "code",
   "execution_count": 33,
   "metadata": {},
   "outputs": [
    {
     "data": {
      "text/plain": [
       "['cortical_RBF_SVM_classifier.sav']"
      ]
     },
     "execution_count": 33,
     "metadata": {},
     "output_type": "execute_result"
    }
   ],
   "source": [
    "joblib.dump(final_model, 'cortical_RBF_SVM_classifier.sav')"
   ]
  },
  {
   "attachments": {},
   "cell_type": "markdown",
   "metadata": {},
   "source": [
    "Extracting information"
   ]
  },
  {
   "cell_type": "code",
   "execution_count": 34,
   "metadata": {},
   "outputs": [],
   "source": [
    "# The final model\n",
    "loaded_model = joblib.load('/Users/mokur/OneDrive - University of Cambridge/Attachments/Jan2023/Cell_pipeline/Tuning_parameters/Comparing_methods/cortical_RBF_SVM_cv_results.sav')\n",
    "cf_t = sum(loaded_model.cv_confusion_matrices)\n",
    "final_cm_t =  cf_t.astype('float') / cf_t.sum(axis=1)[:, np.newaxis]*100"
   ]
  },
  {
   "cell_type": "code",
   "execution_count": 35,
   "metadata": {},
   "outputs": [
    {
     "data": {
      "text/plain": [
       "array([[64.24581006, 18.43575419, 10.05586592,  7.26256983],\n",
       "       [ 8.70056497, 85.19774011,  1.01694915,  5.08474576],\n",
       "       [ 4.7979798 ,  0.50505051, 82.95454545, 11.74242424],\n",
       "       [ 4.21393841,  7.29335494, 15.55915721, 72.93354943]])"
      ]
     },
     "execution_count": 35,
     "metadata": {},
     "output_type": "execute_result"
    }
   ],
   "source": [
    "final_cm_t"
   ]
  },
  {
   "cell_type": "code",
   "execution_count": 36,
   "metadata": {},
   "outputs": [
    {
     "data": {
      "image/png": "[encoded data removed]",
      "text/plain": [
       "<Figure size 640x480 with 2 Axes>"
      ]
     },
     "metadata": {},
     "output_type": "display_data"
    }
   ],
   "source": [
    "plot = ConfusionMatrixDisplay(final_cm_t,\n",
    "                              display_labels=['Astro', 'Neuron', 'Oligo', 'Others'])\n",
    "plot.plot(cmap='cividis', values_format='.2f')         \n",
    "plt.show()"
   ]
  },
  {
   "cell_type": "code",
   "execution_count": 37,
   "metadata": {},
   "outputs": [
    {
     "name": "stdout",
     "output_type": "stream",
     "text": [
      "Macro avg F1  74.40280510695348\n",
      "Macro avg F1 std  3.911693957687613\n",
      "--------------------------\n",
      "Macro avg precision 74.15244396052108\n",
      "Macro avg precision std 4.349690824470928\n",
      "--------------------------\n",
      "Macro avg recall  76.30111761274688\n",
      "Macro avg recall std 4.019021823150905\n"
     ]
    }
   ],
   "source": [
    "model = loaded_model\n",
    "# Confusion matrix across 10 folds, WITH NO thresholding \n",
    "print('Macro avg F1 ', \n",
    "      mean([i['macro avg']['f1-score'] for i in model.cv_reports])*100)\n",
    "print('Macro avg F1 std ', \n",
    "      np.std([i['macro avg']['f1-score'] for i in model.cv_reports])*100)\n",
    "\n",
    "print(\"--------------------------\")\n",
    "print('Macro avg precision',\n",
    "      mean([i['macro avg']['precision'] for i in model.cv_reports])*100)\n",
    "print('Macro avg precision std',\n",
    "      np.std([i['macro avg']['precision'] for i in model.cv_reports])*100)\n",
    "print(\"--------------------------\")\n",
    "print('Macro avg recall ',\n",
    "      mean([i['macro avg']['recall'] for i in model.cv_reports])*100)\n",
    "print('Macro avg recall std',\n",
    "      np.std([i['macro avg']['recall'] for i in model.cv_reports])*100)"
   ]
  },
  {
   "attachments": {},
   "cell_type": "markdown",
   "metadata": {},
   "source": [
    "Plotting feature importance"
   ]
  },
  {
   "cell_type": "code",
   "execution_count": 38,
   "metadata": {},
   "outputs": [],
   "source": [
    "import seaborn as sns"
   ]
  },
  {
   "cell_type": "code",
   "execution_count": 39,
   "metadata": {},
   "outputs": [],
   "source": [
    "model_rf = joblib.load('/Users/mokur/OneDrive - University of Cambridge/Attachments/Jan2023/Cell_pipeline/Tuning_parameters/Comparing_methods/cortical_RBF_SVM_gridSearch.sav')"
   ]
  },
  {
   "cell_type": "code",
   "execution_count": 40,
   "metadata": {},
   "outputs": [
    {
     "data": {
      "text/plain": [
       "{'clf__C': 10,\n",
       " 'clf__class_weight': 'balanced',\n",
       " 'clf__gamma': 1,\n",
       " 'selector__n_features_to_select': 28}"
      ]
     },
     "execution_count": 40,
     "metadata": {},
     "output_type": "execute_result"
    }
   ],
   "source": [
    "model_rf.best_params_"
   ]
  },
  {
   "cell_type": "code",
   "execution_count": 51,
   "metadata": {},
   "outputs": [
    {
     "data": {
      "text/plain": [
       "['Detection probability',\n",
       " 'Nucleus: Area µm^2',\n",
       " 'Nucleus: Length µm',\n",
       " 'Nucleus: Circularity',\n",
       " 'Nucleus: Solidity',\n",
       " 'Nucleus: Max diameter µm',\n",
       " 'Nucleus: Min diameter µm',\n",
       " 'Cell: Area µm^2',\n",
       " 'Cell: Length µm',\n",
       " 'Cell: Max diameter µm',\n",
       " 'Cell: Min diameter µm',\n",
       " 'Nucleus/Cell area ratio',\n",
       " 'Hematoxylin: Nucleus: Mean',\n",
       " 'Hematoxylin: Nucleus: Median',\n",
       " 'Hematoxylin: Nucleus: Max',\n",
       " 'Hematoxylin: Nucleus: Std.Dev.',\n",
       " 'Hematoxylin: Cytoplasm: Mean',\n",
       " 'Hematoxylin: Cytoplasm: Max',\n",
       " 'Hematoxylin: Cytoplasm: Std.Dev.',\n",
       " 'Hematoxylin: Membrane: Mean',\n",
       " 'Hematoxylin: Membrane: Std.Dev.',\n",
       " 'Hematoxylin: Cell: Mean',\n",
       " 'Hematoxylin: Cell: Max',\n",
       " 'Hematoxylin: Cell: Std.Dev.',\n",
       " 'NN_20_um',\n",
       " 'NN_30_um',\n",
       " 'NN_60_um',\n",
       " 'NN_90_um']"
      ]
     },
     "execution_count": 51,
     "metadata": {},
     "output_type": "execute_result"
    }
   ],
   "source": [
    "#With feature selection\n",
    "rf_result = model_rf.best_estimator_.named_steps['selector'].get_support(indices=True)\n",
    "rf_result\n",
    "rf_result_f = [X_train.columns[i] for i in rf_result]\n",
    "rf_result_f"
   ]
  }
 ],
 "metadata": {
  "kernelspec": {
   "display_name": "Python 3",
   "language": "python",
   "name": "python3"
  },
  "language_info": {
   "codemirror_mode": {
    "name": "ipython",
    "version": 3
   },
   "file_extension": ".py",
   "mimetype": "text/x-python",
   "name": "python",
   "nbconvert_exporter": "python",
   "pygments_lexer": "ipython3",
   "version": "3.8.16"
  },
  "vscode": {
   "interpreter": {
    "hash": "f6d2454d879cd4646d4a63709cef4295c623bc84b10d08f17db96bd3d790e764"
   }
  }
 },
 "nbformat": 4,
 "nbformat_minor": 2
}
