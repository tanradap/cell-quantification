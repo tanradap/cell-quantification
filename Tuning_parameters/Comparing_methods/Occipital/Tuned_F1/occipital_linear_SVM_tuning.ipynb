{
 "cells": [
  {
   "attachments": {},
   "cell_type": "markdown",
   "metadata": {},
   "source": [
    "### Tuning hyper-paremter of occipital cell classifier"
   ]
  },
  {
   "cell_type": "code",
   "execution_count": 1,
   "metadata": {},
   "outputs": [],
   "source": [
    "# Importing libraries\n",
    "import sys\n",
    "sys.path.insert(0,\n",
    "                '/Users/mokur/OneDrive - University of Cambridge/Attachments/Jan2023/Cell_pipeline/Tuning_parameters/')\n",
    "\n",
    "from constants import * \n",
    "from base import *\n",
    "from custom_metrics import *\n",
    "from tuning_cv import *"
   ]
  },
  {
   "cell_type": "code",
   "execution_count": 2,
   "metadata": {},
   "outputs": [],
   "source": [
    "## Importing libraries \n",
    "import pandas as pd\n",
    "import numpy as np \n",
    "\n",
    "\n",
    "from sklearn.preprocessing import MinMaxScaler\n",
    "from sklearn.model_selection import GridSearchCV\n",
    "from sklearn.svm import SVC\n",
    "from sklearn.metrics import ConfusionMatrixDisplay\n",
    "import matplotlib.pyplot as plt\n",
    "import joblib"
   ]
  },
  {
   "attachments": {},
   "cell_type": "markdown",
   "metadata": {},
   "source": [
    "### Importing data "
   ]
  },
  {
   "cell_type": "code",
   "execution_count": 3,
   "metadata": {},
   "outputs": [],
   "source": [
    "# Annotated cells \n",
    "cell_path = \"/Users/mokur/OneDrive - University of Cambridge/Attachments/Jan2023/Cell_pipeline/Training_data/Occipital/cells/\"\n",
    "cell_training = \"training.txt\"\n",
    "\n",
    "# NNB information of all cells on slide\n",
    "nnb_path = \"/Users/mokur/OneDrive - University of Cambridge/Attachments/Jan2023/Cell_pipeline/Training_data/Occipital/NNB/\"\n",
    "nnb_training = \"training_NNB.txt\"\n",
    "\n",
    "# hema nucleus of all cells on slide\n",
    "hema_path = \"/Users/mokur/OneDrive - University of Cambridge/Attachments/Jan2023/Cell_pipeline/Training_data/Occipital/hema/\"\n",
    "hema_training = \"training_hema.txt\""
   ]
  },
  {
   "attachments": {},
   "cell_type": "markdown",
   "metadata": {},
   "source": [
    "Require: \n",
    "1. input_files.txt - to contian filenames I want to use. ** currently .csv files"
   ]
  },
  {
   "cell_type": "code",
   "execution_count": 4,
   "metadata": {},
   "outputs": [
    {
     "name": "stdout",
     "output_type": "stream",
     "text": [
      "Read in:  8 files\n",
      "Extracted: 8 files\n"
     ]
    }
   ],
   "source": [
    "# Importing annotated cells \n",
    "\n",
    "# obtaining list of files \n",
    "with open(cell_path + cell_training) as f: \n",
    "    mylist= f.read().splitlines()\n",
    "    \n",
    "print(\"Read in: \",len(mylist),\"files\")\n",
    "\n",
    "# reading in all those files \n",
    "inputs = [] \n",
    "for i in mylist: \n",
    "    dat_ = pd.read_csv(cell_path + i,sep=\",\")\n",
    "    dat_.columns.values[5] = 'Centroid_X'\n",
    "    dat_.columns.values[6] = 'Centroid_Y'\n",
    "    dat = dat_[cell_extracted_features] # fixed extracted feature order\n",
    "    inputs.append(dat)\n",
    "print(\"Extracted:\", len(inputs),\"files\")\n"
   ]
  },
  {
   "cell_type": "code",
   "execution_count": 5,
   "metadata": {},
   "outputs": [
    {
     "name": "stdout",
     "output_type": "stream",
     "text": [
      "Read in: 8  NUMBER OF neighbouring cells files\n",
      "Extracted: 8 files\n",
      "no. of columns / NB file: [18, 18, 18, 18, 18, 18, 18, 18]\n"
     ]
    }
   ],
   "source": [
    "# Importing in neghbouring cells info (numbers)\n",
    "\n",
    "with open(nnb_path + nnb_training) as f: \n",
    "    nb_mylist= f.read().splitlines()\n",
    "    \n",
    "print(\"Read in:\",len(nb_mylist),\" NUMBER OF neighbouring cells files\")\n",
    "\n",
    "# reading in all those files \n",
    "nb_inputs = []\n",
    "nb_columns = [] \n",
    "for i in nb_mylist: \n",
    "    dat = pd.read_csv(nnb_path +i,sep=\",\")\n",
    "    dat.columns.values[0] = 'X'\n",
    "    dat.columns.values[1] = 'Y'\n",
    "    nb_inputs.append(dat)\n",
    "    nb_columns.append(dat.shape[1])\n",
    "    \n",
    "print(\"Extracted:\", len(nb_inputs),\"files\")\n",
    "print('no. of columns / NB file:', nb_columns)"
   ]
  },
  {
   "cell_type": "code",
   "execution_count": 6,
   "metadata": {},
   "outputs": [
    {
     "name": "stdout",
     "output_type": "stream",
     "text": [
      "Read in: 8 hema files\n",
      "Extracted: 8 hema files\n"
     ]
    }
   ],
   "source": [
    "#  Importing hema nucleus mean of all detected cells & location coordinates \n",
    "# Variables: hema_mylist, hema_inputs \n",
    "\n",
    "## obtaining list of files \n",
    "with open(hema_path + hema_training) as f: \n",
    "    hema_mylist= f.read().splitlines()\n",
    "    \n",
    "print(\"Read in:\",len(hema_mylist),\"hema files\")    \n",
    "\n",
    "\n",
    "## 4) reading in all those files \n",
    "hema_inputs = [] \n",
    "for i in hema_mylist: \n",
    "    dat = pd.read_csv(hema_path + i,sep=\",\")\n",
    "    dat.columns.values[0] = 'Centroid_X' # To fix naming inconsistency problem \n",
    "    dat.columns.values[1] = 'Centroid_Y'\n",
    "    hema_inputs.append(dat)\n",
    "\n",
    "print(\"Extracted:\",len(hema_inputs),\"hema files\")  \n"
   ]
  },
  {
   "cell_type": "code",
   "execution_count": 7,
   "metadata": {},
   "outputs": [
    {
     "name": "stdout",
     "output_type": "stream",
     "text": [
      "mylist & nb_list matched?: True\n",
      "mylist & hema_list matched?: True\n"
     ]
    }
   ],
   "source": [
    "# Checking if filenames & order of them from mylist, nb_mylist & hema_mylist match\n",
    "x_nb = [i[0:6] for i in nb_mylist]\n",
    "x = [i[0:6] for i in mylist]\n",
    "x_h = [i[0:6] for i in hema_mylist]\n",
    "print(\"mylist & nb_list matched?:\", x==x_nb)\n",
    "print(\"mylist & hema_list matched?:\",x==x_h)"
   ]
  },
  {
   "cell_type": "code",
   "execution_count": 8,
   "metadata": {},
   "outputs": [
    {
     "name": "stdout",
     "output_type": "stream",
     "text": [
      "[True, True, True, True, True, True, True, True]\n"
     ]
    }
   ],
   "source": [
    "# combine cells with NNB information\n",
    "inputs_with_nbb, output_log = combine_annotated_to_NNB2(annotated_list = inputs,\n",
    "                                   NNB_list = nb_inputs)\n",
    "print(output_log)"
   ]
  },
  {
   "cell_type": "code",
   "execution_count": 9,
   "metadata": {},
   "outputs": [],
   "source": [
    "# Find cells to remove based on hematoxylin staining (from normalisation, remove top 1%)\n",
    "hema_to_remove = find_hema_to_remove(hema_inputs)\n",
    "\n",
    "# for i in range(0,len(hema_to_remove)): \n",
    "#     print(i, \" No. of cells with normalised Hema >1:\",len(hema_to_remove[i]), \"from\", len(hema_inputs[i]),\"detected cells\")"
   ]
  },
  {
   "cell_type": "code",
   "execution_count": 10,
   "metadata": {},
   "outputs": [
    {
     "name": "stdout",
     "output_type": "stream",
     "text": [
      "[True, True, True, True, True, True, True, True]\n",
      "(420654, 56)\n"
     ]
    }
   ],
   "source": [
    "# remove cells that have hema above criteria\n",
    "cleaned_inputs, remove_log = remove_cell_hema(inputs_with_nbb,\n",
    "                                              hema_to_remove)\n",
    "print(remove_log)\n",
    "print(cleaned_inputs[0].shape)"
   ]
  },
  {
   "attachments": {},
   "cell_type": "markdown",
   "metadata": {},
   "source": [
    "### Putting the slides together "
   ]
  },
  {
   "cell_type": "code",
   "execution_count": 11,
   "metadata": {},
   "outputs": [
    {
     "name": "stdout",
     "output_type": "stream",
     "text": [
      "(1031543, 56)\n"
     ]
    },
    {
     "data": {
      "text/html": [
       "<div>\n",
       "<style scoped>\n",
       "    .dataframe tbody tr th:only-of-type {\n",
       "        vertical-align: middle;\n",
       "    }\n",
       "\n",
       "    .dataframe tbody tr th {\n",
       "        vertical-align: top;\n",
       "    }\n",
       "\n",
       "    .dataframe thead th {\n",
       "        text-align: right;\n",
       "    }\n",
       "</style>\n",
       "<table border=\"1\" class=\"dataframe\">\n",
       "  <thead>\n",
       "    <tr style=\"text-align: right;\">\n",
       "      <th></th>\n",
       "      <th>Image</th>\n",
       "      <th>Class</th>\n",
       "      <th>Centroid_X</th>\n",
       "      <th>Centroid_Y</th>\n",
       "      <th>Detection probability</th>\n",
       "      <th>Nucleus: Area µm^2</th>\n",
       "      <th>Nucleus: Length µm</th>\n",
       "      <th>Nucleus: Circularity</th>\n",
       "      <th>Nucleus: Solidity</th>\n",
       "      <th>Nucleus: Max diameter µm</th>\n",
       "      <th>...</th>\n",
       "      <th>NN_60_um</th>\n",
       "      <th>NN_70_um</th>\n",
       "      <th>NN_80_um</th>\n",
       "      <th>NN_90_um</th>\n",
       "      <th>NN_100_um</th>\n",
       "      <th>NN_110_um</th>\n",
       "      <th>NN_120_um</th>\n",
       "      <th>NN_130_um</th>\n",
       "      <th>NN_140_um</th>\n",
       "      <th>NN_150_um</th>\n",
       "    </tr>\n",
       "  </thead>\n",
       "  <tbody>\n",
       "    <tr>\n",
       "      <th>0</th>\n",
       "      <td>721703.svs</td>\n",
       "      <td>Unlabelled</td>\n",
       "      <td>23317.2</td>\n",
       "      <td>303.63</td>\n",
       "      <td>0.8626</td>\n",
       "      <td>24.0212</td>\n",
       "      <td>17.8053</td>\n",
       "      <td>0.9522</td>\n",
       "      <td>1.0000</td>\n",
       "      <td>6.4203</td>\n",
       "      <td>...</td>\n",
       "      <td>8</td>\n",
       "      <td>8</td>\n",
       "      <td>9</td>\n",
       "      <td>12</td>\n",
       "      <td>17</td>\n",
       "      <td>18</td>\n",
       "      <td>21</td>\n",
       "      <td>27</td>\n",
       "      <td>31</td>\n",
       "      <td>34</td>\n",
       "    </tr>\n",
       "    <tr>\n",
       "      <th>1</th>\n",
       "      <td>721703.svs</td>\n",
       "      <td>Unlabelled</td>\n",
       "      <td>23117.0</td>\n",
       "      <td>305.14</td>\n",
       "      <td>0.6539</td>\n",
       "      <td>28.8830</td>\n",
       "      <td>22.6611</td>\n",
       "      <td>0.7068</td>\n",
       "      <td>0.9962</td>\n",
       "      <td>8.9267</td>\n",
       "      <td>...</td>\n",
       "      <td>12</td>\n",
       "      <td>15</td>\n",
       "      <td>18</td>\n",
       "      <td>25</td>\n",
       "      <td>30</td>\n",
       "      <td>36</td>\n",
       "      <td>40</td>\n",
       "      <td>42</td>\n",
       "      <td>47</td>\n",
       "      <td>52</td>\n",
       "    </tr>\n",
       "    <tr>\n",
       "      <th>2</th>\n",
       "      <td>721703.svs</td>\n",
       "      <td>Unlabelled</td>\n",
       "      <td>23301.3</td>\n",
       "      <td>310.54</td>\n",
       "      <td>0.8008</td>\n",
       "      <td>57.8022</td>\n",
       "      <td>28.1008</td>\n",
       "      <td>0.9199</td>\n",
       "      <td>1.0000</td>\n",
       "      <td>10.7756</td>\n",
       "      <td>...</td>\n",
       "      <td>9</td>\n",
       "      <td>10</td>\n",
       "      <td>14</td>\n",
       "      <td>17</td>\n",
       "      <td>20</td>\n",
       "      <td>23</td>\n",
       "      <td>27</td>\n",
       "      <td>29</td>\n",
       "      <td>35</td>\n",
       "      <td>39</td>\n",
       "    </tr>\n",
       "    <tr>\n",
       "      <th>3</th>\n",
       "      <td>721703.svs</td>\n",
       "      <td>Unlabelled</td>\n",
       "      <td>23204.2</td>\n",
       "      <td>309.59</td>\n",
       "      <td>0.8541</td>\n",
       "      <td>29.3505</td>\n",
       "      <td>21.2158</td>\n",
       "      <td>0.8194</td>\n",
       "      <td>0.9948</td>\n",
       "      <td>7.9087</td>\n",
       "      <td>...</td>\n",
       "      <td>10</td>\n",
       "      <td>13</td>\n",
       "      <td>21</td>\n",
       "      <td>30</td>\n",
       "      <td>34</td>\n",
       "      <td>37</td>\n",
       "      <td>44</td>\n",
       "      <td>47</td>\n",
       "      <td>56</td>\n",
       "      <td>61</td>\n",
       "    </tr>\n",
       "    <tr>\n",
       "      <th>4</th>\n",
       "      <td>721703.svs</td>\n",
       "      <td>Unlabelled</td>\n",
       "      <td>23098.8</td>\n",
       "      <td>310.98</td>\n",
       "      <td>0.7954</td>\n",
       "      <td>25.5138</td>\n",
       "      <td>19.5136</td>\n",
       "      <td>0.8420</td>\n",
       "      <td>1.0000</td>\n",
       "      <td>7.4015</td>\n",
       "      <td>...</td>\n",
       "      <td>10</td>\n",
       "      <td>14</td>\n",
       "      <td>19</td>\n",
       "      <td>24</td>\n",
       "      <td>31</td>\n",
       "      <td>37</td>\n",
       "      <td>39</td>\n",
       "      <td>45</td>\n",
       "      <td>50</td>\n",
       "      <td>56</td>\n",
       "    </tr>\n",
       "  </tbody>\n",
       "</table>\n",
       "<p>5 rows × 53 columns</p>\n",
       "</div>"
      ],
      "text/plain": [
       "        Image       Class  Centroid_X  Centroid_Y  Detection probability  \\\n",
       "0  721703.svs  Unlabelled     23317.2      303.63                 0.8626   \n",
       "1  721703.svs  Unlabelled     23117.0      305.14                 0.6539   \n",
       "2  721703.svs  Unlabelled     23301.3      310.54                 0.8008   \n",
       "3  721703.svs  Unlabelled     23204.2      309.59                 0.8541   \n",
       "4  721703.svs  Unlabelled     23098.8      310.98                 0.7954   \n",
       "\n",
       "   Nucleus: Area µm^2  Nucleus: Length µm  Nucleus: Circularity  \\\n",
       "0             24.0212             17.8053                0.9522   \n",
       "1             28.8830             22.6611                0.7068   \n",
       "2             57.8022             28.1008                0.9199   \n",
       "3             29.3505             21.2158                0.8194   \n",
       "4             25.5138             19.5136                0.8420   \n",
       "\n",
       "   Nucleus: Solidity  Nucleus: Max diameter µm  ...  NN_60_um  NN_70_um  \\\n",
       "0             1.0000                    6.4203  ...         8         8   \n",
       "1             0.9962                    8.9267  ...        12        15   \n",
       "2             1.0000                   10.7756  ...         9        10   \n",
       "3             0.9948                    7.9087  ...        10        13   \n",
       "4             1.0000                    7.4015  ...        10        14   \n",
       "\n",
       "   NN_80_um  NN_90_um  NN_100_um  NN_110_um  NN_120_um  NN_130_um  NN_140_um  \\\n",
       "0         9        12         17         18         21         27         31   \n",
       "1        18        25         30         36         40         42         47   \n",
       "2        14        17         20         23         27         29         35   \n",
       "3        21        30         34         37         44         47         56   \n",
       "4        19        24         31         37         39         45         50   \n",
       "\n",
       "   NN_150_um  \n",
       "0         34  \n",
       "1         52  \n",
       "2         39  \n",
       "3         61  \n",
       "4         56  \n",
       "\n",
       "[5 rows x 53 columns]"
      ]
     },
     "execution_count": 11,
     "metadata": {},
     "output_type": "execute_result"
    }
   ],
   "source": [
    "##Variables: labelled_orig, labelled_data \n",
    "#1) Put the slides together\n",
    "\n",
    "labelled_orig = pd.concat(cleaned_inputs)\n",
    "print(labelled_orig.shape)\n",
    "\n",
    "# 2) Extract relevant columns \n",
    "dat = labelled_orig.drop(columns=['Name','Parent','ROI']) \n",
    "dat.head()\n"
   ]
  },
  {
   "attachments": {},
   "cell_type": "markdown",
   "metadata": {},
   "source": [
    "### Extracting relevant cell classes"
   ]
  },
  {
   "cell_type": "code",
   "execution_count": 12,
   "metadata": {},
   "outputs": [
    {
     "data": {
      "text/plain": [
       "unlabelled    1029835\n",
       "neuron            476\n",
       "oligo             445\n",
       "ignore            244\n",
       "astro             220\n",
       "epithelial        159\n",
       "endo              123\n",
       "ambiguous          33\n",
       "fragmented          6\n",
       "region              2\n",
       "Name: Class, dtype: int64"
      ]
     },
     "execution_count": 12,
     "metadata": {},
     "output_type": "execute_result"
    }
   ],
   "source": [
    "# Make all class names lower case - easier for later selection\n",
    "\n",
    "dat_lower_class = [i.lower() for i in dat['Class']]\n",
    "dat2 = dat.copy()\n",
    "dat2.loc[:,'Class'] = dat_lower_class \n",
    "dat2['Class'].value_counts()"
   ]
  },
  {
   "cell_type": "code",
   "execution_count": 13,
   "metadata": {},
   "outputs": [
    {
     "data": {
      "text/plain": [
       "neuron        476\n",
       "oligo         445\n",
       "ignore        244\n",
       "astro         220\n",
       "epithelial    159\n",
       "endo          123\n",
       "fragmented      6\n",
       "Name: Class, dtype: int64"
      ]
     },
     "execution_count": 13,
     "metadata": {},
     "output_type": "execute_result"
    }
   ],
   "source": [
    "# Select only relevant cell classes (Using stardist_error instead of ignore_new)\n",
    "dat3 = dat2[(dat2['Class'] == 'oligo') | (dat2['Class'] == 'neuron')\n",
    "          | (dat2['Class'] == 'astro')| (dat2['Class'] == 'epithelial')\n",
    "          | (dat2['Class'] == 'endo')| (dat2['Class'] == 'fragmented')\n",
    "          | (dat2['Class'] == 'ignore')]\n",
    "dat3=dat3.reset_index(drop=True)\n",
    "\n",
    "# Checking results\n",
    "dat3['Class'].value_counts()"
   ]
  },
  {
   "cell_type": "code",
   "execution_count": 14,
   "metadata": {},
   "outputs": [],
   "source": [
    "cell_code = {'neuron':'Neuron',\n",
    "             'oligo': 'Oligo',\n",
    "             'ignore': 'Others',\n",
    "             'astro':'Astro',\n",
    "             'epithelial':'Others',\n",
    "             'endo':'Others',\n",
    "             'fragmented':'Others'}"
   ]
  },
  {
   "cell_type": "code",
   "execution_count": 15,
   "metadata": {},
   "outputs": [],
   "source": [
    "# 3) Changing Epithelial to Endothelial\n",
    "classes = dat3['Class']\n",
    "formatted_classes = [cell_code[i]  for i in classes]\n",
    "data = dat3.copy()\n",
    "data.loc[:,'Class']=formatted_classes"
   ]
  },
  {
   "cell_type": "code",
   "execution_count": 16,
   "metadata": {},
   "outputs": [
    {
     "data": {
      "text/plain": [
       "Others    532\n",
       "Neuron    476\n",
       "Oligo     445\n",
       "Astro     220\n",
       "Name: Class, dtype: int64"
      ]
     },
     "execution_count": 16,
     "metadata": {},
     "output_type": "execute_result"
    }
   ],
   "source": [
    "data['Class'].value_counts()"
   ]
  },
  {
   "cell_type": "code",
   "execution_count": 17,
   "metadata": {},
   "outputs": [],
   "source": [
    "# Export cleaned data out for easy use: \n",
    "# path = '/Users/mokur/OneDrive - University of Cambridge/Attachments/Jan2023/Cell_pipeline/Cell_classification/occipital_training_data.txt'\n",
    "# data.to_csv(path, sep=\"\\t\", index=False)"
   ]
  },
  {
   "attachments": {},
   "cell_type": "markdown",
   "metadata": {},
   "source": [
    "# Training the model"
   ]
  },
  {
   "attachments": {},
   "cell_type": "markdown",
   "metadata": {},
   "source": [
    "### Checking for any NA in the data"
   ]
  },
  {
   "cell_type": "code",
   "execution_count": 18,
   "metadata": {},
   "outputs": [
    {
     "name": "stdout",
     "output_type": "stream",
     "text": [
      "Any NA in the data?:  False\n"
     ]
    }
   ],
   "source": [
    "#checking for NAN \n",
    "## NEW \n",
    "print(\"Any NA in the data?: \",data.isnull().sum().sum()==1)\n",
    "\n",
    "#dat = dat.dropna()\n",
    "#dat.isnull().sum().sum()"
   ]
  },
  {
   "attachments": {},
   "cell_type": "markdown",
   "metadata": {},
   "source": [
    "### Create train, test sets "
   ]
  },
  {
   "cell_type": "code",
   "execution_count": 19,
   "metadata": {
    "scrolled": true
   },
   "outputs": [
    {
     "name": "stdout",
     "output_type": "stream",
     "text": [
      "training data shape: (1673, 44)\n"
     ]
    }
   ],
   "source": [
    "#We are using the entire dataset to train the model, test data will be provided later by Sanne \n",
    "X_train_l = data.drop(columns=['Class'])\n",
    "X_train = X_train_l[training_features]\n",
    "print('training data shape:',X_train.shape)\n",
    "y_train = data['Class']"
   ]
  },
  {
   "cell_type": "code",
   "execution_count": 20,
   "metadata": {},
   "outputs": [
    {
     "data": {
      "text/html": [
       "<div>\n",
       "<style scoped>\n",
       "    .dataframe tbody tr th:only-of-type {\n",
       "        vertical-align: middle;\n",
       "    }\n",
       "\n",
       "    .dataframe tbody tr th {\n",
       "        vertical-align: top;\n",
       "    }\n",
       "\n",
       "    .dataframe thead th {\n",
       "        text-align: right;\n",
       "    }\n",
       "</style>\n",
       "<table border=\"1\" class=\"dataframe\">\n",
       "  <thead>\n",
       "    <tr style=\"text-align: right;\">\n",
       "      <th></th>\n",
       "      <th>Detection probability</th>\n",
       "      <th>Nucleus: Area µm^2</th>\n",
       "      <th>Nucleus: Length µm</th>\n",
       "      <th>Nucleus: Circularity</th>\n",
       "      <th>Nucleus: Solidity</th>\n",
       "      <th>Nucleus: Max diameter µm</th>\n",
       "      <th>Nucleus: Min diameter µm</th>\n",
       "      <th>Cell: Area µm^2</th>\n",
       "      <th>Cell: Length µm</th>\n",
       "      <th>Cell: Circularity</th>\n",
       "      <th>...</th>\n",
       "      <th>NN_10_um</th>\n",
       "      <th>NN_20_um</th>\n",
       "      <th>NN_30_um</th>\n",
       "      <th>NN_40_um</th>\n",
       "      <th>NN_50_um</th>\n",
       "      <th>NN_60_um</th>\n",
       "      <th>NN_70_um</th>\n",
       "      <th>NN_80_um</th>\n",
       "      <th>NN_90_um</th>\n",
       "      <th>NN_100_um</th>\n",
       "    </tr>\n",
       "  </thead>\n",
       "  <tbody>\n",
       "    <tr>\n",
       "      <th>0</th>\n",
       "      <td>0.8900</td>\n",
       "      <td>19.8128</td>\n",
       "      <td>15.8949</td>\n",
       "      <td>0.9855</td>\n",
       "      <td>1.0000</td>\n",
       "      <td>5.2491</td>\n",
       "      <td>4.8900</td>\n",
       "      <td>175.3026</td>\n",
       "      <td>47.1113</td>\n",
       "      <td>0.9925</td>\n",
       "      <td>...</td>\n",
       "      <td>0</td>\n",
       "      <td>0</td>\n",
       "      <td>0</td>\n",
       "      <td>1</td>\n",
       "      <td>5</td>\n",
       "      <td>8</td>\n",
       "      <td>12</td>\n",
       "      <td>16</td>\n",
       "      <td>22</td>\n",
       "      <td>23</td>\n",
       "    </tr>\n",
       "    <tr>\n",
       "      <th>1</th>\n",
       "      <td>0.7042</td>\n",
       "      <td>16.1802</td>\n",
       "      <td>16.5761</td>\n",
       "      <td>0.7400</td>\n",
       "      <td>0.9797</td>\n",
       "      <td>6.9006</td>\n",
       "      <td>2.8992</td>\n",
       "      <td>129.4477</td>\n",
       "      <td>44.7169</td>\n",
       "      <td>0.8135</td>\n",
       "      <td>...</td>\n",
       "      <td>0</td>\n",
       "      <td>0</td>\n",
       "      <td>0</td>\n",
       "      <td>2</td>\n",
       "      <td>3</td>\n",
       "      <td>6</td>\n",
       "      <td>8</td>\n",
       "      <td>10</td>\n",
       "      <td>17</td>\n",
       "      <td>21</td>\n",
       "    </tr>\n",
       "    <tr>\n",
       "      <th>2</th>\n",
       "      <td>0.9050</td>\n",
       "      <td>40.6065</td>\n",
       "      <td>23.0532</td>\n",
       "      <td>0.9602</td>\n",
       "      <td>1.0000</td>\n",
       "      <td>8.2325</td>\n",
       "      <td>6.4008</td>\n",
       "      <td>170.7491</td>\n",
       "      <td>49.0544</td>\n",
       "      <td>0.8917</td>\n",
       "      <td>...</td>\n",
       "      <td>0</td>\n",
       "      <td>2</td>\n",
       "      <td>2</td>\n",
       "      <td>3</td>\n",
       "      <td>5</td>\n",
       "      <td>5</td>\n",
       "      <td>12</td>\n",
       "      <td>15</td>\n",
       "      <td>17</td>\n",
       "      <td>20</td>\n",
       "    </tr>\n",
       "    <tr>\n",
       "      <th>3</th>\n",
       "      <td>0.8948</td>\n",
       "      <td>13.7914</td>\n",
       "      <td>13.2936</td>\n",
       "      <td>0.9807</td>\n",
       "      <td>1.0000</td>\n",
       "      <td>4.3656</td>\n",
       "      <td>4.0313</td>\n",
       "      <td>66.5980</td>\n",
       "      <td>30.8291</td>\n",
       "      <td>0.8805</td>\n",
       "      <td>...</td>\n",
       "      <td>1</td>\n",
       "      <td>2</td>\n",
       "      <td>3</td>\n",
       "      <td>4</td>\n",
       "      <td>4</td>\n",
       "      <td>7</td>\n",
       "      <td>11</td>\n",
       "      <td>15</td>\n",
       "      <td>17</td>\n",
       "      <td>21</td>\n",
       "    </tr>\n",
       "    <tr>\n",
       "      <th>4</th>\n",
       "      <td>0.8426</td>\n",
       "      <td>31.2085</td>\n",
       "      <td>20.1525</td>\n",
       "      <td>0.9657</td>\n",
       "      <td>1.0000</td>\n",
       "      <td>7.0218</td>\n",
       "      <td>5.7947</td>\n",
       "      <td>191.4056</td>\n",
       "      <td>50.2637</td>\n",
       "      <td>0.9520</td>\n",
       "      <td>...</td>\n",
       "      <td>0</td>\n",
       "      <td>1</td>\n",
       "      <td>1</td>\n",
       "      <td>4</td>\n",
       "      <td>4</td>\n",
       "      <td>11</td>\n",
       "      <td>12</td>\n",
       "      <td>15</td>\n",
       "      <td>18</td>\n",
       "      <td>23</td>\n",
       "    </tr>\n",
       "  </tbody>\n",
       "</table>\n",
       "<p>5 rows × 44 columns</p>\n",
       "</div>"
      ],
      "text/plain": [
       "   Detection probability  Nucleus: Area µm^2  Nucleus: Length µm  \\\n",
       "0                 0.8900             19.8128             15.8949   \n",
       "1                 0.7042             16.1802             16.5761   \n",
       "2                 0.9050             40.6065             23.0532   \n",
       "3                 0.8948             13.7914             13.2936   \n",
       "4                 0.8426             31.2085             20.1525   \n",
       "\n",
       "   Nucleus: Circularity  Nucleus: Solidity  Nucleus: Max diameter µm  \\\n",
       "0                0.9855             1.0000                    5.2491   \n",
       "1                0.7400             0.9797                    6.9006   \n",
       "2                0.9602             1.0000                    8.2325   \n",
       "3                0.9807             1.0000                    4.3656   \n",
       "4                0.9657             1.0000                    7.0218   \n",
       "\n",
       "   Nucleus: Min diameter µm  Cell: Area µm^2  Cell: Length µm  \\\n",
       "0                    4.8900         175.3026          47.1113   \n",
       "1                    2.8992         129.4477          44.7169   \n",
       "2                    6.4008         170.7491          49.0544   \n",
       "3                    4.0313          66.5980          30.8291   \n",
       "4                    5.7947         191.4056          50.2637   \n",
       "\n",
       "   Cell: Circularity  ...  NN_10_um  NN_20_um  NN_30_um  NN_40_um  NN_50_um  \\\n",
       "0             0.9925  ...         0         0         0         1         5   \n",
       "1             0.8135  ...         0         0         0         2         3   \n",
       "2             0.8917  ...         0         2         2         3         5   \n",
       "3             0.8805  ...         1         2         3         4         4   \n",
       "4             0.9520  ...         0         1         1         4         4   \n",
       "\n",
       "   NN_60_um  NN_70_um  NN_80_um  NN_90_um  NN_100_um  \n",
       "0         8        12        16        22         23  \n",
       "1         6         8        10        17         21  \n",
       "2         5        12        15        17         20  \n",
       "3         7        11        15        17         21  \n",
       "4        11        12        15        18         23  \n",
       "\n",
       "[5 rows x 44 columns]"
      ]
     },
     "execution_count": 20,
     "metadata": {},
     "output_type": "execute_result"
    }
   ],
   "source": [
    "X_train.head()"
   ]
  },
  {
   "attachments": {},
   "cell_type": "markdown",
   "metadata": {},
   "source": [
    "### Hyperparameter tuning - random forest"
   ]
  },
  {
   "cell_type": "code",
   "execution_count": 21,
   "metadata": {},
   "outputs": [
    {
     "data": {
      "text/plain": [
       "Pipeline(steps=[('normalizer', MinMaxScaler()),\n",
       "                ('selector',\n",
       "                 RFE(estimator=RandomForestClassifier(random_state=42))),\n",
       "                ('clf', BalancedRandomForestClassifier())])"
      ]
     },
     "execution_count": 21,
     "metadata": {},
     "output_type": "execute_result"
    }
   ],
   "source": [
    "pipeline_cell"
   ]
  },
  {
   "cell_type": "code",
   "execution_count": 22,
   "metadata": {},
   "outputs": [
    {
     "name": "stdout",
     "output_type": "stream",
     "text": [
      "0.7640611727648584\n",
      "{'clf__C': 10, 'clf__class_weight': 'balanced', 'selector__n_features_to_select': 40}\n"
     ]
    }
   ],
   "source": [
    "# # Create the random grid \n",
    "\n",
    "rf_random = GridSearchCV(pipeline_cell_linearSVM,\n",
    "                         param_grid=grid_linearSVM, \n",
    "                        cv=10,\n",
    "                        refit='f1_macro', # use this metric to evaluate performance of parameters \n",
    "                        scoring={\n",
    "                        'balanced_accuracy':'balanced_accuracy',\n",
    "                        'f1_macro':'f1_macro',\n",
    "                          'f1_weighted':'f1_weighted',\n",
    "                          'Astro_accuracy': astro_acc,\n",
    "                          'Neuron_accuracy':neuron_acc,\n",
    "                          'Oligo_accuracy':oligo_acc,\n",
    "                          'Others_accuracy':others_acc,\n",
    "                          'A_as_N':A_as_N,\n",
    "                          'A_as_O':A_as_O,\n",
    "                          'A_as_Others':A_as_Others,\n",
    "                          'N_as_A':N_as_A,\n",
    "                          'N_as_O':N_as_O,\n",
    "                          'N_as_Others':N_as_Others,\n",
    "                          'O_as_A':O_as_A,\n",
    "                          'O_as_N':O_as_N,\n",
    "                          'O_as_Others':O_as_Others,\n",
    "                          'Others_as_A':Others_as_A,\n",
    "                          'Others_as_N':Others_as_N,\n",
    "                          'Others_as_O':Others_as_O\n",
    "                        })\n",
    "\n",
    "rf_random.fit(X_train,y_train)\n",
    "\n",
    "print(rf_random.best_score_)\n",
    "print(rf_random.best_params_)\n"
   ]
  },
  {
   "cell_type": "code",
   "execution_count": 24,
   "metadata": {},
   "outputs": [
    {
     "name": "stdout",
     "output_type": "stream",
     "text": [
      "Balanced accuracy: 77.75126980699542\n",
      "F1_macro: 76.40611727648584\n",
      "F1_weighted: 78.79015325538097\n",
      "Astrocyte accuracy: 73.63636363636364\n",
      "Neuron accuracy: 76.6578014184397\n",
      "Oligo accuracy: 82.87373737373738\n",
      "Others accuracy: 77.83717679944095\n",
      "Classified A as N: 13.18181818181818\n",
      "Classified A as O: 8.181818181818182\n",
      "Classified A as Others: 5.0\n",
      "Classified N as A: 16.39627659574468\n",
      "Classified N as O: 0.20833333333333334\n",
      "Classified N as Others: 6.737588652482271\n",
      "Classified O as A: 10.585858585858585\n",
      "Classified O as N: 0.0\n",
      "Classified O as Others: 6.540404040404041\n",
      "Classified Others as A: 4.895178197064989\n",
      "Classified Others as N: 8.067784765897974\n",
      "Classified Others as O: 9.199860237596088\n"
     ]
    }
   ],
   "source": [
    "# # Digging into more details \n",
    "\n",
    "print(\"Balanced accuracy:\",\n",
    "      rf_random.cv_results_['mean_test_balanced_accuracy'][rf_random.best_index_]*100)\n",
    "\n",
    "print(\"F1_macro:\",\n",
    "      rf_random.cv_results_['mean_test_f1_macro'][rf_random.best_index_]*100)\n",
    "\n",
    "print(\"F1_weighted:\",\n",
    "      rf_random.cv_results_['mean_test_f1_weighted'][rf_random.best_index_]*100)\n",
    "\n",
    "print(\"Astrocyte accuracy:\",\n",
    "      rf_random.cv_results_['mean_test_Astro_accuracy'][rf_random.best_index_]*100)\n",
    "\n",
    "print(\"Neuron accuracy:\",\n",
    "      rf_random.cv_results_['mean_test_Neuron_accuracy'][rf_random.best_index_]*100)\n",
    "\n",
    "print(\"Oligo accuracy:\",\n",
    "      rf_random.cv_results_['mean_test_Oligo_accuracy'][rf_random.best_index_]*100)\n",
    "\n",
    "print(\"Others accuracy:\",\n",
    "      rf_random.cv_results_['mean_test_Others_accuracy'][rf_random.best_index_]*100)\n",
    "\n",
    "\n",
    "print(\"Classified A as N:\",\n",
    "      rf_random.cv_results_['mean_test_A_as_N'][rf_random.best_index_]*100)\n",
    "\n",
    "print(\"Classified A as O:\",\n",
    "      rf_random.cv_results_['mean_test_A_as_O'][rf_random.best_index_]*100)\n",
    "\n",
    "print(\"Classified A as Others:\",\n",
    "      rf_random.cv_results_['mean_test_A_as_Others'][rf_random.best_index_]*100)\n",
    "\n",
    "print(\"Classified N as A:\",\n",
    "      rf_random.cv_results_['mean_test_N_as_A'][rf_random.best_index_]*100)\n",
    "\n",
    "print(\"Classified N as O:\",\n",
    "      rf_random.cv_results_['mean_test_N_as_O'][rf_random.best_index_]*100)\n",
    "\n",
    "print(\"Classified N as Others:\",\n",
    "      rf_random.cv_results_['mean_test_N_as_Others'][rf_random.best_index_]*100)\n",
    "\n",
    "print(\"Classified O as A:\",\n",
    "      rf_random.cv_results_['mean_test_O_as_A'][rf_random.best_index_]*100)\n",
    "\n",
    "print(\"Classified O as N:\",\n",
    "      rf_random.cv_results_['mean_test_O_as_N'][rf_random.best_index_]*100)\n",
    "\n",
    "print(\"Classified O as Others:\",\n",
    "      rf_random.cv_results_['mean_test_O_as_Others'][rf_random.best_index_]*100)\n",
    "\n",
    "\n",
    "print(\"Classified Others as A:\",\n",
    "      rf_random.cv_results_['mean_test_Others_as_A'][rf_random.best_index_]*100)\n",
    "\n",
    "print(\"Classified Others as N:\",\n",
    "      rf_random.cv_results_['mean_test_Others_as_N'][rf_random.best_index_]*100)\n",
    "\n",
    "print(\"Classified Others as O:\",\n",
    "      rf_random.cv_results_['mean_test_Others_as_O'][rf_random.best_index_]*100)\n",
    "                                                       "
   ]
  },
  {
   "cell_type": "code",
   "execution_count": 25,
   "metadata": {},
   "outputs": [
    {
     "data": {
      "text/plain": [
       "['occipital_linear_SVM_gridSearch.sav']"
      ]
     },
     "execution_count": 25,
     "metadata": {},
     "output_type": "execute_result"
    }
   ],
   "source": [
    "# save object using joblib\n",
    "joblib.dump(rf_random, 'occipital_linear_SVM_gridSearch.sav')"
   ]
  },
  {
   "attachments": {},
   "cell_type": "markdown",
   "metadata": {},
   "source": [
    "## Manual cross validation, using PR curves"
   ]
  },
  {
   "cell_type": "code",
   "execution_count": 21,
   "metadata": {},
   "outputs": [],
   "source": [
    "occipital_classifier_hyperparams = [\n",
    "    ('normalizer', MinMaxScaler()),\n",
    "    ('selector', RFE(estimator=SVC(random_state=42,\n",
    "                                   kernel='linear'),\n",
    "        n_features_to_select=40)),\n",
    "    ('clf', SVC(\n",
    "        random_state=42,\n",
    "        kernel='linear',\n",
    "        C=10,\n",
    "        class_weight='balanced'))]\n",
    "        \n",
    "# 10-fold cross validation\n",
    "model = ClassifierTuning(hyperparameters=occipital_classifier_hyperparams)\n"
   ]
  },
  {
   "cell_type": "code",
   "execution_count": 22,
   "metadata": {},
   "outputs": [],
   "source": [
    "model.cv_nothresholding(X=X_train,\n",
    "                        Y=y_train,\n",
    "                        X_location= X_train_l)"
   ]
  },
  {
   "cell_type": "code",
   "execution_count": 23,
   "metadata": {},
   "outputs": [
    {
     "name": "stdout",
     "output_type": "stream",
     "text": [
      "with no thresholding: 77.75126980699541\n",
      "Macro avg F1  76.40611727648584\n",
      "Weighted avg F1  78.79015325538097\n",
      "--------------------------\n",
      "[[162  29  18  11]\n",
      " [ 78 365   1  32]\n",
      " [ 47   0 369  29]\n",
      " [ 26  43  49 414]]\n",
      "[[73.63636364 13.18181818  8.18181818  5.        ]\n",
      " [16.38655462 76.68067227  0.21008403  6.72268908]\n",
      " [10.56179775  0.         82.92134831  6.51685393]\n",
      " [ 4.88721805  8.08270677  9.21052632 77.81954887]]\n",
      "--------------------------\n",
      "Astro accuracy 73.63636363636363\n",
      "Neuron accuracy 76.68067226890757\n",
      "Oligo accuracy 82.92134831460675\n",
      "Others accuracy 77.81954887218046\n",
      "------------------------------\n",
      "Astro f1-score  61.105799218243675\n",
      "Astro precision  52.672007511904226\n",
      "Astro recall  73.63636363636363\n",
      "--------------------------\n",
      "Neuron f1-score  79.89420921053674\n",
      "Neuron precision  84.27235718108584\n",
      "Neuron recall  76.65780141843972\n",
      "--------------------------\n",
      "Oligo f1-score  83.31729980107933\n",
      "Oligo precision  84.4323510976943\n",
      "Oligo recall  82.87373737373738\n",
      "--------------------------\n",
      "Others f1-score  81.30716087608366\n",
      "Others precision  85.49092309101324\n",
      "Others recall  77.83717679944095\n",
      "--------------------------\n",
      "Macro avg precision 76.7169097204244\n",
      "Macro avg recall  77.75126980699541\n"
     ]
    }
   ],
   "source": [
    "#Confusion matrix across 10 folds, WITHOUT thresholding \n",
    "print('with no thresholding:',\n",
    "      mean(model.cv_accuracies)*100)\n",
    "print('Macro avg F1 ',\n",
    "      mean([i['macro avg']['f1-score'] for i in model.cv_reports])*100)\n",
    "print('Weighted avg F1 ',\n",
    "      mean([i['weighted avg']['f1-score'] for i in model.cv_reports])*100)\n",
    "print(\"--------------------------\")\n",
    "cf = sum(model.cv_confusion_matrices)\n",
    "final_cm =  cf.astype('float') / cf.sum(axis=1)[:, np.newaxis]*100\n",
    "print(cf)\n",
    "print(final_cm)\n",
    "print(\"--------------------------\")\n",
    "print(\"Astro accuracy\",final_cm[0][0])\n",
    "print(\"Neuron accuracy\",final_cm[1][1])\n",
    "print(\"Oligo accuracy\",final_cm[2][2])\n",
    "print(\"Others accuracy\",final_cm[3][3])\n",
    "print('------------------------------')\n",
    "# F1-score per class: \n",
    "print('Astro f1-score ',mean([i['Astro']['f1-score'] for i in model.cv_reports])*100)\n",
    "print('Astro precision ',mean([i['Astro']['precision'] for i in model.cv_reports])*100)\n",
    "print('Astro recall ',mean([i['Astro']['recall'] for i in model.cv_reports])*100)\n",
    "print(\"--------------------------\")\n",
    "print('Neuron f1-score ',mean([i['Neuron']['f1-score'] for i in model.cv_reports])*100)\n",
    "print('Neuron precision ',mean([i['Neuron']['precision'] for i in model.cv_reports])*100)\n",
    "print('Neuron recall ',mean([i['Neuron']['recall'] for i in model.cv_reports])*100)\n",
    "print(\"--------------------------\")\n",
    "print('Oligo f1-score ',mean([i['Oligo']['f1-score'] for i in model.cv_reports])*100)\n",
    "print('Oligo precision ',mean([i['Oligo']['precision'] for i in model.cv_reports])*100)\n",
    "print('Oligo recall ',mean([i['Oligo']['recall'] for i in model.cv_reports])*100)\n",
    "print(\"--------------------------\")\n",
    "print('Others f1-score ',mean([i['Others']['f1-score'] for i in model.cv_reports])*100)\n",
    "print('Others precision ',mean([i['Others']['precision'] for i in model.cv_reports])*100)\n",
    "print('Others recall ',mean([i['Others']['recall'] for i in model.cv_reports])*100)\n",
    "print(\"--------------------------\")\n",
    "print('Macro avg precision',\n",
    "      mean([i['macro avg']['precision'] for i in model.cv_reports])*100)\n",
    "print('Macro avg recall ',\n",
    "      mean([i['macro avg']['recall'] for i in model.cv_reports])*100)"
   ]
  },
  {
   "cell_type": "code",
   "execution_count": 24,
   "metadata": {},
   "outputs": [
    {
     "data": {
      "text/plain": [
       "['occipital_linear_SVM_cv_results.sav']"
      ]
     },
     "execution_count": 24,
     "metadata": {},
     "output_type": "execute_result"
    }
   ],
   "source": [
    "# save object using joblib\n",
    "joblib.dump(model, 'occipital_linear_SVM_cv_results.sav')"
   ]
  },
  {
   "attachments": {},
   "cell_type": "markdown",
   "metadata": {},
   "source": [
    "Extracting information"
   ]
  },
  {
   "cell_type": "code",
   "execution_count": 25,
   "metadata": {},
   "outputs": [],
   "source": [
    "# The final model\n",
    "loaded_model = joblib.load('/Users/mokur/OneDrive - University of Cambridge/Attachments/Jan2023/Cell_pipeline/Tuning_parameters/Comparing_methods/Occipital/occipital_linear_SVM_cv_results.sav')\n",
    "cf_t = sum(loaded_model.cv_confusion_matrices)\n",
    "final_cm_t =  cf_t.astype('float') / cf_t.sum(axis=1)[:, np.newaxis]*100"
   ]
  },
  {
   "cell_type": "code",
   "execution_count": 26,
   "metadata": {},
   "outputs": [
    {
     "data": {
      "text/plain": [
       "array([[73.63636364, 13.18181818,  8.18181818,  5.        ],\n",
       "       [16.38655462, 76.68067227,  0.21008403,  6.72268908],\n",
       "       [10.56179775,  0.        , 82.92134831,  6.51685393],\n",
       "       [ 4.88721805,  8.08270677,  9.21052632, 77.81954887]])"
      ]
     },
     "execution_count": 26,
     "metadata": {},
     "output_type": "execute_result"
    }
   ],
   "source": [
    "final_cm_t"
   ]
  },
  {
   "cell_type": "code",
   "execution_count": 27,
   "metadata": {},
   "outputs": [
    {
     "data": {
      "image/png": "[encoded data removed]",
      "text/plain": [
       "<Figure size 640x480 with 2 Axes>"
      ]
     },
     "metadata": {},
     "output_type": "display_data"
    }
   ],
   "source": [
    "plot = ConfusionMatrixDisplay(final_cm_t,\n",
    "                              display_labels=['Astro', 'Neuron', 'Oligo', 'Others'])\n",
    "plot.plot(cmap='cividis', values_format='.2f')         \n",
    "plt.show()"
   ]
  },
  {
   "cell_type": "code",
   "execution_count": 28,
   "metadata": {},
   "outputs": [
    {
     "name": "stdout",
     "output_type": "stream",
     "text": [
      "Macro avg F1  76.40611727648584\n",
      "Macro avg F1 std  4.758539345613375\n",
      "--------------------------\n",
      "Macro avg precision 76.7169097204244\n",
      "Macro avg precision std 4.337550752475674\n",
      "--------------------------\n",
      "Macro avg recall  77.75126980699541\n",
      "Macro avg recall std 4.974058058071463\n"
     ]
    }
   ],
   "source": [
    "model = loaded_model\n",
    "# Confusion matrix across 10 folds, WITH NO thresholding \n",
    "print('Macro avg F1 ', \n",
    "      mean([i['macro avg']['f1-score'] for i in model.cv_reports])*100)\n",
    "print('Macro avg F1 std ', \n",
    "      np.std([i['macro avg']['f1-score'] for i in model.cv_reports])*100)\n",
    "\n",
    "print(\"--------------------------\")\n",
    "print('Macro avg precision',\n",
    "      mean([i['macro avg']['precision'] for i in model.cv_reports])*100)\n",
    "print('Macro avg precision std',\n",
    "      np.std([i['macro avg']['precision'] for i in model.cv_reports])*100)\n",
    "print(\"--------------------------\")\n",
    "print('Macro avg recall ',\n",
    "      mean([i['macro avg']['recall'] for i in model.cv_reports])*100)\n",
    "print('Macro avg recall std',\n",
    "      np.std([i['macro avg']['recall'] for i in model.cv_reports])*100)"
   ]
  },
  {
   "attachments": {},
   "cell_type": "markdown",
   "metadata": {},
   "source": [
    "Plotting feature importance"
   ]
  },
  {
   "cell_type": "code",
   "execution_count": 37,
   "metadata": {},
   "outputs": [],
   "source": [
    "import seaborn as sns"
   ]
  },
  {
   "cell_type": "code",
   "execution_count": 39,
   "metadata": {},
   "outputs": [],
   "source": [
    "model_rf = joblib.load('/Users/mokur/OneDrive - University of Cambridge/Attachments/Jan2023/Cell_pipeline/Tuning_parameters/Comparing_methods/Occipital/occipital_linear_SVM_gridSearch.sav')"
   ]
  },
  {
   "cell_type": "code",
   "execution_count": 40,
   "metadata": {},
   "outputs": [
    {
     "data": {
      "text/plain": [
       "{'clf__C': 10,\n",
       " 'clf__class_weight': 'balanced',\n",
       " 'selector__n_features_to_select': 40}"
      ]
     },
     "execution_count": 40,
     "metadata": {},
     "output_type": "execute_result"
    }
   ],
   "source": [
    "model_rf.best_params_"
   ]
  },
  {
   "cell_type": "code",
   "execution_count": 41,
   "metadata": {},
   "outputs": [
    {
     "data": {
      "text/plain": [
       "['Detection probability',\n",
       " 'Nucleus: Area µm^2',\n",
       " 'Nucleus: Length µm',\n",
       " 'Nucleus: Circularity',\n",
       " 'Nucleus: Solidity',\n",
       " 'Nucleus: Max diameter µm',\n",
       " 'Nucleus: Min diameter µm',\n",
       " 'Cell: Area µm^2',\n",
       " 'Cell: Length µm',\n",
       " 'Cell: Circularity',\n",
       " 'Cell: Solidity',\n",
       " 'Cell: Max diameter µm',\n",
       " 'Cell: Min diameter µm',\n",
       " 'Nucleus/Cell area ratio',\n",
       " 'Hematoxylin: Nucleus: Mean',\n",
       " 'Hematoxylin: Nucleus: Median',\n",
       " 'Hematoxylin: Nucleus: Min',\n",
       " 'Hematoxylin: Nucleus: Max',\n",
       " 'Hematoxylin: Nucleus: Std.Dev.',\n",
       " 'Hematoxylin: Cytoplasm: Mean',\n",
       " 'Hematoxylin: Cytoplasm: Median',\n",
       " 'Hematoxylin: Cytoplasm: Min',\n",
       " 'Hematoxylin: Cytoplasm: Max',\n",
       " 'Hematoxylin: Cytoplasm: Std.Dev.',\n",
       " 'Hematoxylin: Membrane: Mean',\n",
       " 'Hematoxylin: Membrane: Median',\n",
       " 'Hematoxylin: Membrane: Min',\n",
       " 'Hematoxylin: Membrane: Std.Dev.',\n",
       " 'Hematoxylin: Cell: Mean',\n",
       " 'Hematoxylin: Cell: Median',\n",
       " 'Hematoxylin: Cell: Min',\n",
       " 'Hematoxylin: Cell: Max',\n",
       " 'Hematoxylin: Cell: Std.Dev.',\n",
       " 'NN_10_um',\n",
       " 'NN_30_um',\n",
       " 'NN_50_um',\n",
       " 'NN_70_um',\n",
       " 'NN_80_um',\n",
       " 'NN_90_um',\n",
       " 'NN_100_um']"
      ]
     },
     "execution_count": 41,
     "metadata": {},
     "output_type": "execute_result"
    }
   ],
   "source": [
    "#With feature selection\n",
    "rf_result = model_rf.best_estimator_.named_steps['selector'].get_support(indices=True)\n",
    "rf_result\n",
    "rf_result_f = [X_train.columns[i] for i in rf_result]\n",
    "(rf_result_f)\n"
   ]
  }
 ],
 "metadata": {
  "kernelspec": {
   "display_name": "Python 3",
   "language": "python",
   "name": "python3"
  },
  "language_info": {
   "codemirror_mode": {
    "name": "ipython",
    "version": 3
   },
   "file_extension": ".py",
   "mimetype": "text/x-python",
   "name": "python",
   "nbconvert_exporter": "python",
   "pygments_lexer": "ipython3",
   "version": "3.8.16"
  },
  "vscode": {
   "interpreter": {
    "hash": "f6d2454d879cd4646d4a63709cef4295c623bc84b10d08f17db96bd3d790e764"
   }
  }
 },
 "nbformat": 4,
 "nbformat_minor": 2
}
